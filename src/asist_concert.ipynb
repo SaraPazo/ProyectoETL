{
 "cells": [
  {
   "cell_type": "markdown",
   "metadata": {},
   "source": [
    "## Data Asistencia a conciertos: archivo .csv"
   ]
  },
  {
   "cell_type": "markdown",
   "metadata": {},
   "source": [
    "Como tercera fuente he decididio entrar en la web del 'Ministerio del Gobierno de España', concretamemte en el apartado de 'Cultura y deporte'. De esta he descargado datos en un csv, los cuales he arreglado antes de subir al jupyter, ya que no tenían los datos como a mi me gustaría. \n",
    "A partir de ahí, me he descargado estos datos en un archivo .csv sobre la el porcentaje de asistencia a conciertos (en % del total de cada colectivo) personas según la asistencia a conciertos por Comunidad Autónoma y tamaño del municipio, en concreto, en la Comunidad de Madrid.\n",
    "\n",
    "Los datos se recogen de una 'Encuesta de Hábitos y Prácticas Culturales' acotados en 2021-2022, cuya url es 'https://estadisticas.mecd.gob.es/CulturaJaxiPx/Tabla.htm?path=/t9/p9/a1a2021-2022/c05//l0/&file=05081.px&type=pcaxis&L=0'\n",
    "\n",
    "\n",
    "En cuanto al proceso de limpieza que se lleva a cabo, se ordenan los datos y se ajustan a un formato más equitativo para poder ser compatible con el resto de los datos del trabajo. \n",
    "\n",
    "De esta forma, cuanto más limpio queda cada uno de los dataframes, más sencillo será posteriormente ver la relación entre unos y otros, en la nueva base de datos posteriormente creada. "
   ]
  },
  {
   "cell_type": "code",
   "execution_count": 1,
   "metadata": {},
   "outputs": [],
   "source": [
    "import pandas as pd\n",
    "import numpy as np\n",
    "import statistics as stats\n",
    "\n",
    "import warnings\n",
    "warnings.filterwarnings('ignore')\n",
    "\n",
    "import pylab as plt\n",
    "import seaborn as sns\n",
    "import matplotlib.pyplot as plt"
   ]
  },
  {
   "cell_type": "code",
   "execution_count": 2,
   "metadata": {},
   "outputs": [],
   "source": [
    "asistencia = pd.read_csv('../Data/CollectedOnline/asistencia-conciertos.csv', sep=';')"
   ]
  },
  {
   "cell_type": "code",
   "execution_count": 3,
   "metadata": {},
   "outputs": [
    {
     "data": {
      "text/html": [
       "<div>\n",
       "<style scoped>\n",
       "    .dataframe tbody tr th:only-of-type {\n",
       "        vertical-align: middle;\n",
       "    }\n",
       "\n",
       "    .dataframe tbody tr th {\n",
       "        vertical-align: top;\n",
       "    }\n",
       "\n",
       "    .dataframe thead th {\n",
       "        text-align: right;\n",
       "    }\n",
       "</style>\n",
       "<table border=\"1\" class=\"dataframe\">\n",
       "  <thead>\n",
       "    <tr style=\"text-align: right;\">\n",
       "      <th></th>\n",
       "      <th>Unnamed: 0</th>\n",
       "      <th>Unnamed: 1</th>\n",
       "      <th>Unnamed: 2</th>\n",
       "      <th>Unnamed: 3</th>\n",
       "    </tr>\n",
       "  </thead>\n",
       "  <tbody>\n",
       "    <tr>\n",
       "      <th>0</th>\n",
       "      <td>Comunidad de Madrid</td>\n",
       "      <td>NaN</td>\n",
       "      <td>NaN</td>\n",
       "      <td>NaN</td>\n",
       "    </tr>\n",
       "    <tr>\n",
       "      <th>1</th>\n",
       "      <td>Asistencia (2021-2022)</td>\n",
       "      <td>conciertos</td>\n",
       "      <td>musica_clasica</td>\n",
       "      <td>Musica_actual</td>\n",
       "    </tr>\n",
       "    <tr>\n",
       "      <th>2</th>\n",
       "      <td>Total han asistido en el último año</td>\n",
       "      <td>16,7</td>\n",
       "      <td>5,6</td>\n",
       "      <td>12,6</td>\n",
       "    </tr>\n",
       "    <tr>\n",
       "      <th>3</th>\n",
       "      <td>En los últimos tres meses</td>\n",
       "      <td>9,5</td>\n",
       "      <td>2,3</td>\n",
       "      <td>7,6</td>\n",
       "    </tr>\n",
       "    <tr>\n",
       "      <th>4</th>\n",
       "      <td>Entre tres meses y un año</td>\n",
       "      <td>7,2</td>\n",
       "      <td>3,3</td>\n",
       "      <td>5</td>\n",
       "    </tr>\n",
       "    <tr>\n",
       "      <th>5</th>\n",
       "      <td>Entre tres meses y un año</td>\n",
       "      <td>7,2</td>\n",
       "      <td>3,3</td>\n",
       "      <td>5</td>\n",
       "    </tr>\n",
       "    <tr>\n",
       "      <th>6</th>\n",
       "      <td>Nunca o casi nunca</td>\n",
       "      <td>33</td>\n",
       "      <td>61,4</td>\n",
       "      <td>38,3</td>\n",
       "    </tr>\n",
       "  </tbody>\n",
       "</table>\n",
       "</div>"
      ],
      "text/plain": [
       "                            Unnamed: 0  Unnamed: 1      Unnamed: 2  \\\n",
       "0                 Comunidad de Madrid          NaN             NaN   \n",
       "1               Asistencia (2021-2022)  conciertos  musica_clasica   \n",
       "2  Total han asistido en el último año        16,7             5,6   \n",
       "3            En los últimos tres meses         9,5             2,3   \n",
       "4            Entre tres meses y un año         7,2             3,3   \n",
       "5            Entre tres meses y un año         7,2             3,3   \n",
       "6                   Nunca o casi nunca          33            61,4   \n",
       "\n",
       "      Unnamed: 3  \n",
       "0            NaN  \n",
       "1  Musica_actual  \n",
       "2           12,6  \n",
       "3            7,6  \n",
       "4              5  \n",
       "5              5  \n",
       "6           38,3  "
      ]
     },
     "execution_count": 3,
     "metadata": {},
     "output_type": "execute_result"
    }
   ],
   "source": [
    "asistencia"
   ]
  },
  {
   "cell_type": "markdown",
   "metadata": {},
   "source": [
    "1. PRIMER PASO: \n",
    "- Cambio el nombre de las columnas, en este caso serán los datos de la fila con index=2.\n",
    "- Se eliminan las filas que no son útiles.\n",
    "- Reseteo el index (y elimino la columna que se ha creado cuando reseteo el index)."
   ]
  },
  {
   "cell_type": "code",
   "execution_count": 4,
   "metadata": {},
   "outputs": [],
   "source": [
    "nombres_viejos = asistencia.columns"
   ]
  },
  {
   "cell_type": "code",
   "execution_count": 5,
   "metadata": {},
   "outputs": [
    {
     "data": {
      "text/plain": [
       "Index(['Unnamed: 0', 'Unnamed: 1', 'Unnamed: 2', 'Unnamed: 3'], dtype='object')"
      ]
     },
     "execution_count": 5,
     "metadata": {},
     "output_type": "execute_result"
    }
   ],
   "source": [
    "nombres_viejos"
   ]
  },
  {
   "cell_type": "code",
   "execution_count": 6,
   "metadata": {},
   "outputs": [
    {
     "data": {
      "text/plain": [
       "['Asistencia (2021-2022)', 'conciertos', 'musica_clasica', 'Musica_actual']"
      ]
     },
     "execution_count": 6,
     "metadata": {},
     "output_type": "execute_result"
    }
   ],
   "source": [
    "nombres_nuevos = list(asistencia.iloc[1,:])\n",
    "\n",
    "nombres_nuevos"
   ]
  },
  {
   "cell_type": "code",
   "execution_count": 7,
   "metadata": {},
   "outputs": [
    {
     "data": {
      "text/plain": [
       "{'Unnamed: 0': 'Asistencia (2021-2022)',\n",
       " 'Unnamed: 1': 'conciertos',\n",
       " 'Unnamed: 2': 'musica_clasica',\n",
       " 'Unnamed: 3': 'Musica_actual'}"
      ]
     },
     "execution_count": 7,
     "metadata": {},
     "output_type": "execute_result"
    }
   ],
   "source": [
    "rename_dict = dict(zip(nombres_viejos,nombres_nuevos))\n",
    "rename_dict"
   ]
  },
  {
   "cell_type": "code",
   "execution_count": 8,
   "metadata": {},
   "outputs": [],
   "source": [
    "asistencia.rename(columns=rename_dict,inplace=True)"
   ]
  },
  {
   "cell_type": "code",
   "execution_count": 9,
   "metadata": {},
   "outputs": [
    {
     "data": {
      "text/html": [
       "<div>\n",
       "<style scoped>\n",
       "    .dataframe tbody tr th:only-of-type {\n",
       "        vertical-align: middle;\n",
       "    }\n",
       "\n",
       "    .dataframe tbody tr th {\n",
       "        vertical-align: top;\n",
       "    }\n",
       "\n",
       "    .dataframe thead th {\n",
       "        text-align: right;\n",
       "    }\n",
       "</style>\n",
       "<table border=\"1\" class=\"dataframe\">\n",
       "  <thead>\n",
       "    <tr style=\"text-align: right;\">\n",
       "      <th></th>\n",
       "      <th>Asistencia (2021-2022)</th>\n",
       "      <th>conciertos</th>\n",
       "      <th>musica_clasica</th>\n",
       "      <th>Musica_actual</th>\n",
       "    </tr>\n",
       "  </thead>\n",
       "  <tbody>\n",
       "    <tr>\n",
       "      <th>0</th>\n",
       "      <td>Comunidad de Madrid</td>\n",
       "      <td>NaN</td>\n",
       "      <td>NaN</td>\n",
       "      <td>NaN</td>\n",
       "    </tr>\n",
       "    <tr>\n",
       "      <th>1</th>\n",
       "      <td>Asistencia (2021-2022)</td>\n",
       "      <td>conciertos</td>\n",
       "      <td>musica_clasica</td>\n",
       "      <td>Musica_actual</td>\n",
       "    </tr>\n",
       "    <tr>\n",
       "      <th>2</th>\n",
       "      <td>Total han asistido en el último año</td>\n",
       "      <td>16,7</td>\n",
       "      <td>5,6</td>\n",
       "      <td>12,6</td>\n",
       "    </tr>\n",
       "    <tr>\n",
       "      <th>3</th>\n",
       "      <td>En los últimos tres meses</td>\n",
       "      <td>9,5</td>\n",
       "      <td>2,3</td>\n",
       "      <td>7,6</td>\n",
       "    </tr>\n",
       "    <tr>\n",
       "      <th>4</th>\n",
       "      <td>Entre tres meses y un año</td>\n",
       "      <td>7,2</td>\n",
       "      <td>3,3</td>\n",
       "      <td>5</td>\n",
       "    </tr>\n",
       "    <tr>\n",
       "      <th>5</th>\n",
       "      <td>Entre tres meses y un año</td>\n",
       "      <td>7,2</td>\n",
       "      <td>3,3</td>\n",
       "      <td>5</td>\n",
       "    </tr>\n",
       "    <tr>\n",
       "      <th>6</th>\n",
       "      <td>Nunca o casi nunca</td>\n",
       "      <td>33</td>\n",
       "      <td>61,4</td>\n",
       "      <td>38,3</td>\n",
       "    </tr>\n",
       "  </tbody>\n",
       "</table>\n",
       "</div>"
      ],
      "text/plain": [
       "                Asistencia (2021-2022)  conciertos  musica_clasica  \\\n",
       "0                 Comunidad de Madrid          NaN             NaN   \n",
       "1               Asistencia (2021-2022)  conciertos  musica_clasica   \n",
       "2  Total han asistido en el último año        16,7             5,6   \n",
       "3            En los últimos tres meses         9,5             2,3   \n",
       "4            Entre tres meses y un año         7,2             3,3   \n",
       "5            Entre tres meses y un año         7,2             3,3   \n",
       "6                   Nunca o casi nunca          33            61,4   \n",
       "\n",
       "   Musica_actual  \n",
       "0            NaN  \n",
       "1  Musica_actual  \n",
       "2           12,6  \n",
       "3            7,6  \n",
       "4              5  \n",
       "5              5  \n",
       "6           38,3  "
      ]
     },
     "execution_count": 9,
     "metadata": {},
     "output_type": "execute_result"
    }
   ],
   "source": [
    "asistencia"
   ]
  },
  {
   "cell_type": "code",
   "execution_count": 10,
   "metadata": {},
   "outputs": [
    {
     "data": {
      "text/html": [
       "<div>\n",
       "<style scoped>\n",
       "    .dataframe tbody tr th:only-of-type {\n",
       "        vertical-align: middle;\n",
       "    }\n",
       "\n",
       "    .dataframe tbody tr th {\n",
       "        vertical-align: top;\n",
       "    }\n",
       "\n",
       "    .dataframe thead th {\n",
       "        text-align: right;\n",
       "    }\n",
       "</style>\n",
       "<table border=\"1\" class=\"dataframe\">\n",
       "  <thead>\n",
       "    <tr style=\"text-align: right;\">\n",
       "      <th></th>\n",
       "      <th>Asistencia (2021-2022)</th>\n",
       "      <th>conciertos</th>\n",
       "      <th>musica_clasica</th>\n",
       "      <th>Musica_actual</th>\n",
       "    </tr>\n",
       "  </thead>\n",
       "  <tbody>\n",
       "    <tr>\n",
       "      <th>2</th>\n",
       "      <td>Total han asistido en el último año</td>\n",
       "      <td>16,7</td>\n",
       "      <td>5,6</td>\n",
       "      <td>12,6</td>\n",
       "    </tr>\n",
       "    <tr>\n",
       "      <th>3</th>\n",
       "      <td>En los últimos tres meses</td>\n",
       "      <td>9,5</td>\n",
       "      <td>2,3</td>\n",
       "      <td>7,6</td>\n",
       "    </tr>\n",
       "    <tr>\n",
       "      <th>4</th>\n",
       "      <td>Entre tres meses y un año</td>\n",
       "      <td>7,2</td>\n",
       "      <td>3,3</td>\n",
       "      <td>5</td>\n",
       "    </tr>\n",
       "    <tr>\n",
       "      <th>5</th>\n",
       "      <td>Entre tres meses y un año</td>\n",
       "      <td>7,2</td>\n",
       "      <td>3,3</td>\n",
       "      <td>5</td>\n",
       "    </tr>\n",
       "    <tr>\n",
       "      <th>6</th>\n",
       "      <td>Nunca o casi nunca</td>\n",
       "      <td>33</td>\n",
       "      <td>61,4</td>\n",
       "      <td>38,3</td>\n",
       "    </tr>\n",
       "  </tbody>\n",
       "</table>\n",
       "</div>"
      ],
      "text/plain": [
       "                Asistencia (2021-2022) conciertos musica_clasica Musica_actual\n",
       "2  Total han asistido en el último año       16,7            5,6          12,6\n",
       "3            En los últimos tres meses        9,5            2,3           7,6\n",
       "4            Entre tres meses y un año        7,2            3,3             5\n",
       "5            Entre tres meses y un año        7,2            3,3             5\n",
       "6                   Nunca o casi nunca         33           61,4          38,3"
      ]
     },
     "execution_count": 10,
     "metadata": {},
     "output_type": "execute_result"
    }
   ],
   "source": [
    "data = asistencia.iloc[2:,:]\n",
    "\n",
    "data"
   ]
  },
  {
   "cell_type": "code",
   "execution_count": 11,
   "metadata": {},
   "outputs": [],
   "source": [
    "data.reset_index(inplace=True)"
   ]
  },
  {
   "cell_type": "code",
   "execution_count": 12,
   "metadata": {},
   "outputs": [
    {
     "data": {
      "text/html": [
       "<div>\n",
       "<style scoped>\n",
       "    .dataframe tbody tr th:only-of-type {\n",
       "        vertical-align: middle;\n",
       "    }\n",
       "\n",
       "    .dataframe tbody tr th {\n",
       "        vertical-align: top;\n",
       "    }\n",
       "\n",
       "    .dataframe thead th {\n",
       "        text-align: right;\n",
       "    }\n",
       "</style>\n",
       "<table border=\"1\" class=\"dataframe\">\n",
       "  <thead>\n",
       "    <tr style=\"text-align: right;\">\n",
       "      <th></th>\n",
       "      <th>index</th>\n",
       "      <th>Asistencia (2021-2022)</th>\n",
       "      <th>conciertos</th>\n",
       "      <th>musica_clasica</th>\n",
       "      <th>Musica_actual</th>\n",
       "    </tr>\n",
       "  </thead>\n",
       "  <tbody>\n",
       "    <tr>\n",
       "      <th>0</th>\n",
       "      <td>2</td>\n",
       "      <td>Total han asistido en el último año</td>\n",
       "      <td>16,7</td>\n",
       "      <td>5,6</td>\n",
       "      <td>12,6</td>\n",
       "    </tr>\n",
       "    <tr>\n",
       "      <th>1</th>\n",
       "      <td>3</td>\n",
       "      <td>En los últimos tres meses</td>\n",
       "      <td>9,5</td>\n",
       "      <td>2,3</td>\n",
       "      <td>7,6</td>\n",
       "    </tr>\n",
       "    <tr>\n",
       "      <th>2</th>\n",
       "      <td>4</td>\n",
       "      <td>Entre tres meses y un año</td>\n",
       "      <td>7,2</td>\n",
       "      <td>3,3</td>\n",
       "      <td>5</td>\n",
       "    </tr>\n",
       "    <tr>\n",
       "      <th>3</th>\n",
       "      <td>5</td>\n",
       "      <td>Entre tres meses y un año</td>\n",
       "      <td>7,2</td>\n",
       "      <td>3,3</td>\n",
       "      <td>5</td>\n",
       "    </tr>\n",
       "    <tr>\n",
       "      <th>4</th>\n",
       "      <td>6</td>\n",
       "      <td>Nunca o casi nunca</td>\n",
       "      <td>33</td>\n",
       "      <td>61,4</td>\n",
       "      <td>38,3</td>\n",
       "    </tr>\n",
       "  </tbody>\n",
       "</table>\n",
       "</div>"
      ],
      "text/plain": [
       "   index               Asistencia (2021-2022) conciertos musica_clasica  \\\n",
       "0      2  Total han asistido en el último año       16,7            5,6   \n",
       "1      3            En los últimos tres meses        9,5            2,3   \n",
       "2      4            Entre tres meses y un año        7,2            3,3   \n",
       "3      5            Entre tres meses y un año        7,2            3,3   \n",
       "4      6                   Nunca o casi nunca         33           61,4   \n",
       "\n",
       "  Musica_actual  \n",
       "0          12,6  \n",
       "1           7,6  \n",
       "2             5  \n",
       "3             5  \n",
       "4          38,3  "
      ]
     },
     "execution_count": 12,
     "metadata": {},
     "output_type": "execute_result"
    }
   ],
   "source": [
    "data.head()"
   ]
  },
  {
   "cell_type": "code",
   "execution_count": 13,
   "metadata": {},
   "outputs": [],
   "source": [
    "data.drop(columns=\"index\",inplace=True)"
   ]
  },
  {
   "cell_type": "code",
   "execution_count": 15,
   "metadata": {},
   "outputs": [
    {
     "data": {
      "text/html": [
       "<div>\n",
       "<style scoped>\n",
       "    .dataframe tbody tr th:only-of-type {\n",
       "        vertical-align: middle;\n",
       "    }\n",
       "\n",
       "    .dataframe tbody tr th {\n",
       "        vertical-align: top;\n",
       "    }\n",
       "\n",
       "    .dataframe thead th {\n",
       "        text-align: right;\n",
       "    }\n",
       "</style>\n",
       "<table border=\"1\" class=\"dataframe\">\n",
       "  <thead>\n",
       "    <tr style=\"text-align: right;\">\n",
       "      <th></th>\n",
       "      <th>Asistencia (2021-2022)</th>\n",
       "      <th>conciertos</th>\n",
       "      <th>musica_clasica</th>\n",
       "      <th>Musica_actual</th>\n",
       "    </tr>\n",
       "  </thead>\n",
       "  <tbody>\n",
       "    <tr>\n",
       "      <th>0</th>\n",
       "      <td>Total han asistido en el último año</td>\n",
       "      <td>16,7</td>\n",
       "      <td>5,6</td>\n",
       "      <td>12,6</td>\n",
       "    </tr>\n",
       "    <tr>\n",
       "      <th>1</th>\n",
       "      <td>En los últimos tres meses</td>\n",
       "      <td>9,5</td>\n",
       "      <td>2,3</td>\n",
       "      <td>7,6</td>\n",
       "    </tr>\n",
       "    <tr>\n",
       "      <th>2</th>\n",
       "      <td>Entre tres meses y un año</td>\n",
       "      <td>7,2</td>\n",
       "      <td>3,3</td>\n",
       "      <td>5</td>\n",
       "    </tr>\n",
       "    <tr>\n",
       "      <th>3</th>\n",
       "      <td>Entre tres meses y un año</td>\n",
       "      <td>7,2</td>\n",
       "      <td>3,3</td>\n",
       "      <td>5</td>\n",
       "    </tr>\n",
       "    <tr>\n",
       "      <th>4</th>\n",
       "      <td>Nunca o casi nunca</td>\n",
       "      <td>33</td>\n",
       "      <td>61,4</td>\n",
       "      <td>38,3</td>\n",
       "    </tr>\n",
       "  </tbody>\n",
       "</table>\n",
       "</div>"
      ],
      "text/plain": [
       "                Asistencia (2021-2022) conciertos musica_clasica Musica_actual\n",
       "0  Total han asistido en el último año       16,7            5,6          12,6\n",
       "1            En los últimos tres meses        9,5            2,3           7,6\n",
       "2            Entre tres meses y un año        7,2            3,3             5\n",
       "3            Entre tres meses y un año        7,2            3,3             5\n",
       "4                   Nunca o casi nunca         33           61,4          38,3"
      ]
     },
     "execution_count": 15,
     "metadata": {},
     "output_type": "execute_result"
    }
   ],
   "source": [
    "data"
   ]
  },
  {
   "cell_type": "markdown",
   "metadata": {},
   "source": [
    "2. SEGUNDO PASO:\n",
    "- Inserto una nueva columna, que aunque será igual en todas las filas, puede ser de utilidad para unir a otras tablas. "
   ]
  },
  {
   "cell_type": "code",
   "execution_count": 16,
   "metadata": {},
   "outputs": [],
   "source": [
    "data.insert(0, 'Nueva_Columna', 'Madrid')"
   ]
  },
  {
   "cell_type": "code",
   "execution_count": 17,
   "metadata": {},
   "outputs": [
    {
     "data": {
      "text/html": [
       "<div>\n",
       "<style scoped>\n",
       "    .dataframe tbody tr th:only-of-type {\n",
       "        vertical-align: middle;\n",
       "    }\n",
       "\n",
       "    .dataframe tbody tr th {\n",
       "        vertical-align: top;\n",
       "    }\n",
       "\n",
       "    .dataframe thead th {\n",
       "        text-align: right;\n",
       "    }\n",
       "</style>\n",
       "<table border=\"1\" class=\"dataframe\">\n",
       "  <thead>\n",
       "    <tr style=\"text-align: right;\">\n",
       "      <th></th>\n",
       "      <th>Nueva_Columna</th>\n",
       "      <th>Asistencia (2021-2022)</th>\n",
       "      <th>conciertos</th>\n",
       "      <th>musica_clasica</th>\n",
       "      <th>Musica_actual</th>\n",
       "    </tr>\n",
       "  </thead>\n",
       "  <tbody>\n",
       "    <tr>\n",
       "      <th>0</th>\n",
       "      <td>Madrid</td>\n",
       "      <td>Total han asistido en el último año</td>\n",
       "      <td>16,7</td>\n",
       "      <td>5,6</td>\n",
       "      <td>12,6</td>\n",
       "    </tr>\n",
       "    <tr>\n",
       "      <th>1</th>\n",
       "      <td>Madrid</td>\n",
       "      <td>En los últimos tres meses</td>\n",
       "      <td>9,5</td>\n",
       "      <td>2,3</td>\n",
       "      <td>7,6</td>\n",
       "    </tr>\n",
       "    <tr>\n",
       "      <th>2</th>\n",
       "      <td>Madrid</td>\n",
       "      <td>Entre tres meses y un año</td>\n",
       "      <td>7,2</td>\n",
       "      <td>3,3</td>\n",
       "      <td>5</td>\n",
       "    </tr>\n",
       "    <tr>\n",
       "      <th>3</th>\n",
       "      <td>Madrid</td>\n",
       "      <td>Entre tres meses y un año</td>\n",
       "      <td>7,2</td>\n",
       "      <td>3,3</td>\n",
       "      <td>5</td>\n",
       "    </tr>\n",
       "    <tr>\n",
       "      <th>4</th>\n",
       "      <td>Madrid</td>\n",
       "      <td>Nunca o casi nunca</td>\n",
       "      <td>33</td>\n",
       "      <td>61,4</td>\n",
       "      <td>38,3</td>\n",
       "    </tr>\n",
       "  </tbody>\n",
       "</table>\n",
       "</div>"
      ],
      "text/plain": [
       "  Nueva_Columna               Asistencia (2021-2022) conciertos  \\\n",
       "0        Madrid  Total han asistido en el último año       16,7   \n",
       "1        Madrid            En los últimos tres meses        9,5   \n",
       "2        Madrid            Entre tres meses y un año        7,2   \n",
       "3        Madrid            Entre tres meses y un año        7,2   \n",
       "4        Madrid                   Nunca o casi nunca         33   \n",
       "\n",
       "  musica_clasica Musica_actual  \n",
       "0            5,6          12,6  \n",
       "1            2,3           7,6  \n",
       "2            3,3             5  \n",
       "3            3,3             5  \n",
       "4           61,4          38,3  "
      ]
     },
     "execution_count": 17,
     "metadata": {},
     "output_type": "execute_result"
    }
   ],
   "source": [
    "data"
   ]
  },
  {
   "cell_type": "code",
   "execution_count": 18,
   "metadata": {},
   "outputs": [],
   "source": [
    "nombres_nuevos = ['comunidad', 'asistencia(2021-2022)', 'conciertos', 'clasica', 'actual']\n",
    "\n",
    "data.columns = nombres_nuevos"
   ]
  },
  {
   "cell_type": "code",
   "execution_count": 19,
   "metadata": {},
   "outputs": [
    {
     "data": {
      "text/html": [
       "<div>\n",
       "<style scoped>\n",
       "    .dataframe tbody tr th:only-of-type {\n",
       "        vertical-align: middle;\n",
       "    }\n",
       "\n",
       "    .dataframe tbody tr th {\n",
       "        vertical-align: top;\n",
       "    }\n",
       "\n",
       "    .dataframe thead th {\n",
       "        text-align: right;\n",
       "    }\n",
       "</style>\n",
       "<table border=\"1\" class=\"dataframe\">\n",
       "  <thead>\n",
       "    <tr style=\"text-align: right;\">\n",
       "      <th></th>\n",
       "      <th>comunidad</th>\n",
       "      <th>asistencia(2021-2022)</th>\n",
       "      <th>conciertos</th>\n",
       "      <th>clasica</th>\n",
       "      <th>actual</th>\n",
       "    </tr>\n",
       "  </thead>\n",
       "  <tbody>\n",
       "    <tr>\n",
       "      <th>0</th>\n",
       "      <td>Madrid</td>\n",
       "      <td>Total han asistido en el último año</td>\n",
       "      <td>16,7</td>\n",
       "      <td>5,6</td>\n",
       "      <td>12,6</td>\n",
       "    </tr>\n",
       "    <tr>\n",
       "      <th>1</th>\n",
       "      <td>Madrid</td>\n",
       "      <td>En los últimos tres meses</td>\n",
       "      <td>9,5</td>\n",
       "      <td>2,3</td>\n",
       "      <td>7,6</td>\n",
       "    </tr>\n",
       "    <tr>\n",
       "      <th>2</th>\n",
       "      <td>Madrid</td>\n",
       "      <td>Entre tres meses y un año</td>\n",
       "      <td>7,2</td>\n",
       "      <td>3,3</td>\n",
       "      <td>5</td>\n",
       "    </tr>\n",
       "    <tr>\n",
       "      <th>3</th>\n",
       "      <td>Madrid</td>\n",
       "      <td>Entre tres meses y un año</td>\n",
       "      <td>7,2</td>\n",
       "      <td>3,3</td>\n",
       "      <td>5</td>\n",
       "    </tr>\n",
       "    <tr>\n",
       "      <th>4</th>\n",
       "      <td>Madrid</td>\n",
       "      <td>Nunca o casi nunca</td>\n",
       "      <td>33</td>\n",
       "      <td>61,4</td>\n",
       "      <td>38,3</td>\n",
       "    </tr>\n",
       "  </tbody>\n",
       "</table>\n",
       "</div>"
      ],
      "text/plain": [
       "  comunidad                asistencia(2021-2022) conciertos clasica actual\n",
       "0    Madrid  Total han asistido en el último año       16,7     5,6   12,6\n",
       "1    Madrid            En los últimos tres meses        9,5     2,3    7,6\n",
       "2    Madrid            Entre tres meses y un año        7,2     3,3      5\n",
       "3    Madrid            Entre tres meses y un año        7,2     3,3      5\n",
       "4    Madrid                   Nunca o casi nunca         33    61,4   38,3"
      ]
     },
     "execution_count": 19,
     "metadata": {},
     "output_type": "execute_result"
    }
   ],
   "source": [
    "data"
   ]
  },
  {
   "cell_type": "code",
   "execution_count": 20,
   "metadata": {},
   "outputs": [],
   "source": [
    "asistencia = data"
   ]
  },
  {
   "cell_type": "code",
   "execution_count": 21,
   "metadata": {},
   "outputs": [
    {
     "data": {
      "text/html": [
       "<div>\n",
       "<style scoped>\n",
       "    .dataframe tbody tr th:only-of-type {\n",
       "        vertical-align: middle;\n",
       "    }\n",
       "\n",
       "    .dataframe tbody tr th {\n",
       "        vertical-align: top;\n",
       "    }\n",
       "\n",
       "    .dataframe thead th {\n",
       "        text-align: right;\n",
       "    }\n",
       "</style>\n",
       "<table border=\"1\" class=\"dataframe\">\n",
       "  <thead>\n",
       "    <tr style=\"text-align: right;\">\n",
       "      <th></th>\n",
       "      <th>comunidad</th>\n",
       "      <th>asistencia(2021-2022)</th>\n",
       "      <th>conciertos</th>\n",
       "      <th>clasica</th>\n",
       "      <th>actual</th>\n",
       "    </tr>\n",
       "  </thead>\n",
       "  <tbody>\n",
       "    <tr>\n",
       "      <th>0</th>\n",
       "      <td>Madrid</td>\n",
       "      <td>Total han asistido en el último año</td>\n",
       "      <td>16,7</td>\n",
       "      <td>5,6</td>\n",
       "      <td>12,6</td>\n",
       "    </tr>\n",
       "    <tr>\n",
       "      <th>1</th>\n",
       "      <td>Madrid</td>\n",
       "      <td>En los últimos tres meses</td>\n",
       "      <td>9,5</td>\n",
       "      <td>2,3</td>\n",
       "      <td>7,6</td>\n",
       "    </tr>\n",
       "    <tr>\n",
       "      <th>2</th>\n",
       "      <td>Madrid</td>\n",
       "      <td>Entre tres meses y un año</td>\n",
       "      <td>7,2</td>\n",
       "      <td>3,3</td>\n",
       "      <td>5</td>\n",
       "    </tr>\n",
       "    <tr>\n",
       "      <th>3</th>\n",
       "      <td>Madrid</td>\n",
       "      <td>Entre tres meses y un año</td>\n",
       "      <td>7,2</td>\n",
       "      <td>3,3</td>\n",
       "      <td>5</td>\n",
       "    </tr>\n",
       "    <tr>\n",
       "      <th>4</th>\n",
       "      <td>Madrid</td>\n",
       "      <td>Nunca o casi nunca</td>\n",
       "      <td>33</td>\n",
       "      <td>61,4</td>\n",
       "      <td>38,3</td>\n",
       "    </tr>\n",
       "  </tbody>\n",
       "</table>\n",
       "</div>"
      ],
      "text/plain": [
       "  comunidad                asistencia(2021-2022) conciertos clasica actual\n",
       "0    Madrid  Total han asistido en el último año       16,7     5,6   12,6\n",
       "1    Madrid            En los últimos tres meses        9,5     2,3    7,6\n",
       "2    Madrid            Entre tres meses y un año        7,2     3,3      5\n",
       "3    Madrid            Entre tres meses y un año        7,2     3,3      5\n",
       "4    Madrid                   Nunca o casi nunca         33    61,4   38,3"
      ]
     },
     "execution_count": 21,
     "metadata": {},
     "output_type": "execute_result"
    }
   ],
   "source": [
    "asistencia"
   ]
  },
  {
   "cell_type": "markdown",
   "metadata": {},
   "source": [
    "3. TERCER PASO:\n",
    "- Importo mi tabla a .csv"
   ]
  },
  {
   "cell_type": "markdown",
   "metadata": {},
   "source": [
    "Una vez he importado los dataframe como .csv los marco para que no se me vuelva a convertir."
   ]
  },
  {
   "cell_type": "code",
   "execution_count": 30,
   "metadata": {},
   "outputs": [],
   "source": [
    "#asistencia.to_csv('../Data/Datos_Clean/asistencia.csv', index=False)"
   ]
  }
 ],
 "metadata": {
  "kernelspec": {
   "display_name": "Python 3",
   "language": "python",
   "name": "python3"
  },
  "language_info": {
   "codemirror_mode": {
    "name": "ipython",
    "version": 3
   },
   "file_extension": ".py",
   "mimetype": "text/x-python",
   "name": "python",
   "nbconvert_exporter": "python",
   "pygments_lexer": "ipython3",
   "version": "3.10.13"
  }
 },
 "nbformat": 4,
 "nbformat_minor": 2
}
