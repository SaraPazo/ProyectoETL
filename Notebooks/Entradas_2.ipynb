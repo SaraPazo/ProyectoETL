{
 "cells": [
  {
   "cell_type": "code",
   "execution_count": 1,
   "metadata": {},
   "outputs": [],
   "source": [
    "import pandas as pd\n",
    "import numpy as np\n",
    "from selenium.webdriver.chrome.options import Options\n",
    "from webdriver_manager.chrome import ChromeDriverManager\n",
    "\n",
    "from selenium import webdriver # driver de selenium\n",
    "\n",
    "import time   # para manejar tiempo"
   ]
  },
  {
   "cell_type": "code",
   "execution_count": 2,
   "metadata": {},
   "outputs": [],
   "source": [
    "from selenium.webdriver.chrome.options import Options   # opciones del driver\n",
    "\n",
    "from selenium.webdriver.common.by import By   # para buscar segun tag, id, class, etc...\n",
    "\n",
    "from selenium.webdriver.support.ui import WebDriverWait   # es para esperar\n",
    "\n",
    "from selenium.webdriver.support import expected_conditions as EC  # condiciones esperadas...\n",
    "\n",
    "from selenium.webdriver import ActionChains as AC   # acciones encadenadas, rollo doble click\n",
    "\n",
    "from selenium.webdriver.common.keys import Keys  # manejar teclas"
   ]
  },
  {
   "cell_type": "code",
   "execution_count": 3,
   "metadata": {},
   "outputs": [],
   "source": [
    "#driver configuration\n",
    "opciones=Options()\n",
    "\n",
    "opciones.add_experimental_option('excludeSwitches', ['enable-automation'])\n",
    "opciones.add_experimental_option('useAutomationExtension', False)\n",
    "opciones.headless=False    # si True, no aperece la ventana (headless=no visible)\n",
    "opciones.add_argument('--start-maximized')         # comienza maximizado\n",
    "#opciones.add_argument('user-data-dir=selenium')    # mantiene las cookies\n",
    "#opciones.add_extension('driver_folder/adblock.crx')       # adblocker\n",
    "opciones.add_argument('--incognito')"
   ]
  },
  {
   "cell_type": "code",
   "execution_count": 4,
   "metadata": {},
   "outputs": [],
   "source": [
    "PATH = 'driver/chromedriver'\n",
    "\n",
    "driver = webdriver.Chrome()   # abre una ventana de chrome \n",
    "                                # una vez que he abierto una ventana, puedo trabajar siempre sobre esta misma."
   ]
  },
  {
   "cell_type": "code",
   "execution_count": null,
   "metadata": {},
   "outputs": [],
   "source": [
    "i=5\n",
    "\n",
    "base_url = 'https://www.entradas.com/city/madrid-370/conciertos-y-festivales-85/?page={i}'\n",
    "\n",
    "for pagina in range(1, i + 1):\n",
    "    url = base_url + str(i)\n",
    "    driver.get(url)"
   ]
  },
  {
   "cell_type": "code",
   "execution_count": null,
   "metadata": {},
   "outputs": [],
   "source": []
  },
  {
   "cell_type": "code",
   "execution_count": 7,
   "metadata": {},
   "outputs": [
    {
     "ename": "WebDriverException",
     "evalue": "Message: disconnected: not connected to DevTools\n  (failed to check if window was closed: disconnected: not connected to DevTools)\n  (Session info: chrome=119.0.6045.105)\nStacktrace:\n0   chromedriver                        0x0000000104526004 chromedriver + 4169732\n1   chromedriver                        0x000000010451dff8 chromedriver + 4136952\n2   chromedriver                        0x0000000104173500 chromedriver + 292096\n3   chromedriver                        0x000000010415b094 chromedriver + 192660\n4   chromedriver                        0x000000010415af9c chromedriver + 192412\n5   chromedriver                        0x00000001041f2fc8 chromedriver + 815048\n6   chromedriver                        0x00000001041ac5e8 chromedriver + 525800\n7   chromedriver                        0x00000001041ad4b8 chromedriver + 529592\n8   chromedriver                        0x00000001044ec334 chromedriver + 3932980\n9   chromedriver                        0x00000001044f0970 chromedriver + 3950960\n10  chromedriver                        0x00000001044d4774 chromedriver + 3835764\n11  chromedriver                        0x00000001044f1478 chromedriver + 3953784\n12  chromedriver                        0x00000001044c6ab4 chromedriver + 3779252\n13  chromedriver                        0x000000010450d914 chromedriver + 4069652\n14  chromedriver                        0x000000010450da90 chromedriver + 4070032\n15  chromedriver                        0x000000010451dc70 chromedriver + 4136048\n16  libsystem_pthread.dylib             0x00000001842d3fa8 _pthread_start + 148\n17  libsystem_pthread.dylib             0x00000001842ceda0 thread_start + 8\n",
     "output_type": "error",
     "traceback": [
      "\u001b[0;31m---------------------------------------------------------------------------\u001b[0m",
      "\u001b[0;31mWebDriverException\u001b[0m                        Traceback (most recent call last)",
      "\u001b[1;32m/Users/sarapazopadron/BOOTCAMP/Proyectos/ProyectoETL/Notebooks/Entradas_2.ipynb Celda 7\u001b[0m line \u001b[0;36m1\n\u001b[0;32m----> <a href='vscode-notebook-cell:/Users/sarapazopadron/BOOTCAMP/Proyectos/ProyectoETL/Notebooks/Entradas_2.ipynb#X15sZmlsZQ%3D%3D?line=0'>1</a>\u001b[0m driver\u001b[39m.\u001b[39;49mget(base_url)\n",
      "File \u001b[0;32m~/anaconda3/envs/clase/lib/python3.10/site-packages/selenium/webdriver/remote/webdriver.py:353\u001b[0m, in \u001b[0;36mWebDriver.get\u001b[0;34m(self, url)\u001b[0m\n\u001b[1;32m    351\u001b[0m \u001b[39mdef\u001b[39;00m \u001b[39mget\u001b[39m(\u001b[39mself\u001b[39m, url: \u001b[39mstr\u001b[39m) \u001b[39m-\u001b[39m\u001b[39m>\u001b[39m \u001b[39mNone\u001b[39;00m:\n\u001b[1;32m    352\u001b[0m \u001b[39m    \u001b[39m\u001b[39m\"\"\"Loads a web page in the current browser session.\"\"\"\u001b[39;00m\n\u001b[0;32m--> 353\u001b[0m     \u001b[39mself\u001b[39;49m\u001b[39m.\u001b[39;49mexecute(Command\u001b[39m.\u001b[39;49mGET, {\u001b[39m\"\u001b[39;49m\u001b[39murl\u001b[39;49m\u001b[39m\"\u001b[39;49m: url})\n",
      "File \u001b[0;32m~/anaconda3/envs/clase/lib/python3.10/site-packages/selenium/webdriver/remote/webdriver.py:344\u001b[0m, in \u001b[0;36mWebDriver.execute\u001b[0;34m(self, driver_command, params)\u001b[0m\n\u001b[1;32m    342\u001b[0m response \u001b[39m=\u001b[39m \u001b[39mself\u001b[39m\u001b[39m.\u001b[39mcommand_executor\u001b[39m.\u001b[39mexecute(driver_command, params)\n\u001b[1;32m    343\u001b[0m \u001b[39mif\u001b[39;00m response:\n\u001b[0;32m--> 344\u001b[0m     \u001b[39mself\u001b[39;49m\u001b[39m.\u001b[39;49merror_handler\u001b[39m.\u001b[39;49mcheck_response(response)\n\u001b[1;32m    345\u001b[0m     response[\u001b[39m\"\u001b[39m\u001b[39mvalue\u001b[39m\u001b[39m\"\u001b[39m] \u001b[39m=\u001b[39m \u001b[39mself\u001b[39m\u001b[39m.\u001b[39m_unwrap_value(response\u001b[39m.\u001b[39mget(\u001b[39m\"\u001b[39m\u001b[39mvalue\u001b[39m\u001b[39m\"\u001b[39m, \u001b[39mNone\u001b[39;00m))\n\u001b[1;32m    346\u001b[0m     \u001b[39mreturn\u001b[39;00m response\n",
      "File \u001b[0;32m~/anaconda3/envs/clase/lib/python3.10/site-packages/selenium/webdriver/remote/errorhandler.py:229\u001b[0m, in \u001b[0;36mErrorHandler.check_response\u001b[0;34m(self, response)\u001b[0m\n\u001b[1;32m    227\u001b[0m         alert_text \u001b[39m=\u001b[39m value[\u001b[39m\"\u001b[39m\u001b[39malert\u001b[39m\u001b[39m\"\u001b[39m]\u001b[39m.\u001b[39mget(\u001b[39m\"\u001b[39m\u001b[39mtext\u001b[39m\u001b[39m\"\u001b[39m)\n\u001b[1;32m    228\u001b[0m     \u001b[39mraise\u001b[39;00m exception_class(message, screen, stacktrace, alert_text)  \u001b[39m# type: ignore[call-arg]  # mypy is not smart enough here\u001b[39;00m\n\u001b[0;32m--> 229\u001b[0m \u001b[39mraise\u001b[39;00m exception_class(message, screen, stacktrace)\n",
      "\u001b[0;31mWebDriverException\u001b[0m: Message: disconnected: not connected to DevTools\n  (failed to check if window was closed: disconnected: not connected to DevTools)\n  (Session info: chrome=119.0.6045.105)\nStacktrace:\n0   chromedriver                        0x0000000104526004 chromedriver + 4169732\n1   chromedriver                        0x000000010451dff8 chromedriver + 4136952\n2   chromedriver                        0x0000000104173500 chromedriver + 292096\n3   chromedriver                        0x000000010415b094 chromedriver + 192660\n4   chromedriver                        0x000000010415af9c chromedriver + 192412\n5   chromedriver                        0x00000001041f2fc8 chromedriver + 815048\n6   chromedriver                        0x00000001041ac5e8 chromedriver + 525800\n7   chromedriver                        0x00000001041ad4b8 chromedriver + 529592\n8   chromedriver                        0x00000001044ec334 chromedriver + 3932980\n9   chromedriver                        0x00000001044f0970 chromedriver + 3950960\n10  chromedriver                        0x00000001044d4774 chromedriver + 3835764\n11  chromedriver                        0x00000001044f1478 chromedriver + 3953784\n12  chromedriver                        0x00000001044c6ab4 chromedriver + 3779252\n13  chromedriver                        0x000000010450d914 chromedriver + 4069652\n14  chromedriver                        0x000000010450da90 chromedriver + 4070032\n15  chromedriver                        0x000000010451dc70 chromedriver + 4136048\n16  libsystem_pthread.dylib             0x00000001842d3fa8 _pthread_start + 148\n17  libsystem_pthread.dylib             0x00000001842ceda0 thread_start + 8\n"
     ]
    }
   ],
   "source": [
    "\n"
   ]
  },
  {
   "cell_type": "code",
   "execution_count": null,
   "metadata": {},
   "outputs": [],
   "source": []
  },
  {
   "cell_type": "code",
   "execution_count": 6,
   "metadata": {},
   "outputs": [
    {
     "ename": "NameError",
     "evalue": "name 'artistas' is not defined",
     "output_type": "error",
     "traceback": [
      "\u001b[0;31m---------------------------------------------------------------------------\u001b[0m",
      "\u001b[0;31mNameError\u001b[0m                                 Traceback (most recent call last)",
      "\u001b[1;32m/Users/sarapazopadron/BOOTCAMP/Proyectos/ProyectoETL/Notebooks/Entradas_2.ipynb Celda 8\u001b[0m line \u001b[0;36m1\n\u001b[0;32m----> <a href='vscode-notebook-cell:/Users/sarapazopadron/BOOTCAMP/Proyectos/ProyectoETL/Notebooks/Entradas_2.ipynb#X13sZmlsZQ%3D%3D?line=0'>1</a>\u001b[0m datos \u001b[39m=\u001b[39m pd\u001b[39m.\u001b[39mDataFrame({\u001b[39m'\u001b[39m\u001b[39martista\u001b[39m\u001b[39m'\u001b[39m: artistas, \u001b[39m'\u001b[39m\u001b[39mfechas\u001b[39m\u001b[39m'\u001b[39m: fechas, \u001b[39m'\u001b[39m\u001b[39meventos\u001b[39m\u001b[39m'\u001b[39m: num_eventos, \u001b[39m'\u001b[39m\u001b[39mprecios\u001b[39m\u001b[39m'\u001b[39m: precios, \u001b[39m'\u001b[39m\u001b[39menlaces\u001b[39m\u001b[39m'\u001b[39m: enlaces})\n\u001b[1;32m      <a href='vscode-notebook-cell:/Users/sarapazopadron/BOOTCAMP/Proyectos/ProyectoETL/Notebooks/Entradas_2.ipynb#X13sZmlsZQ%3D%3D?line=2'>3</a>\u001b[0m datos\n",
      "\u001b[0;31mNameError\u001b[0m: name 'artistas' is not defined"
     ]
    }
   ],
   "source": [
    "datos = pd.DataFrame({'artista': artistas, 'fechas': fechas, 'eventos': num_eventos, 'precios': precios, 'enlaces': enlaces})\n",
    "\n",
    "datos"
   ]
  },
  {
   "cell_type": "code",
   "execution_count": null,
   "metadata": {},
   "outputs": [],
   "source": []
  }
 ],
 "metadata": {
  "kernelspec": {
   "display_name": "clase",
   "language": "python",
   "name": "python3"
  },
  "language_info": {
   "codemirror_mode": {
    "name": "ipython",
    "version": 3
   },
   "file_extension": ".py",
   "mimetype": "text/x-python",
   "name": "python",
   "nbconvert_exporter": "python",
   "pygments_lexer": "ipython3",
   "version": "3.10.13"
  }
 },
 "nbformat": 4,
 "nbformat_minor": 2
}
