{
 "cells": [
  {
   "cell_type": "code",
   "execution_count": 1,
   "metadata": {},
   "outputs": [],
   "source": [
    "import pandas as pd\n",
    "import numpy as np\n",
    "from selenium.webdriver.chrome.options import Options\n",
    "from webdriver_manager.chrome import ChromeDriverManager\n",
    "\n",
    "from selenium import webdriver # driver de selenium\n",
    "\n",
    "import time   # para manejar tiempo"
   ]
  },
  {
   "cell_type": "code",
   "execution_count": 2,
   "metadata": {},
   "outputs": [],
   "source": [
    "from selenium.webdriver.chrome.options import Options   # opciones del driver\n",
    "\n",
    "from selenium.webdriver.common.by import By   # para buscar segun tag, id, class, etc...\n",
    "\n",
    "from selenium.webdriver.support.ui import WebDriverWait   # es para esperar\n",
    "\n",
    "from selenium.webdriver.support import expected_conditions as EC  # condiciones esperadas...\n",
    "\n",
    "from selenium.webdriver import ActionChains as AC   # acciones encadenadas, rollo doble click\n",
    "\n",
    "from selenium.webdriver.common.keys import Keys  # manejar teclas"
   ]
  },
  {
   "cell_type": "code",
   "execution_count": 3,
   "metadata": {},
   "outputs": [],
   "source": [
    "#driver configuration\n",
    "opciones=Options()\n",
    "\n",
    "opciones.add_experimental_option('excludeSwitches', ['enable-automation'])\n",
    "opciones.add_experimental_option('useAutomationExtension', False)\n",
    "opciones.headless=False    # si True, no aperece la ventana (headless=no visible)\n",
    "opciones.add_argument('--start-maximized')         # comienza maximizado\n",
    "#opciones.add_argument('user-data-dir=selenium')    # mantiene las cookies\n",
    "#opciones.add_extension('driver_folder/adblock.crx')       # adblocker\n",
    "opciones.add_argument('--incognito')"
   ]
  },
  {
   "cell_type": "markdown",
   "metadata": {},
   "source": [
    "#### 1. Conecto con la página WEB"
   ]
  },
  {
   "cell_type": "code",
   "execution_count": 6,
   "metadata": {},
   "outputs": [],
   "source": [
    "PATH = 'driver/chromedriver'\n",
    "\n",
    "driver = webdriver.Chrome()   # abre una ventana de chrome \n",
    "                                # una vez que he abierto una ventana, puedo trabajar siempre sobre esta misma."
   ]
  },
  {
   "cell_type": "code",
   "execution_count": 7,
   "metadata": {},
   "outputs": [],
   "source": [
    "url = 'https://www.entradas.com/city/madrid-370/conciertos-y-festivales-85/'\n",
    "\n",
    "driver.get(url)"
   ]
  },
  {
   "cell_type": "markdown",
   "metadata": {},
   "source": [
    "Conecto con la Web de Entradas.com para trabajar sobre esta, y hacer scraping de los datos que quiero. Utilizaré el método de Scrapeo de selenium."
   ]
  },
  {
   "cell_type": "markdown",
   "metadata": {},
   "source": [
    "#### 2. Aceptar las cookies "
   ]
  },
  {
   "cell_type": "markdown",
   "metadata": {},
   "source": [
    "- Lo primero que hago es darle a Aceptas las cookies del sitio web. \n",
    "- Para ello tengo un problema inicial, ya que está categorizada como una pestaña \"shadow\" por lo que cuando busco la opción de hacer click al botón de aceptar, aparece como una pestaña / lista vacía. "
   ]
  },
  {
   "cell_type": "code",
   "execution_count": 8,
   "metadata": {},
   "outputs": [],
   "source": [
    "div_shadow = driver.find_element(By.XPATH, '//div[@class=\"cmpwrapper\"]')"
   ]
  },
  {
   "cell_type": "code",
   "execution_count": 9,
   "metadata": {},
   "outputs": [
    {
     "name": "stdout",
     "output_type": "stream",
     "text": [
      "Element has a Shadow DOM\n"
     ]
    }
   ],
   "source": [
    "# Check if the element has a Shadow DOM using JavaScript\n",
    "has_shadow_dom = driver.execute_script('return arguments[0].shadowRoot !== null', div_shadow)\n",
    "\n",
    "if has_shadow_dom:\n",
    "    print(\"Element has a Shadow DOM\")\n",
    "else:\n",
    "    print(\"Element does not have a Shadow DOM\")"
   ]
  },
  {
   "cell_type": "code",
   "execution_count": 10,
   "metadata": {},
   "outputs": [],
   "source": [
    "shadow_root = driver.execute_script('return arguments[0].shadowRoot', div_shadow)"
   ]
  },
  {
   "cell_type": "code",
   "execution_count": 11,
   "metadata": {},
   "outputs": [],
   "source": [
    "shadow_root.find_elements(By.CSS_SELECTOR, '#cmpwelcomebtnyes > a')[0].click()"
   ]
  },
  {
   "cell_type": "markdown",
   "metadata": {},
   "source": [
    "- Una vez consigo traspasar la barrera del 'Shadow DOM', entonces puedo comenzar con el scrapeo de las tablas que necesito para mi estudio. "
   ]
  },
  {
   "cell_type": "markdown",
   "metadata": {},
   "source": [
    "#### 3. Empezamos el scrapeo por eventos en tabla"
   ]
  },
  {
   "cell_type": "code",
   "execution_count": 12,
   "metadata": {},
   "outputs": [],
   "source": [
    "tabla = '//product-group-item'"
   ]
  },
  {
   "cell_type": "code",
   "execution_count": 13,
   "metadata": {},
   "outputs": [
    {
     "data": {
      "text/plain": [
       "[<selenium.webdriver.remote.webelement.WebElement (session=\"b3c0e53c73e77f490db35a5d4804eb44\", element=\"73E31C7884D5290B1A8D781383B8B66E_element_30\")>,\n",
       " <selenium.webdriver.remote.webelement.WebElement (session=\"b3c0e53c73e77f490db35a5d4804eb44\", element=\"73E31C7884D5290B1A8D781383B8B66E_element_31\")>,\n",
       " <selenium.webdriver.remote.webelement.WebElement (session=\"b3c0e53c73e77f490db35a5d4804eb44\", element=\"73E31C7884D5290B1A8D781383B8B66E_element_32\")>,\n",
       " <selenium.webdriver.remote.webelement.WebElement (session=\"b3c0e53c73e77f490db35a5d4804eb44\", element=\"73E31C7884D5290B1A8D781383B8B66E_element_33\")>,\n",
       " <selenium.webdriver.remote.webelement.WebElement (session=\"b3c0e53c73e77f490db35a5d4804eb44\", element=\"73E31C7884D5290B1A8D781383B8B66E_element_34\")>,\n",
       " <selenium.webdriver.remote.webelement.WebElement (session=\"b3c0e53c73e77f490db35a5d4804eb44\", element=\"73E31C7884D5290B1A8D781383B8B66E_element_35\")>,\n",
       " <selenium.webdriver.remote.webelement.WebElement (session=\"b3c0e53c73e77f490db35a5d4804eb44\", element=\"73E31C7884D5290B1A8D781383B8B66E_element_36\")>,\n",
       " <selenium.webdriver.remote.webelement.WebElement (session=\"b3c0e53c73e77f490db35a5d4804eb44\", element=\"73E31C7884D5290B1A8D781383B8B66E_element_37\")>,\n",
       " <selenium.webdriver.remote.webelement.WebElement (session=\"b3c0e53c73e77f490db35a5d4804eb44\", element=\"73E31C7884D5290B1A8D781383B8B66E_element_38\")>,\n",
       " <selenium.webdriver.remote.webelement.WebElement (session=\"b3c0e53c73e77f490db35a5d4804eb44\", element=\"73E31C7884D5290B1A8D781383B8B66E_element_39\")>,\n",
       " <selenium.webdriver.remote.webelement.WebElement (session=\"b3c0e53c73e77f490db35a5d4804eb44\", element=\"73E31C7884D5290B1A8D781383B8B66E_element_40\")>,\n",
       " <selenium.webdriver.remote.webelement.WebElement (session=\"b3c0e53c73e77f490db35a5d4804eb44\", element=\"73E31C7884D5290B1A8D781383B8B66E_element_41\")>,\n",
       " <selenium.webdriver.remote.webelement.WebElement (session=\"b3c0e53c73e77f490db35a5d4804eb44\", element=\"73E31C7884D5290B1A8D781383B8B66E_element_42\")>,\n",
       " <selenium.webdriver.remote.webelement.WebElement (session=\"b3c0e53c73e77f490db35a5d4804eb44\", element=\"73E31C7884D5290B1A8D781383B8B66E_element_43\")>,\n",
       " <selenium.webdriver.remote.webelement.WebElement (session=\"b3c0e53c73e77f490db35a5d4804eb44\", element=\"73E31C7884D5290B1A8D781383B8B66E_element_44\")>,\n",
       " <selenium.webdriver.remote.webelement.WebElement (session=\"b3c0e53c73e77f490db35a5d4804eb44\", element=\"73E31C7884D5290B1A8D781383B8B66E_element_45\")>,\n",
       " <selenium.webdriver.remote.webelement.WebElement (session=\"b3c0e53c73e77f490db35a5d4804eb44\", element=\"73E31C7884D5290B1A8D781383B8B66E_element_46\")>,\n",
       " <selenium.webdriver.remote.webelement.WebElement (session=\"b3c0e53c73e77f490db35a5d4804eb44\", element=\"73E31C7884D5290B1A8D781383B8B66E_element_47\")>,\n",
       " <selenium.webdriver.remote.webelement.WebElement (session=\"b3c0e53c73e77f490db35a5d4804eb44\", element=\"73E31C7884D5290B1A8D781383B8B66E_element_48\")>,\n",
       " <selenium.webdriver.remote.webelement.WebElement (session=\"b3c0e53c73e77f490db35a5d4804eb44\", element=\"73E31C7884D5290B1A8D781383B8B66E_element_49\")>]"
      ]
     },
     "execution_count": 13,
     "metadata": {},
     "output_type": "execute_result"
    }
   ],
   "source": [
    "table = driver.find_elements(By.XPATH, tabla)\n",
    "table"
   ]
  },
  {
   "cell_type": "code",
   "execution_count": 14,
   "metadata": {},
   "outputs": [
    {
     "data": {
      "text/plain": [
       "list"
      ]
     },
     "execution_count": 14,
     "metadata": {},
     "output_type": "execute_result"
    }
   ],
   "source": [
    "type(table)"
   ]
  },
  {
   "cell_type": "code",
   "execution_count": 15,
   "metadata": {},
   "outputs": [
    {
     "data": {
      "text/plain": [
       "[<selenium.webdriver.remote.webelement.WebElement (session=\"b3c0e53c73e77f490db35a5d4804eb44\", element=\"73E31C7884D5290B1A8D781383B8B66E_element_50\")>,\n",
       " <selenium.webdriver.remote.webelement.WebElement (session=\"b3c0e53c73e77f490db35a5d4804eb44\", element=\"73E31C7884D5290B1A8D781383B8B66E_element_51\")>]"
      ]
     },
     "execution_count": 15,
     "metadata": {},
     "output_type": "execute_result"
    }
   ],
   "source": [
    "elementos = driver.find_elements(By.XPATH, '//*[@id=\"list-item-0\"]')\n",
    "elementos"
   ]
  },
  {
   "cell_type": "code",
   "execution_count": 16,
   "metadata": {},
   "outputs": [
    {
     "data": {
      "text/plain": [
       "list"
      ]
     },
     "execution_count": 16,
     "metadata": {},
     "output_type": "execute_result"
    }
   ],
   "source": [
    "type(elementos)"
   ]
  },
  {
   "cell_type": "code",
   "execution_count": 18,
   "metadata": {},
   "outputs": [
    {
     "data": {
      "text/plain": [
       "['Cariño',\n",
       " 'Inverfest 2024',\n",
       " '13/01/20241 Evento',\n",
       " ' desde 19,80 €',\n",
       " 'Mostrar 1 Evento']"
      ]
     },
     "execution_count": 18,
     "metadata": {},
     "output_type": "execute_result"
    }
   ],
   "source": [
    "elementos = elementos[0].text.split('\\n')\n",
    "elementos"
   ]
  },
  {
   "cell_type": "code",
   "execution_count": 66,
   "metadata": {},
   "outputs": [
    {
     "data": {
      "text/plain": [
       "[<selenium.webdriver.remote.webelement.WebElement (session=\"b3c0e53c73e77f490db35a5d4804eb44\", element=\"73E31C7884D5290B1A8D781383B8B66E_element_52\")>,\n",
       " <selenium.webdriver.remote.webelement.WebElement (session=\"b3c0e53c73e77f490db35a5d4804eb44\", element=\"73E31C7884D5290B1A8D781383B8B66E_element_53\")>]"
      ]
     },
     "execution_count": 66,
     "metadata": {},
     "output_type": "execute_result"
    }
   ],
   "source": [
    "elements = driver.find_elements(By.XPATH, '//div[@class=\"search-result-content\"]')\n",
    "elements"
   ]
  },
  {
   "cell_type": "code",
   "execution_count": 104,
   "metadata": {},
   "outputs": [
    {
     "name": "stdout",
     "output_type": "stream",
     "text": [
      "[['Cariño', 'Iván Ferreiro', 'The World Of Hans Zimmer', 'Triángulo de Amor Bizarro', 'Nico B', 'Cala Vento', 'Sidonie', 'Belako - Sigo regando', 'Biznaga', 'Morreo - Alegría Club!', 'Diego el Cigala - Obras Maestras', 'Symphonic Rhapsody of Queen', 'Sexy Zebras', 'Biografía - Rafa Sánchez, de la unión', 'OBK', 'El Consorcio - Toda una vida', 'Rock en Familia - Hijos del Rock and Roll', 'Rock en Familia - I Love Rock and Roll', 'Rock en Familia - Queenmanía', 'Rock en Familia - I Love Heavy Metal'], ['13/01/2024', '1 Evento', '13/01/2024', '1 Evento', '24/04/2024 ─ 29/04/2024', '2 eventos', '29/12/2023', '1 Evento', '14/01/2024', '1 Evento', '01/12/2023', '1 Evento', '12/01/2024 ─ 14/01/2024', '2 eventos', '20/01/2024', '1 Evento', '26/01/2024', '1 Evento', '18/01/2024', '1 Evento', '11/12/2023 ─ 18/12/2023', '2 eventos', '16/01/2024', '1 Evento', '01/02/2024', '1 Evento', '11/12/2023', '1 Evento', '13/01/2024 ─ 27/01/2024', '3 eventos', '27/11/2023 ─ 28/11/2023', '2 eventos', '05/11/2023 ─ 10/03/2024', '2 eventos', '03/12/2023', '1 Evento', '17/12/2023 ─ 14/04/2024', '2 eventos', '19/11/2023 ─ 24/03/2024', '2 eventos'], ['desde 19,80 €', 'desde 38,50 €', 'desde 55,00 €', 'desde 19,80 €', 'desde 13,50 €', 'desde 19,80 €', 'desde 27,50 €', 'desde 17,60 €', 'desde 18,70 €', 'desde 14,50 €', 'desde 55,00 €', 'desde 35,00 €', 'desde 18,00 €', 'desde 35,00 €', 'desde 30,00 €', 'desde 29,00 €', 'desde 7,50 €', 'desde 7,50 €', 'desde 7,50 €', 'desde 7,50 €'], ['https://www.entradas.com/artist/carino/carino-3503691/', 'https://www.entradas.com/artist/ivan-ferreiro/', 'https://www.entradas.com/artist/hans-zimmer/', 'https://www.entradas.com/artist/triangulo-de-amor-bizarro/', 'https://www.entradas.com/artist/nico-b/', 'https://www.entradas.com/artist/cala-vento/', 'https://www.entradas.com/artist/sidonie/sidonie-1739136/', 'https://www.entradas.com/artist/belako/', 'https://www.entradas.com/artist/biznaga/', 'https://www.entradas.com/artist/morreo/', 'https://www.entradas.com/artist/diego-el-cigala/', 'https://www.entradas.com/artist/symphonic-rhapsody-of-queen/symphonic-rhapsody-of-queen-3295553/', 'https://www.entradas.com/artist/sexy-zebras/sexy-zebras-3277511/', 'https://www.entradas.com/artist/rafa-sanchez/', 'https://www.entradas.com/artist/obk/', 'https://www.entradas.com/artist/el-consorcio/el-consorcio-toda-una-vida-3165443/', 'https://www.entradas.com/artist/rock-en-familia/rock-en-familia-hijos-del-rock-and-roll-3272770/', 'https://www.entradas.com/artist/rock-en-familia/rock-en-familia-i-love-rock-and-roll-3221042/', 'https://www.entradas.com/artist/rock-en-familia/rock-en-familia-queenmania-3294746/', 'https://www.entradas.com/artist/rock-en-familia/rock-en-familia-i-love-heavy-metal-3449495/']]\n",
      "[['Cariño', 'Iván Ferreiro', 'The World Of Hans Zimmer', 'Triángulo de Amor Bizarro', 'Nico B', 'Cala Vento', 'Sidonie', 'Belako - Sigo regando', 'Biznaga', 'Morreo - Alegría Club!', 'Diego el Cigala - Obras Maestras', 'Symphonic Rhapsody of Queen', 'Sexy Zebras', 'Biografía - Rafa Sánchez, de la unión', 'OBK', 'El Consorcio - Toda una vida', 'Rock en Familia - Hijos del Rock and Roll', 'Rock en Familia - I Love Rock and Roll', 'Rock en Familia - Queenmanía', 'Rock en Familia - I Love Heavy Metal'], ['13/01/2024', '1 Evento', '13/01/2024', '1 Evento', '24/04/2024 ─ 29/04/2024', '2 eventos', '29/12/2023', '1 Evento', '14/01/2024', '1 Evento', '01/12/2023', '1 Evento', '12/01/2024 ─ 14/01/2024', '2 eventos', '20/01/2024', '1 Evento', '26/01/2024', '1 Evento', '18/01/2024', '1 Evento', '11/12/2023 ─ 18/12/2023', '2 eventos', '16/01/2024', '1 Evento', '01/02/2024', '1 Evento', '11/12/2023', '1 Evento', '13/01/2024 ─ 27/01/2024', '3 eventos', '27/11/2023 ─ 28/11/2023', '2 eventos', '05/11/2023 ─ 10/03/2024', '2 eventos', '03/12/2023', '1 Evento', '17/12/2023 ─ 14/04/2024', '2 eventos', '19/11/2023 ─ 24/03/2024', '2 eventos'], ['desde 19,80 €', 'desde 38,50 €', 'desde 55,00 €', 'desde 19,80 €', 'desde 13,50 €', 'desde 19,80 €', 'desde 27,50 €', 'desde 17,60 €', 'desde 18,70 €', 'desde 14,50 €', 'desde 55,00 €', 'desde 35,00 €', 'desde 18,00 €', 'desde 35,00 €', 'desde 30,00 €', 'desde 29,00 €', 'desde 7,50 €', 'desde 7,50 €', 'desde 7,50 €', 'desde 7,50 €'], ['https://www.entradas.com/artist/carino/carino-3503691/', 'https://www.entradas.com/artist/ivan-ferreiro/', 'https://www.entradas.com/artist/hans-zimmer/', 'https://www.entradas.com/artist/triangulo-de-amor-bizarro/', 'https://www.entradas.com/artist/nico-b/', 'https://www.entradas.com/artist/cala-vento/', 'https://www.entradas.com/artist/sidonie/sidonie-1739136/', 'https://www.entradas.com/artist/belako/', 'https://www.entradas.com/artist/biznaga/', 'https://www.entradas.com/artist/morreo/', 'https://www.entradas.com/artist/diego-el-cigala/', 'https://www.entradas.com/artist/symphonic-rhapsody-of-queen/symphonic-rhapsody-of-queen-3295553/', 'https://www.entradas.com/artist/sexy-zebras/sexy-zebras-3277511/', 'https://www.entradas.com/artist/rafa-sanchez/', 'https://www.entradas.com/artist/obk/', 'https://www.entradas.com/artist/el-consorcio/el-consorcio-toda-una-vida-3165443/', 'https://www.entradas.com/artist/rock-en-familia/rock-en-familia-hijos-del-rock-and-roll-3272770/', 'https://www.entradas.com/artist/rock-en-familia/rock-en-familia-i-love-rock-and-roll-3221042/', 'https://www.entradas.com/artist/rock-en-familia/rock-en-familia-queenmania-3294746/', 'https://www.entradas.com/artist/rock-en-familia/rock-en-familia-i-love-heavy-metal-3449495/']]\n"
     ]
    }
   ],
   "source": [
    "data = []\n",
    "\n",
    "for element in elements:\n",
    "    artist_name = element.find_elements(By.XPATH, '//div[@class=\"event-listing-city theme-text-color\"]')\n",
    "    astists = [artist.text for artist in artist_name]\n",
    "    date_elements = element.find_elements(By.XPATH, '//div//span[@class=\"listing-data theme-text-color\"]//span')\n",
    "    dates = [date.text for date in date_elements]\n",
    "    price = element.find_elements(By.XPATH, '//div/listing-cta/event-status/div/span/span')\n",
    "    precios = [precio.text for precio in price]\n",
    "    enlace = element.find_elements(By.XPATH, '//*[@class = \"btn theme-button-radius btn-sm btn-block btn-primary theme-interaction-btn-bg theme-btn-font-color theme-btn-font-color-hover\"]')\n",
    "    enlaces = [enl.get_attribute('href') for enl in enlace]\n",
    "\n",
    "    data.append([astists, dates, precios, enlaces])\n",
    "\n",
    "for entry in data:\n",
    "    print(entry)"
   ]
  },
  {
   "cell_type": "code",
   "execution_count": 105,
   "metadata": {},
   "outputs": [
    {
     "data": {
      "text/plain": [
       "list"
      ]
     },
     "execution_count": 105,
     "metadata": {},
     "output_type": "execute_result"
    }
   ],
   "source": [
    "type(entry)"
   ]
  },
  {
   "cell_type": "code",
   "execution_count": 106,
   "metadata": {},
   "outputs": [
    {
     "data": {
      "text/plain": [
       "['Cariño',\n",
       " 'Iván Ferreiro',\n",
       " 'The World Of Hans Zimmer',\n",
       " 'Triángulo de Amor Bizarro',\n",
       " 'Nico B',\n",
       " 'Cala Vento',\n",
       " 'Sidonie',\n",
       " 'Belako - Sigo regando',\n",
       " 'Biznaga',\n",
       " 'Morreo - Alegría Club!',\n",
       " 'Diego el Cigala - Obras Maestras',\n",
       " 'Symphonic Rhapsody of Queen',\n",
       " 'Sexy Zebras',\n",
       " 'Biografía - Rafa Sánchez, de la unión',\n",
       " 'OBK',\n",
       " 'El Consorcio - Toda una vida',\n",
       " 'Rock en Familia - Hijos del Rock and Roll',\n",
       " 'Rock en Familia - I Love Rock and Roll',\n",
       " 'Rock en Familia - Queenmanía',\n",
       " 'Rock en Familia - I Love Heavy Metal']"
      ]
     },
     "execution_count": 106,
     "metadata": {},
     "output_type": "execute_result"
    }
   ],
   "source": [
    "artistas = entry[0]\n",
    "artistas"
   ]
  },
  {
   "cell_type": "code",
   "execution_count": 107,
   "metadata": {},
   "outputs": [
    {
     "data": {
      "text/plain": [
       "['13/01/2024',\n",
       " '1 Evento',\n",
       " '13/01/2024',\n",
       " '1 Evento',\n",
       " '24/04/2024 ─ 29/04/2024',\n",
       " '2 eventos',\n",
       " '29/12/2023',\n",
       " '1 Evento',\n",
       " '14/01/2024',\n",
       " '1 Evento',\n",
       " '01/12/2023',\n",
       " '1 Evento',\n",
       " '12/01/2024 ─ 14/01/2024',\n",
       " '2 eventos',\n",
       " '20/01/2024',\n",
       " '1 Evento',\n",
       " '26/01/2024',\n",
       " '1 Evento',\n",
       " '18/01/2024',\n",
       " '1 Evento',\n",
       " '11/12/2023 ─ 18/12/2023',\n",
       " '2 eventos',\n",
       " '16/01/2024',\n",
       " '1 Evento',\n",
       " '01/02/2024',\n",
       " '1 Evento',\n",
       " '11/12/2023',\n",
       " '1 Evento',\n",
       " '13/01/2024 ─ 27/01/2024',\n",
       " '3 eventos',\n",
       " '27/11/2023 ─ 28/11/2023',\n",
       " '2 eventos',\n",
       " '05/11/2023 ─ 10/03/2024',\n",
       " '2 eventos',\n",
       " '03/12/2023',\n",
       " '1 Evento',\n",
       " '17/12/2023 ─ 14/04/2024',\n",
       " '2 eventos',\n",
       " '19/11/2023 ─ 24/03/2024',\n",
       " '2 eventos']"
      ]
     },
     "execution_count": 107,
     "metadata": {},
     "output_type": "execute_result"
    }
   ],
   "source": [
    "fecha_eventos = entry[1]\n",
    "fecha_eventos"
   ]
  },
  {
   "cell_type": "code",
   "execution_count": 108,
   "metadata": {},
   "outputs": [
    {
     "data": {
      "text/plain": [
       "['desde 19,80 €',\n",
       " 'desde 38,50 €',\n",
       " 'desde 55,00 €',\n",
       " 'desde 19,80 €',\n",
       " 'desde 13,50 €',\n",
       " 'desde 19,80 €',\n",
       " 'desde 27,50 €',\n",
       " 'desde 17,60 €',\n",
       " 'desde 18,70 €',\n",
       " 'desde 14,50 €',\n",
       " 'desde 55,00 €',\n",
       " 'desde 35,00 €',\n",
       " 'desde 18,00 €',\n",
       " 'desde 35,00 €',\n",
       " 'desde 30,00 €',\n",
       " 'desde 29,00 €',\n",
       " 'desde 7,50 €',\n",
       " 'desde 7,50 €',\n",
       " 'desde 7,50 €',\n",
       " 'desde 7,50 €']"
      ]
     },
     "execution_count": 108,
     "metadata": {},
     "output_type": "execute_result"
    }
   ],
   "source": [
    "precios = entry[2]\n",
    "precios\n"
   ]
  },
  {
   "cell_type": "code",
   "execution_count": 109,
   "metadata": {},
   "outputs": [
    {
     "name": "stdout",
     "output_type": "stream",
     "text": [
      "['13/01/2024', '13/01/2024', '24/04/2024 ─ 29/04/2024', '29/12/2023', '14/01/2024', '01/12/2023', '12/01/2024 ─ 14/01/2024', '20/01/2024', '26/01/2024', '18/01/2024', '11/12/2023 ─ 18/12/2023', '16/01/2024', '01/02/2024', '11/12/2023', '13/01/2024 ─ 27/01/2024', '27/11/2023 ─ 28/11/2023', '05/11/2023 ─ 10/03/2024', '03/12/2023', '17/12/2023 ─ 14/04/2024', '19/11/2023 ─ 24/03/2024']\n",
      "['1 Evento', '1 Evento', '2 eventos', '1 Evento', '1 Evento', '1 Evento', '2 eventos', '1 Evento', '1 Evento', '1 Evento', '2 eventos', '1 Evento', '1 Evento', '1 Evento', '3 eventos', '2 eventos', '2 eventos', '1 Evento', '2 eventos', '2 eventos']\n"
     ]
    }
   ],
   "source": [
    "fechas = []\n",
    "num_eventos = []\n",
    "\n",
    "for i in range(0, len(fecha_eventos), 2):\n",
    "    fechas.append(fecha_eventos[i])\n",
    "\n",
    "for i in range(1, len(fecha_eventos), 2):\n",
    "    num_eventos.append(fecha_eventos[i])\n",
    "\n",
    "print(fechas)\n",
    "print(num_eventos)"
   ]
  },
  {
   "cell_type": "code",
   "execution_count": 110,
   "metadata": {},
   "outputs": [],
   "source": [
    "import pandas as pd"
   ]
  },
  {
   "cell_type": "code",
   "execution_count": 111,
   "metadata": {},
   "outputs": [
    {
     "data": {
      "text/html": [
       "<div>\n",
       "<style scoped>\n",
       "    .dataframe tbody tr th:only-of-type {\n",
       "        vertical-align: middle;\n",
       "    }\n",
       "\n",
       "    .dataframe tbody tr th {\n",
       "        vertical-align: top;\n",
       "    }\n",
       "\n",
       "    .dataframe thead th {\n",
       "        text-align: right;\n",
       "    }\n",
       "</style>\n",
       "<table border=\"1\" class=\"dataframe\">\n",
       "  <thead>\n",
       "    <tr style=\"text-align: right;\">\n",
       "      <th></th>\n",
       "      <th>artista</th>\n",
       "      <th>fechas</th>\n",
       "      <th>eventos</th>\n",
       "      <th>precios</th>\n",
       "      <th>enlaces</th>\n",
       "    </tr>\n",
       "  </thead>\n",
       "  <tbody>\n",
       "    <tr>\n",
       "      <th>0</th>\n",
       "      <td>Cariño</td>\n",
       "      <td>13/01/2024</td>\n",
       "      <td>1 Evento</td>\n",
       "      <td>desde 19,80 €</td>\n",
       "      <td>https://www.entradas.com/artist/carino/carino-...</td>\n",
       "    </tr>\n",
       "    <tr>\n",
       "      <th>1</th>\n",
       "      <td>Iván Ferreiro</td>\n",
       "      <td>13/01/2024</td>\n",
       "      <td>1 Evento</td>\n",
       "      <td>desde 38,50 €</td>\n",
       "      <td>https://www.entradas.com/artist/ivan-ferreiro/</td>\n",
       "    </tr>\n",
       "    <tr>\n",
       "      <th>2</th>\n",
       "      <td>The World Of Hans Zimmer</td>\n",
       "      <td>24/04/2024 ─ 29/04/2024</td>\n",
       "      <td>2 eventos</td>\n",
       "      <td>desde 55,00 €</td>\n",
       "      <td>https://www.entradas.com/artist/hans-zimmer/</td>\n",
       "    </tr>\n",
       "    <tr>\n",
       "      <th>3</th>\n",
       "      <td>Triángulo de Amor Bizarro</td>\n",
       "      <td>29/12/2023</td>\n",
       "      <td>1 Evento</td>\n",
       "      <td>desde 19,80 €</td>\n",
       "      <td>https://www.entradas.com/artist/triangulo-de-a...</td>\n",
       "    </tr>\n",
       "    <tr>\n",
       "      <th>4</th>\n",
       "      <td>Nico B</td>\n",
       "      <td>14/01/2024</td>\n",
       "      <td>1 Evento</td>\n",
       "      <td>desde 13,50 €</td>\n",
       "      <td>https://www.entradas.com/artist/nico-b/</td>\n",
       "    </tr>\n",
       "    <tr>\n",
       "      <th>5</th>\n",
       "      <td>Cala Vento</td>\n",
       "      <td>01/12/2023</td>\n",
       "      <td>1 Evento</td>\n",
       "      <td>desde 19,80 €</td>\n",
       "      <td>https://www.entradas.com/artist/cala-vento/</td>\n",
       "    </tr>\n",
       "    <tr>\n",
       "      <th>6</th>\n",
       "      <td>Sidonie</td>\n",
       "      <td>12/01/2024 ─ 14/01/2024</td>\n",
       "      <td>2 eventos</td>\n",
       "      <td>desde 27,50 €</td>\n",
       "      <td>https://www.entradas.com/artist/sidonie/sidoni...</td>\n",
       "    </tr>\n",
       "    <tr>\n",
       "      <th>7</th>\n",
       "      <td>Belako - Sigo regando</td>\n",
       "      <td>20/01/2024</td>\n",
       "      <td>1 Evento</td>\n",
       "      <td>desde 17,60 €</td>\n",
       "      <td>https://www.entradas.com/artist/belako/</td>\n",
       "    </tr>\n",
       "    <tr>\n",
       "      <th>8</th>\n",
       "      <td>Biznaga</td>\n",
       "      <td>26/01/2024</td>\n",
       "      <td>1 Evento</td>\n",
       "      <td>desde 18,70 €</td>\n",
       "      <td>https://www.entradas.com/artist/biznaga/</td>\n",
       "    </tr>\n",
       "    <tr>\n",
       "      <th>9</th>\n",
       "      <td>Morreo - Alegría Club!</td>\n",
       "      <td>18/01/2024</td>\n",
       "      <td>1 Evento</td>\n",
       "      <td>desde 14,50 €</td>\n",
       "      <td>https://www.entradas.com/artist/morreo/</td>\n",
       "    </tr>\n",
       "    <tr>\n",
       "      <th>10</th>\n",
       "      <td>Diego el Cigala - Obras Maestras</td>\n",
       "      <td>11/12/2023 ─ 18/12/2023</td>\n",
       "      <td>2 eventos</td>\n",
       "      <td>desde 55,00 €</td>\n",
       "      <td>https://www.entradas.com/artist/diego-el-cigala/</td>\n",
       "    </tr>\n",
       "    <tr>\n",
       "      <th>11</th>\n",
       "      <td>Symphonic Rhapsody of Queen</td>\n",
       "      <td>16/01/2024</td>\n",
       "      <td>1 Evento</td>\n",
       "      <td>desde 35,00 €</td>\n",
       "      <td>https://www.entradas.com/artist/symphonic-rhap...</td>\n",
       "    </tr>\n",
       "    <tr>\n",
       "      <th>12</th>\n",
       "      <td>Sexy Zebras</td>\n",
       "      <td>01/02/2024</td>\n",
       "      <td>1 Evento</td>\n",
       "      <td>desde 18,00 €</td>\n",
       "      <td>https://www.entradas.com/artist/sexy-zebras/se...</td>\n",
       "    </tr>\n",
       "    <tr>\n",
       "      <th>13</th>\n",
       "      <td>Biografía - Rafa Sánchez, de la unión</td>\n",
       "      <td>11/12/2023</td>\n",
       "      <td>1 Evento</td>\n",
       "      <td>desde 35,00 €</td>\n",
       "      <td>https://www.entradas.com/artist/rafa-sanchez/</td>\n",
       "    </tr>\n",
       "    <tr>\n",
       "      <th>14</th>\n",
       "      <td>OBK</td>\n",
       "      <td>13/01/2024 ─ 27/01/2024</td>\n",
       "      <td>3 eventos</td>\n",
       "      <td>desde 30,00 €</td>\n",
       "      <td>https://www.entradas.com/artist/obk/</td>\n",
       "    </tr>\n",
       "    <tr>\n",
       "      <th>15</th>\n",
       "      <td>El Consorcio - Toda una vida</td>\n",
       "      <td>27/11/2023 ─ 28/11/2023</td>\n",
       "      <td>2 eventos</td>\n",
       "      <td>desde 29,00 €</td>\n",
       "      <td>https://www.entradas.com/artist/el-consorcio/e...</td>\n",
       "    </tr>\n",
       "    <tr>\n",
       "      <th>16</th>\n",
       "      <td>Rock en Familia - Hijos del Rock and Roll</td>\n",
       "      <td>05/11/2023 ─ 10/03/2024</td>\n",
       "      <td>2 eventos</td>\n",
       "      <td>desde 7,50 €</td>\n",
       "      <td>https://www.entradas.com/artist/rock-en-famili...</td>\n",
       "    </tr>\n",
       "    <tr>\n",
       "      <th>17</th>\n",
       "      <td>Rock en Familia - I Love Rock and Roll</td>\n",
       "      <td>03/12/2023</td>\n",
       "      <td>1 Evento</td>\n",
       "      <td>desde 7,50 €</td>\n",
       "      <td>https://www.entradas.com/artist/rock-en-famili...</td>\n",
       "    </tr>\n",
       "    <tr>\n",
       "      <th>18</th>\n",
       "      <td>Rock en Familia - Queenmanía</td>\n",
       "      <td>17/12/2023 ─ 14/04/2024</td>\n",
       "      <td>2 eventos</td>\n",
       "      <td>desde 7,50 €</td>\n",
       "      <td>https://www.entradas.com/artist/rock-en-famili...</td>\n",
       "    </tr>\n",
       "    <tr>\n",
       "      <th>19</th>\n",
       "      <td>Rock en Familia - I Love Heavy Metal</td>\n",
       "      <td>19/11/2023 ─ 24/03/2024</td>\n",
       "      <td>2 eventos</td>\n",
       "      <td>desde 7,50 €</td>\n",
       "      <td>https://www.entradas.com/artist/rock-en-famili...</td>\n",
       "    </tr>\n",
       "  </tbody>\n",
       "</table>\n",
       "</div>"
      ],
      "text/plain": [
       "                                      artista                   fechas  \\\n",
       "0                                      Cariño               13/01/2024   \n",
       "1                               Iván Ferreiro               13/01/2024   \n",
       "2                    The World Of Hans Zimmer  24/04/2024 ─ 29/04/2024   \n",
       "3                   Triángulo de Amor Bizarro               29/12/2023   \n",
       "4                                      Nico B               14/01/2024   \n",
       "5                                  Cala Vento               01/12/2023   \n",
       "6                                     Sidonie  12/01/2024 ─ 14/01/2024   \n",
       "7                       Belako - Sigo regando               20/01/2024   \n",
       "8                                     Biznaga               26/01/2024   \n",
       "9                      Morreo - Alegría Club!               18/01/2024   \n",
       "10           Diego el Cigala - Obras Maestras  11/12/2023 ─ 18/12/2023   \n",
       "11                Symphonic Rhapsody of Queen               16/01/2024   \n",
       "12                                Sexy Zebras               01/02/2024   \n",
       "13      Biografía - Rafa Sánchez, de la unión               11/12/2023   \n",
       "14                                        OBK  13/01/2024 ─ 27/01/2024   \n",
       "15               El Consorcio - Toda una vida  27/11/2023 ─ 28/11/2023   \n",
       "16  Rock en Familia - Hijos del Rock and Roll  05/11/2023 ─ 10/03/2024   \n",
       "17     Rock en Familia - I Love Rock and Roll               03/12/2023   \n",
       "18               Rock en Familia - Queenmanía  17/12/2023 ─ 14/04/2024   \n",
       "19       Rock en Familia - I Love Heavy Metal  19/11/2023 ─ 24/03/2024   \n",
       "\n",
       "      eventos        precios  \\\n",
       "0    1 Evento  desde 19,80 €   \n",
       "1    1 Evento  desde 38,50 €   \n",
       "2   2 eventos  desde 55,00 €   \n",
       "3    1 Evento  desde 19,80 €   \n",
       "4    1 Evento  desde 13,50 €   \n",
       "5    1 Evento  desde 19,80 €   \n",
       "6   2 eventos  desde 27,50 €   \n",
       "7    1 Evento  desde 17,60 €   \n",
       "8    1 Evento  desde 18,70 €   \n",
       "9    1 Evento  desde 14,50 €   \n",
       "10  2 eventos  desde 55,00 €   \n",
       "11   1 Evento  desde 35,00 €   \n",
       "12   1 Evento  desde 18,00 €   \n",
       "13   1 Evento  desde 35,00 €   \n",
       "14  3 eventos  desde 30,00 €   \n",
       "15  2 eventos  desde 29,00 €   \n",
       "16  2 eventos   desde 7,50 €   \n",
       "17   1 Evento   desde 7,50 €   \n",
       "18  2 eventos   desde 7,50 €   \n",
       "19  2 eventos   desde 7,50 €   \n",
       "\n",
       "                                              enlaces  \n",
       "0   https://www.entradas.com/artist/carino/carino-...  \n",
       "1      https://www.entradas.com/artist/ivan-ferreiro/  \n",
       "2        https://www.entradas.com/artist/hans-zimmer/  \n",
       "3   https://www.entradas.com/artist/triangulo-de-a...  \n",
       "4             https://www.entradas.com/artist/nico-b/  \n",
       "5         https://www.entradas.com/artist/cala-vento/  \n",
       "6   https://www.entradas.com/artist/sidonie/sidoni...  \n",
       "7             https://www.entradas.com/artist/belako/  \n",
       "8            https://www.entradas.com/artist/biznaga/  \n",
       "9             https://www.entradas.com/artist/morreo/  \n",
       "10   https://www.entradas.com/artist/diego-el-cigala/  \n",
       "11  https://www.entradas.com/artist/symphonic-rhap...  \n",
       "12  https://www.entradas.com/artist/sexy-zebras/se...  \n",
       "13      https://www.entradas.com/artist/rafa-sanchez/  \n",
       "14               https://www.entradas.com/artist/obk/  \n",
       "15  https://www.entradas.com/artist/el-consorcio/e...  \n",
       "16  https://www.entradas.com/artist/rock-en-famili...  \n",
       "17  https://www.entradas.com/artist/rock-en-famili...  \n",
       "18  https://www.entradas.com/artist/rock-en-famili...  \n",
       "19  https://www.entradas.com/artist/rock-en-famili...  "
      ]
     },
     "execution_count": 111,
     "metadata": {},
     "output_type": "execute_result"
    }
   ],
   "source": [
    "datos = pd.DataFrame({'artista': artistas, 'fechas': fechas, 'eventos': num_eventos, 'precios': precios, 'enlaces': enlaces})\n",
    "\n",
    "datos"
   ]
  },
  {
   "cell_type": "code",
   "execution_count": null,
   "metadata": {},
   "outputs": [],
   "source": []
  },
  {
   "cell_type": "code",
   "execution_count": 114,
   "metadata": {},
   "outputs": [],
   "source": [
    "base_url = 'https://www.entradas.com/city/madrid-370/conciertos-y-festivales-85/?page='\n",
    "\n",
    "# Número de páginas a recorrer\n",
    "num_paginas = 5\n",
    "\n",
    "for pagina in range(1, num_paginas + 1):\n",
    "    url = base_url + str(pagina)\n",
    "    driver.get(url)"
   ]
  },
  {
   "cell_type": "code",
   "execution_count": 116,
   "metadata": {},
   "outputs": [
    {
     "data": {
      "text/html": [
       "<div>\n",
       "<style scoped>\n",
       "    .dataframe tbody tr th:only-of-type {\n",
       "        vertical-align: middle;\n",
       "    }\n",
       "\n",
       "    .dataframe tbody tr th {\n",
       "        vertical-align: top;\n",
       "    }\n",
       "\n",
       "    .dataframe thead th {\n",
       "        text-align: right;\n",
       "    }\n",
       "</style>\n",
       "<table border=\"1\" class=\"dataframe\">\n",
       "  <thead>\n",
       "    <tr style=\"text-align: right;\">\n",
       "      <th></th>\n",
       "      <th>artista</th>\n",
       "      <th>fechas</th>\n",
       "      <th>eventos</th>\n",
       "      <th>precios</th>\n",
       "      <th>enlaces</th>\n",
       "    </tr>\n",
       "  </thead>\n",
       "  <tbody>\n",
       "    <tr>\n",
       "      <th>0</th>\n",
       "      <td>Cariño</td>\n",
       "      <td>13/01/2024</td>\n",
       "      <td>1 Evento</td>\n",
       "      <td>desde 19,80 €</td>\n",
       "      <td>https://www.entradas.com/artist/carino/carino-...</td>\n",
       "    </tr>\n",
       "    <tr>\n",
       "      <th>1</th>\n",
       "      <td>Iván Ferreiro</td>\n",
       "      <td>13/01/2024</td>\n",
       "      <td>1 Evento</td>\n",
       "      <td>desde 38,50 €</td>\n",
       "      <td>https://www.entradas.com/artist/ivan-ferreiro/</td>\n",
       "    </tr>\n",
       "    <tr>\n",
       "      <th>2</th>\n",
       "      <td>The World Of Hans Zimmer</td>\n",
       "      <td>24/04/2024 ─ 29/04/2024</td>\n",
       "      <td>2 eventos</td>\n",
       "      <td>desde 55,00 €</td>\n",
       "      <td>https://www.entradas.com/artist/hans-zimmer/</td>\n",
       "    </tr>\n",
       "    <tr>\n",
       "      <th>3</th>\n",
       "      <td>Triángulo de Amor Bizarro</td>\n",
       "      <td>29/12/2023</td>\n",
       "      <td>1 Evento</td>\n",
       "      <td>desde 19,80 €</td>\n",
       "      <td>https://www.entradas.com/artist/triangulo-de-a...</td>\n",
       "    </tr>\n",
       "    <tr>\n",
       "      <th>4</th>\n",
       "      <td>Nico B</td>\n",
       "      <td>14/01/2024</td>\n",
       "      <td>1 Evento</td>\n",
       "      <td>desde 13,50 €</td>\n",
       "      <td>https://www.entradas.com/artist/nico-b/</td>\n",
       "    </tr>\n",
       "    <tr>\n",
       "      <th>5</th>\n",
       "      <td>Cala Vento</td>\n",
       "      <td>01/12/2023</td>\n",
       "      <td>1 Evento</td>\n",
       "      <td>desde 19,80 €</td>\n",
       "      <td>https://www.entradas.com/artist/cala-vento/</td>\n",
       "    </tr>\n",
       "    <tr>\n",
       "      <th>6</th>\n",
       "      <td>Sidonie</td>\n",
       "      <td>12/01/2024 ─ 14/01/2024</td>\n",
       "      <td>2 eventos</td>\n",
       "      <td>desde 27,50 €</td>\n",
       "      <td>https://www.entradas.com/artist/sidonie/sidoni...</td>\n",
       "    </tr>\n",
       "    <tr>\n",
       "      <th>7</th>\n",
       "      <td>Belako - Sigo regando</td>\n",
       "      <td>20/01/2024</td>\n",
       "      <td>1 Evento</td>\n",
       "      <td>desde 17,60 €</td>\n",
       "      <td>https://www.entradas.com/artist/belako/</td>\n",
       "    </tr>\n",
       "    <tr>\n",
       "      <th>8</th>\n",
       "      <td>Biznaga</td>\n",
       "      <td>26/01/2024</td>\n",
       "      <td>1 Evento</td>\n",
       "      <td>desde 18,70 €</td>\n",
       "      <td>https://www.entradas.com/artist/biznaga/</td>\n",
       "    </tr>\n",
       "    <tr>\n",
       "      <th>9</th>\n",
       "      <td>Morreo - Alegría Club!</td>\n",
       "      <td>18/01/2024</td>\n",
       "      <td>1 Evento</td>\n",
       "      <td>desde 14,50 €</td>\n",
       "      <td>https://www.entradas.com/artist/morreo/</td>\n",
       "    </tr>\n",
       "    <tr>\n",
       "      <th>10</th>\n",
       "      <td>Diego el Cigala - Obras Maestras</td>\n",
       "      <td>11/12/2023 ─ 18/12/2023</td>\n",
       "      <td>2 eventos</td>\n",
       "      <td>desde 55,00 €</td>\n",
       "      <td>https://www.entradas.com/artist/diego-el-cigala/</td>\n",
       "    </tr>\n",
       "    <tr>\n",
       "      <th>11</th>\n",
       "      <td>Symphonic Rhapsody of Queen</td>\n",
       "      <td>16/01/2024</td>\n",
       "      <td>1 Evento</td>\n",
       "      <td>desde 35,00 €</td>\n",
       "      <td>https://www.entradas.com/artist/symphonic-rhap...</td>\n",
       "    </tr>\n",
       "    <tr>\n",
       "      <th>12</th>\n",
       "      <td>Sexy Zebras</td>\n",
       "      <td>01/02/2024</td>\n",
       "      <td>1 Evento</td>\n",
       "      <td>desde 18,00 €</td>\n",
       "      <td>https://www.entradas.com/artist/sexy-zebras/se...</td>\n",
       "    </tr>\n",
       "    <tr>\n",
       "      <th>13</th>\n",
       "      <td>Biografía - Rafa Sánchez, de la unión</td>\n",
       "      <td>11/12/2023</td>\n",
       "      <td>1 Evento</td>\n",
       "      <td>desde 35,00 €</td>\n",
       "      <td>https://www.entradas.com/artist/rafa-sanchez/</td>\n",
       "    </tr>\n",
       "    <tr>\n",
       "      <th>14</th>\n",
       "      <td>OBK</td>\n",
       "      <td>13/01/2024 ─ 27/01/2024</td>\n",
       "      <td>3 eventos</td>\n",
       "      <td>desde 30,00 €</td>\n",
       "      <td>https://www.entradas.com/artist/obk/</td>\n",
       "    </tr>\n",
       "    <tr>\n",
       "      <th>15</th>\n",
       "      <td>El Consorcio - Toda una vida</td>\n",
       "      <td>27/11/2023 ─ 28/11/2023</td>\n",
       "      <td>2 eventos</td>\n",
       "      <td>desde 29,00 €</td>\n",
       "      <td>https://www.entradas.com/artist/el-consorcio/e...</td>\n",
       "    </tr>\n",
       "    <tr>\n",
       "      <th>16</th>\n",
       "      <td>Rock en Familia - Hijos del Rock and Roll</td>\n",
       "      <td>05/11/2023 ─ 10/03/2024</td>\n",
       "      <td>2 eventos</td>\n",
       "      <td>desde 7,50 €</td>\n",
       "      <td>https://www.entradas.com/artist/rock-en-famili...</td>\n",
       "    </tr>\n",
       "    <tr>\n",
       "      <th>17</th>\n",
       "      <td>Rock en Familia - I Love Rock and Roll</td>\n",
       "      <td>03/12/2023</td>\n",
       "      <td>1 Evento</td>\n",
       "      <td>desde 7,50 €</td>\n",
       "      <td>https://www.entradas.com/artist/rock-en-famili...</td>\n",
       "    </tr>\n",
       "    <tr>\n",
       "      <th>18</th>\n",
       "      <td>Rock en Familia - Queenmanía</td>\n",
       "      <td>17/12/2023 ─ 14/04/2024</td>\n",
       "      <td>2 eventos</td>\n",
       "      <td>desde 7,50 €</td>\n",
       "      <td>https://www.entradas.com/artist/rock-en-famili...</td>\n",
       "    </tr>\n",
       "    <tr>\n",
       "      <th>19</th>\n",
       "      <td>Rock en Familia - I Love Heavy Metal</td>\n",
       "      <td>19/11/2023 ─ 24/03/2024</td>\n",
       "      <td>2 eventos</td>\n",
       "      <td>desde 7,50 €</td>\n",
       "      <td>https://www.entradas.com/artist/rock-en-famili...</td>\n",
       "    </tr>\n",
       "  </tbody>\n",
       "</table>\n",
       "</div>"
      ],
      "text/plain": [
       "                                      artista                   fechas  \\\n",
       "0                                      Cariño               13/01/2024   \n",
       "1                               Iván Ferreiro               13/01/2024   \n",
       "2                    The World Of Hans Zimmer  24/04/2024 ─ 29/04/2024   \n",
       "3                   Triángulo de Amor Bizarro               29/12/2023   \n",
       "4                                      Nico B               14/01/2024   \n",
       "5                                  Cala Vento               01/12/2023   \n",
       "6                                     Sidonie  12/01/2024 ─ 14/01/2024   \n",
       "7                       Belako - Sigo regando               20/01/2024   \n",
       "8                                     Biznaga               26/01/2024   \n",
       "9                      Morreo - Alegría Club!               18/01/2024   \n",
       "10           Diego el Cigala - Obras Maestras  11/12/2023 ─ 18/12/2023   \n",
       "11                Symphonic Rhapsody of Queen               16/01/2024   \n",
       "12                                Sexy Zebras               01/02/2024   \n",
       "13      Biografía - Rafa Sánchez, de la unión               11/12/2023   \n",
       "14                                        OBK  13/01/2024 ─ 27/01/2024   \n",
       "15               El Consorcio - Toda una vida  27/11/2023 ─ 28/11/2023   \n",
       "16  Rock en Familia - Hijos del Rock and Roll  05/11/2023 ─ 10/03/2024   \n",
       "17     Rock en Familia - I Love Rock and Roll               03/12/2023   \n",
       "18               Rock en Familia - Queenmanía  17/12/2023 ─ 14/04/2024   \n",
       "19       Rock en Familia - I Love Heavy Metal  19/11/2023 ─ 24/03/2024   \n",
       "\n",
       "      eventos        precios  \\\n",
       "0    1 Evento  desde 19,80 €   \n",
       "1    1 Evento  desde 38,50 €   \n",
       "2   2 eventos  desde 55,00 €   \n",
       "3    1 Evento  desde 19,80 €   \n",
       "4    1 Evento  desde 13,50 €   \n",
       "5    1 Evento  desde 19,80 €   \n",
       "6   2 eventos  desde 27,50 €   \n",
       "7    1 Evento  desde 17,60 €   \n",
       "8    1 Evento  desde 18,70 €   \n",
       "9    1 Evento  desde 14,50 €   \n",
       "10  2 eventos  desde 55,00 €   \n",
       "11   1 Evento  desde 35,00 €   \n",
       "12   1 Evento  desde 18,00 €   \n",
       "13   1 Evento  desde 35,00 €   \n",
       "14  3 eventos  desde 30,00 €   \n",
       "15  2 eventos  desde 29,00 €   \n",
       "16  2 eventos   desde 7,50 €   \n",
       "17   1 Evento   desde 7,50 €   \n",
       "18  2 eventos   desde 7,50 €   \n",
       "19  2 eventos   desde 7,50 €   \n",
       "\n",
       "                                              enlaces  \n",
       "0   https://www.entradas.com/artist/carino/carino-...  \n",
       "1      https://www.entradas.com/artist/ivan-ferreiro/  \n",
       "2        https://www.entradas.com/artist/hans-zimmer/  \n",
       "3   https://www.entradas.com/artist/triangulo-de-a...  \n",
       "4             https://www.entradas.com/artist/nico-b/  \n",
       "5         https://www.entradas.com/artist/cala-vento/  \n",
       "6   https://www.entradas.com/artist/sidonie/sidoni...  \n",
       "7             https://www.entradas.com/artist/belako/  \n",
       "8            https://www.entradas.com/artist/biznaga/  \n",
       "9             https://www.entradas.com/artist/morreo/  \n",
       "10   https://www.entradas.com/artist/diego-el-cigala/  \n",
       "11  https://www.entradas.com/artist/symphonic-rhap...  \n",
       "12  https://www.entradas.com/artist/sexy-zebras/se...  \n",
       "13      https://www.entradas.com/artist/rafa-sanchez/  \n",
       "14               https://www.entradas.com/artist/obk/  \n",
       "15  https://www.entradas.com/artist/el-consorcio/e...  \n",
       "16  https://www.entradas.com/artist/rock-en-famili...  \n",
       "17  https://www.entradas.com/artist/rock-en-famili...  \n",
       "18  https://www.entradas.com/artist/rock-en-famili...  \n",
       "19  https://www.entradas.com/artist/rock-en-famili...  "
      ]
     },
     "execution_count": 116,
     "metadata": {},
     "output_type": "execute_result"
    }
   ],
   "source": [
    "datos"
   ]
  },
  {
   "cell_type": "code",
   "execution_count": null,
   "metadata": {},
   "outputs": [],
   "source": []
  },
  {
   "cell_type": "code",
   "execution_count": 117,
   "metadata": {},
   "outputs": [
    {
     "data": {
      "text/plain": [
       "[<selenium.webdriver.remote.webelement.WebElement (session=\"b3c0e53c73e77f490db35a5d4804eb44\", element=\"D0D199E13AE128AB7AC86C1A29D48963_element_12307\")>,\n",
       " <selenium.webdriver.remote.webelement.WebElement (session=\"b3c0e53c73e77f490db35a5d4804eb44\", element=\"D0D199E13AE128AB7AC86C1A29D48963_element_12308\")>,\n",
       " <selenium.webdriver.remote.webelement.WebElement (session=\"b3c0e53c73e77f490db35a5d4804eb44\", element=\"D0D199E13AE128AB7AC86C1A29D48963_element_12309\")>,\n",
       " <selenium.webdriver.remote.webelement.WebElement (session=\"b3c0e53c73e77f490db35a5d4804eb44\", element=\"D0D199E13AE128AB7AC86C1A29D48963_element_12310\")>,\n",
       " <selenium.webdriver.remote.webelement.WebElement (session=\"b3c0e53c73e77f490db35a5d4804eb44\", element=\"D0D199E13AE128AB7AC86C1A29D48963_element_12311\")>,\n",
       " <selenium.webdriver.remote.webelement.WebElement (session=\"b3c0e53c73e77f490db35a5d4804eb44\", element=\"D0D199E13AE128AB7AC86C1A29D48963_element_12312\")>,\n",
       " <selenium.webdriver.remote.webelement.WebElement (session=\"b3c0e53c73e77f490db35a5d4804eb44\", element=\"D0D199E13AE128AB7AC86C1A29D48963_element_12313\")>,\n",
       " <selenium.webdriver.remote.webelement.WebElement (session=\"b3c0e53c73e77f490db35a5d4804eb44\", element=\"D0D199E13AE128AB7AC86C1A29D48963_element_12314\")>,\n",
       " <selenium.webdriver.remote.webelement.WebElement (session=\"b3c0e53c73e77f490db35a5d4804eb44\", element=\"D0D199E13AE128AB7AC86C1A29D48963_element_12315\")>,\n",
       " <selenium.webdriver.remote.webelement.WebElement (session=\"b3c0e53c73e77f490db35a5d4804eb44\", element=\"D0D199E13AE128AB7AC86C1A29D48963_element_12316\")>,\n",
       " <selenium.webdriver.remote.webelement.WebElement (session=\"b3c0e53c73e77f490db35a5d4804eb44\", element=\"D0D199E13AE128AB7AC86C1A29D48963_element_12317\")>,\n",
       " <selenium.webdriver.remote.webelement.WebElement (session=\"b3c0e53c73e77f490db35a5d4804eb44\", element=\"D0D199E13AE128AB7AC86C1A29D48963_element_12318\")>,\n",
       " <selenium.webdriver.remote.webelement.WebElement (session=\"b3c0e53c73e77f490db35a5d4804eb44\", element=\"D0D199E13AE128AB7AC86C1A29D48963_element_12319\")>,\n",
       " <selenium.webdriver.remote.webelement.WebElement (session=\"b3c0e53c73e77f490db35a5d4804eb44\", element=\"D0D199E13AE128AB7AC86C1A29D48963_element_12320\")>,\n",
       " <selenium.webdriver.remote.webelement.WebElement (session=\"b3c0e53c73e77f490db35a5d4804eb44\", element=\"D0D199E13AE128AB7AC86C1A29D48963_element_12321\")>,\n",
       " <selenium.webdriver.remote.webelement.WebElement (session=\"b3c0e53c73e77f490db35a5d4804eb44\", element=\"D0D199E13AE128AB7AC86C1A29D48963_element_12322\")>,\n",
       " <selenium.webdriver.remote.webelement.WebElement (session=\"b3c0e53c73e77f490db35a5d4804eb44\", element=\"D0D199E13AE128AB7AC86C1A29D48963_element_12323\")>,\n",
       " <selenium.webdriver.remote.webelement.WebElement (session=\"b3c0e53c73e77f490db35a5d4804eb44\", element=\"D0D199E13AE128AB7AC86C1A29D48963_element_12324\")>,\n",
       " <selenium.webdriver.remote.webelement.WebElement (session=\"b3c0e53c73e77f490db35a5d4804eb44\", element=\"D0D199E13AE128AB7AC86C1A29D48963_element_12325\")>,\n",
       " <selenium.webdriver.remote.webelement.WebElement (session=\"b3c0e53c73e77f490db35a5d4804eb44\", element=\"D0D199E13AE128AB7AC86C1A29D48963_element_12326\")>,\n",
       " <selenium.webdriver.remote.webelement.WebElement (session=\"b3c0e53c73e77f490db35a5d4804eb44\", element=\"D0D199E13AE128AB7AC86C1A29D48963_element_12327\")>,\n",
       " <selenium.webdriver.remote.webelement.WebElement (session=\"b3c0e53c73e77f490db35a5d4804eb44\", element=\"D0D199E13AE128AB7AC86C1A29D48963_element_12328\")>,\n",
       " <selenium.webdriver.remote.webelement.WebElement (session=\"b3c0e53c73e77f490db35a5d4804eb44\", element=\"D0D199E13AE128AB7AC86C1A29D48963_element_12329\")>,\n",
       " <selenium.webdriver.remote.webelement.WebElement (session=\"b3c0e53c73e77f490db35a5d4804eb44\", element=\"D0D199E13AE128AB7AC86C1A29D48963_element_12330\")>,\n",
       " <selenium.webdriver.remote.webelement.WebElement (session=\"b3c0e53c73e77f490db35a5d4804eb44\", element=\"D0D199E13AE128AB7AC86C1A29D48963_element_12331\")>,\n",
       " <selenium.webdriver.remote.webelement.WebElement (session=\"b3c0e53c73e77f490db35a5d4804eb44\", element=\"D0D199E13AE128AB7AC86C1A29D48963_element_12332\")>,\n",
       " <selenium.webdriver.remote.webelement.WebElement (session=\"b3c0e53c73e77f490db35a5d4804eb44\", element=\"D0D199E13AE128AB7AC86C1A29D48963_element_12333\")>,\n",
       " <selenium.webdriver.remote.webelement.WebElement (session=\"b3c0e53c73e77f490db35a5d4804eb44\", element=\"D0D199E13AE128AB7AC86C1A29D48963_element_12334\")>,\n",
       " <selenium.webdriver.remote.webelement.WebElement (session=\"b3c0e53c73e77f490db35a5d4804eb44\", element=\"D0D199E13AE128AB7AC86C1A29D48963_element_12335\")>,\n",
       " <selenium.webdriver.remote.webelement.WebElement (session=\"b3c0e53c73e77f490db35a5d4804eb44\", element=\"D0D199E13AE128AB7AC86C1A29D48963_element_12336\")>,\n",
       " <selenium.webdriver.remote.webelement.WebElement (session=\"b3c0e53c73e77f490db35a5d4804eb44\", element=\"D0D199E13AE128AB7AC86C1A29D48963_element_12337\")>,\n",
       " <selenium.webdriver.remote.webelement.WebElement (session=\"b3c0e53c73e77f490db35a5d4804eb44\", element=\"D0D199E13AE128AB7AC86C1A29D48963_element_12338\")>,\n",
       " <selenium.webdriver.remote.webelement.WebElement (session=\"b3c0e53c73e77f490db35a5d4804eb44\", element=\"D0D199E13AE128AB7AC86C1A29D48963_element_12339\")>,\n",
       " <selenium.webdriver.remote.webelement.WebElement (session=\"b3c0e53c73e77f490db35a5d4804eb44\", element=\"D0D199E13AE128AB7AC86C1A29D48963_element_12340\")>,\n",
       " <selenium.webdriver.remote.webelement.WebElement (session=\"b3c0e53c73e77f490db35a5d4804eb44\", element=\"D0D199E13AE128AB7AC86C1A29D48963_element_12341\")>,\n",
       " <selenium.webdriver.remote.webelement.WebElement (session=\"b3c0e53c73e77f490db35a5d4804eb44\", element=\"D0D199E13AE128AB7AC86C1A29D48963_element_12342\")>,\n",
       " <selenium.webdriver.remote.webelement.WebElement (session=\"b3c0e53c73e77f490db35a5d4804eb44\", element=\"D0D199E13AE128AB7AC86C1A29D48963_element_12343\")>,\n",
       " <selenium.webdriver.remote.webelement.WebElement (session=\"b3c0e53c73e77f490db35a5d4804eb44\", element=\"D0D199E13AE128AB7AC86C1A29D48963_element_12344\")>,\n",
       " <selenium.webdriver.remote.webelement.WebElement (session=\"b3c0e53c73e77f490db35a5d4804eb44\", element=\"D0D199E13AE128AB7AC86C1A29D48963_element_12345\")>,\n",
       " <selenium.webdriver.remote.webelement.WebElement (session=\"b3c0e53c73e77f490db35a5d4804eb44\", element=\"D0D199E13AE128AB7AC86C1A29D48963_element_12346\")>,\n",
       " <selenium.webdriver.remote.webelement.WebElement (session=\"b3c0e53c73e77f490db35a5d4804eb44\", element=\"D0D199E13AE128AB7AC86C1A29D48963_element_12347\")>,\n",
       " <selenium.webdriver.remote.webelement.WebElement (session=\"b3c0e53c73e77f490db35a5d4804eb44\", element=\"D0D199E13AE128AB7AC86C1A29D48963_element_12348\")>,\n",
       " <selenium.webdriver.remote.webelement.WebElement (session=\"b3c0e53c73e77f490db35a5d4804eb44\", element=\"D0D199E13AE128AB7AC86C1A29D48963_element_12349\")>,\n",
       " <selenium.webdriver.remote.webelement.WebElement (session=\"b3c0e53c73e77f490db35a5d4804eb44\", element=\"D0D199E13AE128AB7AC86C1A29D48963_element_12350\")>,\n",
       " <selenium.webdriver.remote.webelement.WebElement (session=\"b3c0e53c73e77f490db35a5d4804eb44\", element=\"D0D199E13AE128AB7AC86C1A29D48963_element_12351\")>,\n",
       " <selenium.webdriver.remote.webelement.WebElement (session=\"b3c0e53c73e77f490db35a5d4804eb44\", element=\"D0D199E13AE128AB7AC86C1A29D48963_element_12352\")>,\n",
       " <selenium.webdriver.remote.webelement.WebElement (session=\"b3c0e53c73e77f490db35a5d4804eb44\", element=\"D0D199E13AE128AB7AC86C1A29D48963_element_12353\")>,\n",
       " <selenium.webdriver.remote.webelement.WebElement (session=\"b3c0e53c73e77f490db35a5d4804eb44\", element=\"D0D199E13AE128AB7AC86C1A29D48963_element_12354\")>,\n",
       " <selenium.webdriver.remote.webelement.WebElement (session=\"b3c0e53c73e77f490db35a5d4804eb44\", element=\"D0D199E13AE128AB7AC86C1A29D48963_element_12355\")>,\n",
       " <selenium.webdriver.remote.webelement.WebElement (session=\"b3c0e53c73e77f490db35a5d4804eb44\", element=\"D0D199E13AE128AB7AC86C1A29D48963_element_12356\")>,\n",
       " <selenium.webdriver.remote.webelement.WebElement (session=\"b3c0e53c73e77f490db35a5d4804eb44\", element=\"D0D199E13AE128AB7AC86C1A29D48963_element_12357\")>,\n",
       " <selenium.webdriver.remote.webelement.WebElement (session=\"b3c0e53c73e77f490db35a5d4804eb44\", element=\"D0D199E13AE128AB7AC86C1A29D48963_element_12358\")>,\n",
       " <selenium.webdriver.remote.webelement.WebElement (session=\"b3c0e53c73e77f490db35a5d4804eb44\", element=\"D0D199E13AE128AB7AC86C1A29D48963_element_12359\")>,\n",
       " <selenium.webdriver.remote.webelement.WebElement (session=\"b3c0e53c73e77f490db35a5d4804eb44\", element=\"D0D199E13AE128AB7AC86C1A29D48963_element_12360\")>,\n",
       " <selenium.webdriver.remote.webelement.WebElement (session=\"b3c0e53c73e77f490db35a5d4804eb44\", element=\"D0D199E13AE128AB7AC86C1A29D48963_element_12361\")>,\n",
       " <selenium.webdriver.remote.webelement.WebElement (session=\"b3c0e53c73e77f490db35a5d4804eb44\", element=\"D0D199E13AE128AB7AC86C1A29D48963_element_12362\")>,\n",
       " <selenium.webdriver.remote.webelement.WebElement (session=\"b3c0e53c73e77f490db35a5d4804eb44\", element=\"D0D199E13AE128AB7AC86C1A29D48963_element_12363\")>,\n",
       " <selenium.webdriver.remote.webelement.WebElement (session=\"b3c0e53c73e77f490db35a5d4804eb44\", element=\"D0D199E13AE128AB7AC86C1A29D48963_element_12364\")>,\n",
       " <selenium.webdriver.remote.webelement.WebElement (session=\"b3c0e53c73e77f490db35a5d4804eb44\", element=\"D0D199E13AE128AB7AC86C1A29D48963_element_12365\")>,\n",
       " <selenium.webdriver.remote.webelement.WebElement (session=\"b3c0e53c73e77f490db35a5d4804eb44\", element=\"D0D199E13AE128AB7AC86C1A29D48963_element_12366\")>,\n",
       " <selenium.webdriver.remote.webelement.WebElement (session=\"b3c0e53c73e77f490db35a5d4804eb44\", element=\"D0D199E13AE128AB7AC86C1A29D48963_element_12367\")>,\n",
       " <selenium.webdriver.remote.webelement.WebElement (session=\"b3c0e53c73e77f490db35a5d4804eb44\", element=\"D0D199E13AE128AB7AC86C1A29D48963_element_12368\")>]"
      ]
     },
     "execution_count": 117,
     "metadata": {},
     "output_type": "execute_result"
    }
   ],
   "source": [
    "table = driver.find_elements(By.XPATH, tabla)\n",
    "table"
   ]
  },
  {
   "cell_type": "code",
   "execution_count": 118,
   "metadata": {},
   "outputs": [
    {
     "data": {
      "text/plain": [
       "62"
      ]
     },
     "execution_count": 118,
     "metadata": {},
     "output_type": "execute_result"
    }
   ],
   "source": [
    "len(table)"
   ]
  },
  {
   "cell_type": "code",
   "execution_count": 120,
   "metadata": {},
   "outputs": [
    {
     "data": {
      "text/plain": [
       "[<selenium.webdriver.remote.webelement.WebElement (session=\"b3c0e53c73e77f490db35a5d4804eb44\", element=\"D0D199E13AE128AB7AC86C1A29D48963_element_12371\")>,\n",
       " <selenium.webdriver.remote.webelement.WebElement (session=\"b3c0e53c73e77f490db35a5d4804eb44\", element=\"D0D199E13AE128AB7AC86C1A29D48963_element_12372\")>]"
      ]
     },
     "execution_count": 120,
     "metadata": {},
     "output_type": "execute_result"
    }
   ],
   "source": [
    "elements = driver.find_elements(By.XPATH, '//div[@class=\"search-result-content\"]')\n",
    "elements"
   ]
  },
  {
   "cell_type": "code",
   "execution_count": 129,
   "metadata": {},
   "outputs": [
    {
     "data": {
      "text/plain": [
       "'Rodrigo y Gabriela - In Between Thoughts...A New World Tour 2023\\n07/11/2023 ─ 09/11/20232 eventos\\n  desde 30,00 €\\nMostrar los 2 eventos\\nMadrid, mar. 07/11/2023, 21:00\\nRodrigo y Gabriela - In Between Thoughts...A New World Tour 2023\\n  Entradas\\nHard GZ: Tour 23/24\\n22/02/20241 Evento\\n desde 20,00 €\\nMostrar 1 Evento\\nMadrid, jue. 22/02/2024, 21:00\\nHard GZ: Tour 23/24\\n Entradas\\nAlice Phoebe Lou\\nCiclo Jaguar\\n29/11/20231 Evento\\n  desde 24,00 €\\nMostrar 1 Evento\\nMadrid, mié. 29/11/2023, 20:00\\nAlice Phoebe Lou\\n  Entradas\\nEl Conciertazo en Familia: Especial Navidad\\nConcierto guionizado en el que descubrir que la Música Clásica también puede ser divertida.\\n30/12/20231 Evento\\n desde 18,00 €\\nMostrar 1 Evento\\nMadrid, sáb. 30/12/2023, 12:00\\nEl Conciertazo en Familia: Especial Navidad\\n Entradas\\nSchumann y Brahms - Ensemble Praeteritum\\n16/11/20231 Evento\\n desde 12,00 €\\nMostrar 1 Evento\\nMadrid, jue. 16/11/2023, 20:00\\nSchumann y Brahms - Ensemble Praeteritum\\n Entradas\\nJaleos Jondos\\nJaleos Jondos no es un espectáculo más de flamenco. Rompedora, profunda y ecléctica, transformará la cultura madrileña y a aquellos que lo disfruten. ¡Compra tus entradas desde octubre a diciembre!\\n04/11/2023 ─ 10/12/202340 eventos\\n desde 32,50 €\\nMostrar los 40 eventos\\nMadrid, jue. 09/11/2023, 20:00\\nJaleos Jondos\\n Entradas\\nMadrid, vie. 10/11/2023, 19:00\\nJaleos Jondos\\n Entradas\\nAranlight Soul & Gospel - Jazz & the City\\n15/12/20231 Evento\\n desde 15,00 €\\nMostrar 1 Evento\\nMadrid, vie. 15/12/2023, 20:30\\nAranlight Soul & Gospel - Jazz & the City\\n Entradas\\nHomenaje a Pablo Milanés\\n\"El tiempo pasa, para vivir\"\\n24/03/20241 Evento\\n  desde 30,00 €\\nMostrar 1 Evento\\nMadrid, dom. 24/03/2024, 20:00\\nHomenaje a Pablo Milanés\\n  Entradas\\nFred de Palma\\n26/03/2024 ─ 27/03/20242 eventos\\n  desde 25,00 €\\nMostrar los 2 eventos\\nMadrid, mié. 27/03/2024, 21:00\\nFred de Palma\\n  Entradas\\nMomentos Alhambra: Rikas\\n14/12/20231 Evento\\n  desde 15,00 €\\nMostrar 1 Evento\\nMadrid, jue. 14/12/2023, 22:30\\nRikas\\n  Entradas\\nLo + actual\\n01/12/20231 Evento\\n desde 15,00 €\\nMostrar 1 Evento\\nMadrid, vie. 01/12/2023, 20:00\\nLo + actual\\n Entradas\\nMujer, inspiración y acción\\n19/11/20231 Evento\\n desde 4,17 €\\nMostrar 1 Evento\\nMadrid, dom. 19/11/2023, 12:00\\nMujer, inspiración y acción\\n Entradas\\nRolling Stones vs Beatles\\n17/11/20231 Evento\\n desde 15,00 €\\nMostrar 1 Evento\\nMadrid, vie. 17/11/2023, 20:00\\nRolling Stones vs Beatles\\n Entradas\\nLa Serva Padrona - Aranjuez\\n25/11/20231 Evento\\n desde 15,00 €\\nMostrar 1 Evento\\nMadrid, sáb. 25/11/2023, 20:00\\nLa Serva Padrona\\n Entradas\\nKaze - Gira 2024\\n21/04/20241 Evento\\nPromoción\\n  desde 22,00 €\\nMostrar 1 Evento\\nMadrid, dom. 21/04/2024, 21:00\\nKaze - Gira 2024\\n  Entradas\\nLuceral + Cherry Pie\\n08/11/20231 Evento\\n desde 15,00 €\\nMostrar 1 Evento\\nMadrid, mié. 08/11/2023, 23:59\\nLuceral + Cherry Pie\\n Entradas\\nThe Greatest Love Of All\\nBanco Mediolanum Summum Concert Series 2023\\n20/11/20231 Evento\\n  desde 25,00 €\\nMostrar 1 Evento\\nMadrid, lun. 20/11/2023, 20:30\\nThe Greatest Love Of All\\n  Entradas\\nDanza para Guitarra\\nEstévez/Paños y Compañlía\\n09/12/20231 Evento\\n desde 9,00 €\\nMostrar 1 Evento\\nMadrid, sáb. 09/12/2023, 19:00\\nDanza para Guitarra\\n Entradas\\nBlues & Roots\\nSilvia Marsó & Del Toro Blues Band\\n26/11/20231 Evento\\n desde 9,00 €\\nMostrar 1 Evento\\nMadrid, dom. 26/11/2023, 19:00\\nBlues & Roots\\n Entradas\\nInvisible Tattoo\\nSala Villanos\\n29/11/20231 Evento\\n  desde 18,00 €\\nMostrar 1 Evento\\nMadrid, mié. 29/11/2023, 21:00\\nInvisible Tattoo\\n  Entradas\\nRupatrupa\\n17/11/20231 Evento\\n desde 19,00 €\\nMostrar 1 Evento\\nMadrid, vie. 17/11/2023, 21:00\\nRupatrupa\\n Entradas\\nFootloosing\\nSala Villanos\\n11/11/20231 Evento\\n  desde 15,00 €\\nMostrar 1 Evento\\nMadrid, sáb. 11/11/2023, 23:59\\nFootloosing\\n  Entradas\\nLuna Ki\\n25/04/20241 Evento\\n  desde 18,00 €\\nMostrar 1 Evento\\nMadrid, jue. 25/04/2024, 21:00\\nLuna Ki\\n  Entradas\\nDiego Guerrero\\nSala Villanos\\n15/12/20231 Evento\\n  desde 18,00 €\\nMostrar 1 Evento\\nMadrid, vie. 15/12/2023, 22:30\\nDiego Guerrero\\n  Entradas\\nRhythm Of The Dance\\nBanco Mediolanum Summum Concert Series 2023\\n12/02/20241 Evento\\n  desde 18,00 €\\nMostrar 1 Evento\\nMadrid, lun. 12/02/2024, 20:30\\nRhythm Of The Dance\\n  Entradas\\nThe Music of Big Star + The Sadies\\n16/11/20231 Evento\\n desde 28,00 €\\nMostrar 1 Evento\\nMadrid, jue. 16/11/2023, 21:00\\nThe Music of Big Star + The Sadies\\n Entradas\\nEva Català Group\\n25/11/20231 Evento\\n desde 3,25 €\\nMostrar 1 Evento\\nMadrid, sáb. 25/11/2023, 20:00\\nEva Català Group\\n Entradas\\nAires de Persia\\nEnsambles Javid & Zarbang\\n13/11/20231 Evento\\nPromoción\\n desde 23,00 €\\nMostrar 1 Evento\\nMadrid, lun. 13/11/2023, 20:00\\n\"Aires de Persia\": Ensambles Javid & Zarbang\\n Entradas\\nImpulso presenta: Danilo Plessow (Motor City Drum Ensemble) + Javi Frias & Roberto Tempo\\nSala Villanos - Clubbing\\n10/11/20231 Evento\\n  desde 17,85 €\\nMostrar 1 Evento\\nMadrid, vie. 10/11/2023, 23:59\\nDanilo Plessow (Motor City Drum Ensemble) + Javi Frias & Roberto Tempo\\n  Entradas\\nFran Perea \"1 más 1 son 20\"\\nFran Perea celebra los 20 años de “Los Serrano” en una gira en la que repasa sus mayores éxitos junto a Víctor Elías.\\n23/02/20241 Evento\\n  desde 25,00 €\\nMostrar 1 Evento\\nMadrid, vie. 23/02/2024, 21:00\\nFran Perea \"1 más 1 son 20\"\\n  Entradas\\nRawayana - ¿Quien trae las cornetas?\\nTour 2024\\n07/04/2024 ─ 10/04/20243 eventos\\n  desde 35,00 €\\nMostrar los 3 eventos\\nMadrid, mié. 10/04/2024, 21:00\\nRawayana - ¿Quien trae las cornetas?\\n  Entradas\\nApartamentos Acapulco + Cora Yako\\n01/12/20231 Evento\\n desde 16,00 €\\nMostrar 1 Evento\\nMadrid, vie. 01/12/2023, 20:00\\nApartamentos Acapulco + Cora Yako\\n Entradas\\nGran Gala Flamenco - Madrid\\nExperimenta la pasión del flamenco en la Gran Gala Flamenco. Descubre el espectáculo en Madrid y ¡compra tus entradas!\\n24/12/2023 ─ 01/01/20242 eventos\\n desde 35,00 €\\nMostrar los 2 eventos\\nMadrid, dom. 24/12/2023, 18:00\\nGran Gala Flamenco\\n Entradas\\nMadrid, lun. 01/01/2024, 19:00\\nGran Gala Flamenco\\n Entradas\\nVibranDo\\n17/12/20231 Evento\\n desde 18,00 €\\nMostrar 1 Evento\\nMadrid, dom. 17/12/2023, 12:30\\nVibranDo\\n Entradas\\nThe Other Side - A Pink Floyd Live Experience\\n24/11/2023 ─ 17/12/20232 eventos\\n desde 28,00 €\\nMostrar los 2 eventos\\nMadrid, dom. 17/12/2023, 19:30\\nThe Other Side – A Pink Floyd Live Experience\\n Entradas\\nEl Negri \\'\\'Mi tiempo\\'\\'\\nEl Negri feat Kiki Morente + Niño Josele Alain Perez + Sandra Carrasco\\n11/11/20231 Evento\\n  desde 20,00 €\\nMostrar 1 Evento\\nMadrid, sáb. 11/11/2023, 22:30\\nEl Negri feat Kiki Morente + Niño Josele Alain Perez + Sandra Carrasco\\n  Entradas\\nMarc Seguí - \"AAAAAA Tour\"\\n20/04/20241 Evento\\n  desde 20,00 €\\nMostrar 1 Evento\\nMadrid, sáb. 20/04/2024, 21:00\\nMarc Seguí - \"AAAAAA Tour\"\\n  Entradas\\nGiant Sand\\nCiclo Jaguar\\n26/11/20231 Evento\\n desde 20,00 €\\nMostrar 1 Evento\\nMadrid, dom. 26/11/2023, 20:00\\nGiant Sand\\n Entradas\\nJosé María Vitier\\nSala Villanos\\n18/11/20231 Evento\\n  desde 12,00 €\\nMostrar 1 Evento\\nMadrid, sáb. 18/11/2023, 18:00\\nJosé María Vitier\\n  Entradas\\nPassword - Sara Sánchez - Aranjuez\\n08/12/20231 Evento\\n desde 16,00 €\\nMostrar 1 Evento\\nMadrid, vie. 08/12/2023, 20:00\\nPassword - Sara Sánchez\\n Entradas\\nVic Mirallas + invitados\\nSala Villanos - Presentación del disco.\\n29/02/20241 Evento\\n  desde 15,00 €\\nMostrar 1 Evento\\nMadrid, jue. 29/02/2024, 21:00\\nVic Mirallas + invitados\\n  Entradas\\nPaula Koops\\n25/02/20241 Evento\\n desde 20,00 €\\nMostrar 1 Evento\\nMadrid, dom. 25/02/2024, 20:00\\nPaula Koops\\n Entradas\\nFila 8: Clásicos del Cine Moderno - Jazz & the City\\n18/11/20231 Evento\\n desde 15,00 €\\nMostrar 1 Evento\\nMadrid, sáb. 18/11/2023, 20:00\\nFila 8: Clásicos del Cine Moderno - Jazz & the City\\n Entradas\\nTers - #LaFdeF\\n16/02/20241 Evento\\nPromoción\\n desde 22,00 €\\nMostrar 1 Evento\\nMadrid, vie. 16/02/2024, 21:00\\nTers - #LaFdeF\\n Entradas\\nDiscotizer Presenta - Cody Currie + Javi Frias\\nSala Villanos - Clubbing\\n18/11/20231 Evento\\n  desde 15,00 €\\nMostrar 1 Evento\\nMadrid, sáb. 18/11/2023, 23:59\\nDiscotizer Presenta - Cody Currie + Javi Frias\\n  Entradas\\nMomentos Alhambra: Mammal Hands\\n18/11/20231 Evento\\n  desde 27,00 €\\nMostrar 1 Evento\\nMadrid, sáb. 18/11/2023, 22:00\\nMammal Hands\\n  Entradas\\nLina\\nBanco Mediolanum Summum Concert Series 2023\\n12/03/20241 Evento\\n  desde 35,00 €\\nMostrar 1 Evento\\nMadrid, mar. 12/03/2024, 20:30\\nLina\\n  Entradas\\nLarkin Poe\\n08/11/20231 Evento\\n desde 25,00 €\\nMostrar 1 Evento\\nMadrid, mié. 08/11/2023, 20:00\\nLarkin Poe\\n Entradas\\nMomentos Alhambra: Sunny War\\nMomentos Alhambra\\n05/11/20231 Evento\\n  desde 16,50 €\\nMostrar 1 Evento\\nMadrid, dom. 05/11/2023, 20:30\\nSunny War\\n  Entradas\\nAlain Perez & La Orquestra\\nSala Villanos\\n23/12/20231 Evento\\n  desde 22,00 €\\nMostrar 1 Evento\\nMadrid, sáb. 23/12/2023, 23:00\\nAlain Perez & La Orquestra\\n  Entradas\\nParov Stelar - Theater Tour\\n25/04/2024 ─ 26/04/20242 eventos\\n  desde 40,00 €\\nMostrar los 2 eventos\\nMadrid, vie. 26/04/2024, 21:00\\nParov Stelar - Theater Tour\\n  Entradas\\nAtreyu\\n01/12/2023 ─ 02/12/20232 eventos\\n  desde 23,00 €\\nMostrar los 2 eventos\\nMadrid, vie. 01/12/2023, 21:00\\nAtreyu\\n  Entradas\\nNoche de Música Española\\n19/11/20231 Evento\\n desde 15,00 €\\nMostrar 1 Evento\\nMadrid, dom. 19/11/2023, 19:00\\nNoche de Música Española\\n Entradas\\nZetazen\\n26/11/20231 Evento\\n desde 22,00 €\\nMostrar 1 Evento\\nMadrid, dom. 26/11/2023, 19:30\\nZetazen\\n Entradas\\nHomenaje a Morricone, Zimmer, Williams, Hisaishi\\nROYAL FILM CONCERT ORCHESTRA\\n03/12/20231 Evento\\n desde 45,00 €\\nMostrar 1 Evento\\nMadrid, dom. 03/12/2023, 12:00\\nHomenaje a Morricone, Zimmer, Williams, Hisaishi\\n Entradas\\nEl Amor y la Muerte en la Ópera\\n04/11/20231 Evento\\n desde 35,00 €\\nMostrar 1 Evento\\nMadrid, sáb. 04/11/2023, 19:30\\nEl Amor y la Muerte en la Ópera\\n Entradas\\nRastro Live\\nSala Villanos - Evento Clubbing\\n04/11/20231 Evento\\n  desde 15,00 €\\nMostrar 1 Evento\\nMadrid, sáb. 04/11/2023, 23:59\\nRastro Live\\n  Entradas\\nMomentos Alhambra: Laura Misch\\n07/11/20231 Evento\\n  desde 18,00 €\\nMostrar 1 Evento\\nMadrid, mar. 07/11/2023, 22:00\\nLaura Misch\\n  Entradas\\nLa Movida Madrileña\\n24/11/20231 Evento\\n desde 15,00 €\\nMostrar 1 Evento\\nMadrid, vie. 24/11/2023, 20:00\\nLa Movida Madrileña\\n Entradas\\nGala de Zarzuela en Navidad\\nOrquesta Clásica Santa Cecilia.\\n17/12/20231 Evento\\n desde 39,00 €\\nMostrar 1 Evento\\nMadrid, dom. 17/12/2023, 12:00\\nGala de Zarzuela en Navidad. Orquesta Clásica Santa Cecilia\\n Entradas\\n15 Tangos de historia - La Porteña Tango - Madrid\\n11/12/20231 Evento\\n desde 20,00 €\\nMostrar 1 Evento\\nMadrid, lun. 11/12/2023, 20:30\\n15 Tangos de historia\\n Entradas\\nOneus\\n07/11/20231 Evento\\n  desde 55,00 €\\nMostrar 1 Evento\\nMadrid, mar. 07/11/2023, 21:00\\nOneus\\n  Entradas'"
      ]
     },
     "execution_count": 129,
     "metadata": {},
     "output_type": "execute_result"
    }
   ],
   "source": [
    "elements[1].text"
   ]
  },
  {
   "cell_type": "code",
   "execution_count": 131,
   "metadata": {},
   "outputs": [
    {
     "name": "stdout",
     "output_type": "stream",
     "text": [
      "[['Rodrigo y Gabriela - In Between Thoughts...A New World Tour 2023', 'Hard GZ: Tour 23/24', 'Alice Phoebe Lou', 'El Conciertazo en Familia: Especial Navidad', 'Schumann y Brahms - Ensemble Praeteritum', 'Jaleos Jondos', 'Aranlight Soul & Gospel - Jazz & the City', 'Homenaje a Pablo Milanés', 'Fred de Palma', 'Momentos Alhambra: Rikas', 'Lo + actual', 'Mujer, inspiración y acción', 'Rolling Stones vs Beatles', 'La Serva Padrona - Aranjuez', 'Kaze - Gira 2024', 'Luceral + Cherry Pie', 'The Greatest Love Of All', 'Danza para Guitarra', 'Blues & Roots', 'Invisible Tattoo', 'Rupatrupa', 'Footloosing', 'Luna Ki', 'Diego Guerrero', 'Rhythm Of The Dance', 'The Music of Big Star + The Sadies', 'Eva Català Group', 'Aires de Persia', 'Impulso presenta: Danilo Plessow (Motor City Drum Ensemble) + Javi Frias & Roberto Tempo', 'Fran Perea \"1 más 1 son 20\"', 'Rawayana - ¿Quien trae las cornetas?', 'Apartamentos Acapulco + Cora Yako', 'Gran Gala Flamenco - Madrid', 'VibranDo', 'The Other Side - A Pink Floyd Live Experience', \"El Negri ''Mi tiempo''\", 'Marc Seguí - \"AAAAAA Tour\"', 'Giant Sand', 'José María Vitier', 'Password - Sara Sánchez - Aranjuez', 'Vic Mirallas + invitados', 'Paula Koops', 'Fila 8: Clásicos del Cine Moderno - Jazz & the City', 'Ters - #LaFdeF', 'Discotizer Presenta - Cody Currie + Javi Frias', 'Momentos Alhambra: Mammal Hands', 'Lina', 'Larkin Poe', 'Momentos Alhambra: Sunny War', 'Alain Perez & La Orquestra', 'Parov Stelar - Theater Tour', 'Atreyu', 'Noche de Música Española', 'Zetazen', 'Homenaje a Morricone, Zimmer, Williams, Hisaishi', 'El Amor y la Muerte en la Ópera', 'Rastro Live', 'Momentos Alhambra: Laura Misch', 'La Movida Madrileña', 'Gala de Zarzuela en Navidad', '15 Tangos de historia - La Porteña Tango - Madrid', 'Oneus'], ['07/11/2023 ─ 09/11/2023', '2 eventos', '22/02/2024', '1 Evento', '29/11/2023', '1 Evento', '30/12/2023', '1 Evento', '16/11/2023', '1 Evento', '04/11/2023 ─ 10/12/2023', '40 eventos', '15/12/2023', '1 Evento', '24/03/2024', '1 Evento', '26/03/2024 ─ 27/03/2024', '2 eventos', '14/12/2023', '1 Evento', '01/12/2023', '1 Evento', '19/11/2023', '1 Evento', '17/11/2023', '1 Evento', '25/11/2023', '1 Evento', '21/04/2024', '1 Evento', '08/11/2023', '1 Evento', '20/11/2023', '1 Evento', '09/12/2023', '1 Evento', '26/11/2023', '1 Evento', '29/11/2023', '1 Evento', '17/11/2023', '1 Evento', '11/11/2023', '1 Evento', '25/04/2024', '1 Evento', '15/12/2023', '1 Evento', '12/02/2024', '1 Evento', '16/11/2023', '1 Evento', '25/11/2023', '1 Evento', '13/11/2023', '1 Evento', '10/11/2023', '1 Evento', '23/02/2024', '1 Evento', '07/04/2024 ─ 10/04/2024', '3 eventos', '01/12/2023', '1 Evento', '24/12/2023 ─ 01/01/2024', '2 eventos', '17/12/2023', '1 Evento', '24/11/2023 ─ 17/12/2023', '2 eventos', '11/11/2023', '1 Evento', '20/04/2024', '1 Evento', '26/11/2023', '1 Evento', '18/11/2023', '1 Evento', '08/12/2023', '1 Evento', '29/02/2024', '1 Evento', '25/02/2024', '1 Evento', '18/11/2023', '1 Evento', '16/02/2024', '1 Evento', '18/11/2023', '1 Evento', '18/11/2023', '1 Evento', '12/03/2024', '1 Evento', '08/11/2023', '1 Evento', '05/11/2023', '1 Evento', '23/12/2023', '1 Evento', '25/04/2024 ─ 26/04/2024', '2 eventos', '01/12/2023 ─ 02/12/2023', '2 eventos', '19/11/2023', '1 Evento', '26/11/2023', '1 Evento', '03/12/2023', '1 Evento', '04/11/2023', '1 Evento', '04/11/2023', '1 Evento', '07/11/2023', '1 Evento', '24/11/2023', '1 Evento', '17/12/2023', '1 Evento', '11/12/2023', '1 Evento', '07/11/2023', '1 Evento'], ['desde 30,00 €', 'desde 20,00 €', 'desde 24,00 €', 'desde 18,00 €', 'desde 12,00 €', 'desde 32,50 €', 'desde 15,00 €', 'desde 30,00 €', 'desde 25,00 €', 'desde 15,00 €', 'desde 15,00 €', 'desde 4,17 €', 'desde 15,00 €', 'desde 15,00 €', 'desde 22,00 €', 'desde 15,00 €', 'desde 25,00 €', 'desde 9,00 €', 'desde 9,00 €', 'desde 18,00 €', 'desde 19,00 €', 'desde 15,00 €', 'desde 18,00 €', 'desde 18,00 €', 'desde 18,00 €', 'desde 28,00 €', 'desde 3,25 €', 'desde 23,00 €', 'desde 17,85 €', 'desde 25,00 €', 'desde 35,00 €', 'desde 16,00 €', 'desde 35,00 €', 'desde 18,00 €', 'desde 28,00 €', 'desde 20,00 €', 'desde 20,00 €', 'desde 20,00 €', 'desde 12,00 €', 'desde 16,00 €', 'desde 15,00 €', 'desde 20,00 €', 'desde 15,00 €', 'desde 22,00 €', 'desde 15,00 €', 'desde 27,00 €', 'desde 35,00 €', 'desde 25,00 €', 'desde 16,50 €', 'desde 22,00 €', 'desde 40,00 €', 'desde 23,00 €', 'desde 15,00 €', 'desde 22,00 €', 'desde 45,00 €', 'desde 35,00 €', 'desde 15,00 €', 'desde 18,00 €', 'desde 15,00 €', 'desde 39,00 €', 'desde 20,00 €', 'desde 55,00 €'], ['https://www.entradas.com/artist/rodrigo-y-gabriela/', 'https://www.entradas.com/artist/hard-gz/', 'https://www.entradas.com/artist/ciclo-jaguar/alice-phoebe-lou-3424897/', 'https://www.entradas.com/artist/el-conciertazo-en-familia-especial-navidad/', 'https://www.entradas.com/artist/ensemble-praeteritum/', 'https://www.entradas.com/artist/jaleos-jondos/', 'https://www.entradas.com/artist/aranlight/', 'https://www.entradas.com/artist/homenaje-a-pablo-milanes/', 'https://www.entradas.com/artist/fred-de-palma/', 'https://www.entradas.com/artist/momentos-alhambra/momentos-alhambra-rikas-3432438/', 'https://www.entradas.com/artist/conciertos-pluslive/lo-actual-3504780/', 'https://www.entradas.com/artist/mujer-inspiracion-y-accion/', 'https://www.entradas.com/artist/conciertos-pluslive/rolling-stones-vs-beatles-3504917/', 'https://www.entradas.com/artist/la-serva-padrona-orquesta-martin-i-soler/', 'https://www.entradas.com/artist/kaze/', 'https://www.entradas.com/artist/clubbing/luceral-cherry-pie-3523497/', 'https://www.entradas.com/artist/the-greatest-love-of-all/the-greatest-love-of-all-3418160/', 'https://www.entradas.com/artist/danza-para-guitarra/', 'https://www.entradas.com/artist/blues-roots/', 'https://www.entradas.com/artist/invisible-tatoo/', 'https://www.entradas.com/artist/rupatrupa/', 'https://www.entradas.com/artist/footlosing/', 'https://www.entradas.com/artist/luna-ki/', 'https://www.entradas.com/artist/diego-guerrero/', 'https://www.entradas.com/artist/rhythm-of-the-dance/', 'https://www.entradas.com/artist/big-star/', 'https://www.entradas.com/artist/eva-catala-group/', 'https://www.entradas.com/artist/aires-de-persia-ensambles-javid-zarbang/', 'https://www.entradas.com/artist/danilo-plessow-motor-city-drum-ensemble/', 'https://www.entradas.com/artist/fran-perea/', 'https://www.entradas.com/artist/rawayana/', 'https://www.entradas.com/artist/ciclo-jaguar/apartamentos-acapulco-cora-yako-3477085/', 'https://www.entradas.com/artist/gran-gala-flamenco/gran-gala-flamenco-madrid-3139712/', 'https://www.entradas.com/artist/vibrando/', 'https://www.entradas.com/artist/the-other-side/', 'https://www.entradas.com/artist/el-negri/', 'https://www.entradas.com/artist/marc-segui/marc-segui-aaaaaa-tour-3364225/', 'https://www.entradas.com/artist/ciclo-jaguar/giant-sand-3477104/', 'https://www.entradas.com/artist/jose-maria-vitier/', 'https://www.entradas.com/artist/sara-sanchez/', 'https://www.entradas.com/artist/vic-mirallas/', 'https://www.entradas.com/artist/paula-koops/', 'https://www.entradas.com/artist/fila-8-clasicos-del-cine-moderno/', 'https://www.entradas.com/artist/ters/', 'https://www.entradas.com/artist/clubbing/discotizer-presenta-cody-currie-javi-frias-3518486/', 'https://www.entradas.com/artist/momentos-alhambra/momentos-alhambra-mammal-hands-3432432/', 'https://www.entradas.com/artist/lina/', 'https://www.entradas.com/artist/larkin-poe/', 'https://www.entradas.com/artist/momentos-alhambra/momentos-alhambra-sunny-war-3432421/', 'https://www.entradas.com/artist/alain-perez-la-orquestra/', 'https://www.entradas.com/artist/parov-stelar/', 'https://www.entradas.com/artist/atreyu/', 'https://www.entradas.com/artist/noche-de-musica-espanola/', 'https://www.entradas.com/artist/zetazen/', 'https://www.entradas.com/artist/homenaje-a-morriconezimmerwilliamshisaishi/', 'https://www.entradas.com/artist/el-amor-y-la-muerte-en-la-opera/', 'https://www.entradas.com/artist/clubbing/rastro-live-3516317/', 'https://www.entradas.com/artist/momentos-alhambra/momentos-alhambra-laura-misch-3432431/', 'https://www.entradas.com/artist/conciertos-pluslive/la-movida-madrilena-3504781/', 'https://www.entradas.com/artist/gala-de-zarzuela-en-navidad/', 'https://www.entradas.com/artist/la-portena-tango/15-tangos-de-historia-la-portena-tango-madrid-3503920/', 'https://www.entradas.com/artist/oneus/']]\n",
      "[['Rodrigo y Gabriela - In Between Thoughts...A New World Tour 2023', 'Hard GZ: Tour 23/24', 'Alice Phoebe Lou', 'El Conciertazo en Familia: Especial Navidad', 'Schumann y Brahms - Ensemble Praeteritum', 'Jaleos Jondos', 'Aranlight Soul & Gospel - Jazz & the City', 'Homenaje a Pablo Milanés', 'Fred de Palma', 'Momentos Alhambra: Rikas', 'Lo + actual', 'Mujer, inspiración y acción', 'Rolling Stones vs Beatles', 'La Serva Padrona - Aranjuez', 'Kaze - Gira 2024', 'Luceral + Cherry Pie', 'The Greatest Love Of All', 'Danza para Guitarra', 'Blues & Roots', 'Invisible Tattoo', 'Rupatrupa', 'Footloosing', 'Luna Ki', 'Diego Guerrero', 'Rhythm Of The Dance', 'The Music of Big Star + The Sadies', 'Eva Català Group', 'Aires de Persia', 'Impulso presenta: Danilo Plessow (Motor City Drum Ensemble) + Javi Frias & Roberto Tempo', 'Fran Perea \"1 más 1 son 20\"', 'Rawayana - ¿Quien trae las cornetas?', 'Apartamentos Acapulco + Cora Yako', 'Gran Gala Flamenco - Madrid', 'VibranDo', 'The Other Side - A Pink Floyd Live Experience', \"El Negri ''Mi tiempo''\", 'Marc Seguí - \"AAAAAA Tour\"', 'Giant Sand', 'José María Vitier', 'Password - Sara Sánchez - Aranjuez', 'Vic Mirallas + invitados', 'Paula Koops', 'Fila 8: Clásicos del Cine Moderno - Jazz & the City', 'Ters - #LaFdeF', 'Discotizer Presenta - Cody Currie + Javi Frias', 'Momentos Alhambra: Mammal Hands', 'Lina', 'Larkin Poe', 'Momentos Alhambra: Sunny War', 'Alain Perez & La Orquestra', 'Parov Stelar - Theater Tour', 'Atreyu', 'Noche de Música Española', 'Zetazen', 'Homenaje a Morricone, Zimmer, Williams, Hisaishi', 'El Amor y la Muerte en la Ópera', 'Rastro Live', 'Momentos Alhambra: Laura Misch', 'La Movida Madrileña', 'Gala de Zarzuela en Navidad', '15 Tangos de historia - La Porteña Tango - Madrid', 'Oneus'], ['07/11/2023 ─ 09/11/2023', '2 eventos', '22/02/2024', '1 Evento', '29/11/2023', '1 Evento', '30/12/2023', '1 Evento', '16/11/2023', '1 Evento', '04/11/2023 ─ 10/12/2023', '40 eventos', '15/12/2023', '1 Evento', '24/03/2024', '1 Evento', '26/03/2024 ─ 27/03/2024', '2 eventos', '14/12/2023', '1 Evento', '01/12/2023', '1 Evento', '19/11/2023', '1 Evento', '17/11/2023', '1 Evento', '25/11/2023', '1 Evento', '21/04/2024', '1 Evento', '08/11/2023', '1 Evento', '20/11/2023', '1 Evento', '09/12/2023', '1 Evento', '26/11/2023', '1 Evento', '29/11/2023', '1 Evento', '17/11/2023', '1 Evento', '11/11/2023', '1 Evento', '25/04/2024', '1 Evento', '15/12/2023', '1 Evento', '12/02/2024', '1 Evento', '16/11/2023', '1 Evento', '25/11/2023', '1 Evento', '13/11/2023', '1 Evento', '10/11/2023', '1 Evento', '23/02/2024', '1 Evento', '07/04/2024 ─ 10/04/2024', '3 eventos', '01/12/2023', '1 Evento', '24/12/2023 ─ 01/01/2024', '2 eventos', '17/12/2023', '1 Evento', '24/11/2023 ─ 17/12/2023', '2 eventos', '11/11/2023', '1 Evento', '20/04/2024', '1 Evento', '26/11/2023', '1 Evento', '18/11/2023', '1 Evento', '08/12/2023', '1 Evento', '29/02/2024', '1 Evento', '25/02/2024', '1 Evento', '18/11/2023', '1 Evento', '16/02/2024', '1 Evento', '18/11/2023', '1 Evento', '18/11/2023', '1 Evento', '12/03/2024', '1 Evento', '08/11/2023', '1 Evento', '05/11/2023', '1 Evento', '23/12/2023', '1 Evento', '25/04/2024 ─ 26/04/2024', '2 eventos', '01/12/2023 ─ 02/12/2023', '2 eventos', '19/11/2023', '1 Evento', '26/11/2023', '1 Evento', '03/12/2023', '1 Evento', '04/11/2023', '1 Evento', '04/11/2023', '1 Evento', '07/11/2023', '1 Evento', '24/11/2023', '1 Evento', '17/12/2023', '1 Evento', '11/12/2023', '1 Evento', '07/11/2023', '1 Evento'], ['desde 30,00 €', 'desde 20,00 €', 'desde 24,00 €', 'desde 18,00 €', 'desde 12,00 €', 'desde 32,50 €', 'desde 15,00 €', 'desde 30,00 €', 'desde 25,00 €', 'desde 15,00 €', 'desde 15,00 €', 'desde 4,17 €', 'desde 15,00 €', 'desde 15,00 €', 'desde 22,00 €', 'desde 15,00 €', 'desde 25,00 €', 'desde 9,00 €', 'desde 9,00 €', 'desde 18,00 €', 'desde 19,00 €', 'desde 15,00 €', 'desde 18,00 €', 'desde 18,00 €', 'desde 18,00 €', 'desde 28,00 €', 'desde 3,25 €', 'desde 23,00 €', 'desde 17,85 €', 'desde 25,00 €', 'desde 35,00 €', 'desde 16,00 €', 'desde 35,00 €', 'desde 18,00 €', 'desde 28,00 €', 'desde 20,00 €', 'desde 20,00 €', 'desde 20,00 €', 'desde 12,00 €', 'desde 16,00 €', 'desde 15,00 €', 'desde 20,00 €', 'desde 15,00 €', 'desde 22,00 €', 'desde 15,00 €', 'desde 27,00 €', 'desde 35,00 €', 'desde 25,00 €', 'desde 16,50 €', 'desde 22,00 €', 'desde 40,00 €', 'desde 23,00 €', 'desde 15,00 €', 'desde 22,00 €', 'desde 45,00 €', 'desde 35,00 €', 'desde 15,00 €', 'desde 18,00 €', 'desde 15,00 €', 'desde 39,00 €', 'desde 20,00 €', 'desde 55,00 €'], ['https://www.entradas.com/artist/rodrigo-y-gabriela/', 'https://www.entradas.com/artist/hard-gz/', 'https://www.entradas.com/artist/ciclo-jaguar/alice-phoebe-lou-3424897/', 'https://www.entradas.com/artist/el-conciertazo-en-familia-especial-navidad/', 'https://www.entradas.com/artist/ensemble-praeteritum/', 'https://www.entradas.com/artist/jaleos-jondos/', 'https://www.entradas.com/artist/aranlight/', 'https://www.entradas.com/artist/homenaje-a-pablo-milanes/', 'https://www.entradas.com/artist/fred-de-palma/', 'https://www.entradas.com/artist/momentos-alhambra/momentos-alhambra-rikas-3432438/', 'https://www.entradas.com/artist/conciertos-pluslive/lo-actual-3504780/', 'https://www.entradas.com/artist/mujer-inspiracion-y-accion/', 'https://www.entradas.com/artist/conciertos-pluslive/rolling-stones-vs-beatles-3504917/', 'https://www.entradas.com/artist/la-serva-padrona-orquesta-martin-i-soler/', 'https://www.entradas.com/artist/kaze/', 'https://www.entradas.com/artist/clubbing/luceral-cherry-pie-3523497/', 'https://www.entradas.com/artist/the-greatest-love-of-all/the-greatest-love-of-all-3418160/', 'https://www.entradas.com/artist/danza-para-guitarra/', 'https://www.entradas.com/artist/blues-roots/', 'https://www.entradas.com/artist/invisible-tatoo/', 'https://www.entradas.com/artist/rupatrupa/', 'https://www.entradas.com/artist/footlosing/', 'https://www.entradas.com/artist/luna-ki/', 'https://www.entradas.com/artist/diego-guerrero/', 'https://www.entradas.com/artist/rhythm-of-the-dance/', 'https://www.entradas.com/artist/big-star/', 'https://www.entradas.com/artist/eva-catala-group/', 'https://www.entradas.com/artist/aires-de-persia-ensambles-javid-zarbang/', 'https://www.entradas.com/artist/danilo-plessow-motor-city-drum-ensemble/', 'https://www.entradas.com/artist/fran-perea/', 'https://www.entradas.com/artist/rawayana/', 'https://www.entradas.com/artist/ciclo-jaguar/apartamentos-acapulco-cora-yako-3477085/', 'https://www.entradas.com/artist/gran-gala-flamenco/gran-gala-flamenco-madrid-3139712/', 'https://www.entradas.com/artist/vibrando/', 'https://www.entradas.com/artist/the-other-side/', 'https://www.entradas.com/artist/el-negri/', 'https://www.entradas.com/artist/marc-segui/marc-segui-aaaaaa-tour-3364225/', 'https://www.entradas.com/artist/ciclo-jaguar/giant-sand-3477104/', 'https://www.entradas.com/artist/jose-maria-vitier/', 'https://www.entradas.com/artist/sara-sanchez/', 'https://www.entradas.com/artist/vic-mirallas/', 'https://www.entradas.com/artist/paula-koops/', 'https://www.entradas.com/artist/fila-8-clasicos-del-cine-moderno/', 'https://www.entradas.com/artist/ters/', 'https://www.entradas.com/artist/clubbing/discotizer-presenta-cody-currie-javi-frias-3518486/', 'https://www.entradas.com/artist/momentos-alhambra/momentos-alhambra-mammal-hands-3432432/', 'https://www.entradas.com/artist/lina/', 'https://www.entradas.com/artist/larkin-poe/', 'https://www.entradas.com/artist/momentos-alhambra/momentos-alhambra-sunny-war-3432421/', 'https://www.entradas.com/artist/alain-perez-la-orquestra/', 'https://www.entradas.com/artist/parov-stelar/', 'https://www.entradas.com/artist/atreyu/', 'https://www.entradas.com/artist/noche-de-musica-espanola/', 'https://www.entradas.com/artist/zetazen/', 'https://www.entradas.com/artist/homenaje-a-morriconezimmerwilliamshisaishi/', 'https://www.entradas.com/artist/el-amor-y-la-muerte-en-la-opera/', 'https://www.entradas.com/artist/clubbing/rastro-live-3516317/', 'https://www.entradas.com/artist/momentos-alhambra/momentos-alhambra-laura-misch-3432431/', 'https://www.entradas.com/artist/conciertos-pluslive/la-movida-madrilena-3504781/', 'https://www.entradas.com/artist/gala-de-zarzuela-en-navidad/', 'https://www.entradas.com/artist/la-portena-tango/15-tangos-de-historia-la-portena-tango-madrid-3503920/', 'https://www.entradas.com/artist/oneus/']]\n"
     ]
    }
   ],
   "source": [
    "data = []\n",
    "\n",
    "for element in elements:\n",
    "    artist_name = element.find_elements(By.XPATH, '//div[@class=\"event-listing-city theme-text-color\"]')\n",
    "    astists = [artist.text for artist in artist_name]\n",
    "    date_elements = element.find_elements(By.XPATH, '//div//span[@class=\"listing-data theme-text-color\"]//span')\n",
    "    dates = [date.text for date in date_elements]\n",
    "    price = element.find_elements(By.XPATH, '//div/listing-cta/event-status/div/span/span')\n",
    "    precios = [precio.text for precio in price]\n",
    "    enlace = element.find_elements(By.XPATH, '//*[@class = \"btn theme-button-radius btn-sm btn-block btn-primary theme-interaction-btn-bg theme-btn-font-color theme-btn-font-color-hover\"]')\n",
    "    enlaces = [enl.get_attribute('href') for enl in enlace]\n",
    "\n",
    "    data.append([astists, dates, precios, enlaces])\n",
    "\n",
    "for entry in data:\n",
    "    print(entry)"
   ]
  },
  {
   "cell_type": "code",
   "execution_count": 132,
   "metadata": {},
   "outputs": [
    {
     "ename": "ValueError",
     "evalue": "All arrays must be of the same length",
     "output_type": "error",
     "traceback": [
      "\u001b[0;31m---------------------------------------------------------------------------\u001b[0m",
      "\u001b[0;31mValueError\u001b[0m                                Traceback (most recent call last)",
      "\u001b[1;32m/Users/sarapazopadron/BOOTCAMP/Proyectos/ProyectoETL/Notebooks/Entradas_main.ipynb Celda 40\u001b[0m line \u001b[0;36m1\n\u001b[0;32m----> <a href='vscode-notebook-cell:/Users/sarapazopadron/BOOTCAMP/Proyectos/ProyectoETL/Notebooks/Entradas_main.ipynb#Y153sZmlsZQ%3D%3D?line=0'>1</a>\u001b[0m datos_2 \u001b[39m=\u001b[39m pd\u001b[39m.\u001b[39;49mDataFrame({\u001b[39m'\u001b[39;49m\u001b[39martista\u001b[39;49m\u001b[39m'\u001b[39;49m: artistas, \u001b[39m'\u001b[39;49m\u001b[39mfechas\u001b[39;49m\u001b[39m'\u001b[39;49m: fechas, \u001b[39m'\u001b[39;49m\u001b[39meventos\u001b[39;49m\u001b[39m'\u001b[39;49m: num_eventos, \u001b[39m'\u001b[39;49m\u001b[39mprecios\u001b[39;49m\u001b[39m'\u001b[39;49m: precios, \u001b[39m'\u001b[39;49m\u001b[39menlaces\u001b[39;49m\u001b[39m'\u001b[39;49m: enlaces})\n\u001b[1;32m      <a href='vscode-notebook-cell:/Users/sarapazopadron/BOOTCAMP/Proyectos/ProyectoETL/Notebooks/Entradas_main.ipynb#Y153sZmlsZQ%3D%3D?line=2'>3</a>\u001b[0m datos_2\n",
      "File \u001b[0;32m~/anaconda3/envs/clase/lib/python3.10/site-packages/pandas/core/frame.py:736\u001b[0m, in \u001b[0;36mDataFrame.__init__\u001b[0;34m(self, data, index, columns, dtype, copy)\u001b[0m\n\u001b[1;32m    730\u001b[0m     mgr \u001b[39m=\u001b[39m \u001b[39mself\u001b[39m\u001b[39m.\u001b[39m_init_mgr(\n\u001b[1;32m    731\u001b[0m         data, axes\u001b[39m=\u001b[39m{\u001b[39m\"\u001b[39m\u001b[39mindex\u001b[39m\u001b[39m\"\u001b[39m: index, \u001b[39m\"\u001b[39m\u001b[39mcolumns\u001b[39m\u001b[39m\"\u001b[39m: columns}, dtype\u001b[39m=\u001b[39mdtype, copy\u001b[39m=\u001b[39mcopy\n\u001b[1;32m    732\u001b[0m     )\n\u001b[1;32m    734\u001b[0m \u001b[39melif\u001b[39;00m \u001b[39misinstance\u001b[39m(data, \u001b[39mdict\u001b[39m):\n\u001b[1;32m    735\u001b[0m     \u001b[39m# GH#38939 de facto copy defaults to False only in non-dict cases\u001b[39;00m\n\u001b[0;32m--> 736\u001b[0m     mgr \u001b[39m=\u001b[39m dict_to_mgr(data, index, columns, dtype\u001b[39m=\u001b[39;49mdtype, copy\u001b[39m=\u001b[39;49mcopy, typ\u001b[39m=\u001b[39;49mmanager)\n\u001b[1;32m    737\u001b[0m \u001b[39melif\u001b[39;00m \u001b[39misinstance\u001b[39m(data, ma\u001b[39m.\u001b[39mMaskedArray):\n\u001b[1;32m    738\u001b[0m     \u001b[39mfrom\u001b[39;00m \u001b[39mnumpy\u001b[39;00m\u001b[39m.\u001b[39;00m\u001b[39mma\u001b[39;00m \u001b[39mimport\u001b[39;00m mrecords\n",
      "File \u001b[0;32m~/anaconda3/envs/clase/lib/python3.10/site-packages/pandas/core/internals/construction.py:503\u001b[0m, in \u001b[0;36mdict_to_mgr\u001b[0;34m(data, index, columns, dtype, typ, copy)\u001b[0m\n\u001b[1;32m    499\u001b[0m     \u001b[39melse\u001b[39;00m:\n\u001b[1;32m    500\u001b[0m         \u001b[39m# dtype check to exclude e.g. range objects, scalars\u001b[39;00m\n\u001b[1;32m    501\u001b[0m         arrays \u001b[39m=\u001b[39m [x\u001b[39m.\u001b[39mcopy() \u001b[39mif\u001b[39;00m \u001b[39mhasattr\u001b[39m(x, \u001b[39m\"\u001b[39m\u001b[39mdtype\u001b[39m\u001b[39m\"\u001b[39m) \u001b[39melse\u001b[39;00m x \u001b[39mfor\u001b[39;00m x \u001b[39min\u001b[39;00m arrays]\n\u001b[0;32m--> 503\u001b[0m \u001b[39mreturn\u001b[39;00m arrays_to_mgr(arrays, columns, index, dtype\u001b[39m=\u001b[39;49mdtype, typ\u001b[39m=\u001b[39;49mtyp, consolidate\u001b[39m=\u001b[39;49mcopy)\n",
      "File \u001b[0;32m~/anaconda3/envs/clase/lib/python3.10/site-packages/pandas/core/internals/construction.py:114\u001b[0m, in \u001b[0;36marrays_to_mgr\u001b[0;34m(arrays, columns, index, dtype, verify_integrity, typ, consolidate)\u001b[0m\n\u001b[1;32m    111\u001b[0m \u001b[39mif\u001b[39;00m verify_integrity:\n\u001b[1;32m    112\u001b[0m     \u001b[39m# figure out the index, if necessary\u001b[39;00m\n\u001b[1;32m    113\u001b[0m     \u001b[39mif\u001b[39;00m index \u001b[39mis\u001b[39;00m \u001b[39mNone\u001b[39;00m:\n\u001b[0;32m--> 114\u001b[0m         index \u001b[39m=\u001b[39m _extract_index(arrays)\n\u001b[1;32m    115\u001b[0m     \u001b[39melse\u001b[39;00m:\n\u001b[1;32m    116\u001b[0m         index \u001b[39m=\u001b[39m ensure_index(index)\n",
      "File \u001b[0;32m~/anaconda3/envs/clase/lib/python3.10/site-packages/pandas/core/internals/construction.py:677\u001b[0m, in \u001b[0;36m_extract_index\u001b[0;34m(data)\u001b[0m\n\u001b[1;32m    675\u001b[0m lengths \u001b[39m=\u001b[39m \u001b[39mlist\u001b[39m(\u001b[39mset\u001b[39m(raw_lengths))\n\u001b[1;32m    676\u001b[0m \u001b[39mif\u001b[39;00m \u001b[39mlen\u001b[39m(lengths) \u001b[39m>\u001b[39m \u001b[39m1\u001b[39m:\n\u001b[0;32m--> 677\u001b[0m     \u001b[39mraise\u001b[39;00m \u001b[39mValueError\u001b[39;00m(\u001b[39m\"\u001b[39m\u001b[39mAll arrays must be of the same length\u001b[39m\u001b[39m\"\u001b[39m)\n\u001b[1;32m    679\u001b[0m \u001b[39mif\u001b[39;00m have_dicts:\n\u001b[1;32m    680\u001b[0m     \u001b[39mraise\u001b[39;00m \u001b[39mValueError\u001b[39;00m(\n\u001b[1;32m    681\u001b[0m         \u001b[39m\"\u001b[39m\u001b[39mMixing dicts with non-Series may lead to ambiguous ordering.\u001b[39m\u001b[39m\"\u001b[39m\n\u001b[1;32m    682\u001b[0m     )\n",
      "\u001b[0;31mValueError\u001b[0m: All arrays must be of the same length"
     ]
    }
   ],
   "source": [
    "datos_2 = pd.DataFrame({'artista': artistas, 'fechas': fechas, 'eventos': num_eventos, 'precios': precios, 'enlaces': enlaces})\n",
    "\n",
    "datos_2"
   ]
  },
  {
   "cell_type": "code",
   "execution_count": 126,
   "metadata": {},
   "outputs": [
    {
     "data": {
      "text/plain": [
       "20"
      ]
     },
     "execution_count": 126,
     "metadata": {},
     "output_type": "execute_result"
    }
   ],
   "source": [
    "len(fechas)"
   ]
  },
  {
   "cell_type": "code",
   "execution_count": null,
   "metadata": {},
   "outputs": [],
   "source": []
  }
 ],
 "metadata": {
  "kernelspec": {
   "display_name": "clase",
   "language": "python",
   "name": "python3"
  },
  "language_info": {
   "codemirror_mode": {
    "name": "ipython",
    "version": 3
   },
   "file_extension": ".py",
   "mimetype": "text/x-python",
   "name": "python",
   "nbconvert_exporter": "python",
   "pygments_lexer": "ipython3",
   "version": "3.10.13"
  }
 },
 "nbformat": 4,
 "nbformat_minor": 2
}
