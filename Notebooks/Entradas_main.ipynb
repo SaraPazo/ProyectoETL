{
 "cells": [
  {
   "cell_type": "code",
   "execution_count": 1,
   "metadata": {},
   "outputs": [],
   "source": [
    "import pandas as pd\n",
    "import numpy as np\n",
    "from selenium.webdriver.chrome.options import Options\n",
    "from webdriver_manager.chrome import ChromeDriverManager\n",
    "\n",
    "from selenium import webdriver # driver de selenium\n",
    "\n",
    "import time   # para manejar tiempo"
   ]
  },
  {
   "cell_type": "code",
   "execution_count": 2,
   "metadata": {},
   "outputs": [],
   "source": [
    "from selenium.webdriver.chrome.options import Options   # opciones del driver\n",
    "\n",
    "from selenium.webdriver.common.by import By   # para buscar segun tag, id, class, etc...\n",
    "\n",
    "from selenium.webdriver.support.ui import WebDriverWait   # es para esperar\n",
    "\n",
    "from selenium.webdriver.support import expected_conditions as EC  # condiciones esperadas...\n",
    "\n",
    "from selenium.webdriver import ActionChains as AC   # acciones encadenadas, rollo doble click\n",
    "\n",
    "from selenium.webdriver.common.keys import Keys  # manejar teclas"
   ]
  },
  {
   "cell_type": "code",
   "execution_count": 3,
   "metadata": {},
   "outputs": [],
   "source": [
    "#driver configuration\n",
    "opciones=Options()\n",
    "\n",
    "opciones.add_experimental_option('excludeSwitches', ['enable-automation'])\n",
    "opciones.add_experimental_option('useAutomationExtension', False)\n",
    "opciones.headless=False    # si True, no aperece la ventana (headless=no visible)\n",
    "opciones.add_argument('--start-maximized')         # comienza maximizado\n",
    "#opciones.add_argument('user-data-dir=selenium')    # mantiene las cookies\n",
    "#opciones.add_extension('driver_folder/adblock.crx')       # adblocker\n",
    "opciones.add_argument('--incognito')"
   ]
  },
  {
   "cell_type": "code",
   "execution_count": 4,
   "metadata": {},
   "outputs": [],
   "source": [
    "PATH = 'driver/chromedriver'\n",
    "\n",
    "driver = webdriver.Chrome()   # abre una ventana de chrome \n",
    "                                # una vez que he abierto una ventana, puedo trabajar siempre sobre esta misma."
   ]
  },
  {
   "cell_type": "code",
   "execution_count": 5,
   "metadata": {},
   "outputs": [],
   "source": [
    "url = 'https://www.entradas.com/city/madrid-370/conciertos-y-festivales-85/'\n",
    "\n",
    "driver.get(url)"
   ]
  },
  {
   "cell_type": "code",
   "execution_count": 6,
   "metadata": {},
   "outputs": [],
   "source": [
    "div_shadow = driver.find_element(By.XPATH, '//div[@class=\"cmpwrapper\"]')"
   ]
  },
  {
   "cell_type": "code",
   "execution_count": 7,
   "metadata": {},
   "outputs": [
    {
     "name": "stdout",
     "output_type": "stream",
     "text": [
      "Element has a Shadow DOM\n"
     ]
    }
   ],
   "source": [
    "# Check if the element has a Shadow DOM using JavaScript\n",
    "has_shadow_dom = driver.execute_script('return arguments[0].shadowRoot !== null', div_shadow)\n",
    "\n",
    "if has_shadow_dom:\n",
    "    print(\"Element has a Shadow DOM\")\n",
    "else:\n",
    "    print(\"Element does not have a Shadow DOM\")"
   ]
  },
  {
   "cell_type": "code",
   "execution_count": 8,
   "metadata": {},
   "outputs": [],
   "source": [
    "shadow_root = driver.execute_script('return arguments[0].shadowRoot', div_shadow)"
   ]
  },
  {
   "cell_type": "code",
   "execution_count": 9,
   "metadata": {},
   "outputs": [],
   "source": [
    "shadow_root.find_elements(By.CSS_SELECTOR, '#cmpwelcomebtnyes > a')[0].click()"
   ]
  },
  {
   "cell_type": "markdown",
   "metadata": {},
   "source": [
    "#### Empezamos el scrapeo por eventos en tabla"
   ]
  },
  {
   "cell_type": "code",
   "execution_count": 10,
   "metadata": {},
   "outputs": [],
   "source": [
    "tabla = '//product-group-item'"
   ]
  },
  {
   "cell_type": "code",
   "execution_count": 11,
   "metadata": {},
   "outputs": [
    {
     "data": {
      "text/plain": [
       "[<selenium.webdriver.remote.webelement.WebElement (session=\"15e9bb53320375a102dd1348bc7f7366\", element=\"E42A3DFE0B7A2888FD9668A68E292070_element_26\")>,\n",
       " <selenium.webdriver.remote.webelement.WebElement (session=\"15e9bb53320375a102dd1348bc7f7366\", element=\"E42A3DFE0B7A2888FD9668A68E292070_element_27\")>,\n",
       " <selenium.webdriver.remote.webelement.WebElement (session=\"15e9bb53320375a102dd1348bc7f7366\", element=\"E42A3DFE0B7A2888FD9668A68E292070_element_28\")>,\n",
       " <selenium.webdriver.remote.webelement.WebElement (session=\"15e9bb53320375a102dd1348bc7f7366\", element=\"E42A3DFE0B7A2888FD9668A68E292070_element_29\")>,\n",
       " <selenium.webdriver.remote.webelement.WebElement (session=\"15e9bb53320375a102dd1348bc7f7366\", element=\"E42A3DFE0B7A2888FD9668A68E292070_element_30\")>,\n",
       " <selenium.webdriver.remote.webelement.WebElement (session=\"15e9bb53320375a102dd1348bc7f7366\", element=\"E42A3DFE0B7A2888FD9668A68E292070_element_31\")>,\n",
       " <selenium.webdriver.remote.webelement.WebElement (session=\"15e9bb53320375a102dd1348bc7f7366\", element=\"E42A3DFE0B7A2888FD9668A68E292070_element_32\")>,\n",
       " <selenium.webdriver.remote.webelement.WebElement (session=\"15e9bb53320375a102dd1348bc7f7366\", element=\"E42A3DFE0B7A2888FD9668A68E292070_element_33\")>,\n",
       " <selenium.webdriver.remote.webelement.WebElement (session=\"15e9bb53320375a102dd1348bc7f7366\", element=\"E42A3DFE0B7A2888FD9668A68E292070_element_34\")>,\n",
       " <selenium.webdriver.remote.webelement.WebElement (session=\"15e9bb53320375a102dd1348bc7f7366\", element=\"E42A3DFE0B7A2888FD9668A68E292070_element_35\")>,\n",
       " <selenium.webdriver.remote.webelement.WebElement (session=\"15e9bb53320375a102dd1348bc7f7366\", element=\"E42A3DFE0B7A2888FD9668A68E292070_element_36\")>,\n",
       " <selenium.webdriver.remote.webelement.WebElement (session=\"15e9bb53320375a102dd1348bc7f7366\", element=\"E42A3DFE0B7A2888FD9668A68E292070_element_37\")>,\n",
       " <selenium.webdriver.remote.webelement.WebElement (session=\"15e9bb53320375a102dd1348bc7f7366\", element=\"E42A3DFE0B7A2888FD9668A68E292070_element_38\")>,\n",
       " <selenium.webdriver.remote.webelement.WebElement (session=\"15e9bb53320375a102dd1348bc7f7366\", element=\"E42A3DFE0B7A2888FD9668A68E292070_element_39\")>,\n",
       " <selenium.webdriver.remote.webelement.WebElement (session=\"15e9bb53320375a102dd1348bc7f7366\", element=\"E42A3DFE0B7A2888FD9668A68E292070_element_40\")>,\n",
       " <selenium.webdriver.remote.webelement.WebElement (session=\"15e9bb53320375a102dd1348bc7f7366\", element=\"E42A3DFE0B7A2888FD9668A68E292070_element_41\")>,\n",
       " <selenium.webdriver.remote.webelement.WebElement (session=\"15e9bb53320375a102dd1348bc7f7366\", element=\"E42A3DFE0B7A2888FD9668A68E292070_element_42\")>,\n",
       " <selenium.webdriver.remote.webelement.WebElement (session=\"15e9bb53320375a102dd1348bc7f7366\", element=\"E42A3DFE0B7A2888FD9668A68E292070_element_43\")>,\n",
       " <selenium.webdriver.remote.webelement.WebElement (session=\"15e9bb53320375a102dd1348bc7f7366\", element=\"E42A3DFE0B7A2888FD9668A68E292070_element_44\")>,\n",
       " <selenium.webdriver.remote.webelement.WebElement (session=\"15e9bb53320375a102dd1348bc7f7366\", element=\"E42A3DFE0B7A2888FD9668A68E292070_element_45\")>]"
      ]
     },
     "execution_count": 11,
     "metadata": {},
     "output_type": "execute_result"
    }
   ],
   "source": [
    "table = driver.find_elements(By.XPATH, tabla)\n",
    "table"
   ]
  },
  {
   "cell_type": "code",
   "execution_count": 20,
   "metadata": {},
   "outputs": [
    {
     "data": {
      "text/plain": [
       "list"
      ]
     },
     "execution_count": 20,
     "metadata": {},
     "output_type": "execute_result"
    }
   ],
   "source": [
    "type(table)"
   ]
  },
  {
   "cell_type": "code",
   "execution_count": 12,
   "metadata": {},
   "outputs": [
    {
     "data": {
      "text/plain": [
       "[<selenium.webdriver.remote.webelement.WebElement (session=\"15e9bb53320375a102dd1348bc7f7366\", element=\"E42A3DFE0B7A2888FD9668A68E292070_element_46\")>,\n",
       " <selenium.webdriver.remote.webelement.WebElement (session=\"15e9bb53320375a102dd1348bc7f7366\", element=\"E42A3DFE0B7A2888FD9668A68E292070_element_47\")>]"
      ]
     },
     "execution_count": 12,
     "metadata": {},
     "output_type": "execute_result"
    }
   ],
   "source": [
    "elementos = driver.find_elements(By.XPATH, '//*[@id=\"list-item-0\"]')\n",
    "elementos"
   ]
  },
  {
   "cell_type": "code",
   "execution_count": 21,
   "metadata": {},
   "outputs": [
    {
     "data": {
      "text/plain": [
       "list"
      ]
     },
     "execution_count": 21,
     "metadata": {},
     "output_type": "execute_result"
    }
   ],
   "source": [
    "type(elementos)"
   ]
  },
  {
   "cell_type": "code",
   "execution_count": 19,
   "metadata": {},
   "outputs": [
    {
     "data": {
      "text/plain": [
       "'Cariño\\nInverfest 2024\\n13/01/20241 Evento\\n desde 19,80 €\\nMostrar 1 Evento'"
      ]
     },
     "execution_count": 19,
     "metadata": {},
     "output_type": "execute_result"
    }
   ],
   "source": [
    "elementos[0].text"
   ]
  },
  {
   "cell_type": "code",
   "execution_count": 24,
   "metadata": {},
   "outputs": [
    {
     "data": {
      "text/plain": [
       "['Cariño',\n",
       " 'Inverfest 2024',\n",
       " '13/01/20241 Evento',\n",
       " ' desde 19,80 €',\n",
       " 'Mostrar 1 Evento']"
      ]
     },
     "execution_count": 24,
     "metadata": {},
     "output_type": "execute_result"
    }
   ],
   "source": [
    "elementos = elementos[0].text.split('\\n')\n",
    "elementos"
   ]
  },
  {
   "cell_type": "code",
   "execution_count": 25,
   "metadata": {},
   "outputs": [
    {
     "data": {
      "text/plain": [
       "list"
      ]
     },
     "execution_count": 25,
     "metadata": {},
     "output_type": "execute_result"
    }
   ],
   "source": [
    "type(elementos)"
   ]
  },
  {
   "cell_type": "code",
   "execution_count": 30,
   "metadata": {},
   "outputs": [],
   "source": [
    "# Supongamos que tienes 'table' y 'elementos' como los describiste\n",
    "\n",
    "# Crear una lista para almacenar las filas de la nueva tabla\n",
    "tabla_nueva = []\n",
    "\n",
    "# Iterar a través de 'table'\n",
    "for fila in table:\n",
    "    # Encontrar 'elementos' en la fila actual\n",
    "    elementos_fila = fila.find_elements(By.XPATH, '//product-group-item')\n",
    "    \n",
    "    # Verificar si 'elementos' está presente en la fila\n",
    "    if elementos_fila:\n",
    "        # Extraer el primer elemento de 'elementos' en la fila y agregarlo a la tabla nueva\n",
    "        primer_elemento = elementos_fila[0].text.split('\\n')\n",
    "        tabla_nueva.append([primer_elemento])\n",
    "\n",
    "# Ahora 'tabla_nueva' contiene el primer elemento de cada fila\n"
   ]
  },
  {
   "cell_type": "code",
   "execution_count": 31,
   "metadata": {},
   "outputs": [
    {
     "data": {
      "text/plain": [
       "[[['Cariño',\n",
       "   'Inverfest 2024',\n",
       "   '13/01/20241 Evento',\n",
       "   ' desde 19,80 €',\n",
       "   'Mostrar 1 Evento',\n",
       "   'Madrid, sáb. 13/01/2024, 21:00',\n",
       "   'Cariño',\n",
       "   ' Entradas']],\n",
       " [['Cariño',\n",
       "   'Inverfest 2024',\n",
       "   '13/01/20241 Evento',\n",
       "   ' desde 19,80 €',\n",
       "   'Mostrar 1 Evento',\n",
       "   'Madrid, sáb. 13/01/2024, 21:00',\n",
       "   'Cariño',\n",
       "   ' Entradas']],\n",
       " [['Cariño',\n",
       "   'Inverfest 2024',\n",
       "   '13/01/20241 Evento',\n",
       "   ' desde 19,80 €',\n",
       "   'Mostrar 1 Evento',\n",
       "   'Madrid, sáb. 13/01/2024, 21:00',\n",
       "   'Cariño',\n",
       "   ' Entradas']],\n",
       " [['Cariño',\n",
       "   'Inverfest 2024',\n",
       "   '13/01/20241 Evento',\n",
       "   ' desde 19,80 €',\n",
       "   'Mostrar 1 Evento',\n",
       "   'Madrid, sáb. 13/01/2024, 21:00',\n",
       "   'Cariño',\n",
       "   ' Entradas']],\n",
       " [['Cariño',\n",
       "   'Inverfest 2024',\n",
       "   '13/01/20241 Evento',\n",
       "   ' desde 19,80 €',\n",
       "   'Mostrar 1 Evento',\n",
       "   'Madrid, sáb. 13/01/2024, 21:00',\n",
       "   'Cariño',\n",
       "   ' Entradas']],\n",
       " [['Cariño',\n",
       "   'Inverfest 2024',\n",
       "   '13/01/20241 Evento',\n",
       "   ' desde 19,80 €',\n",
       "   'Mostrar 1 Evento',\n",
       "   'Madrid, sáb. 13/01/2024, 21:00',\n",
       "   'Cariño',\n",
       "   ' Entradas']],\n",
       " [['Cariño',\n",
       "   'Inverfest 2024',\n",
       "   '13/01/20241 Evento',\n",
       "   ' desde 19,80 €',\n",
       "   'Mostrar 1 Evento',\n",
       "   'Madrid, sáb. 13/01/2024, 21:00',\n",
       "   'Cariño',\n",
       "   ' Entradas']],\n",
       " [['Cariño',\n",
       "   'Inverfest 2024',\n",
       "   '13/01/20241 Evento',\n",
       "   ' desde 19,80 €',\n",
       "   'Mostrar 1 Evento',\n",
       "   'Madrid, sáb. 13/01/2024, 21:00',\n",
       "   'Cariño',\n",
       "   ' Entradas']],\n",
       " [['Cariño',\n",
       "   'Inverfest 2024',\n",
       "   '13/01/20241 Evento',\n",
       "   ' desde 19,80 €',\n",
       "   'Mostrar 1 Evento',\n",
       "   'Madrid, sáb. 13/01/2024, 21:00',\n",
       "   'Cariño',\n",
       "   ' Entradas']],\n",
       " [['Cariño',\n",
       "   'Inverfest 2024',\n",
       "   '13/01/20241 Evento',\n",
       "   ' desde 19,80 €',\n",
       "   'Mostrar 1 Evento',\n",
       "   'Madrid, sáb. 13/01/2024, 21:00',\n",
       "   'Cariño',\n",
       "   ' Entradas']],\n",
       " [['Cariño',\n",
       "   'Inverfest 2024',\n",
       "   '13/01/20241 Evento',\n",
       "   ' desde 19,80 €',\n",
       "   'Mostrar 1 Evento',\n",
       "   'Madrid, sáb. 13/01/2024, 21:00',\n",
       "   'Cariño',\n",
       "   ' Entradas']],\n",
       " [['Cariño',\n",
       "   'Inverfest 2024',\n",
       "   '13/01/20241 Evento',\n",
       "   ' desde 19,80 €',\n",
       "   'Mostrar 1 Evento',\n",
       "   'Madrid, sáb. 13/01/2024, 21:00',\n",
       "   'Cariño',\n",
       "   ' Entradas']],\n",
       " [['Cariño',\n",
       "   'Inverfest 2024',\n",
       "   '13/01/20241 Evento',\n",
       "   ' desde 19,80 €',\n",
       "   'Mostrar 1 Evento',\n",
       "   'Madrid, sáb. 13/01/2024, 21:00',\n",
       "   'Cariño',\n",
       "   ' Entradas']],\n",
       " [['Cariño',\n",
       "   'Inverfest 2024',\n",
       "   '13/01/20241 Evento',\n",
       "   ' desde 19,80 €',\n",
       "   'Mostrar 1 Evento',\n",
       "   'Madrid, sáb. 13/01/2024, 21:00',\n",
       "   'Cariño',\n",
       "   ' Entradas']],\n",
       " [['Cariño',\n",
       "   'Inverfest 2024',\n",
       "   '13/01/20241 Evento',\n",
       "   ' desde 19,80 €',\n",
       "   'Mostrar 1 Evento',\n",
       "   'Madrid, sáb. 13/01/2024, 21:00',\n",
       "   'Cariño',\n",
       "   ' Entradas']],\n",
       " [['Cariño',\n",
       "   'Inverfest 2024',\n",
       "   '13/01/20241 Evento',\n",
       "   ' desde 19,80 €',\n",
       "   'Mostrar 1 Evento',\n",
       "   'Madrid, sáb. 13/01/2024, 21:00',\n",
       "   'Cariño',\n",
       "   ' Entradas']],\n",
       " [['Cariño',\n",
       "   'Inverfest 2024',\n",
       "   '13/01/20241 Evento',\n",
       "   ' desde 19,80 €',\n",
       "   'Mostrar 1 Evento',\n",
       "   'Madrid, sáb. 13/01/2024, 21:00',\n",
       "   'Cariño',\n",
       "   ' Entradas']],\n",
       " [['Cariño',\n",
       "   'Inverfest 2024',\n",
       "   '13/01/20241 Evento',\n",
       "   ' desde 19,80 €',\n",
       "   'Mostrar 1 Evento',\n",
       "   'Madrid, sáb. 13/01/2024, 21:00',\n",
       "   'Cariño',\n",
       "   ' Entradas']],\n",
       " [['Cariño',\n",
       "   'Inverfest 2024',\n",
       "   '13/01/20241 Evento',\n",
       "   ' desde 19,80 €',\n",
       "   'Mostrar 1 Evento',\n",
       "   'Madrid, sáb. 13/01/2024, 21:00',\n",
       "   'Cariño',\n",
       "   ' Entradas']],\n",
       " [['Cariño',\n",
       "   'Inverfest 2024',\n",
       "   '13/01/20241 Evento',\n",
       "   ' desde 19,80 €',\n",
       "   'Mostrar 1 Evento',\n",
       "   'Madrid, sáb. 13/01/2024, 21:00',\n",
       "   'Cariño',\n",
       "   ' Entradas']]]"
      ]
     },
     "execution_count": 31,
     "metadata": {},
     "output_type": "execute_result"
    }
   ],
   "source": [
    "tabla_nueva"
   ]
  },
  {
   "cell_type": "code",
   "execution_count": null,
   "metadata": {},
   "outputs": [],
   "source": []
  }
 ],
 "metadata": {
  "kernelspec": {
   "display_name": "clase",
   "language": "python",
   "name": "python3"
  },
  "language_info": {
   "codemirror_mode": {
    "name": "ipython",
    "version": 3
   },
   "file_extension": ".py",
   "mimetype": "text/x-python",
   "name": "python",
   "nbconvert_exporter": "python",
   "pygments_lexer": "ipython3",
   "version": "3.10.13"
  }
 },
 "nbformat": 4,
 "nbformat_minor": 2
}
