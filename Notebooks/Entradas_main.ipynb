{
 "cells": [
  {
   "cell_type": "code",
   "execution_count": 1,
   "metadata": {},
   "outputs": [],
   "source": [
    "import pandas as pd\n",
    "import numpy as np\n",
    "from selenium.webdriver.chrome.options import Options\n",
    "from webdriver_manager.chrome import ChromeDriverManager\n",
    "\n",
    "from selenium import webdriver # driver de selenium\n",
    "\n",
    "import time   # para manejar tiempo"
   ]
  },
  {
   "cell_type": "code",
   "execution_count": 2,
   "metadata": {},
   "outputs": [],
   "source": [
    "from selenium.webdriver.chrome.options import Options   # opciones del driver\n",
    "\n",
    "from selenium.webdriver.common.by import By   # para buscar segun tag, id, class, etc...\n",
    "\n",
    "from selenium.webdriver.support.ui import WebDriverWait   # es para esperar\n",
    "\n",
    "from selenium.webdriver.support import expected_conditions as EC  # condiciones esperadas...\n",
    "\n",
    "from selenium.webdriver import ActionChains as AC   # acciones encadenadas, rollo doble click\n",
    "\n",
    "from selenium.webdriver.common.keys import Keys  # manejar teclas"
   ]
  },
  {
   "cell_type": "code",
   "execution_count": 3,
   "metadata": {},
   "outputs": [],
   "source": [
    "#driver configuration\n",
    "opciones=Options()\n",
    "\n",
    "opciones.add_experimental_option('excludeSwitches', ['enable-automation'])\n",
    "opciones.add_experimental_option('useAutomationExtension', False)\n",
    "opciones.headless=False    # si True, no aperece la ventana (headless=no visible)\n",
    "opciones.add_argument('--start-maximized')         # comienza maximizado\n",
    "#opciones.add_argument('user-data-dir=selenium')    # mantiene las cookies\n",
    "#opciones.add_extension('driver_folder/adblock.crx')       # adblocker\n",
    "opciones.add_argument('--incognito')"
   ]
  },
  {
   "cell_type": "markdown",
   "metadata": {},
   "source": [
    "#### 1. Conecto con la página WEB"
   ]
  },
  {
   "cell_type": "code",
   "execution_count": 4,
   "metadata": {},
   "outputs": [],
   "source": [
    "PATH = 'driver/chromedriver'\n",
    "\n",
    "driver = webdriver.Chrome()   # abre una ventana de chrome \n",
    "                                # una vez que he abierto una ventana, puedo trabajar siempre sobre esta misma."
   ]
  },
  {
   "cell_type": "code",
   "execution_count": 5,
   "metadata": {},
   "outputs": [],
   "source": [
    "url = 'https://www.entradas.com/city/madrid-370/conciertos-y-festivales-85/'\n",
    "\n",
    "driver.get(url)"
   ]
  },
  {
   "cell_type": "markdown",
   "metadata": {},
   "source": [
    "Conecto con la Web de Entradas.com para trabajar sobre esta, y hacer scraping de los datos que quiero. Utilizaré el método de Scrapeo de selenium."
   ]
  },
  {
   "cell_type": "markdown",
   "metadata": {},
   "source": [
    "#### 2. Aceptar las cookies "
   ]
  },
  {
   "cell_type": "markdown",
   "metadata": {},
   "source": [
    "- Lo primero que hago es darle a Aceptas las cookies del sitio web. \n",
    "- Para ello tengo un problema inicial, ya que está categorizada como una pestaña \"shadow\" por lo que cuando busco la opción de hacer click al botón de aceptar, aparece como una pestaña / lista vacía. "
   ]
  },
  {
   "cell_type": "code",
   "execution_count": 7,
   "metadata": {},
   "outputs": [],
   "source": [
    "div_shadow = driver.find_element(By.XPATH, '//div[@class=\"cmpwrapper\"]')"
   ]
  },
  {
   "cell_type": "code",
   "execution_count": 8,
   "metadata": {},
   "outputs": [
    {
     "name": "stdout",
     "output_type": "stream",
     "text": [
      "Element has a Shadow DOM\n"
     ]
    }
   ],
   "source": [
    "# Check if the element has a Shadow DOM using JavaScript\n",
    "has_shadow_dom = driver.execute_script('return arguments[0].shadowRoot !== null', div_shadow)\n",
    "\n",
    "if has_shadow_dom:\n",
    "    print(\"Element has a Shadow DOM\")\n",
    "else:\n",
    "    print(\"Element does not have a Shadow DOM\")"
   ]
  },
  {
   "cell_type": "code",
   "execution_count": 9,
   "metadata": {},
   "outputs": [],
   "source": [
    "shadow_root = driver.execute_script('return arguments[0].shadowRoot', div_shadow)"
   ]
  },
  {
   "cell_type": "code",
   "execution_count": 10,
   "metadata": {},
   "outputs": [],
   "source": [
    "shadow_root.find_elements(By.CSS_SELECTOR, '#cmpwelcomebtnyes > a')[0].click()"
   ]
  },
  {
   "cell_type": "markdown",
   "metadata": {},
   "source": [
    "- Una vez consigo traspasar la barrera del 'Shadow DOM', entonces puedo comenzar con el scrapeo de las tablas que necesito para mi estudio. "
   ]
  },
  {
   "cell_type": "markdown",
   "metadata": {},
   "source": [
    "#### 3. Empezamos el scrapeo por eventos en tabla"
   ]
  },
  {
   "cell_type": "code",
   "execution_count": 11,
   "metadata": {},
   "outputs": [],
   "source": [
    "tabla = '//product-group-item'"
   ]
  },
  {
   "cell_type": "code",
   "execution_count": 12,
   "metadata": {},
   "outputs": [
    {
     "data": {
      "text/plain": [
       "[<selenium.webdriver.remote.webelement.WebElement (session=\"ec388d3ab1d904b59c02b2b16787f60b\", element=\"4980F7304F6A84BC7CC2CED8CFCFA8B6_element_27\")>,\n",
       " <selenium.webdriver.remote.webelement.WebElement (session=\"ec388d3ab1d904b59c02b2b16787f60b\", element=\"4980F7304F6A84BC7CC2CED8CFCFA8B6_element_28\")>,\n",
       " <selenium.webdriver.remote.webelement.WebElement (session=\"ec388d3ab1d904b59c02b2b16787f60b\", element=\"4980F7304F6A84BC7CC2CED8CFCFA8B6_element_29\")>,\n",
       " <selenium.webdriver.remote.webelement.WebElement (session=\"ec388d3ab1d904b59c02b2b16787f60b\", element=\"4980F7304F6A84BC7CC2CED8CFCFA8B6_element_30\")>,\n",
       " <selenium.webdriver.remote.webelement.WebElement (session=\"ec388d3ab1d904b59c02b2b16787f60b\", element=\"4980F7304F6A84BC7CC2CED8CFCFA8B6_element_31\")>,\n",
       " <selenium.webdriver.remote.webelement.WebElement (session=\"ec388d3ab1d904b59c02b2b16787f60b\", element=\"4980F7304F6A84BC7CC2CED8CFCFA8B6_element_32\")>,\n",
       " <selenium.webdriver.remote.webelement.WebElement (session=\"ec388d3ab1d904b59c02b2b16787f60b\", element=\"4980F7304F6A84BC7CC2CED8CFCFA8B6_element_33\")>,\n",
       " <selenium.webdriver.remote.webelement.WebElement (session=\"ec388d3ab1d904b59c02b2b16787f60b\", element=\"4980F7304F6A84BC7CC2CED8CFCFA8B6_element_34\")>,\n",
       " <selenium.webdriver.remote.webelement.WebElement (session=\"ec388d3ab1d904b59c02b2b16787f60b\", element=\"4980F7304F6A84BC7CC2CED8CFCFA8B6_element_35\")>,\n",
       " <selenium.webdriver.remote.webelement.WebElement (session=\"ec388d3ab1d904b59c02b2b16787f60b\", element=\"4980F7304F6A84BC7CC2CED8CFCFA8B6_element_36\")>,\n",
       " <selenium.webdriver.remote.webelement.WebElement (session=\"ec388d3ab1d904b59c02b2b16787f60b\", element=\"4980F7304F6A84BC7CC2CED8CFCFA8B6_element_37\")>,\n",
       " <selenium.webdriver.remote.webelement.WebElement (session=\"ec388d3ab1d904b59c02b2b16787f60b\", element=\"4980F7304F6A84BC7CC2CED8CFCFA8B6_element_38\")>,\n",
       " <selenium.webdriver.remote.webelement.WebElement (session=\"ec388d3ab1d904b59c02b2b16787f60b\", element=\"4980F7304F6A84BC7CC2CED8CFCFA8B6_element_39\")>,\n",
       " <selenium.webdriver.remote.webelement.WebElement (session=\"ec388d3ab1d904b59c02b2b16787f60b\", element=\"4980F7304F6A84BC7CC2CED8CFCFA8B6_element_40\")>,\n",
       " <selenium.webdriver.remote.webelement.WebElement (session=\"ec388d3ab1d904b59c02b2b16787f60b\", element=\"4980F7304F6A84BC7CC2CED8CFCFA8B6_element_41\")>,\n",
       " <selenium.webdriver.remote.webelement.WebElement (session=\"ec388d3ab1d904b59c02b2b16787f60b\", element=\"4980F7304F6A84BC7CC2CED8CFCFA8B6_element_42\")>,\n",
       " <selenium.webdriver.remote.webelement.WebElement (session=\"ec388d3ab1d904b59c02b2b16787f60b\", element=\"4980F7304F6A84BC7CC2CED8CFCFA8B6_element_43\")>,\n",
       " <selenium.webdriver.remote.webelement.WebElement (session=\"ec388d3ab1d904b59c02b2b16787f60b\", element=\"4980F7304F6A84BC7CC2CED8CFCFA8B6_element_44\")>,\n",
       " <selenium.webdriver.remote.webelement.WebElement (session=\"ec388d3ab1d904b59c02b2b16787f60b\", element=\"4980F7304F6A84BC7CC2CED8CFCFA8B6_element_45\")>,\n",
       " <selenium.webdriver.remote.webelement.WebElement (session=\"ec388d3ab1d904b59c02b2b16787f60b\", element=\"4980F7304F6A84BC7CC2CED8CFCFA8B6_element_46\")>]"
      ]
     },
     "execution_count": 12,
     "metadata": {},
     "output_type": "execute_result"
    }
   ],
   "source": [
    "table = driver.find_elements(By.XPATH, tabla)\n",
    "table"
   ]
  },
  {
   "cell_type": "code",
   "execution_count": 13,
   "metadata": {},
   "outputs": [
    {
     "data": {
      "text/plain": [
       "list"
      ]
     },
     "execution_count": 13,
     "metadata": {},
     "output_type": "execute_result"
    }
   ],
   "source": [
    "type(table)"
   ]
  },
  {
   "cell_type": "code",
   "execution_count": 14,
   "metadata": {},
   "outputs": [
    {
     "data": {
      "text/plain": [
       "[<selenium.webdriver.remote.webelement.WebElement (session=\"ec388d3ab1d904b59c02b2b16787f60b\", element=\"4980F7304F6A84BC7CC2CED8CFCFA8B6_element_60\")>,\n",
       " <selenium.webdriver.remote.webelement.WebElement (session=\"ec388d3ab1d904b59c02b2b16787f60b\", element=\"4980F7304F6A84BC7CC2CED8CFCFA8B6_element_61\")>]"
      ]
     },
     "execution_count": 14,
     "metadata": {},
     "output_type": "execute_result"
    }
   ],
   "source": [
    "elementos = driver.find_elements(By.XPATH, '//*[@id=\"list-item-0\"]')\n",
    "elementos"
   ]
  },
  {
   "cell_type": "code",
   "execution_count": 15,
   "metadata": {},
   "outputs": [
    {
     "data": {
      "text/plain": [
       "list"
      ]
     },
     "execution_count": 15,
     "metadata": {},
     "output_type": "execute_result"
    }
   ],
   "source": [
    "type(elementos)"
   ]
  },
  {
   "cell_type": "code",
   "execution_count": 16,
   "metadata": {},
   "outputs": [
    {
     "data": {
      "text/plain": [
       "'Cariño\\nInverfest 2024\\n13/01/20241 Evento\\n desde 19,80 €\\nMostrar 1 Evento'"
      ]
     },
     "execution_count": 16,
     "metadata": {},
     "output_type": "execute_result"
    }
   ],
   "source": [
    "elementos[0].text"
   ]
  },
  {
   "cell_type": "code",
   "execution_count": 24,
   "metadata": {},
   "outputs": [
    {
     "data": {
      "text/plain": [
       "['Cariño',\n",
       " 'Inverfest 2024',\n",
       " '13/01/20241 Evento',\n",
       " ' desde 19,80 €',\n",
       " 'Mostrar 1 Evento']"
      ]
     },
     "execution_count": 24,
     "metadata": {},
     "output_type": "execute_result"
    }
   ],
   "source": [
    "elementos = elementos[0].text.split('\\n')\n",
    "elementos"
   ]
  },
  {
   "cell_type": "code",
   "execution_count": 21,
   "metadata": {},
   "outputs": [
    {
     "data": {
      "text/plain": [
       "[<selenium.webdriver.remote.webelement.WebElement (session=\"ec388d3ab1d904b59c02b2b16787f60b\", element=\"4980F7304F6A84BC7CC2CED8CFCFA8B6_element_73\")>,\n",
       " <selenium.webdriver.remote.webelement.WebElement (session=\"ec388d3ab1d904b59c02b2b16787f60b\", element=\"4980F7304F6A84BC7CC2CED8CFCFA8B6_element_47\")>]"
      ]
     },
     "execution_count": 21,
     "metadata": {},
     "output_type": "execute_result"
    }
   ],
   "source": [
    "elements = driver.find_elements(By.XPATH, '//div[@class=\"search-result-content\"]')\n",
    "elements"
   ]
  },
  {
   "cell_type": "code",
   "execution_count": 60,
   "metadata": {},
   "outputs": [
    {
     "name": "stdout",
     "output_type": "stream",
     "text": [
      "[['Cariño', 'Iván Ferreiro', 'The World Of Hans Zimmer', 'Triángulo de Amor Bizarro', 'Nico B', 'Cala Vento', 'Sidonie', 'Belako - Sigo regando', 'Biznaga', 'Morreo - Alegría Club!', 'Diego el Cigala - Obras Maestras', 'Symphonic Rhapsody of Queen', 'Sexy Zebras', 'Biografía - Rafa Sánchez, de la unión', 'OBK', 'El Consorcio - Toda una vida', 'Rock en Familia - Hijos del Rock and Roll', 'Rock en Familia - I Love Rock and Roll', 'Rock en Familia - Queenmanía', 'Rock en Familia - I Love Heavy Metal'], ['13/01/2024', '1 Evento', '13/01/2024', '1 Evento', '24/04/2024 ─ 29/04/2024', '2 eventos', '29/12/2023', '1 Evento', '14/01/2024', '1 Evento', '01/12/2023', '1 Evento', '12/01/2024 ─ 14/01/2024', '2 eventos', '20/01/2024', '1 Evento', '26/01/2024', '1 Evento', '18/01/2024', '1 Evento', '11/12/2023 ─ 18/12/2023', '2 eventos', '16/01/2024', '1 Evento', '01/02/2024', '1 Evento', '11/12/2023', '1 Evento', '13/01/2024 ─ 27/01/2024', '3 eventos', '27/11/2023 ─ 28/11/2023', '2 eventos', '05/11/2023 ─ 10/03/2024', '2 eventos', '03/12/2023', '1 Evento', '17/12/2023 ─ 14/04/2024', '2 eventos', '19/11/2023 ─ 24/03/2024', '2 eventos']]\n",
      "[['Cariño', 'Iván Ferreiro', 'The World Of Hans Zimmer', 'Triángulo de Amor Bizarro', 'Nico B', 'Cala Vento', 'Sidonie', 'Belako - Sigo regando', 'Biznaga', 'Morreo - Alegría Club!', 'Diego el Cigala - Obras Maestras', 'Symphonic Rhapsody of Queen', 'Sexy Zebras', 'Biografía - Rafa Sánchez, de la unión', 'OBK', 'El Consorcio - Toda una vida', 'Rock en Familia - Hijos del Rock and Roll', 'Rock en Familia - I Love Rock and Roll', 'Rock en Familia - Queenmanía', 'Rock en Familia - I Love Heavy Metal'], ['13/01/2024', '1 Evento', '13/01/2024', '1 Evento', '24/04/2024 ─ 29/04/2024', '2 eventos', '29/12/2023', '1 Evento', '14/01/2024', '1 Evento', '01/12/2023', '1 Evento', '12/01/2024 ─ 14/01/2024', '2 eventos', '20/01/2024', '1 Evento', '26/01/2024', '1 Evento', '18/01/2024', '1 Evento', '11/12/2023 ─ 18/12/2023', '2 eventos', '16/01/2024', '1 Evento', '01/02/2024', '1 Evento', '11/12/2023', '1 Evento', '13/01/2024 ─ 27/01/2024', '3 eventos', '27/11/2023 ─ 28/11/2023', '2 eventos', '05/11/2023 ─ 10/03/2024', '2 eventos', '03/12/2023', '1 Evento', '17/12/2023 ─ 14/04/2024', '2 eventos', '19/11/2023 ─ 24/03/2024', '2 eventos']]\n"
     ]
    }
   ],
   "source": [
    "data = []\n",
    "\n",
    "for element in elements:\n",
    "    artist_name = element.find_elements(By.XPATH, '//div[@class=\"event-listing-city theme-text-color\"]')\n",
    "    astists = [artist.text for artist in artist_name]\n",
    "    date_elements = element.find_elements(By.XPATH, '//div//span[@class=\"listing-data theme-text-color\"]//span')\n",
    "    dates = [date.text for date in date_elements]\n",
    "    \n",
    "    data.append([artists, dates])\n",
    "\n",
    "for entry in data:\n",
    "    print(entry)"
   ]
  },
  {
   "cell_type": "code",
   "execution_count": 71,
   "metadata": {},
   "outputs": [
    {
     "data": {
      "text/plain": [
       "['Cariño',\n",
       " 'Iván Ferreiro',\n",
       " 'The World Of Hans Zimmer',\n",
       " 'Triángulo de Amor Bizarro',\n",
       " 'Nico B',\n",
       " 'Cala Vento',\n",
       " 'Sidonie',\n",
       " 'Belako - Sigo regando',\n",
       " 'Biznaga',\n",
       " 'Morreo - Alegría Club!',\n",
       " 'Diego el Cigala - Obras Maestras',\n",
       " 'Symphonic Rhapsody of Queen',\n",
       " 'Sexy Zebras',\n",
       " 'Biografía - Rafa Sánchez, de la unión',\n",
       " 'OBK',\n",
       " 'El Consorcio - Toda una vida',\n",
       " 'Rock en Familia - Hijos del Rock and Roll',\n",
       " 'Rock en Familia - I Love Rock and Roll',\n",
       " 'Rock en Familia - Queenmanía',\n",
       " 'Rock en Familia - I Love Heavy Metal']"
      ]
     },
     "execution_count": 71,
     "metadata": {},
     "output_type": "execute_result"
    }
   ],
   "source": [
    "artistas = entry[0]\n",
    "artistas"
   ]
  },
  {
   "cell_type": "code",
   "execution_count": 75,
   "metadata": {},
   "outputs": [
    {
     "data": {
      "text/plain": [
       "['13/01/2024',\n",
       " '1 Evento',\n",
       " '13/01/2024',\n",
       " '1 Evento',\n",
       " '24/04/2024 ─ 29/04/2024',\n",
       " '2 eventos',\n",
       " '29/12/2023',\n",
       " '1 Evento',\n",
       " '14/01/2024',\n",
       " '1 Evento',\n",
       " '01/12/2023',\n",
       " '1 Evento',\n",
       " '12/01/2024 ─ 14/01/2024',\n",
       " '2 eventos',\n",
       " '20/01/2024',\n",
       " '1 Evento',\n",
       " '26/01/2024',\n",
       " '1 Evento',\n",
       " '18/01/2024',\n",
       " '1 Evento',\n",
       " '11/12/2023 ─ 18/12/2023',\n",
       " '2 eventos',\n",
       " '16/01/2024',\n",
       " '1 Evento',\n",
       " '01/02/2024',\n",
       " '1 Evento',\n",
       " '11/12/2023',\n",
       " '1 Evento',\n",
       " '13/01/2024 ─ 27/01/2024',\n",
       " '3 eventos',\n",
       " '27/11/2023 ─ 28/11/2023',\n",
       " '2 eventos',\n",
       " '05/11/2023 ─ 10/03/2024',\n",
       " '2 eventos',\n",
       " '03/12/2023',\n",
       " '1 Evento',\n",
       " '17/12/2023 ─ 14/04/2024',\n",
       " '2 eventos',\n",
       " '19/11/2023 ─ 24/03/2024',\n",
       " '2 eventos']"
      ]
     },
     "execution_count": 75,
     "metadata": {},
     "output_type": "execute_result"
    }
   ],
   "source": [
    "fecha_eventos = entry[1]\n",
    "fecha_eventos"
   ]
  },
  {
   "cell_type": "code",
   "execution_count": 77,
   "metadata": {},
   "outputs": [
    {
     "name": "stdout",
     "output_type": "stream",
     "text": [
      "['13/01/2024', '13/01/2024', '24/04/2024 ─ 29/04/2024', '29/12/2023', '14/01/2024', '01/12/2023', '12/01/2024 ─ 14/01/2024', '20/01/2024', '26/01/2024', '18/01/2024', '11/12/2023 ─ 18/12/2023', '16/01/2024', '01/02/2024', '11/12/2023', '13/01/2024 ─ 27/01/2024', '27/11/2023 ─ 28/11/2023', '05/11/2023 ─ 10/03/2024', '03/12/2023', '17/12/2023 ─ 14/04/2024', '19/11/2023 ─ 24/03/2024']\n",
      "['1 Evento', '1 Evento', '2 eventos', '1 Evento', '1 Evento', '1 Evento', '2 eventos', '1 Evento', '1 Evento', '1 Evento', '2 eventos', '1 Evento', '1 Evento', '1 Evento', '3 eventos', '2 eventos', '2 eventos', '1 Evento', '2 eventos', '2 eventos']\n"
     ]
    }
   ],
   "source": [
    "fechas = []\n",
    "num_eventos = []\n",
    "\n",
    "for i in range(0, len(fecha_eventos), 2):\n",
    "    fechas.append(fecha_eventos[i])\n",
    "\n",
    "for i in range(1, len(fecha_eventos), 2):\n",
    "    num_eventos.append(fecha_eventos[i])\n",
    "\n",
    "print(fechas)\n",
    "print(num_eventos)"
   ]
  },
  {
   "cell_type": "code",
   "execution_count": 78,
   "metadata": {},
   "outputs": [],
   "source": [
    "import pandas as pd"
   ]
  },
  {
   "cell_type": "code",
   "execution_count": 81,
   "metadata": {},
   "outputs": [
    {
     "data": {
      "text/html": [
       "<div>\n",
       "<style scoped>\n",
       "    .dataframe tbody tr th:only-of-type {\n",
       "        vertical-align: middle;\n",
       "    }\n",
       "\n",
       "    .dataframe tbody tr th {\n",
       "        vertical-align: top;\n",
       "    }\n",
       "\n",
       "    .dataframe thead th {\n",
       "        text-align: right;\n",
       "    }\n",
       "</style>\n",
       "<table border=\"1\" class=\"dataframe\">\n",
       "  <thead>\n",
       "    <tr style=\"text-align: right;\">\n",
       "      <th></th>\n",
       "      <th>Artista</th>\n",
       "      <th>Fechas</th>\n",
       "      <th>Eventos</th>\n",
       "    </tr>\n",
       "  </thead>\n",
       "  <tbody>\n",
       "    <tr>\n",
       "      <th>0</th>\n",
       "      <td>Cariño</td>\n",
       "      <td>13/01/2024</td>\n",
       "      <td>1 Evento</td>\n",
       "    </tr>\n",
       "    <tr>\n",
       "      <th>1</th>\n",
       "      <td>Iván Ferreiro</td>\n",
       "      <td>13/01/2024</td>\n",
       "      <td>1 Evento</td>\n",
       "    </tr>\n",
       "    <tr>\n",
       "      <th>2</th>\n",
       "      <td>The World Of Hans Zimmer</td>\n",
       "      <td>24/04/2024 ─ 29/04/2024</td>\n",
       "      <td>2 eventos</td>\n",
       "    </tr>\n",
       "    <tr>\n",
       "      <th>3</th>\n",
       "      <td>Triángulo de Amor Bizarro</td>\n",
       "      <td>29/12/2023</td>\n",
       "      <td>1 Evento</td>\n",
       "    </tr>\n",
       "    <tr>\n",
       "      <th>4</th>\n",
       "      <td>Nico B</td>\n",
       "      <td>14/01/2024</td>\n",
       "      <td>1 Evento</td>\n",
       "    </tr>\n",
       "    <tr>\n",
       "      <th>5</th>\n",
       "      <td>Cala Vento</td>\n",
       "      <td>01/12/2023</td>\n",
       "      <td>1 Evento</td>\n",
       "    </tr>\n",
       "    <tr>\n",
       "      <th>6</th>\n",
       "      <td>Sidonie</td>\n",
       "      <td>12/01/2024 ─ 14/01/2024</td>\n",
       "      <td>2 eventos</td>\n",
       "    </tr>\n",
       "    <tr>\n",
       "      <th>7</th>\n",
       "      <td>Belako - Sigo regando</td>\n",
       "      <td>20/01/2024</td>\n",
       "      <td>1 Evento</td>\n",
       "    </tr>\n",
       "    <tr>\n",
       "      <th>8</th>\n",
       "      <td>Biznaga</td>\n",
       "      <td>26/01/2024</td>\n",
       "      <td>1 Evento</td>\n",
       "    </tr>\n",
       "    <tr>\n",
       "      <th>9</th>\n",
       "      <td>Morreo - Alegría Club!</td>\n",
       "      <td>18/01/2024</td>\n",
       "      <td>1 Evento</td>\n",
       "    </tr>\n",
       "    <tr>\n",
       "      <th>10</th>\n",
       "      <td>Diego el Cigala - Obras Maestras</td>\n",
       "      <td>11/12/2023 ─ 18/12/2023</td>\n",
       "      <td>2 eventos</td>\n",
       "    </tr>\n",
       "    <tr>\n",
       "      <th>11</th>\n",
       "      <td>Symphonic Rhapsody of Queen</td>\n",
       "      <td>16/01/2024</td>\n",
       "      <td>1 Evento</td>\n",
       "    </tr>\n",
       "    <tr>\n",
       "      <th>12</th>\n",
       "      <td>Sexy Zebras</td>\n",
       "      <td>01/02/2024</td>\n",
       "      <td>1 Evento</td>\n",
       "    </tr>\n",
       "    <tr>\n",
       "      <th>13</th>\n",
       "      <td>Biografía - Rafa Sánchez, de la unión</td>\n",
       "      <td>11/12/2023</td>\n",
       "      <td>1 Evento</td>\n",
       "    </tr>\n",
       "    <tr>\n",
       "      <th>14</th>\n",
       "      <td>OBK</td>\n",
       "      <td>13/01/2024 ─ 27/01/2024</td>\n",
       "      <td>3 eventos</td>\n",
       "    </tr>\n",
       "    <tr>\n",
       "      <th>15</th>\n",
       "      <td>El Consorcio - Toda una vida</td>\n",
       "      <td>27/11/2023 ─ 28/11/2023</td>\n",
       "      <td>2 eventos</td>\n",
       "    </tr>\n",
       "    <tr>\n",
       "      <th>16</th>\n",
       "      <td>Rock en Familia - Hijos del Rock and Roll</td>\n",
       "      <td>05/11/2023 ─ 10/03/2024</td>\n",
       "      <td>2 eventos</td>\n",
       "    </tr>\n",
       "    <tr>\n",
       "      <th>17</th>\n",
       "      <td>Rock en Familia - I Love Rock and Roll</td>\n",
       "      <td>03/12/2023</td>\n",
       "      <td>1 Evento</td>\n",
       "    </tr>\n",
       "    <tr>\n",
       "      <th>18</th>\n",
       "      <td>Rock en Familia - Queenmanía</td>\n",
       "      <td>17/12/2023 ─ 14/04/2024</td>\n",
       "      <td>2 eventos</td>\n",
       "    </tr>\n",
       "    <tr>\n",
       "      <th>19</th>\n",
       "      <td>Rock en Familia - I Love Heavy Metal</td>\n",
       "      <td>19/11/2023 ─ 24/03/2024</td>\n",
       "      <td>2 eventos</td>\n",
       "    </tr>\n",
       "  </tbody>\n",
       "</table>\n",
       "</div>"
      ],
      "text/plain": [
       "                                      Artista                   Fechas  \\\n",
       "0                                      Cariño               13/01/2024   \n",
       "1                               Iván Ferreiro               13/01/2024   \n",
       "2                    The World Of Hans Zimmer  24/04/2024 ─ 29/04/2024   \n",
       "3                   Triángulo de Amor Bizarro               29/12/2023   \n",
       "4                                      Nico B               14/01/2024   \n",
       "5                                  Cala Vento               01/12/2023   \n",
       "6                                     Sidonie  12/01/2024 ─ 14/01/2024   \n",
       "7                       Belako - Sigo regando               20/01/2024   \n",
       "8                                     Biznaga               26/01/2024   \n",
       "9                      Morreo - Alegría Club!               18/01/2024   \n",
       "10           Diego el Cigala - Obras Maestras  11/12/2023 ─ 18/12/2023   \n",
       "11                Symphonic Rhapsody of Queen               16/01/2024   \n",
       "12                                Sexy Zebras               01/02/2024   \n",
       "13      Biografía - Rafa Sánchez, de la unión               11/12/2023   \n",
       "14                                        OBK  13/01/2024 ─ 27/01/2024   \n",
       "15               El Consorcio - Toda una vida  27/11/2023 ─ 28/11/2023   \n",
       "16  Rock en Familia - Hijos del Rock and Roll  05/11/2023 ─ 10/03/2024   \n",
       "17     Rock en Familia - I Love Rock and Roll               03/12/2023   \n",
       "18               Rock en Familia - Queenmanía  17/12/2023 ─ 14/04/2024   \n",
       "19       Rock en Familia - I Love Heavy Metal  19/11/2023 ─ 24/03/2024   \n",
       "\n",
       "      Eventos  \n",
       "0    1 Evento  \n",
       "1    1 Evento  \n",
       "2   2 eventos  \n",
       "3    1 Evento  \n",
       "4    1 Evento  \n",
       "5    1 Evento  \n",
       "6   2 eventos  \n",
       "7    1 Evento  \n",
       "8    1 Evento  \n",
       "9    1 Evento  \n",
       "10  2 eventos  \n",
       "11   1 Evento  \n",
       "12   1 Evento  \n",
       "13   1 Evento  \n",
       "14  3 eventos  \n",
       "15  2 eventos  \n",
       "16  2 eventos  \n",
       "17   1 Evento  \n",
       "18  2 eventos  \n",
       "19  2 eventos  "
      ]
     },
     "execution_count": 81,
     "metadata": {},
     "output_type": "execute_result"
    }
   ],
   "source": [
    "datos = pd.DataFrame({'Artista': artistas, 'Fechas': fechas, 'Eventos': num_eventos})\n",
    "\n",
    "datos"
   ]
  },
  {
   "cell_type": "code",
   "execution_count": null,
   "metadata": {},
   "outputs": [],
   "source": []
  },
  {
   "cell_type": "code",
   "execution_count": null,
   "metadata": {},
   "outputs": [],
   "source": []
  },
  {
   "cell_type": "code",
   "execution_count": null,
   "metadata": {},
   "outputs": [],
   "source": []
  },
  {
   "cell_type": "code",
   "execution_count": null,
   "metadata": {},
   "outputs": [],
   "source": [
    "\n"
   ]
  },
  {
   "cell_type": "code",
   "execution_count": null,
   "metadata": {},
   "outputs": [],
   "source": []
  },
  {
   "cell_type": "code",
   "execution_count": null,
   "metadata": {},
   "outputs": [],
   "source": []
  },
  {
   "cell_type": "code",
   "execution_count": null,
   "metadata": {},
   "outputs": [],
   "source": []
  },
  {
   "cell_type": "code",
   "execution_count": null,
   "metadata": {},
   "outputs": [],
   "source": []
  },
  {
   "cell_type": "code",
   "execution_count": 25,
   "metadata": {},
   "outputs": [
    {
     "data": {
      "text/plain": [
       "list"
      ]
     },
     "execution_count": 25,
     "metadata": {},
     "output_type": "execute_result"
    }
   ],
   "source": [
    "type(elementos)"
   ]
  },
  {
   "cell_type": "code",
   "execution_count": 34,
   "metadata": {},
   "outputs": [
    {
     "data": {
      "text/plain": [
       "[<selenium.webdriver.remote.webelement.WebElement (session=\"15e9bb53320375a102dd1348bc7f7366\", element=\"E42A3DFE0B7A2888FD9668A68E292070_element_83\")>,\n",
       " <selenium.webdriver.remote.webelement.WebElement (session=\"15e9bb53320375a102dd1348bc7f7366\", element=\"E42A3DFE0B7A2888FD9668A68E292070_element_81\")>]"
      ]
     },
     "execution_count": 34,
     "metadata": {},
     "output_type": "execute_result"
    }
   ],
   "source": [
    "todo = driver.find_elements(By.XPATH, '//div[@class=\"search-result-content\"]')\n",
    "todo\n"
   ]
  },
  {
   "cell_type": "code",
   "execution_count": 39,
   "metadata": {},
   "outputs": [
    {
     "data": {
      "text/plain": [
       "<selenium.webdriver.remote.webelement.WebElement (session=\"15e9bb53320375a102dd1348bc7f7366\", element=\"E42A3DFE0B7A2888FD9668A68E292070_element_81\")>"
      ]
     },
     "execution_count": 39,
     "metadata": {},
     "output_type": "execute_result"
    }
   ],
   "source": [
    "tabla_def = todo[1]\n",
    "tabla_def"
   ]
  },
  {
   "cell_type": "code",
   "execution_count": 52,
   "metadata": {},
   "outputs": [
    {
     "data": {
      "text/plain": [
       "[<selenium.webdriver.remote.webelement.WebElement (session=\"15e9bb53320375a102dd1348bc7f7366\", element=\"E42A3DFE0B7A2888FD9668A68E292070_element_26\")>,\n",
       " <selenium.webdriver.remote.webelement.WebElement (session=\"15e9bb53320375a102dd1348bc7f7366\", element=\"E42A3DFE0B7A2888FD9668A68E292070_element_27\")>,\n",
       " <selenium.webdriver.remote.webelement.WebElement (session=\"15e9bb53320375a102dd1348bc7f7366\", element=\"E42A3DFE0B7A2888FD9668A68E292070_element_28\")>,\n",
       " <selenium.webdriver.remote.webelement.WebElement (session=\"15e9bb53320375a102dd1348bc7f7366\", element=\"E42A3DFE0B7A2888FD9668A68E292070_element_29\")>,\n",
       " <selenium.webdriver.remote.webelement.WebElement (session=\"15e9bb53320375a102dd1348bc7f7366\", element=\"E42A3DFE0B7A2888FD9668A68E292070_element_30\")>,\n",
       " <selenium.webdriver.remote.webelement.WebElement (session=\"15e9bb53320375a102dd1348bc7f7366\", element=\"E42A3DFE0B7A2888FD9668A68E292070_element_31\")>,\n",
       " <selenium.webdriver.remote.webelement.WebElement (session=\"15e9bb53320375a102dd1348bc7f7366\", element=\"E42A3DFE0B7A2888FD9668A68E292070_element_32\")>,\n",
       " <selenium.webdriver.remote.webelement.WebElement (session=\"15e9bb53320375a102dd1348bc7f7366\", element=\"E42A3DFE0B7A2888FD9668A68E292070_element_33\")>,\n",
       " <selenium.webdriver.remote.webelement.WebElement (session=\"15e9bb53320375a102dd1348bc7f7366\", element=\"E42A3DFE0B7A2888FD9668A68E292070_element_34\")>,\n",
       " <selenium.webdriver.remote.webelement.WebElement (session=\"15e9bb53320375a102dd1348bc7f7366\", element=\"E42A3DFE0B7A2888FD9668A68E292070_element_35\")>,\n",
       " <selenium.webdriver.remote.webelement.WebElement (session=\"15e9bb53320375a102dd1348bc7f7366\", element=\"E42A3DFE0B7A2888FD9668A68E292070_element_36\")>,\n",
       " <selenium.webdriver.remote.webelement.WebElement (session=\"15e9bb53320375a102dd1348bc7f7366\", element=\"E42A3DFE0B7A2888FD9668A68E292070_element_37\")>,\n",
       " <selenium.webdriver.remote.webelement.WebElement (session=\"15e9bb53320375a102dd1348bc7f7366\", element=\"E42A3DFE0B7A2888FD9668A68E292070_element_38\")>,\n",
       " <selenium.webdriver.remote.webelement.WebElement (session=\"15e9bb53320375a102dd1348bc7f7366\", element=\"E42A3DFE0B7A2888FD9668A68E292070_element_39\")>,\n",
       " <selenium.webdriver.remote.webelement.WebElement (session=\"15e9bb53320375a102dd1348bc7f7366\", element=\"E42A3DFE0B7A2888FD9668A68E292070_element_40\")>,\n",
       " <selenium.webdriver.remote.webelement.WebElement (session=\"15e9bb53320375a102dd1348bc7f7366\", element=\"E42A3DFE0B7A2888FD9668A68E292070_element_41\")>,\n",
       " <selenium.webdriver.remote.webelement.WebElement (session=\"15e9bb53320375a102dd1348bc7f7366\", element=\"E42A3DFE0B7A2888FD9668A68E292070_element_42\")>,\n",
       " <selenium.webdriver.remote.webelement.WebElement (session=\"15e9bb53320375a102dd1348bc7f7366\", element=\"E42A3DFE0B7A2888FD9668A68E292070_element_43\")>,\n",
       " <selenium.webdriver.remote.webelement.WebElement (session=\"15e9bb53320375a102dd1348bc7f7366\", element=\"E42A3DFE0B7A2888FD9668A68E292070_element_44\")>,\n",
       " <selenium.webdriver.remote.webelement.WebElement (session=\"15e9bb53320375a102dd1348bc7f7366\", element=\"E42A3DFE0B7A2888FD9668A68E292070_element_45\")>]"
      ]
     },
     "execution_count": 52,
     "metadata": {},
     "output_type": "execute_result"
    }
   ],
   "source": [
    "datos_imp = tabla_def.find_elements(By.XPATH, '//product-group-item[@class=\"hydrated\"]')\n",
    "datos_imp"
   ]
  },
  {
   "cell_type": "code",
   "execution_count": 54,
   "metadata": {},
   "outputs": [
    {
     "data": {
      "text/plain": [
       "'Cariño\\nInverfest 2024\\n13/01/20241 Evento\\n desde 19,80 €\\nMostrar 1 Evento\\nMadrid, sáb. 13/01/2024, 21:00\\nCariño\\n Entradas'"
      ]
     },
     "execution_count": 54,
     "metadata": {},
     "output_type": "execute_result"
    }
   ],
   "source": [
    "datos_imp[0].text"
   ]
  },
  {
   "cell_type": "code",
   "execution_count": 56,
   "metadata": {},
   "outputs": [
    {
     "data": {
      "text/plain": [
       "['Cariño\\nInverfest 2024\\n13/01/20241 Evento\\n desde 19,80 €\\nMostrar 1 Evento\\nMadrid, sáb. 13/01/2024, 21:00\\nCariño\\n Entradas',\n",
       " 'Iván Ferreiro\\nInverfest 2024\\n13/01/20241 Evento\\n desde 38,50 €\\nMostrar 1 Evento\\nMadrid, sáb. 13/01/2024, 20:30\\nIVÁN FERREIRO\\n Entradas',\n",
       " 'The World Of Hans Zimmer\\n\"A New Dimension\" - European World Tour 2024\\n24/04/2024 ─ 29/04/20242 eventos\\nEntradas VIP\\n  desde 55,00 €\\nMostrar los 2 eventos\\nMadrid, lun. 29/04/2024, 20:00\\nThe World Of Hans Zimmer: A New Dimension\\n  Entradas',\n",
       " 'Triángulo de Amor Bizarro\\nInverfest 2024\\n29/12/20231 Evento\\n desde 19,80 €\\nMostrar 1 Evento\\nMadrid, vie. 29/12/2023, 21:00\\nTriángulo de Amor Bizarro\\n Entradas',\n",
       " 'Nico B\\nInverfest 2024\\n14/01/20241 Evento\\n desde 13,50 €\\nMostrar 1 Evento\\nMadrid, dom. 14/01/2024, 19:30\\nNico B\\n Entradas',\n",
       " 'Cala Vento\\nInverfest 2024\\n01/12/20231 Evento\\n desde 19,80 €\\nMostrar 1 Evento\\nMadrid, vie. 01/12/2023, 21:00\\nCala Vento\\n Entradas',\n",
       " 'Sidonie\\nInverfest 2024\\n12/01/2024 ─ 14/01/20242 eventos\\n desde 27,50 €\\nMostrar los 2 eventos\\nMadrid, dom. 14/01/2024, 20:00\\nSidonie\\n Entradas',\n",
       " 'Belako - Sigo regando\\nInverfest 2024\\n20/01/20241 Evento\\n desde 17,60 €\\nMostrar 1 Evento\\nMadrid, sáb. 20/01/2024, 21:00\\nBelako - Sigo regando\\n Entradas',\n",
       " 'Biznaga\\nInverfest 2024\\n26/01/20241 Evento\\n desde 18,70 €\\nMostrar 1 Evento\\nMadrid, vie. 26/01/2024, 21:00\\nBiznaga\\n Entradas',\n",
       " 'Morreo - Alegría Club!\\nInverfest 2024\\n18/01/20241 Evento\\n desde 14,50 €\\nMostrar 1 Evento\\nMadrid, jue. 18/01/2024, 21:30\\nMorreo - Alegría Club!\\n Entradas',\n",
       " 'Diego el Cigala - Obras Maestras\\n11/12/2023 ─ 18/12/20232 eventos\\n desde 55,00 €\\nMostrar los 2 eventos\\nMadrid, lun. 11/12/2023, 20:30\\nDiego el Cigala - Obras Maestras\\n Entradas\\nMadrid, lun. 18/12/2023, 20:30\\nDiego el Cigala - Obras Maestras\\n Entradas',\n",
       " 'Symphonic Rhapsody of Queen\\n16/01/20241 Evento\\n desde 35,00 €\\nMostrar 1 Evento\\nMadrid, mar. 16/01/2024, 20:30\\nSymphonic Rhapsody of Queen\\n Entradas',\n",
       " 'Biografía - Rafa Sánchez, de la unión\\n11/12/20231 Evento\\n desde 35,00 €\\nMostrar 1 Evento\\nMadrid, lun. 11/12/2023, 20:30\\nBiografía - Rafa Sánchez, de la unión\\n Entradas',\n",
       " 'Sexy Zebras\\n01/02/20241 Evento\\n desde 18,00 €\\nMostrar 1 Evento\\nMadrid, jue. 01/02/2024, 21:00\\nSexy Zebras\\n Entradas',\n",
       " 'OBK\\n13/01/2024 ─ 27/01/20243 eventos\\n  desde 30,00 €\\nMostrar los 3 eventos\\nMadrid, lun. 15/01/2024, 20:30\\nOBK\\n Entradas',\n",
       " 'El Consorcio - Toda una vida\\n27/11/2023 ─ 28/11/20232 eventos\\n desde 29,00 €\\nMostrar los 2 eventos\\nMadrid, lun. 27/11/2023, 20:30\\nEl Consorcio - Toda Una Vida\\n Entradas\\nMadrid, mar. 28/11/2023, 20:30\\nEl Consorcio - Toda Una Vida\\n Entradas',\n",
       " 'Rock en Familia - Hijos del Rock and Roll\\n05/11/2023 ─ 10/03/20242 eventos\\nPromoción\\n desde 7,50 €\\nMostrar los 2 eventos\\nMadrid, dom. 05/11/2023, 12:00\\nRock en Familia - Hijos del Rock and Roll\\n Entradas\\nMadrid, dom. 10/03/2024, 12:00\\nRock en Familia - Hijos del Rock and Roll\\n Entradas',\n",
       " 'Rock en Familia - I Love Rock and Roll\\n03/12/20231 Evento\\nPromoción\\n desde 7,50 €\\nMostrar 1 Evento\\nMadrid, dom. 03/12/2023, 12:00\\nRock en Familia - I Love Rock and Roll\\n Entradas',\n",
       " 'Rock en Familia - Queenmanía\\n17/12/2023 ─ 14/04/20242 eventos\\nPromoción\\n desde 7,50 €\\nMostrar los 2 eventos\\nMadrid, dom. 17/12/2023, 12:00\\nRock en Familia - Queenmanía\\n Entradas\\nMadrid, dom. 14/04/2024, 12:00\\nRock en Familia - Queenmanía\\n Entradas',\n",
       " 'Rock en Familia - I Love Heavy Metal\\n19/11/2023 ─ 24/03/20242 eventos\\nPromoción\\n desde 7,50 €\\nMostrar los 2 eventos\\nMadrid, dom. 19/11/2023, 12:00\\nRock en Familia - I Love Heavy Metal\\n Entradas\\nMadrid, dom. 24/03/2024, 12:00\\nRock en Familia - I Love Heavy Metal\\n Entradas']"
      ]
     },
     "execution_count": 56,
     "metadata": {},
     "output_type": "execute_result"
    }
   ],
   "source": [
    "filas = []\n",
    "\n",
    "# Iterar sobre los elementos en 'datos_imp'\n",
    "for elem in datos_imp:\n",
    "    # Obtener el texto de cada elemento y agregarlo a la lista de filas\n",
    "    filas.append(elem.text)\n",
    "    \n",
    "filas"
   ]
  },
  {
   "cell_type": "code",
   "execution_count": 58,
   "metadata": {},
   "outputs": [
    {
     "data": {
      "text/plain": [
       "[['Cariño',\n",
       "  'Inverfest 2024',\n",
       "  '13/01/20241 Evento',\n",
       "  ' desde 19,80 €',\n",
       "  'Mostrar 1 Evento',\n",
       "  'Madrid, sáb. 13/01/2024, 21:00',\n",
       "  'Cariño',\n",
       "  ' Entradas'],\n",
       " ['Iván Ferreiro',\n",
       "  'Inverfest 2024',\n",
       "  '13/01/20241 Evento',\n",
       "  ' desde 38,50 €',\n",
       "  'Mostrar 1 Evento',\n",
       "  'Madrid, sáb. 13/01/2024, 20:30',\n",
       "  'IVÁN FERREIRO',\n",
       "  ' Entradas'],\n",
       " ['The World Of Hans Zimmer',\n",
       "  '\"A New Dimension\" - European World Tour 2024',\n",
       "  '24/04/2024 ─ 29/04/20242 eventos',\n",
       "  'Entradas VIP',\n",
       "  '  desde 55,00 €',\n",
       "  'Mostrar los 2 eventos',\n",
       "  'Madrid, lun. 29/04/2024, 20:00',\n",
       "  'The World Of Hans Zimmer: A New Dimension',\n",
       "  '  Entradas'],\n",
       " ['Triángulo de Amor Bizarro',\n",
       "  'Inverfest 2024',\n",
       "  '29/12/20231 Evento',\n",
       "  ' desde 19,80 €',\n",
       "  'Mostrar 1 Evento',\n",
       "  'Madrid, vie. 29/12/2023, 21:00',\n",
       "  'Triángulo de Amor Bizarro',\n",
       "  ' Entradas'],\n",
       " ['Nico B',\n",
       "  'Inverfest 2024',\n",
       "  '14/01/20241 Evento',\n",
       "  ' desde 13,50 €',\n",
       "  'Mostrar 1 Evento',\n",
       "  'Madrid, dom. 14/01/2024, 19:30',\n",
       "  'Nico B',\n",
       "  ' Entradas'],\n",
       " ['Cala Vento',\n",
       "  'Inverfest 2024',\n",
       "  '01/12/20231 Evento',\n",
       "  ' desde 19,80 €',\n",
       "  'Mostrar 1 Evento',\n",
       "  'Madrid, vie. 01/12/2023, 21:00',\n",
       "  'Cala Vento',\n",
       "  ' Entradas'],\n",
       " ['Sidonie',\n",
       "  'Inverfest 2024',\n",
       "  '12/01/2024 ─ 14/01/20242 eventos',\n",
       "  ' desde 27,50 €',\n",
       "  'Mostrar los 2 eventos',\n",
       "  'Madrid, dom. 14/01/2024, 20:00',\n",
       "  'Sidonie',\n",
       "  ' Entradas'],\n",
       " ['Belako - Sigo regando',\n",
       "  'Inverfest 2024',\n",
       "  '20/01/20241 Evento',\n",
       "  ' desde 17,60 €',\n",
       "  'Mostrar 1 Evento',\n",
       "  'Madrid, sáb. 20/01/2024, 21:00',\n",
       "  'Belako - Sigo regando',\n",
       "  ' Entradas'],\n",
       " ['Biznaga',\n",
       "  'Inverfest 2024',\n",
       "  '26/01/20241 Evento',\n",
       "  ' desde 18,70 €',\n",
       "  'Mostrar 1 Evento',\n",
       "  'Madrid, vie. 26/01/2024, 21:00',\n",
       "  'Biznaga',\n",
       "  ' Entradas'],\n",
       " ['Morreo - Alegría Club!',\n",
       "  'Inverfest 2024',\n",
       "  '18/01/20241 Evento',\n",
       "  ' desde 14,50 €',\n",
       "  'Mostrar 1 Evento',\n",
       "  'Madrid, jue. 18/01/2024, 21:30',\n",
       "  'Morreo - Alegría Club!',\n",
       "  ' Entradas'],\n",
       " ['Diego el Cigala - Obras Maestras',\n",
       "  '11/12/2023 ─ 18/12/20232 eventos',\n",
       "  ' desde 55,00 €',\n",
       "  'Mostrar los 2 eventos',\n",
       "  'Madrid, lun. 11/12/2023, 20:30',\n",
       "  'Diego el Cigala - Obras Maestras',\n",
       "  ' Entradas',\n",
       "  'Madrid, lun. 18/12/2023, 20:30',\n",
       "  'Diego el Cigala - Obras Maestras',\n",
       "  ' Entradas'],\n",
       " ['Symphonic Rhapsody of Queen',\n",
       "  '16/01/20241 Evento',\n",
       "  ' desde 35,00 €',\n",
       "  'Mostrar 1 Evento',\n",
       "  'Madrid, mar. 16/01/2024, 20:30',\n",
       "  'Symphonic Rhapsody of Queen',\n",
       "  ' Entradas'],\n",
       " ['Biografía - Rafa Sánchez, de la unión',\n",
       "  '11/12/20231 Evento',\n",
       "  ' desde 35,00 €',\n",
       "  'Mostrar 1 Evento',\n",
       "  'Madrid, lun. 11/12/2023, 20:30',\n",
       "  'Biografía - Rafa Sánchez, de la unión',\n",
       "  ' Entradas'],\n",
       " ['Sexy Zebras',\n",
       "  '01/02/20241 Evento',\n",
       "  ' desde 18,00 €',\n",
       "  'Mostrar 1 Evento',\n",
       "  'Madrid, jue. 01/02/2024, 21:00',\n",
       "  'Sexy Zebras',\n",
       "  ' Entradas'],\n",
       " ['OBK',\n",
       "  '13/01/2024 ─ 27/01/20243 eventos',\n",
       "  '  desde 30,00 €',\n",
       "  'Mostrar los 3 eventos',\n",
       "  'Madrid, lun. 15/01/2024, 20:30',\n",
       "  'OBK',\n",
       "  ' Entradas'],\n",
       " ['El Consorcio - Toda una vida',\n",
       "  '27/11/2023 ─ 28/11/20232 eventos',\n",
       "  ' desde 29,00 €',\n",
       "  'Mostrar los 2 eventos',\n",
       "  'Madrid, lun. 27/11/2023, 20:30',\n",
       "  'El Consorcio - Toda Una Vida',\n",
       "  ' Entradas',\n",
       "  'Madrid, mar. 28/11/2023, 20:30',\n",
       "  'El Consorcio - Toda Una Vida',\n",
       "  ' Entradas'],\n",
       " ['Rock en Familia - Hijos del Rock and Roll',\n",
       "  '05/11/2023 ─ 10/03/20242 eventos',\n",
       "  'Promoción',\n",
       "  ' desde 7,50 €',\n",
       "  'Mostrar los 2 eventos',\n",
       "  'Madrid, dom. 05/11/2023, 12:00',\n",
       "  'Rock en Familia - Hijos del Rock and Roll',\n",
       "  ' Entradas',\n",
       "  'Madrid, dom. 10/03/2024, 12:00',\n",
       "  'Rock en Familia - Hijos del Rock and Roll',\n",
       "  ' Entradas'],\n",
       " ['Rock en Familia - I Love Rock and Roll',\n",
       "  '03/12/20231 Evento',\n",
       "  'Promoción',\n",
       "  ' desde 7,50 €',\n",
       "  'Mostrar 1 Evento',\n",
       "  'Madrid, dom. 03/12/2023, 12:00',\n",
       "  'Rock en Familia - I Love Rock and Roll',\n",
       "  ' Entradas'],\n",
       " ['Rock en Familia - Queenmanía',\n",
       "  '17/12/2023 ─ 14/04/20242 eventos',\n",
       "  'Promoción',\n",
       "  ' desde 7,50 €',\n",
       "  'Mostrar los 2 eventos',\n",
       "  'Madrid, dom. 17/12/2023, 12:00',\n",
       "  'Rock en Familia - Queenmanía',\n",
       "  ' Entradas',\n",
       "  'Madrid, dom. 14/04/2024, 12:00',\n",
       "  'Rock en Familia - Queenmanía',\n",
       "  ' Entradas'],\n",
       " ['Rock en Familia - I Love Heavy Metal',\n",
       "  '19/11/2023 ─ 24/03/20242 eventos',\n",
       "  'Promoción',\n",
       "  ' desde 7,50 €',\n",
       "  'Mostrar los 2 eventos',\n",
       "  'Madrid, dom. 19/11/2023, 12:00',\n",
       "  'Rock en Familia - I Love Heavy Metal',\n",
       "  ' Entradas',\n",
       "  'Madrid, dom. 24/03/2024, 12:00',\n",
       "  'Rock en Familia - I Love Heavy Metal',\n",
       "  ' Entradas']]"
      ]
     },
     "execution_count": 58,
     "metadata": {},
     "output_type": "execute_result"
    }
   ],
   "source": [
    "# Crear una lista para almacenar las filas\n",
    "filas = []\n",
    "\n",
    "# Iterar sobre los elementos en 'datos_imp'\n",
    "for elem in datos_imp:\n",
    "    # Obtener el texto de cada elemento y dividirlo en una lista\n",
    "    fila = elem.text.split('\\n')\n",
    "    # Agregar la lista resultante a 'filas'\n",
    "    filas.append(fila)\n",
    "\n",
    "filas"
   ]
  },
  {
   "cell_type": "code",
   "execution_count": 65,
   "metadata": {},
   "outputs": [
    {
     "data": {
      "text/plain": [
       "['Sexy Zebras',\n",
       " '01/02/20241 Evento',\n",
       " ' desde 18,00 €',\n",
       " 'Mostrar 1 Evento',\n",
       " 'Madrid, jue. 01/02/2024, 21:00',\n",
       " 'Sexy Zebras',\n",
       " ' Entradas']"
      ]
     },
     "execution_count": 65,
     "metadata": {},
     "output_type": "execute_result"
    }
   ],
   "source": [
    "filas[13]"
   ]
  },
  {
   "cell_type": "code",
   "execution_count": 66,
   "metadata": {},
   "outputs": [
    {
     "ename": "KeyboardInterrupt",
     "evalue": "",
     "output_type": "error",
     "traceback": [
      "\u001b[0;31m---------------------------------------------------------------------------\u001b[0m",
      "\u001b[0;31mKeyboardInterrupt\u001b[0m                         Traceback (most recent call last)",
      "\u001b[1;32m/Users/sarapazopadron/BOOTCAMP/Proyectos/ProyectoETL/Notebooks/Entradas_main.ipynb Celda 26\u001b[0m line \u001b[0;36m3\n\u001b[1;32m      <a href='vscode-notebook-cell:/Users/sarapazopadron/BOOTCAMP/Proyectos/ProyectoETL/Notebooks/Entradas_main.ipynb#X43sZmlsZQ%3D%3D?line=0'>1</a>\u001b[0m \u001b[39mfor\u001b[39;00m elemento \u001b[39min\u001b[39;00m datos_imp:\n\u001b[1;32m      <a href='vscode-notebook-cell:/Users/sarapazopadron/BOOTCAMP/Proyectos/ProyectoETL/Notebooks/Entradas_main.ipynb#X43sZmlsZQ%3D%3D?line=1'>2</a>\u001b[0m     \u001b[39m# Obtener el texto de cada elemento y dividirlo en una lista\u001b[39;00m\n\u001b[0;32m----> <a href='vscode-notebook-cell:/Users/sarapazopadron/BOOTCAMP/Proyectos/ProyectoETL/Notebooks/Entradas_main.ipynb#X43sZmlsZQ%3D%3D?line=2'>3</a>\u001b[0m     fila \u001b[39m=\u001b[39m elemento\u001b[39m.\u001b[39;49mtext\u001b[39m.\u001b[39msplit(\u001b[39m'\u001b[39m\u001b[39m\\n\u001b[39;00m\u001b[39m'\u001b[39m)\n\u001b[1;32m      <a href='vscode-notebook-cell:/Users/sarapazopadron/BOOTCAMP/Proyectos/ProyectoETL/Notebooks/Entradas_main.ipynb#X43sZmlsZQ%3D%3D?line=3'>4</a>\u001b[0m     \u001b[39m# Quedarse solo con los primeros 5 elementos de la lista\u001b[39;00m\n\u001b[1;32m      <a href='vscode-notebook-cell:/Users/sarapazopadron/BOOTCAMP/Proyectos/ProyectoETL/Notebooks/Entradas_main.ipynb#X43sZmlsZQ%3D%3D?line=4'>5</a>\u001b[0m     fila \u001b[39m=\u001b[39m fila[:\u001b[39m5\u001b[39m]\n",
      "File \u001b[0;32m~/anaconda3/envs/clase/lib/python3.10/site-packages/selenium/webdriver/remote/webelement.py:89\u001b[0m, in \u001b[0;36mWebElement.text\u001b[0;34m(self)\u001b[0m\n\u001b[1;32m     86\u001b[0m \u001b[39m@property\u001b[39m\n\u001b[1;32m     87\u001b[0m \u001b[39mdef\u001b[39;00m \u001b[39mtext\u001b[39m(\u001b[39mself\u001b[39m) \u001b[39m-\u001b[39m\u001b[39m>\u001b[39m \u001b[39mstr\u001b[39m:\n\u001b[1;32m     88\u001b[0m \u001b[39m    \u001b[39m\u001b[39m\"\"\"The text of the element.\"\"\"\u001b[39;00m\n\u001b[0;32m---> 89\u001b[0m     \u001b[39mreturn\u001b[39;00m \u001b[39mself\u001b[39;49m\u001b[39m.\u001b[39;49m_execute(Command\u001b[39m.\u001b[39;49mGET_ELEMENT_TEXT)[\u001b[39m\"\u001b[39m\u001b[39mvalue\u001b[39m\u001b[39m\"\u001b[39m]\n",
      "File \u001b[0;32m~/anaconda3/envs/clase/lib/python3.10/site-packages/selenium/webdriver/remote/webelement.py:394\u001b[0m, in \u001b[0;36mWebElement._execute\u001b[0;34m(self, command, params)\u001b[0m\n\u001b[1;32m    392\u001b[0m     params \u001b[39m=\u001b[39m {}\n\u001b[1;32m    393\u001b[0m params[\u001b[39m\"\u001b[39m\u001b[39mid\u001b[39m\u001b[39m\"\u001b[39m] \u001b[39m=\u001b[39m \u001b[39mself\u001b[39m\u001b[39m.\u001b[39m_id\n\u001b[0;32m--> 394\u001b[0m \u001b[39mreturn\u001b[39;00m \u001b[39mself\u001b[39;49m\u001b[39m.\u001b[39;49m_parent\u001b[39m.\u001b[39;49mexecute(command, params)\n",
      "File \u001b[0;32m~/anaconda3/envs/clase/lib/python3.10/site-packages/selenium/webdriver/remote/webdriver.py:342\u001b[0m, in \u001b[0;36mWebDriver.execute\u001b[0;34m(self, driver_command, params)\u001b[0m\n\u001b[1;32m    339\u001b[0m     \u001b[39melif\u001b[39;00m \u001b[39m\"\u001b[39m\u001b[39msessionId\u001b[39m\u001b[39m\"\u001b[39m \u001b[39mnot\u001b[39;00m \u001b[39min\u001b[39;00m params:\n\u001b[1;32m    340\u001b[0m         params[\u001b[39m\"\u001b[39m\u001b[39msessionId\u001b[39m\u001b[39m\"\u001b[39m] \u001b[39m=\u001b[39m \u001b[39mself\u001b[39m\u001b[39m.\u001b[39msession_id\n\u001b[0;32m--> 342\u001b[0m response \u001b[39m=\u001b[39m \u001b[39mself\u001b[39;49m\u001b[39m.\u001b[39;49mcommand_executor\u001b[39m.\u001b[39;49mexecute(driver_command, params)\n\u001b[1;32m    343\u001b[0m \u001b[39mif\u001b[39;00m response:\n\u001b[1;32m    344\u001b[0m     \u001b[39mself\u001b[39m\u001b[39m.\u001b[39merror_handler\u001b[39m.\u001b[39mcheck_response(response)\n",
      "File \u001b[0;32m~/anaconda3/envs/clase/lib/python3.10/site-packages/selenium/webdriver/remote/remote_connection.py:297\u001b[0m, in \u001b[0;36mRemoteConnection.execute\u001b[0;34m(self, command, params)\u001b[0m\n\u001b[1;32m    295\u001b[0m data \u001b[39m=\u001b[39m utils\u001b[39m.\u001b[39mdump_json(params)\n\u001b[1;32m    296\u001b[0m url \u001b[39m=\u001b[39m \u001b[39mf\u001b[39m\u001b[39m\"\u001b[39m\u001b[39m{\u001b[39;00m\u001b[39mself\u001b[39m\u001b[39m.\u001b[39m_url\u001b[39m}\u001b[39;00m\u001b[39m{\u001b[39;00mpath\u001b[39m}\u001b[39;00m\u001b[39m\"\u001b[39m\n\u001b[0;32m--> 297\u001b[0m \u001b[39mreturn\u001b[39;00m \u001b[39mself\u001b[39;49m\u001b[39m.\u001b[39;49m_request(command_info[\u001b[39m0\u001b[39;49m], url, body\u001b[39m=\u001b[39;49mdata)\n",
      "File \u001b[0;32m~/anaconda3/envs/clase/lib/python3.10/site-packages/selenium/webdriver/remote/remote_connection.py:318\u001b[0m, in \u001b[0;36mRemoteConnection._request\u001b[0;34m(self, method, url, body)\u001b[0m\n\u001b[1;32m    315\u001b[0m     body \u001b[39m=\u001b[39m \u001b[39mNone\u001b[39;00m\n\u001b[1;32m    317\u001b[0m \u001b[39mif\u001b[39;00m \u001b[39mself\u001b[39m\u001b[39m.\u001b[39mkeep_alive:\n\u001b[0;32m--> 318\u001b[0m     response \u001b[39m=\u001b[39m \u001b[39mself\u001b[39;49m\u001b[39m.\u001b[39;49m_conn\u001b[39m.\u001b[39;49mrequest(method, url, body\u001b[39m=\u001b[39;49mbody, headers\u001b[39m=\u001b[39;49mheaders)\n\u001b[1;32m    319\u001b[0m     statuscode \u001b[39m=\u001b[39m response\u001b[39m.\u001b[39mstatus\n\u001b[1;32m    320\u001b[0m \u001b[39melse\u001b[39;00m:\n",
      "File \u001b[0;32m~/anaconda3/envs/clase/lib/python3.10/site-packages/urllib3/_request_methods.py:110\u001b[0m, in \u001b[0;36mRequestMethods.request\u001b[0;34m(self, method, url, body, fields, headers, json, **urlopen_kw)\u001b[0m\n\u001b[1;32m    107\u001b[0m     urlopen_kw[\u001b[39m\"\u001b[39m\u001b[39mbody\u001b[39m\u001b[39m\"\u001b[39m] \u001b[39m=\u001b[39m body\n\u001b[1;32m    109\u001b[0m \u001b[39mif\u001b[39;00m method \u001b[39min\u001b[39;00m \u001b[39mself\u001b[39m\u001b[39m.\u001b[39m_encode_url_methods:\n\u001b[0;32m--> 110\u001b[0m     \u001b[39mreturn\u001b[39;00m \u001b[39mself\u001b[39;49m\u001b[39m.\u001b[39;49mrequest_encode_url(\n\u001b[1;32m    111\u001b[0m         method,\n\u001b[1;32m    112\u001b[0m         url,\n\u001b[1;32m    113\u001b[0m         fields\u001b[39m=\u001b[39;49mfields,  \u001b[39m# type: ignore[arg-type]\u001b[39;49;00m\n\u001b[1;32m    114\u001b[0m         headers\u001b[39m=\u001b[39;49mheaders,\n\u001b[1;32m    115\u001b[0m         \u001b[39m*\u001b[39;49m\u001b[39m*\u001b[39;49murlopen_kw,\n\u001b[1;32m    116\u001b[0m     )\n\u001b[1;32m    117\u001b[0m \u001b[39melse\u001b[39;00m:\n\u001b[1;32m    118\u001b[0m     \u001b[39mreturn\u001b[39;00m \u001b[39mself\u001b[39m\u001b[39m.\u001b[39mrequest_encode_body(\n\u001b[1;32m    119\u001b[0m         method, url, fields\u001b[39m=\u001b[39mfields, headers\u001b[39m=\u001b[39mheaders, \u001b[39m*\u001b[39m\u001b[39m*\u001b[39murlopen_kw\n\u001b[1;32m    120\u001b[0m     )\n",
      "File \u001b[0;32m~/anaconda3/envs/clase/lib/python3.10/site-packages/urllib3/_request_methods.py:143\u001b[0m, in \u001b[0;36mRequestMethods.request_encode_url\u001b[0;34m(self, method, url, fields, headers, **urlopen_kw)\u001b[0m\n\u001b[1;32m    140\u001b[0m \u001b[39mif\u001b[39;00m fields:\n\u001b[1;32m    141\u001b[0m     url \u001b[39m+\u001b[39m\u001b[39m=\u001b[39m \u001b[39m\"\u001b[39m\u001b[39m?\u001b[39m\u001b[39m\"\u001b[39m \u001b[39m+\u001b[39m urlencode(fields)\n\u001b[0;32m--> 143\u001b[0m \u001b[39mreturn\u001b[39;00m \u001b[39mself\u001b[39;49m\u001b[39m.\u001b[39;49murlopen(method, url, \u001b[39m*\u001b[39;49m\u001b[39m*\u001b[39;49mextra_kw)\n",
      "File \u001b[0;32m~/anaconda3/envs/clase/lib/python3.10/site-packages/urllib3/poolmanager.py:443\u001b[0m, in \u001b[0;36mPoolManager.urlopen\u001b[0;34m(self, method, url, redirect, **kw)\u001b[0m\n\u001b[1;32m    441\u001b[0m     response \u001b[39m=\u001b[39m conn\u001b[39m.\u001b[39murlopen(method, url, \u001b[39m*\u001b[39m\u001b[39m*\u001b[39mkw)\n\u001b[1;32m    442\u001b[0m \u001b[39melse\u001b[39;00m:\n\u001b[0;32m--> 443\u001b[0m     response \u001b[39m=\u001b[39m conn\u001b[39m.\u001b[39;49murlopen(method, u\u001b[39m.\u001b[39;49mrequest_uri, \u001b[39m*\u001b[39;49m\u001b[39m*\u001b[39;49mkw)\n\u001b[1;32m    445\u001b[0m redirect_location \u001b[39m=\u001b[39m redirect \u001b[39mand\u001b[39;00m response\u001b[39m.\u001b[39mget_redirect_location()\n\u001b[1;32m    446\u001b[0m \u001b[39mif\u001b[39;00m \u001b[39mnot\u001b[39;00m redirect_location:\n",
      "File \u001b[0;32m~/anaconda3/envs/clase/lib/python3.10/site-packages/urllib3/connectionpool.py:791\u001b[0m, in \u001b[0;36mHTTPConnectionPool.urlopen\u001b[0;34m(self, method, url, body, headers, retries, redirect, assert_same_host, timeout, pool_timeout, release_conn, chunked, body_pos, preload_content, decode_content, **response_kw)\u001b[0m\n\u001b[1;32m    788\u001b[0m response_conn \u001b[39m=\u001b[39m conn \u001b[39mif\u001b[39;00m \u001b[39mnot\u001b[39;00m release_conn \u001b[39melse\u001b[39;00m \u001b[39mNone\u001b[39;00m\n\u001b[1;32m    790\u001b[0m \u001b[39m# Make the request on the HTTPConnection object\u001b[39;00m\n\u001b[0;32m--> 791\u001b[0m response \u001b[39m=\u001b[39m \u001b[39mself\u001b[39;49m\u001b[39m.\u001b[39;49m_make_request(\n\u001b[1;32m    792\u001b[0m     conn,\n\u001b[1;32m    793\u001b[0m     method,\n\u001b[1;32m    794\u001b[0m     url,\n\u001b[1;32m    795\u001b[0m     timeout\u001b[39m=\u001b[39;49mtimeout_obj,\n\u001b[1;32m    796\u001b[0m     body\u001b[39m=\u001b[39;49mbody,\n\u001b[1;32m    797\u001b[0m     headers\u001b[39m=\u001b[39;49mheaders,\n\u001b[1;32m    798\u001b[0m     chunked\u001b[39m=\u001b[39;49mchunked,\n\u001b[1;32m    799\u001b[0m     retries\u001b[39m=\u001b[39;49mretries,\n\u001b[1;32m    800\u001b[0m     response_conn\u001b[39m=\u001b[39;49mresponse_conn,\n\u001b[1;32m    801\u001b[0m     preload_content\u001b[39m=\u001b[39;49mpreload_content,\n\u001b[1;32m    802\u001b[0m     decode_content\u001b[39m=\u001b[39;49mdecode_content,\n\u001b[1;32m    803\u001b[0m     \u001b[39m*\u001b[39;49m\u001b[39m*\u001b[39;49mresponse_kw,\n\u001b[1;32m    804\u001b[0m )\n\u001b[1;32m    806\u001b[0m \u001b[39m# Everything went great!\u001b[39;00m\n\u001b[1;32m    807\u001b[0m clean_exit \u001b[39m=\u001b[39m \u001b[39mTrue\u001b[39;00m\n",
      "File \u001b[0;32m~/anaconda3/envs/clase/lib/python3.10/site-packages/urllib3/connectionpool.py:537\u001b[0m, in \u001b[0;36mHTTPConnectionPool._make_request\u001b[0;34m(self, conn, method, url, body, headers, retries, timeout, chunked, response_conn, preload_content, decode_content, enforce_content_length)\u001b[0m\n\u001b[1;32m    535\u001b[0m \u001b[39m# Receive the response from the server\u001b[39;00m\n\u001b[1;32m    536\u001b[0m \u001b[39mtry\u001b[39;00m:\n\u001b[0;32m--> 537\u001b[0m     response \u001b[39m=\u001b[39m conn\u001b[39m.\u001b[39;49mgetresponse()\n\u001b[1;32m    538\u001b[0m \u001b[39mexcept\u001b[39;00m (BaseSSLError, \u001b[39mOSError\u001b[39;00m) \u001b[39mas\u001b[39;00m e:\n\u001b[1;32m    539\u001b[0m     \u001b[39mself\u001b[39m\u001b[39m.\u001b[39m_raise_timeout(err\u001b[39m=\u001b[39me, url\u001b[39m=\u001b[39murl, timeout_value\u001b[39m=\u001b[39mread_timeout)\n",
      "File \u001b[0;32m~/anaconda3/envs/clase/lib/python3.10/site-packages/urllib3/connection.py:461\u001b[0m, in \u001b[0;36mHTTPConnection.getresponse\u001b[0;34m(self)\u001b[0m\n\u001b[1;32m    458\u001b[0m \u001b[39mfrom\u001b[39;00m \u001b[39m.\u001b[39;00m\u001b[39mresponse\u001b[39;00m \u001b[39mimport\u001b[39;00m HTTPResponse\n\u001b[1;32m    460\u001b[0m \u001b[39m# Get the response from http.client.HTTPConnection\u001b[39;00m\n\u001b[0;32m--> 461\u001b[0m httplib_response \u001b[39m=\u001b[39m \u001b[39msuper\u001b[39;49m()\u001b[39m.\u001b[39;49mgetresponse()\n\u001b[1;32m    463\u001b[0m \u001b[39mtry\u001b[39;00m:\n\u001b[1;32m    464\u001b[0m     assert_header_parsing(httplib_response\u001b[39m.\u001b[39mmsg)\n",
      "File \u001b[0;32m~/anaconda3/envs/clase/lib/python3.10/http/client.py:1375\u001b[0m, in \u001b[0;36mHTTPConnection.getresponse\u001b[0;34m(self)\u001b[0m\n\u001b[1;32m   1373\u001b[0m \u001b[39mtry\u001b[39;00m:\n\u001b[1;32m   1374\u001b[0m     \u001b[39mtry\u001b[39;00m:\n\u001b[0;32m-> 1375\u001b[0m         response\u001b[39m.\u001b[39;49mbegin()\n\u001b[1;32m   1376\u001b[0m     \u001b[39mexcept\u001b[39;00m \u001b[39mConnectionError\u001b[39;00m:\n\u001b[1;32m   1377\u001b[0m         \u001b[39mself\u001b[39m\u001b[39m.\u001b[39mclose()\n",
      "File \u001b[0;32m~/anaconda3/envs/clase/lib/python3.10/http/client.py:318\u001b[0m, in \u001b[0;36mHTTPResponse.begin\u001b[0;34m(self)\u001b[0m\n\u001b[1;32m    316\u001b[0m \u001b[39m# read until we get a non-100 response\u001b[39;00m\n\u001b[1;32m    317\u001b[0m \u001b[39mwhile\u001b[39;00m \u001b[39mTrue\u001b[39;00m:\n\u001b[0;32m--> 318\u001b[0m     version, status, reason \u001b[39m=\u001b[39m \u001b[39mself\u001b[39;49m\u001b[39m.\u001b[39;49m_read_status()\n\u001b[1;32m    319\u001b[0m     \u001b[39mif\u001b[39;00m status \u001b[39m!=\u001b[39m CONTINUE:\n\u001b[1;32m    320\u001b[0m         \u001b[39mbreak\u001b[39;00m\n",
      "File \u001b[0;32m~/anaconda3/envs/clase/lib/python3.10/http/client.py:279\u001b[0m, in \u001b[0;36mHTTPResponse._read_status\u001b[0;34m(self)\u001b[0m\n\u001b[1;32m    278\u001b[0m \u001b[39mdef\u001b[39;00m \u001b[39m_read_status\u001b[39m(\u001b[39mself\u001b[39m):\n\u001b[0;32m--> 279\u001b[0m     line \u001b[39m=\u001b[39m \u001b[39mstr\u001b[39m(\u001b[39mself\u001b[39;49m\u001b[39m.\u001b[39;49mfp\u001b[39m.\u001b[39;49mreadline(_MAXLINE \u001b[39m+\u001b[39;49m \u001b[39m1\u001b[39;49m), \u001b[39m\"\u001b[39m\u001b[39miso-8859-1\u001b[39m\u001b[39m\"\u001b[39m)\n\u001b[1;32m    280\u001b[0m     \u001b[39mif\u001b[39;00m \u001b[39mlen\u001b[39m(line) \u001b[39m>\u001b[39m _MAXLINE:\n\u001b[1;32m    281\u001b[0m         \u001b[39mraise\u001b[39;00m LineTooLong(\u001b[39m\"\u001b[39m\u001b[39mstatus line\u001b[39m\u001b[39m\"\u001b[39m)\n",
      "File \u001b[0;32m~/anaconda3/envs/clase/lib/python3.10/socket.py:705\u001b[0m, in \u001b[0;36mSocketIO.readinto\u001b[0;34m(self, b)\u001b[0m\n\u001b[1;32m    703\u001b[0m \u001b[39mwhile\u001b[39;00m \u001b[39mTrue\u001b[39;00m:\n\u001b[1;32m    704\u001b[0m     \u001b[39mtry\u001b[39;00m:\n\u001b[0;32m--> 705\u001b[0m         \u001b[39mreturn\u001b[39;00m \u001b[39mself\u001b[39;49m\u001b[39m.\u001b[39;49m_sock\u001b[39m.\u001b[39;49mrecv_into(b)\n\u001b[1;32m    706\u001b[0m     \u001b[39mexcept\u001b[39;00m timeout:\n\u001b[1;32m    707\u001b[0m         \u001b[39mself\u001b[39m\u001b[39m.\u001b[39m_timeout_occurred \u001b[39m=\u001b[39m \u001b[39mTrue\u001b[39;00m\n",
      "\u001b[0;31mKeyboardInterrupt\u001b[0m: "
     ]
    }
   ],
   "source": [
    "for elemento in datos_imp:\n",
    "    # Obtener el texto de cada elemento y dividirlo en una lista\n",
    "    fila = elemento.text.split('\\n')\n",
    "    # Quedarse solo con los primeros 5 elementos de la lista\n",
    "    fila = fila[:5]\n",
    "    # Agregar la lista resultante a 'filas'\n",
    "    filas.append(fila)"
   ]
  },
  {
   "cell_type": "code",
   "execution_count": null,
   "metadata": {},
   "outputs": [],
   "source": []
  },
  {
   "cell_type": "code",
   "execution_count": null,
   "metadata": {},
   "outputs": [],
   "source": []
  },
  {
   "cell_type": "code",
   "execution_count": 30,
   "metadata": {},
   "outputs": [],
   "source": [
    "# Supongamos que tienes 'table' y 'elementos' como los describiste\n",
    "\n",
    "# Crear una lista para almacenar las filas de la nueva tabla\n",
    "tabla_nueva = []\n",
    "\n",
    "# Iterar a través de 'table'\n",
    "for fila in table:\n",
    "    # Encontrar 'elementos' en la fila actual\n",
    "    elementos_fila = fila.find_elements(By.XPATH, '//product-group-item')\n",
    "    \n",
    "    # Verificar si 'elementos' está presente en la fila\n",
    "    if elementos_fila:\n",
    "        # Extraer el primer elemento de 'elementos' en la fila y agregarlo a la tabla nueva\n",
    "        primer_elemento = elementos_fila[0].text.split('\\n')\n",
    "        tabla_nueva.append([primer_elemento])\n",
    "\n",
    "# Ahora 'tabla_nueva' contiene el primer elemento de cada fila\n"
   ]
  },
  {
   "cell_type": "code",
   "execution_count": 31,
   "metadata": {},
   "outputs": [
    {
     "data": {
      "text/plain": [
       "[[['Cariño',\n",
       "   'Inverfest 2024',\n",
       "   '13/01/20241 Evento',\n",
       "   ' desde 19,80 €',\n",
       "   'Mostrar 1 Evento',\n",
       "   'Madrid, sáb. 13/01/2024, 21:00',\n",
       "   'Cariño',\n",
       "   ' Entradas']],\n",
       " [['Cariño',\n",
       "   'Inverfest 2024',\n",
       "   '13/01/20241 Evento',\n",
       "   ' desde 19,80 €',\n",
       "   'Mostrar 1 Evento',\n",
       "   'Madrid, sáb. 13/01/2024, 21:00',\n",
       "   'Cariño',\n",
       "   ' Entradas']],\n",
       " [['Cariño',\n",
       "   'Inverfest 2024',\n",
       "   '13/01/20241 Evento',\n",
       "   ' desde 19,80 €',\n",
       "   'Mostrar 1 Evento',\n",
       "   'Madrid, sáb. 13/01/2024, 21:00',\n",
       "   'Cariño',\n",
       "   ' Entradas']],\n",
       " [['Cariño',\n",
       "   'Inverfest 2024',\n",
       "   '13/01/20241 Evento',\n",
       "   ' desde 19,80 €',\n",
       "   'Mostrar 1 Evento',\n",
       "   'Madrid, sáb. 13/01/2024, 21:00',\n",
       "   'Cariño',\n",
       "   ' Entradas']],\n",
       " [['Cariño',\n",
       "   'Inverfest 2024',\n",
       "   '13/01/20241 Evento',\n",
       "   ' desde 19,80 €',\n",
       "   'Mostrar 1 Evento',\n",
       "   'Madrid, sáb. 13/01/2024, 21:00',\n",
       "   'Cariño',\n",
       "   ' Entradas']],\n",
       " [['Cariño',\n",
       "   'Inverfest 2024',\n",
       "   '13/01/20241 Evento',\n",
       "   ' desde 19,80 €',\n",
       "   'Mostrar 1 Evento',\n",
       "   'Madrid, sáb. 13/01/2024, 21:00',\n",
       "   'Cariño',\n",
       "   ' Entradas']],\n",
       " [['Cariño',\n",
       "   'Inverfest 2024',\n",
       "   '13/01/20241 Evento',\n",
       "   ' desde 19,80 €',\n",
       "   'Mostrar 1 Evento',\n",
       "   'Madrid, sáb. 13/01/2024, 21:00',\n",
       "   'Cariño',\n",
       "   ' Entradas']],\n",
       " [['Cariño',\n",
       "   'Inverfest 2024',\n",
       "   '13/01/20241 Evento',\n",
       "   ' desde 19,80 €',\n",
       "   'Mostrar 1 Evento',\n",
       "   'Madrid, sáb. 13/01/2024, 21:00',\n",
       "   'Cariño',\n",
       "   ' Entradas']],\n",
       " [['Cariño',\n",
       "   'Inverfest 2024',\n",
       "   '13/01/20241 Evento',\n",
       "   ' desde 19,80 €',\n",
       "   'Mostrar 1 Evento',\n",
       "   'Madrid, sáb. 13/01/2024, 21:00',\n",
       "   'Cariño',\n",
       "   ' Entradas']],\n",
       " [['Cariño',\n",
       "   'Inverfest 2024',\n",
       "   '13/01/20241 Evento',\n",
       "   ' desde 19,80 €',\n",
       "   'Mostrar 1 Evento',\n",
       "   'Madrid, sáb. 13/01/2024, 21:00',\n",
       "   'Cariño',\n",
       "   ' Entradas']],\n",
       " [['Cariño',\n",
       "   'Inverfest 2024',\n",
       "   '13/01/20241 Evento',\n",
       "   ' desde 19,80 €',\n",
       "   'Mostrar 1 Evento',\n",
       "   'Madrid, sáb. 13/01/2024, 21:00',\n",
       "   'Cariño',\n",
       "   ' Entradas']],\n",
       " [['Cariño',\n",
       "   'Inverfest 2024',\n",
       "   '13/01/20241 Evento',\n",
       "   ' desde 19,80 €',\n",
       "   'Mostrar 1 Evento',\n",
       "   'Madrid, sáb. 13/01/2024, 21:00',\n",
       "   'Cariño',\n",
       "   ' Entradas']],\n",
       " [['Cariño',\n",
       "   'Inverfest 2024',\n",
       "   '13/01/20241 Evento',\n",
       "   ' desde 19,80 €',\n",
       "   'Mostrar 1 Evento',\n",
       "   'Madrid, sáb. 13/01/2024, 21:00',\n",
       "   'Cariño',\n",
       "   ' Entradas']],\n",
       " [['Cariño',\n",
       "   'Inverfest 2024',\n",
       "   '13/01/20241 Evento',\n",
       "   ' desde 19,80 €',\n",
       "   'Mostrar 1 Evento',\n",
       "   'Madrid, sáb. 13/01/2024, 21:00',\n",
       "   'Cariño',\n",
       "   ' Entradas']],\n",
       " [['Cariño',\n",
       "   'Inverfest 2024',\n",
       "   '13/01/20241 Evento',\n",
       "   ' desde 19,80 €',\n",
       "   'Mostrar 1 Evento',\n",
       "   'Madrid, sáb. 13/01/2024, 21:00',\n",
       "   'Cariño',\n",
       "   ' Entradas']],\n",
       " [['Cariño',\n",
       "   'Inverfest 2024',\n",
       "   '13/01/20241 Evento',\n",
       "   ' desde 19,80 €',\n",
       "   'Mostrar 1 Evento',\n",
       "   'Madrid, sáb. 13/01/2024, 21:00',\n",
       "   'Cariño',\n",
       "   ' Entradas']],\n",
       " [['Cariño',\n",
       "   'Inverfest 2024',\n",
       "   '13/01/20241 Evento',\n",
       "   ' desde 19,80 €',\n",
       "   'Mostrar 1 Evento',\n",
       "   'Madrid, sáb. 13/01/2024, 21:00',\n",
       "   'Cariño',\n",
       "   ' Entradas']],\n",
       " [['Cariño',\n",
       "   'Inverfest 2024',\n",
       "   '13/01/20241 Evento',\n",
       "   ' desde 19,80 €',\n",
       "   'Mostrar 1 Evento',\n",
       "   'Madrid, sáb. 13/01/2024, 21:00',\n",
       "   'Cariño',\n",
       "   ' Entradas']],\n",
       " [['Cariño',\n",
       "   'Inverfest 2024',\n",
       "   '13/01/20241 Evento',\n",
       "   ' desde 19,80 €',\n",
       "   'Mostrar 1 Evento',\n",
       "   'Madrid, sáb. 13/01/2024, 21:00',\n",
       "   'Cariño',\n",
       "   ' Entradas']],\n",
       " [['Cariño',\n",
       "   'Inverfest 2024',\n",
       "   '13/01/20241 Evento',\n",
       "   ' desde 19,80 €',\n",
       "   'Mostrar 1 Evento',\n",
       "   'Madrid, sáb. 13/01/2024, 21:00',\n",
       "   'Cariño',\n",
       "   ' Entradas']]]"
      ]
     },
     "execution_count": 31,
     "metadata": {},
     "output_type": "execute_result"
    }
   ],
   "source": [
    "tabla_nueva"
   ]
  },
  {
   "cell_type": "code",
   "execution_count": null,
   "metadata": {},
   "outputs": [],
   "source": []
  }
 ],
 "metadata": {
  "kernelspec": {
   "display_name": "clase",
   "language": "python",
   "name": "python3"
  },
  "language_info": {
   "codemirror_mode": {
    "name": "ipython",
    "version": 3
   },
   "file_extension": ".py",
   "mimetype": "text/x-python",
   "name": "python",
   "nbconvert_exporter": "python",
   "pygments_lexer": "ipython3",
   "version": "3.10.13"
  }
 },
 "nbformat": 4,
 "nbformat_minor": 2
}
