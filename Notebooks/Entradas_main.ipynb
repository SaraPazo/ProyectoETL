{
 "cells": [
  {
   "cell_type": "code",
   "execution_count": 1,
   "metadata": {},
   "outputs": [],
   "source": [
    "import pandas as pd\n",
    "import numpy as np\n",
    "from selenium.webdriver.chrome.options import Options\n",
    "from webdriver_manager.chrome import ChromeDriverManager\n",
    "\n",
    "from selenium import webdriver # driver de selenium\n",
    "\n",
    "import time   # para manejar tiempo"
   ]
  },
  {
   "cell_type": "code",
   "execution_count": 2,
   "metadata": {},
   "outputs": [],
   "source": [
    "from selenium.webdriver.chrome.options import Options   # opciones del driver\n",
    "\n",
    "from selenium.webdriver.common.by import By   # para buscar segun tag, id, class, etc...\n",
    "\n",
    "from selenium.webdriver.support.ui import WebDriverWait   # es para esperar\n",
    "\n",
    "from selenium.webdriver.support import expected_conditions as EC  # condiciones esperadas...\n",
    "\n",
    "from selenium.webdriver import ActionChains as AC   # acciones encadenadas, rollo doble click\n",
    "\n",
    "from selenium.webdriver.common.keys import Keys  # manejar teclas"
   ]
  },
  {
   "cell_type": "code",
   "execution_count": 3,
   "metadata": {},
   "outputs": [],
   "source": [
    "#driver configuration\n",
    "opciones=Options()\n",
    "\n",
    "opciones.add_experimental_option('excludeSwitches', ['enable-automation'])\n",
    "opciones.add_experimental_option('useAutomationExtension', False)\n",
    "opciones.headless=False    # si True, no aperece la ventana (headless=no visible)\n",
    "opciones.add_argument('--start-maximized')         # comienza maximizado\n",
    "#opciones.add_argument('user-data-dir=selenium')    # mantiene las cookies\n",
    "#opciones.add_extension('driver_folder/adblock.crx')       # adblocker\n",
    "opciones.add_argument('--incognito')"
   ]
  },
  {
   "cell_type": "markdown",
   "metadata": {},
   "source": [
    "#### 1. Conecto con la página WEB"
   ]
  },
  {
   "cell_type": "code",
   "execution_count": 4,
   "metadata": {},
   "outputs": [],
   "source": [
    "PATH = 'driver/chromedriver'\n",
    "\n",
    "driver = webdriver.Chrome()   # abre una ventana de chrome \n",
    "                                # una vez que he abierto una ventana, puedo trabajar siempre sobre esta misma."
   ]
  },
  {
   "cell_type": "code",
   "execution_count": 5,
   "metadata": {},
   "outputs": [],
   "source": [
    "# Tenemos 5 páginas en total, por lo que a partir de aquí iremos llamando a la url para que cambie de página. \n",
    "\n",
    "url = 'https://www.entradas.com/city/madrid-370/conciertos-y-festivales-85/'\n",
    "\n",
    "driver.get(url)"
   ]
  },
  {
   "cell_type": "markdown",
   "metadata": {},
   "source": [
    "Conecto con la Web de Entradas.com para trabajar sobre esta, y hacer scraping de los datos que quiero. Utilizaré el método de Scrapeo de selenium."
   ]
  },
  {
   "cell_type": "markdown",
   "metadata": {},
   "source": [
    "#### 2. Aceptar las cookies "
   ]
  },
  {
   "cell_type": "markdown",
   "metadata": {},
   "source": [
    "- Lo primero que hago es darle a Aceptas las cookies del sitio web. \n",
    "- Para ello tengo un problema inicial, ya que está categorizada como una pestaña \"shadow\" por lo que cuando busco la opción de hacer click al botón de aceptar, aparece como una pestaña / lista vacía. "
   ]
  },
  {
   "cell_type": "code",
   "execution_count": 6,
   "metadata": {},
   "outputs": [],
   "source": [
    "div_shadow = driver.find_element(By.XPATH, '//div[@class=\"cmpwrapper\"]')"
   ]
  },
  {
   "cell_type": "code",
   "execution_count": 7,
   "metadata": {},
   "outputs": [
    {
     "name": "stdout",
     "output_type": "stream",
     "text": [
      "Element has a Shadow DOM\n"
     ]
    }
   ],
   "source": [
    "# Check if the element has a Shadow DOM using JavaScript\n",
    "has_shadow_dom = driver.execute_script('return arguments[0].shadowRoot !== null', div_shadow)\n",
    "\n",
    "if has_shadow_dom:\n",
    "    print(\"Element has a Shadow DOM\")\n",
    "else:\n",
    "    print(\"Element does not have a Shadow DOM\")"
   ]
  },
  {
   "cell_type": "code",
   "execution_count": 8,
   "metadata": {},
   "outputs": [],
   "source": [
    "shadow_root = driver.execute_script('return arguments[0].shadowRoot', div_shadow)"
   ]
  },
  {
   "cell_type": "code",
   "execution_count": 9,
   "metadata": {},
   "outputs": [],
   "source": [
    "shadow_root.find_elements(By.CSS_SELECTOR, '#cmpwelcomebtnyes > a')[0].click()"
   ]
  },
  {
   "cell_type": "markdown",
   "metadata": {},
   "source": [
    "- Una vez consigo traspasar la barrera del 'Shadow DOM', entonces puedo comenzar con el scrapeo de las tablas que necesito para mi estudio. "
   ]
  },
  {
   "cell_type": "markdown",
   "metadata": {},
   "source": [
    "#### 3. Empezamos el scrapeo por eventos en tabla"
   ]
  },
  {
   "cell_type": "code",
   "execution_count": 10,
   "metadata": {},
   "outputs": [],
   "source": [
    "tabla = '//product-group-item'"
   ]
  },
  {
   "cell_type": "code",
   "execution_count": 11,
   "metadata": {},
   "outputs": [
    {
     "data": {
      "text/plain": [
       "[<selenium.webdriver.remote.webelement.WebElement (session=\"1904144bc5519c3e5601cb7a6acef26b\", element=\"76827344A27CB517CBF5E336B8A2A21A_element_92\")>,\n",
       " <selenium.webdriver.remote.webelement.WebElement (session=\"1904144bc5519c3e5601cb7a6acef26b\", element=\"76827344A27CB517CBF5E336B8A2A21A_element_93\")>,\n",
       " <selenium.webdriver.remote.webelement.WebElement (session=\"1904144bc5519c3e5601cb7a6acef26b\", element=\"76827344A27CB517CBF5E336B8A2A21A_element_94\")>,\n",
       " <selenium.webdriver.remote.webelement.WebElement (session=\"1904144bc5519c3e5601cb7a6acef26b\", element=\"76827344A27CB517CBF5E336B8A2A21A_element_95\")>,\n",
       " <selenium.webdriver.remote.webelement.WebElement (session=\"1904144bc5519c3e5601cb7a6acef26b\", element=\"76827344A27CB517CBF5E336B8A2A21A_element_96\")>,\n",
       " <selenium.webdriver.remote.webelement.WebElement (session=\"1904144bc5519c3e5601cb7a6acef26b\", element=\"76827344A27CB517CBF5E336B8A2A21A_element_97\")>,\n",
       " <selenium.webdriver.remote.webelement.WebElement (session=\"1904144bc5519c3e5601cb7a6acef26b\", element=\"76827344A27CB517CBF5E336B8A2A21A_element_98\")>,\n",
       " <selenium.webdriver.remote.webelement.WebElement (session=\"1904144bc5519c3e5601cb7a6acef26b\", element=\"76827344A27CB517CBF5E336B8A2A21A_element_99\")>,\n",
       " <selenium.webdriver.remote.webelement.WebElement (session=\"1904144bc5519c3e5601cb7a6acef26b\", element=\"76827344A27CB517CBF5E336B8A2A21A_element_100\")>,\n",
       " <selenium.webdriver.remote.webelement.WebElement (session=\"1904144bc5519c3e5601cb7a6acef26b\", element=\"76827344A27CB517CBF5E336B8A2A21A_element_101\")>,\n",
       " <selenium.webdriver.remote.webelement.WebElement (session=\"1904144bc5519c3e5601cb7a6acef26b\", element=\"76827344A27CB517CBF5E336B8A2A21A_element_102\")>,\n",
       " <selenium.webdriver.remote.webelement.WebElement (session=\"1904144bc5519c3e5601cb7a6acef26b\", element=\"76827344A27CB517CBF5E336B8A2A21A_element_103\")>,\n",
       " <selenium.webdriver.remote.webelement.WebElement (session=\"1904144bc5519c3e5601cb7a6acef26b\", element=\"76827344A27CB517CBF5E336B8A2A21A_element_104\")>,\n",
       " <selenium.webdriver.remote.webelement.WebElement (session=\"1904144bc5519c3e5601cb7a6acef26b\", element=\"76827344A27CB517CBF5E336B8A2A21A_element_105\")>,\n",
       " <selenium.webdriver.remote.webelement.WebElement (session=\"1904144bc5519c3e5601cb7a6acef26b\", element=\"76827344A27CB517CBF5E336B8A2A21A_element_106\")>,\n",
       " <selenium.webdriver.remote.webelement.WebElement (session=\"1904144bc5519c3e5601cb7a6acef26b\", element=\"76827344A27CB517CBF5E336B8A2A21A_element_107\")>,\n",
       " <selenium.webdriver.remote.webelement.WebElement (session=\"1904144bc5519c3e5601cb7a6acef26b\", element=\"76827344A27CB517CBF5E336B8A2A21A_element_108\")>,\n",
       " <selenium.webdriver.remote.webelement.WebElement (session=\"1904144bc5519c3e5601cb7a6acef26b\", element=\"76827344A27CB517CBF5E336B8A2A21A_element_109\")>,\n",
       " <selenium.webdriver.remote.webelement.WebElement (session=\"1904144bc5519c3e5601cb7a6acef26b\", element=\"76827344A27CB517CBF5E336B8A2A21A_element_110\")>,\n",
       " <selenium.webdriver.remote.webelement.WebElement (session=\"1904144bc5519c3e5601cb7a6acef26b\", element=\"76827344A27CB517CBF5E336B8A2A21A_element_111\")>]"
      ]
     },
     "execution_count": 11,
     "metadata": {},
     "output_type": "execute_result"
    }
   ],
   "source": [
    "table = driver.find_elements(By.XPATH, tabla)\n",
    "table"
   ]
  },
  {
   "cell_type": "code",
   "execution_count": 12,
   "metadata": {},
   "outputs": [
    {
     "data": {
      "text/plain": [
       "list"
      ]
     },
     "execution_count": 12,
     "metadata": {},
     "output_type": "execute_result"
    }
   ],
   "source": [
    "type(table)"
   ]
  },
  {
   "cell_type": "code",
   "execution_count": 13,
   "metadata": {},
   "outputs": [
    {
     "data": {
      "text/plain": [
       "[<selenium.webdriver.remote.webelement.WebElement (session=\"1904144bc5519c3e5601cb7a6acef26b\", element=\"76827344A27CB517CBF5E336B8A2A21A_element_112\")>,\n",
       " <selenium.webdriver.remote.webelement.WebElement (session=\"1904144bc5519c3e5601cb7a6acef26b\", element=\"76827344A27CB517CBF5E336B8A2A21A_element_113\")>]"
      ]
     },
     "execution_count": 13,
     "metadata": {},
     "output_type": "execute_result"
    }
   ],
   "source": [
    "elementos = driver.find_elements(By.XPATH, '//*[@id=\"list-item-0\"]')\n",
    "elementos"
   ]
  },
  {
   "cell_type": "code",
   "execution_count": 14,
   "metadata": {},
   "outputs": [
    {
     "data": {
      "text/plain": [
       "list"
      ]
     },
     "execution_count": 14,
     "metadata": {},
     "output_type": "execute_result"
    }
   ],
   "source": [
    "type(elementos)"
   ]
  },
  {
   "cell_type": "code",
   "execution_count": 15,
   "metadata": {},
   "outputs": [
    {
     "data": {
      "text/plain": [
       "['Cariño',\n",
       " 'Inverfest 2024',\n",
       " '13/01/20241 Evento',\n",
       " ' desde 19,80 €',\n",
       " 'Mostrar 1 Evento']"
      ]
     },
     "execution_count": 15,
     "metadata": {},
     "output_type": "execute_result"
    }
   ],
   "source": [
    "elementos = elementos[0].text.split('\\n')\n",
    "elementos"
   ]
  },
  {
   "cell_type": "code",
   "execution_count": 16,
   "metadata": {},
   "outputs": [
    {
     "data": {
      "text/plain": [
       "[<selenium.webdriver.remote.webelement.WebElement (session=\"1904144bc5519c3e5601cb7a6acef26b\", element=\"76827344A27CB517CBF5E336B8A2A21A_element_114\")>,\n",
       " <selenium.webdriver.remote.webelement.WebElement (session=\"1904144bc5519c3e5601cb7a6acef26b\", element=\"76827344A27CB517CBF5E336B8A2A21A_element_71\")>]"
      ]
     },
     "execution_count": 16,
     "metadata": {},
     "output_type": "execute_result"
    }
   ],
   "source": [
    "elements = driver.find_elements(By.XPATH, '//div[@class=\"search-result-content\"]')\n",
    "elements"
   ]
  },
  {
   "cell_type": "code",
   "execution_count": 17,
   "metadata": {},
   "outputs": [
    {
     "name": "stdout",
     "output_type": "stream",
     "text": [
      "[['Cariño', 'Iván Ferreiro', 'The World Of Hans Zimmer', 'Triángulo de Amor Bizarro', 'Nico B', 'Cala Vento', 'Sidonie', 'Belako - Sigo regando', 'Biznaga', 'Morreo - Alegría Club!', 'Diego el Cigala - Obras Maestras', 'Symphonic Rhapsody of Queen', 'Sexy Zebras', 'Biografía - Rafa Sánchez, de la unión', 'OBK', 'El Consorcio - Toda una vida', 'Rock en Familia - Hijos del Rock and Roll', 'Rock en Familia - I Love Rock and Roll', 'Rock en Familia - Queenmanía', 'Rock en Familia - I Love Heavy Metal'], ['13/01/2024', '1 Evento', '13/01/2024', '1 Evento', '24/04/2024 ─ 29/04/2024', '2 eventos', '29/12/2023', '1 Evento', '14/01/2024', '1 Evento', '01/12/2023', '1 Evento', '12/01/2024 ─ 14/01/2024', '2 eventos', '20/01/2024', '1 Evento', '26/01/2024', '1 Evento', '18/01/2024', '1 Evento', '11/12/2023 ─ 18/12/2023', '2 eventos', '16/01/2024', '1 Evento', '01/02/2024', '1 Evento', '11/12/2023', '1 Evento', '13/01/2024 ─ 27/01/2024', '3 eventos', '27/11/2023 ─ 28/11/2023', '2 eventos', '05/11/2023 ─ 10/03/2024', '2 eventos', '03/12/2023', '1 Evento', '17/12/2023 ─ 14/04/2024', '2 eventos', '19/11/2023 ─ 24/03/2024', '2 eventos'], ['desde 19,80 €', 'desde 38,50 €', 'desde 55,00 €', 'desde 19,80 €', 'desde 13,50 €', 'desde 19,80 €', 'desde 27,50 €', 'desde 17,60 €', 'desde 18,70 €', 'desde 14,50 €', 'desde 55,00 €', 'desde 35,00 €', 'desde 18,00 €', 'desde 35,00 €', 'desde 30,00 €', 'desde 29,00 €', 'desde 7,50 €', 'desde 7,50 €', 'desde 7,50 €', 'desde 7,50 €'], ['https://www.entradas.com/artist/carino/carino-3503691/', 'https://www.entradas.com/artist/ivan-ferreiro/', 'https://www.entradas.com/artist/hans-zimmer/', 'https://www.entradas.com/artist/triangulo-de-amor-bizarro/', 'https://www.entradas.com/artist/nico-b/', 'https://www.entradas.com/artist/cala-vento/', 'https://www.entradas.com/artist/sidonie/sidonie-1739136/', 'https://www.entradas.com/artist/belako/', 'https://www.entradas.com/artist/biznaga/', 'https://www.entradas.com/artist/morreo/', 'https://www.entradas.com/artist/diego-el-cigala/', 'https://www.entradas.com/artist/symphonic-rhapsody-of-queen/symphonic-rhapsody-of-queen-3295553/', 'https://www.entradas.com/artist/sexy-zebras/sexy-zebras-3277511/', 'https://www.entradas.com/artist/rafa-sanchez/', 'https://www.entradas.com/artist/obk/', 'https://www.entradas.com/artist/el-consorcio/el-consorcio-toda-una-vida-3165443/', 'https://www.entradas.com/artist/rock-en-familia/rock-en-familia-hijos-del-rock-and-roll-3272770/', 'https://www.entradas.com/artist/rock-en-familia/rock-en-familia-i-love-rock-and-roll-3221042/', 'https://www.entradas.com/artist/rock-en-familia/rock-en-familia-queenmania-3294746/', 'https://www.entradas.com/artist/rock-en-familia/rock-en-familia-i-love-heavy-metal-3449495/']]\n",
      "[['Cariño', 'Iván Ferreiro', 'The World Of Hans Zimmer', 'Triángulo de Amor Bizarro', 'Nico B', 'Cala Vento', 'Sidonie', 'Belako - Sigo regando', 'Biznaga', 'Morreo - Alegría Club!', 'Diego el Cigala - Obras Maestras', 'Symphonic Rhapsody of Queen', 'Sexy Zebras', 'Biografía - Rafa Sánchez, de la unión', 'OBK', 'El Consorcio - Toda una vida', 'Rock en Familia - Hijos del Rock and Roll', 'Rock en Familia - I Love Rock and Roll', 'Rock en Familia - Queenmanía', 'Rock en Familia - I Love Heavy Metal'], ['13/01/2024', '1 Evento', '13/01/2024', '1 Evento', '24/04/2024 ─ 29/04/2024', '2 eventos', '29/12/2023', '1 Evento', '14/01/2024', '1 Evento', '01/12/2023', '1 Evento', '12/01/2024 ─ 14/01/2024', '2 eventos', '20/01/2024', '1 Evento', '26/01/2024', '1 Evento', '18/01/2024', '1 Evento', '11/12/2023 ─ 18/12/2023', '2 eventos', '16/01/2024', '1 Evento', '01/02/2024', '1 Evento', '11/12/2023', '1 Evento', '13/01/2024 ─ 27/01/2024', '3 eventos', '27/11/2023 ─ 28/11/2023', '2 eventos', '05/11/2023 ─ 10/03/2024', '2 eventos', '03/12/2023', '1 Evento', '17/12/2023 ─ 14/04/2024', '2 eventos', '19/11/2023 ─ 24/03/2024', '2 eventos'], ['desde 19,80 €', 'desde 38,50 €', 'desde 55,00 €', 'desde 19,80 €', 'desde 13,50 €', 'desde 19,80 €', 'desde 27,50 €', 'desde 17,60 €', 'desde 18,70 €', 'desde 14,50 €', 'desde 55,00 €', 'desde 35,00 €', 'desde 18,00 €', 'desde 35,00 €', 'desde 30,00 €', 'desde 29,00 €', 'desde 7,50 €', 'desde 7,50 €', 'desde 7,50 €', 'desde 7,50 €'], ['https://www.entradas.com/artist/carino/carino-3503691/', 'https://www.entradas.com/artist/ivan-ferreiro/', 'https://www.entradas.com/artist/hans-zimmer/', 'https://www.entradas.com/artist/triangulo-de-amor-bizarro/', 'https://www.entradas.com/artist/nico-b/', 'https://www.entradas.com/artist/cala-vento/', 'https://www.entradas.com/artist/sidonie/sidonie-1739136/', 'https://www.entradas.com/artist/belako/', 'https://www.entradas.com/artist/biznaga/', 'https://www.entradas.com/artist/morreo/', 'https://www.entradas.com/artist/diego-el-cigala/', 'https://www.entradas.com/artist/symphonic-rhapsody-of-queen/symphonic-rhapsody-of-queen-3295553/', 'https://www.entradas.com/artist/sexy-zebras/sexy-zebras-3277511/', 'https://www.entradas.com/artist/rafa-sanchez/', 'https://www.entradas.com/artist/obk/', 'https://www.entradas.com/artist/el-consorcio/el-consorcio-toda-una-vida-3165443/', 'https://www.entradas.com/artist/rock-en-familia/rock-en-familia-hijos-del-rock-and-roll-3272770/', 'https://www.entradas.com/artist/rock-en-familia/rock-en-familia-i-love-rock-and-roll-3221042/', 'https://www.entradas.com/artist/rock-en-familia/rock-en-familia-queenmania-3294746/', 'https://www.entradas.com/artist/rock-en-familia/rock-en-familia-i-love-heavy-metal-3449495/']]\n"
     ]
    }
   ],
   "source": [
    "data = []\n",
    "\n",
    "for element in elements:\n",
    "    artist_name = element.find_elements(By.XPATH, '//div[@class=\"event-listing-city theme-text-color\"]')\n",
    "    astists = [artist.text for artist in artist_name]\n",
    "    date_elements = element.find_elements(By.XPATH, '//div//span[@class=\"listing-data theme-text-color\"]//span')\n",
    "    dates = [date.text for date in date_elements]\n",
    "    price = element.find_elements(By.XPATH, '//div/listing-cta/event-status/div/span/span')\n",
    "    precios = [precio.text for precio in price]\n",
    "    enlace = element.find_elements(By.XPATH, '//*[@class = \"btn theme-button-radius btn-sm btn-block btn-primary theme-interaction-btn-bg theme-btn-font-color theme-btn-font-color-hover\"]')\n",
    "    enlaces = [enl.get_attribute('href') for enl in enlace]\n",
    "\n",
    "    data.append([astists, dates, precios, enlaces])\n",
    "\n",
    "for entry in data:\n",
    "    print(entry)"
   ]
  },
  {
   "cell_type": "code",
   "execution_count": 18,
   "metadata": {},
   "outputs": [
    {
     "data": {
      "text/plain": [
       "list"
      ]
     },
     "execution_count": 18,
     "metadata": {},
     "output_type": "execute_result"
    }
   ],
   "source": [
    "type(entry)"
   ]
  },
  {
   "cell_type": "code",
   "execution_count": 19,
   "metadata": {},
   "outputs": [
    {
     "data": {
      "text/plain": [
       "['Cariño',\n",
       " 'Iván Ferreiro',\n",
       " 'The World Of Hans Zimmer',\n",
       " 'Triángulo de Amor Bizarro',\n",
       " 'Nico B',\n",
       " 'Cala Vento',\n",
       " 'Sidonie',\n",
       " 'Belako - Sigo regando',\n",
       " 'Biznaga',\n",
       " 'Morreo - Alegría Club!',\n",
       " 'Diego el Cigala - Obras Maestras',\n",
       " 'Symphonic Rhapsody of Queen',\n",
       " 'Sexy Zebras',\n",
       " 'Biografía - Rafa Sánchez, de la unión',\n",
       " 'OBK',\n",
       " 'El Consorcio - Toda una vida',\n",
       " 'Rock en Familia - Hijos del Rock and Roll',\n",
       " 'Rock en Familia - I Love Rock and Roll',\n",
       " 'Rock en Familia - Queenmanía',\n",
       " 'Rock en Familia - I Love Heavy Metal']"
      ]
     },
     "execution_count": 19,
     "metadata": {},
     "output_type": "execute_result"
    }
   ],
   "source": [
    "artistas = entry[0]\n",
    "artistas"
   ]
  },
  {
   "cell_type": "code",
   "execution_count": 20,
   "metadata": {},
   "outputs": [
    {
     "data": {
      "text/plain": [
       "['13/01/2024',\n",
       " '1 Evento',\n",
       " '13/01/2024',\n",
       " '1 Evento',\n",
       " '24/04/2024 ─ 29/04/2024',\n",
       " '2 eventos',\n",
       " '29/12/2023',\n",
       " '1 Evento',\n",
       " '14/01/2024',\n",
       " '1 Evento',\n",
       " '01/12/2023',\n",
       " '1 Evento',\n",
       " '12/01/2024 ─ 14/01/2024',\n",
       " '2 eventos',\n",
       " '20/01/2024',\n",
       " '1 Evento',\n",
       " '26/01/2024',\n",
       " '1 Evento',\n",
       " '18/01/2024',\n",
       " '1 Evento',\n",
       " '11/12/2023 ─ 18/12/2023',\n",
       " '2 eventos',\n",
       " '16/01/2024',\n",
       " '1 Evento',\n",
       " '01/02/2024',\n",
       " '1 Evento',\n",
       " '11/12/2023',\n",
       " '1 Evento',\n",
       " '13/01/2024 ─ 27/01/2024',\n",
       " '3 eventos',\n",
       " '27/11/2023 ─ 28/11/2023',\n",
       " '2 eventos',\n",
       " '05/11/2023 ─ 10/03/2024',\n",
       " '2 eventos',\n",
       " '03/12/2023',\n",
       " '1 Evento',\n",
       " '17/12/2023 ─ 14/04/2024',\n",
       " '2 eventos',\n",
       " '19/11/2023 ─ 24/03/2024',\n",
       " '2 eventos']"
      ]
     },
     "execution_count": 20,
     "metadata": {},
     "output_type": "execute_result"
    }
   ],
   "source": [
    "fecha_eventos = entry[1]\n",
    "fecha_eventos"
   ]
  },
  {
   "cell_type": "code",
   "execution_count": 21,
   "metadata": {},
   "outputs": [
    {
     "data": {
      "text/plain": [
       "['desde 19,80 €',\n",
       " 'desde 38,50 €',\n",
       " 'desde 55,00 €',\n",
       " 'desde 19,80 €',\n",
       " 'desde 13,50 €',\n",
       " 'desde 19,80 €',\n",
       " 'desde 27,50 €',\n",
       " 'desde 17,60 €',\n",
       " 'desde 18,70 €',\n",
       " 'desde 14,50 €',\n",
       " 'desde 55,00 €',\n",
       " 'desde 35,00 €',\n",
       " 'desde 18,00 €',\n",
       " 'desde 35,00 €',\n",
       " 'desde 30,00 €',\n",
       " 'desde 29,00 €',\n",
       " 'desde 7,50 €',\n",
       " 'desde 7,50 €',\n",
       " 'desde 7,50 €',\n",
       " 'desde 7,50 €']"
      ]
     },
     "execution_count": 21,
     "metadata": {},
     "output_type": "execute_result"
    }
   ],
   "source": [
    "precios = entry[2]\n",
    "precios\n"
   ]
  },
  {
   "cell_type": "code",
   "execution_count": 22,
   "metadata": {},
   "outputs": [
    {
     "name": "stdout",
     "output_type": "stream",
     "text": [
      "['13/01/2024', '13/01/2024', '24/04/2024 ─ 29/04/2024', '29/12/2023', '14/01/2024', '01/12/2023', '12/01/2024 ─ 14/01/2024', '20/01/2024', '26/01/2024', '18/01/2024', '11/12/2023 ─ 18/12/2023', '16/01/2024', '01/02/2024', '11/12/2023', '13/01/2024 ─ 27/01/2024', '27/11/2023 ─ 28/11/2023', '05/11/2023 ─ 10/03/2024', '03/12/2023', '17/12/2023 ─ 14/04/2024', '19/11/2023 ─ 24/03/2024']\n",
      "['1 Evento', '1 Evento', '2 eventos', '1 Evento', '1 Evento', '1 Evento', '2 eventos', '1 Evento', '1 Evento', '1 Evento', '2 eventos', '1 Evento', '1 Evento', '1 Evento', '3 eventos', '2 eventos', '2 eventos', '1 Evento', '2 eventos', '2 eventos']\n"
     ]
    }
   ],
   "source": [
    "fechas = []\n",
    "num_eventos = []\n",
    "\n",
    "for i in range(0, len(fecha_eventos), 2):\n",
    "    fechas.append(fecha_eventos[i])\n",
    "\n",
    "for i in range(1, len(fecha_eventos), 2):\n",
    "    num_eventos.append(fecha_eventos[i])\n",
    "\n",
    "print(fechas)\n",
    "print(num_eventos)"
   ]
  },
  {
   "cell_type": "code",
   "execution_count": 23,
   "metadata": {},
   "outputs": [],
   "source": [
    "import pandas as pd"
   ]
  },
  {
   "cell_type": "code",
   "execution_count": 24,
   "metadata": {},
   "outputs": [
    {
     "data": {
      "text/html": [
       "<div>\n",
       "<style scoped>\n",
       "    .dataframe tbody tr th:only-of-type {\n",
       "        vertical-align: middle;\n",
       "    }\n",
       "\n",
       "    .dataframe tbody tr th {\n",
       "        vertical-align: top;\n",
       "    }\n",
       "\n",
       "    .dataframe thead th {\n",
       "        text-align: right;\n",
       "    }\n",
       "</style>\n",
       "<table border=\"1\" class=\"dataframe\">\n",
       "  <thead>\n",
       "    <tr style=\"text-align: right;\">\n",
       "      <th></th>\n",
       "      <th>artista</th>\n",
       "      <th>fechas</th>\n",
       "      <th>eventos</th>\n",
       "      <th>precios</th>\n",
       "      <th>enlaces</th>\n",
       "    </tr>\n",
       "  </thead>\n",
       "  <tbody>\n",
       "    <tr>\n",
       "      <th>0</th>\n",
       "      <td>Cariño</td>\n",
       "      <td>13/01/2024</td>\n",
       "      <td>1 Evento</td>\n",
       "      <td>desde 19,80 €</td>\n",
       "      <td>https://www.entradas.com/artist/carino/carino-...</td>\n",
       "    </tr>\n",
       "    <tr>\n",
       "      <th>1</th>\n",
       "      <td>Iván Ferreiro</td>\n",
       "      <td>13/01/2024</td>\n",
       "      <td>1 Evento</td>\n",
       "      <td>desde 38,50 €</td>\n",
       "      <td>https://www.entradas.com/artist/ivan-ferreiro/</td>\n",
       "    </tr>\n",
       "    <tr>\n",
       "      <th>2</th>\n",
       "      <td>The World Of Hans Zimmer</td>\n",
       "      <td>24/04/2024 ─ 29/04/2024</td>\n",
       "      <td>2 eventos</td>\n",
       "      <td>desde 55,00 €</td>\n",
       "      <td>https://www.entradas.com/artist/hans-zimmer/</td>\n",
       "    </tr>\n",
       "    <tr>\n",
       "      <th>3</th>\n",
       "      <td>Triángulo de Amor Bizarro</td>\n",
       "      <td>29/12/2023</td>\n",
       "      <td>1 Evento</td>\n",
       "      <td>desde 19,80 €</td>\n",
       "      <td>https://www.entradas.com/artist/triangulo-de-a...</td>\n",
       "    </tr>\n",
       "    <tr>\n",
       "      <th>4</th>\n",
       "      <td>Nico B</td>\n",
       "      <td>14/01/2024</td>\n",
       "      <td>1 Evento</td>\n",
       "      <td>desde 13,50 €</td>\n",
       "      <td>https://www.entradas.com/artist/nico-b/</td>\n",
       "    </tr>\n",
       "    <tr>\n",
       "      <th>5</th>\n",
       "      <td>Cala Vento</td>\n",
       "      <td>01/12/2023</td>\n",
       "      <td>1 Evento</td>\n",
       "      <td>desde 19,80 €</td>\n",
       "      <td>https://www.entradas.com/artist/cala-vento/</td>\n",
       "    </tr>\n",
       "    <tr>\n",
       "      <th>6</th>\n",
       "      <td>Sidonie</td>\n",
       "      <td>12/01/2024 ─ 14/01/2024</td>\n",
       "      <td>2 eventos</td>\n",
       "      <td>desde 27,50 €</td>\n",
       "      <td>https://www.entradas.com/artist/sidonie/sidoni...</td>\n",
       "    </tr>\n",
       "    <tr>\n",
       "      <th>7</th>\n",
       "      <td>Belako - Sigo regando</td>\n",
       "      <td>20/01/2024</td>\n",
       "      <td>1 Evento</td>\n",
       "      <td>desde 17,60 €</td>\n",
       "      <td>https://www.entradas.com/artist/belako/</td>\n",
       "    </tr>\n",
       "    <tr>\n",
       "      <th>8</th>\n",
       "      <td>Biznaga</td>\n",
       "      <td>26/01/2024</td>\n",
       "      <td>1 Evento</td>\n",
       "      <td>desde 18,70 €</td>\n",
       "      <td>https://www.entradas.com/artist/biznaga/</td>\n",
       "    </tr>\n",
       "    <tr>\n",
       "      <th>9</th>\n",
       "      <td>Morreo - Alegría Club!</td>\n",
       "      <td>18/01/2024</td>\n",
       "      <td>1 Evento</td>\n",
       "      <td>desde 14,50 €</td>\n",
       "      <td>https://www.entradas.com/artist/morreo/</td>\n",
       "    </tr>\n",
       "    <tr>\n",
       "      <th>10</th>\n",
       "      <td>Diego el Cigala - Obras Maestras</td>\n",
       "      <td>11/12/2023 ─ 18/12/2023</td>\n",
       "      <td>2 eventos</td>\n",
       "      <td>desde 55,00 €</td>\n",
       "      <td>https://www.entradas.com/artist/diego-el-cigala/</td>\n",
       "    </tr>\n",
       "    <tr>\n",
       "      <th>11</th>\n",
       "      <td>Symphonic Rhapsody of Queen</td>\n",
       "      <td>16/01/2024</td>\n",
       "      <td>1 Evento</td>\n",
       "      <td>desde 35,00 €</td>\n",
       "      <td>https://www.entradas.com/artist/symphonic-rhap...</td>\n",
       "    </tr>\n",
       "    <tr>\n",
       "      <th>12</th>\n",
       "      <td>Sexy Zebras</td>\n",
       "      <td>01/02/2024</td>\n",
       "      <td>1 Evento</td>\n",
       "      <td>desde 18,00 €</td>\n",
       "      <td>https://www.entradas.com/artist/sexy-zebras/se...</td>\n",
       "    </tr>\n",
       "    <tr>\n",
       "      <th>13</th>\n",
       "      <td>Biografía - Rafa Sánchez, de la unión</td>\n",
       "      <td>11/12/2023</td>\n",
       "      <td>1 Evento</td>\n",
       "      <td>desde 35,00 €</td>\n",
       "      <td>https://www.entradas.com/artist/rafa-sanchez/</td>\n",
       "    </tr>\n",
       "    <tr>\n",
       "      <th>14</th>\n",
       "      <td>OBK</td>\n",
       "      <td>13/01/2024 ─ 27/01/2024</td>\n",
       "      <td>3 eventos</td>\n",
       "      <td>desde 30,00 €</td>\n",
       "      <td>https://www.entradas.com/artist/obk/</td>\n",
       "    </tr>\n",
       "    <tr>\n",
       "      <th>15</th>\n",
       "      <td>El Consorcio - Toda una vida</td>\n",
       "      <td>27/11/2023 ─ 28/11/2023</td>\n",
       "      <td>2 eventos</td>\n",
       "      <td>desde 29,00 €</td>\n",
       "      <td>https://www.entradas.com/artist/el-consorcio/e...</td>\n",
       "    </tr>\n",
       "    <tr>\n",
       "      <th>16</th>\n",
       "      <td>Rock en Familia - Hijos del Rock and Roll</td>\n",
       "      <td>05/11/2023 ─ 10/03/2024</td>\n",
       "      <td>2 eventos</td>\n",
       "      <td>desde 7,50 €</td>\n",
       "      <td>https://www.entradas.com/artist/rock-en-famili...</td>\n",
       "    </tr>\n",
       "    <tr>\n",
       "      <th>17</th>\n",
       "      <td>Rock en Familia - I Love Rock and Roll</td>\n",
       "      <td>03/12/2023</td>\n",
       "      <td>1 Evento</td>\n",
       "      <td>desde 7,50 €</td>\n",
       "      <td>https://www.entradas.com/artist/rock-en-famili...</td>\n",
       "    </tr>\n",
       "    <tr>\n",
       "      <th>18</th>\n",
       "      <td>Rock en Familia - Queenmanía</td>\n",
       "      <td>17/12/2023 ─ 14/04/2024</td>\n",
       "      <td>2 eventos</td>\n",
       "      <td>desde 7,50 €</td>\n",
       "      <td>https://www.entradas.com/artist/rock-en-famili...</td>\n",
       "    </tr>\n",
       "    <tr>\n",
       "      <th>19</th>\n",
       "      <td>Rock en Familia - I Love Heavy Metal</td>\n",
       "      <td>19/11/2023 ─ 24/03/2024</td>\n",
       "      <td>2 eventos</td>\n",
       "      <td>desde 7,50 €</td>\n",
       "      <td>https://www.entradas.com/artist/rock-en-famili...</td>\n",
       "    </tr>\n",
       "  </tbody>\n",
       "</table>\n",
       "</div>"
      ],
      "text/plain": [
       "                                      artista                   fechas  \\\n",
       "0                                      Cariño               13/01/2024   \n",
       "1                               Iván Ferreiro               13/01/2024   \n",
       "2                    The World Of Hans Zimmer  24/04/2024 ─ 29/04/2024   \n",
       "3                   Triángulo de Amor Bizarro               29/12/2023   \n",
       "4                                      Nico B               14/01/2024   \n",
       "5                                  Cala Vento               01/12/2023   \n",
       "6                                     Sidonie  12/01/2024 ─ 14/01/2024   \n",
       "7                       Belako - Sigo regando               20/01/2024   \n",
       "8                                     Biznaga               26/01/2024   \n",
       "9                      Morreo - Alegría Club!               18/01/2024   \n",
       "10           Diego el Cigala - Obras Maestras  11/12/2023 ─ 18/12/2023   \n",
       "11                Symphonic Rhapsody of Queen               16/01/2024   \n",
       "12                                Sexy Zebras               01/02/2024   \n",
       "13      Biografía - Rafa Sánchez, de la unión               11/12/2023   \n",
       "14                                        OBK  13/01/2024 ─ 27/01/2024   \n",
       "15               El Consorcio - Toda una vida  27/11/2023 ─ 28/11/2023   \n",
       "16  Rock en Familia - Hijos del Rock and Roll  05/11/2023 ─ 10/03/2024   \n",
       "17     Rock en Familia - I Love Rock and Roll               03/12/2023   \n",
       "18               Rock en Familia - Queenmanía  17/12/2023 ─ 14/04/2024   \n",
       "19       Rock en Familia - I Love Heavy Metal  19/11/2023 ─ 24/03/2024   \n",
       "\n",
       "      eventos        precios  \\\n",
       "0    1 Evento  desde 19,80 €   \n",
       "1    1 Evento  desde 38,50 €   \n",
       "2   2 eventos  desde 55,00 €   \n",
       "3    1 Evento  desde 19,80 €   \n",
       "4    1 Evento  desde 13,50 €   \n",
       "5    1 Evento  desde 19,80 €   \n",
       "6   2 eventos  desde 27,50 €   \n",
       "7    1 Evento  desde 17,60 €   \n",
       "8    1 Evento  desde 18,70 €   \n",
       "9    1 Evento  desde 14,50 €   \n",
       "10  2 eventos  desde 55,00 €   \n",
       "11   1 Evento  desde 35,00 €   \n",
       "12   1 Evento  desde 18,00 €   \n",
       "13   1 Evento  desde 35,00 €   \n",
       "14  3 eventos  desde 30,00 €   \n",
       "15  2 eventos  desde 29,00 €   \n",
       "16  2 eventos   desde 7,50 €   \n",
       "17   1 Evento   desde 7,50 €   \n",
       "18  2 eventos   desde 7,50 €   \n",
       "19  2 eventos   desde 7,50 €   \n",
       "\n",
       "                                              enlaces  \n",
       "0   https://www.entradas.com/artist/carino/carino-...  \n",
       "1      https://www.entradas.com/artist/ivan-ferreiro/  \n",
       "2        https://www.entradas.com/artist/hans-zimmer/  \n",
       "3   https://www.entradas.com/artist/triangulo-de-a...  \n",
       "4             https://www.entradas.com/artist/nico-b/  \n",
       "5         https://www.entradas.com/artist/cala-vento/  \n",
       "6   https://www.entradas.com/artist/sidonie/sidoni...  \n",
       "7             https://www.entradas.com/artist/belako/  \n",
       "8            https://www.entradas.com/artist/biznaga/  \n",
       "9             https://www.entradas.com/artist/morreo/  \n",
       "10   https://www.entradas.com/artist/diego-el-cigala/  \n",
       "11  https://www.entradas.com/artist/symphonic-rhap...  \n",
       "12  https://www.entradas.com/artist/sexy-zebras/se...  \n",
       "13      https://www.entradas.com/artist/rafa-sanchez/  \n",
       "14               https://www.entradas.com/artist/obk/  \n",
       "15  https://www.entradas.com/artist/el-consorcio/e...  \n",
       "16  https://www.entradas.com/artist/rock-en-famili...  \n",
       "17  https://www.entradas.com/artist/rock-en-famili...  \n",
       "18  https://www.entradas.com/artist/rock-en-famili...  \n",
       "19  https://www.entradas.com/artist/rock-en-famili...  "
      ]
     },
     "execution_count": 24,
     "metadata": {},
     "output_type": "execute_result"
    }
   ],
   "source": [
    "datos = pd.DataFrame({'artista': artistas, 'fechas': fechas, 'eventos': num_eventos, 'precios': precios, 'enlaces': enlaces})\n",
    "\n",
    "datos"
   ]
  },
  {
   "cell_type": "markdown",
   "metadata": {},
   "source": [
    "#### Para entrar en la siguiente página"
   ]
  },
  {
   "cell_type": "code",
   "execution_count": 46,
   "metadata": {},
   "outputs": [],
   "source": [
    "driver.find_elements(By.XPATH, '//*[@id=\"main\"]/section[3]/serp-widget/search-results/div/product-listing/listing-pagination/nav/ul/pagination-item[6]/a')[0].click()"
   ]
  },
  {
   "cell_type": "code",
   "execution_count": 49,
   "metadata": {},
   "outputs": [
    {
     "ename": "StaleElementReferenceException",
     "evalue": "Message: stale element reference: stale element not found\n  (Session info: chrome=119.0.6045.105); For documentation on this error, please visit: https://www.selenium.dev/documentation/webdriver/troubleshooting/errors#stale-element-reference-exception\nStacktrace:\n0   chromedriver                        0x0000000102d86004 chromedriver + 4169732\n1   chromedriver                        0x0000000102d7dff8 chromedriver + 4136952\n2   chromedriver                        0x00000001029d3500 chromedriver + 292096\n3   chromedriver                        0x00000001029e1b74 chromedriver + 351092\n4   chromedriver                        0x00000001029d91f8 chromedriver + 315896\n5   chromedriver                        0x00000001029d79dc chromedriver + 309724\n6   chromedriver                        0x00000001029da780 chromedriver + 321408\n7   chromedriver                        0x00000001029da8ac chromedriver + 321708\n8   chromedriver                        0x0000000102a188f8 chromedriver + 575736\n9   chromedriver                        0x0000000102a0ddb4 chromedriver + 531892\n10  chromedriver                        0x0000000102a53818 chromedriver + 817176\n11  chromedriver                        0x0000000102a0c5e8 chromedriver + 525800\n12  chromedriver                        0x0000000102a0d4b8 chromedriver + 529592\n13  chromedriver                        0x0000000102d4c334 chromedriver + 3932980\n14  chromedriver                        0x0000000102d50970 chromedriver + 3950960\n15  chromedriver                        0x0000000102d34774 chromedriver + 3835764\n16  chromedriver                        0x0000000102d51478 chromedriver + 3953784\n17  chromedriver                        0x0000000102d26ab4 chromedriver + 3779252\n18  chromedriver                        0x0000000102d6d914 chromedriver + 4069652\n19  chromedriver                        0x0000000102d6da90 chromedriver + 4070032\n20  chromedriver                        0x0000000102d7dc70 chromedriver + 4136048\n21  libsystem_pthread.dylib             0x00000001842d3fa8 _pthread_start + 148\n22  libsystem_pthread.dylib             0x00000001842ceda0 thread_start + 8\n",
     "output_type": "error",
     "traceback": [
      "\u001b[0;31m---------------------------------------------------------------------------\u001b[0m",
      "\u001b[0;31mStaleElementReferenceException\u001b[0m            Traceback (most recent call last)",
      "\u001b[1;32m/Users/sarapazopadron/BOOTCAMP/Proyectos/ProyectoETL/Notebooks/Entradas_main.ipynb Celda 33\u001b[0m line \u001b[0;36m4\n\u001b[1;32m      <a href='vscode-notebook-cell:/Users/sarapazopadron/BOOTCAMP/Proyectos/ProyectoETL/Notebooks/Entradas_main.ipynb#Y150sZmlsZQ%3D%3D?line=0'>1</a>\u001b[0m data_2 \u001b[39m=\u001b[39m []\n\u001b[1;32m      <a href='vscode-notebook-cell:/Users/sarapazopadron/BOOTCAMP/Proyectos/ProyectoETL/Notebooks/Entradas_main.ipynb#Y150sZmlsZQ%3D%3D?line=2'>3</a>\u001b[0m \u001b[39mfor\u001b[39;00m element \u001b[39min\u001b[39;00m elements:\n\u001b[0;32m----> <a href='vscode-notebook-cell:/Users/sarapazopadron/BOOTCAMP/Proyectos/ProyectoETL/Notebooks/Entradas_main.ipynb#Y150sZmlsZQ%3D%3D?line=3'>4</a>\u001b[0m     artist_name \u001b[39m=\u001b[39m element\u001b[39m.\u001b[39;49mfind_elements(By\u001b[39m.\u001b[39;49mXPATH, \u001b[39m'\u001b[39;49m\u001b[39m//div[@class=\u001b[39;49m\u001b[39m\"\u001b[39;49m\u001b[39mevent-listing-city theme-text-color\u001b[39;49m\u001b[39m\"\u001b[39;49m\u001b[39m]\u001b[39;49m\u001b[39m'\u001b[39;49m)\n\u001b[1;32m      <a href='vscode-notebook-cell:/Users/sarapazopadron/BOOTCAMP/Proyectos/ProyectoETL/Notebooks/Entradas_main.ipynb#Y150sZmlsZQ%3D%3D?line=4'>5</a>\u001b[0m     astists \u001b[39m=\u001b[39m [artist\u001b[39m.\u001b[39mtext \u001b[39mfor\u001b[39;00m artist \u001b[39min\u001b[39;00m artist_name]\n\u001b[1;32m      <a href='vscode-notebook-cell:/Users/sarapazopadron/BOOTCAMP/Proyectos/ProyectoETL/Notebooks/Entradas_main.ipynb#Y150sZmlsZQ%3D%3D?line=5'>6</a>\u001b[0m     date_elements \u001b[39m=\u001b[39m element\u001b[39m.\u001b[39mfind_elements(By\u001b[39m.\u001b[39mXPATH, \u001b[39m'\u001b[39m\u001b[39m//div//span[@class=\u001b[39m\u001b[39m\"\u001b[39m\u001b[39mlisting-data theme-text-color\u001b[39m\u001b[39m\"\u001b[39m\u001b[39m]//span\u001b[39m\u001b[39m'\u001b[39m)\n",
      "File \u001b[0;32m~/anaconda3/envs/clase/lib/python3.10/site-packages/selenium/webdriver/remote/webelement.py:438\u001b[0m, in \u001b[0;36mWebElement.find_elements\u001b[0;34m(self, by, value)\u001b[0m\n\u001b[1;32m    435\u001b[0m     by \u001b[39m=\u001b[39m By\u001b[39m.\u001b[39mCSS_SELECTOR\n\u001b[1;32m    436\u001b[0m     value \u001b[39m=\u001b[39m \u001b[39mf\u001b[39m\u001b[39m'\u001b[39m\u001b[39m[name=\u001b[39m\u001b[39m\"\u001b[39m\u001b[39m{\u001b[39;00mvalue\u001b[39m}\u001b[39;00m\u001b[39m\"\u001b[39m\u001b[39m]\u001b[39m\u001b[39m'\u001b[39m\n\u001b[0;32m--> 438\u001b[0m \u001b[39mreturn\u001b[39;00m \u001b[39mself\u001b[39;49m\u001b[39m.\u001b[39;49m_execute(Command\u001b[39m.\u001b[39;49mFIND_CHILD_ELEMENTS, {\u001b[39m\"\u001b[39;49m\u001b[39musing\u001b[39;49m\u001b[39m\"\u001b[39;49m: by, \u001b[39m\"\u001b[39;49m\u001b[39mvalue\u001b[39;49m\u001b[39m\"\u001b[39;49m: value})[\u001b[39m\"\u001b[39m\u001b[39mvalue\u001b[39m\u001b[39m\"\u001b[39m]\n",
      "File \u001b[0;32m~/anaconda3/envs/clase/lib/python3.10/site-packages/selenium/webdriver/remote/webelement.py:394\u001b[0m, in \u001b[0;36mWebElement._execute\u001b[0;34m(self, command, params)\u001b[0m\n\u001b[1;32m    392\u001b[0m     params \u001b[39m=\u001b[39m {}\n\u001b[1;32m    393\u001b[0m params[\u001b[39m\"\u001b[39m\u001b[39mid\u001b[39m\u001b[39m\"\u001b[39m] \u001b[39m=\u001b[39m \u001b[39mself\u001b[39m\u001b[39m.\u001b[39m_id\n\u001b[0;32m--> 394\u001b[0m \u001b[39mreturn\u001b[39;00m \u001b[39mself\u001b[39;49m\u001b[39m.\u001b[39;49m_parent\u001b[39m.\u001b[39;49mexecute(command, params)\n",
      "File \u001b[0;32m~/anaconda3/envs/clase/lib/python3.10/site-packages/selenium/webdriver/remote/webdriver.py:344\u001b[0m, in \u001b[0;36mWebDriver.execute\u001b[0;34m(self, driver_command, params)\u001b[0m\n\u001b[1;32m    342\u001b[0m response \u001b[39m=\u001b[39m \u001b[39mself\u001b[39m\u001b[39m.\u001b[39mcommand_executor\u001b[39m.\u001b[39mexecute(driver_command, params)\n\u001b[1;32m    343\u001b[0m \u001b[39mif\u001b[39;00m response:\n\u001b[0;32m--> 344\u001b[0m     \u001b[39mself\u001b[39;49m\u001b[39m.\u001b[39;49merror_handler\u001b[39m.\u001b[39;49mcheck_response(response)\n\u001b[1;32m    345\u001b[0m     response[\u001b[39m\"\u001b[39m\u001b[39mvalue\u001b[39m\u001b[39m\"\u001b[39m] \u001b[39m=\u001b[39m \u001b[39mself\u001b[39m\u001b[39m.\u001b[39m_unwrap_value(response\u001b[39m.\u001b[39mget(\u001b[39m\"\u001b[39m\u001b[39mvalue\u001b[39m\u001b[39m\"\u001b[39m, \u001b[39mNone\u001b[39;00m))\n\u001b[1;32m    346\u001b[0m     \u001b[39mreturn\u001b[39;00m response\n",
      "File \u001b[0;32m~/anaconda3/envs/clase/lib/python3.10/site-packages/selenium/webdriver/remote/errorhandler.py:229\u001b[0m, in \u001b[0;36mErrorHandler.check_response\u001b[0;34m(self, response)\u001b[0m\n\u001b[1;32m    227\u001b[0m         alert_text \u001b[39m=\u001b[39m value[\u001b[39m\"\u001b[39m\u001b[39malert\u001b[39m\u001b[39m\"\u001b[39m]\u001b[39m.\u001b[39mget(\u001b[39m\"\u001b[39m\u001b[39mtext\u001b[39m\u001b[39m\"\u001b[39m)\n\u001b[1;32m    228\u001b[0m     \u001b[39mraise\u001b[39;00m exception_class(message, screen, stacktrace, alert_text)  \u001b[39m# type: ignore[call-arg]  # mypy is not smart enough here\u001b[39;00m\n\u001b[0;32m--> 229\u001b[0m \u001b[39mraise\u001b[39;00m exception_class(message, screen, stacktrace)\n",
      "\u001b[0;31mStaleElementReferenceException\u001b[0m: Message: stale element reference: stale element not found\n  (Session info: chrome=119.0.6045.105); For documentation on this error, please visit: https://www.selenium.dev/documentation/webdriver/troubleshooting/errors#stale-element-reference-exception\nStacktrace:\n0   chromedriver                        0x0000000102d86004 chromedriver + 4169732\n1   chromedriver                        0x0000000102d7dff8 chromedriver + 4136952\n2   chromedriver                        0x00000001029d3500 chromedriver + 292096\n3   chromedriver                        0x00000001029e1b74 chromedriver + 351092\n4   chromedriver                        0x00000001029d91f8 chromedriver + 315896\n5   chromedriver                        0x00000001029d79dc chromedriver + 309724\n6   chromedriver                        0x00000001029da780 chromedriver + 321408\n7   chromedriver                        0x00000001029da8ac chromedriver + 321708\n8   chromedriver                        0x0000000102a188f8 chromedriver + 575736\n9   chromedriver                        0x0000000102a0ddb4 chromedriver + 531892\n10  chromedriver                        0x0000000102a53818 chromedriver + 817176\n11  chromedriver                        0x0000000102a0c5e8 chromedriver + 525800\n12  chromedriver                        0x0000000102a0d4b8 chromedriver + 529592\n13  chromedriver                        0x0000000102d4c334 chromedriver + 3932980\n14  chromedriver                        0x0000000102d50970 chromedriver + 3950960\n15  chromedriver                        0x0000000102d34774 chromedriver + 3835764\n16  chromedriver                        0x0000000102d51478 chromedriver + 3953784\n17  chromedriver                        0x0000000102d26ab4 chromedriver + 3779252\n18  chromedriver                        0x0000000102d6d914 chromedriver + 4069652\n19  chromedriver                        0x0000000102d6da90 chromedriver + 4070032\n20  chromedriver                        0x0000000102d7dc70 chromedriver + 4136048\n21  libsystem_pthread.dylib             0x00000001842d3fa8 _pthread_start + 148\n22  libsystem_pthread.dylib             0x00000001842ceda0 thread_start + 8\n"
     ]
    }
   ],
   "source": [
    "data_2 = []\n",
    "\n",
    "for element in elements:\n",
    "    artist_name = element.find_elements(By.XPATH, '//div[@class=\"event-listing-city theme-text-color\"]')\n",
    "    astists = [artist.text for artist in artist_name]\n",
    "    date_elements = element.find_elements(By.XPATH, '//div//span[@class=\"listing-data theme-text-color\"]//span')\n",
    "    dates = [date.text for date in date_elements]\n",
    "    price = element.find_elements(By.XPATH, '//div/listing-cta/event-status/div/span/span')\n",
    "    precios = [precio.text for precio in price]\n",
    "    enlace = element.find_elements(By.XPATH, '//div[2]/product-group-item/listing-item/article/div/listing-cta/a')\n",
    "    enlaces = [enl.get_attribute('href') for enl in enlace]\n",
    "    \n",
    "    data.append([astists, dates, precios, enlaces])\n",
    "\n",
    "for entry_2 in data_2:\n",
    "    print(entry_2)"
   ]
  },
  {
   "cell_type": "code",
   "execution_count": null,
   "metadata": {},
   "outputs": [],
   "source": []
  },
  {
   "cell_type": "code",
   "execution_count": 137,
   "metadata": {},
   "outputs": [
    {
     "data": {
      "text/plain": [
       "20"
      ]
     },
     "execution_count": 137,
     "metadata": {},
     "output_type": "execute_result"
    }
   ],
   "source": []
  },
  {
   "cell_type": "code",
   "execution_count": null,
   "metadata": {},
   "outputs": [],
   "source": []
  }
 ],
 "metadata": {
  "kernelspec": {
   "display_name": "clase",
   "language": "python",
   "name": "python3"
  },
  "language_info": {
   "codemirror_mode": {
    "name": "ipython",
    "version": 3
   },
   "file_extension": ".py",
   "mimetype": "text/x-python",
   "name": "python",
   "nbconvert_exporter": "python",
   "pygments_lexer": "ipython3",
   "version": "3.10.13"
  }
 },
 "nbformat": 4,
 "nbformat_minor": 2
}
