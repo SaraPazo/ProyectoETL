{
 "cells": [
  {
   "cell_type": "code",
   "execution_count": 3,
   "metadata": {},
   "outputs": [
    {
     "name": "stdout",
     "output_type": "stream",
     "text": [
      "Collecting PyPDF2\n",
      "  Downloading pypdf2-3.0.1-py3-none-any.whl (232 kB)\n",
      "\u001b[2K     \u001b[90m━━━━━━━━━━━━━━━━━━━━━━━━━━━━━━━━━━━━━━━\u001b[0m \u001b[32m232.6/232.6 kB\u001b[0m \u001b[31m2.7 MB/s\u001b[0m eta \u001b[36m0:00:00\u001b[0ma \u001b[36m0:00:01\u001b[0m\n",
      "\u001b[?25hInstalling collected packages: PyPDF2\n",
      "Successfully installed PyPDF2-3.0.1\n",
      "Note: you may need to restart the kernel to use updated packages.\n"
     ]
    }
   ],
   "source": [
    "pip install PyPDF2"
   ]
  },
  {
   "cell_type": "code",
   "execution_count": 4,
   "metadata": {},
   "outputs": [],
   "source": [
    "import pandas as pd\n",
    "import numpy as np\n",
    "import statistics as stats\n",
    "import pandas as pd\n",
    "import numpy as np\n",
    "import statistics as stats\n",
    "\n",
    "import warnings\n",
    "warnings.filterwarnings('ignore')\n",
    "\n",
    "import pylab as plt\n",
    "import seaborn as sns\n",
    "\n",
    "import PyPDF2 as pdf"
   ]
  },
  {
   "cell_type": "code",
   "execution_count": 7,
   "metadata": {},
   "outputs": [
    {
     "ename": "FileNotFoundError",
     "evalue": "[Errno 2] No such file or directory: 'Encuesta.pdf'",
     "output_type": "error",
     "traceback": [
      "\u001b[0;31m---------------------------------------------------------------------------\u001b[0m",
      "\u001b[0;31mFileNotFoundError\u001b[0m                         Traceback (most recent call last)",
      "\u001b[1;32m/Users/sarapazopadron/BOOTCAMP/Proyectos/ProyectoETL/Notebooks/main.ipynb Celda 3\u001b[0m line \u001b[0;36m1\n\u001b[0;32m----> <a href='vscode-notebook-cell:/Users/sarapazopadron/BOOTCAMP/Proyectos/ProyectoETL/Notebooks/main.ipynb#W1sZmlsZQ%3D%3D?line=0'>1</a>\u001b[0m \u001b[39mwith\u001b[39;00m \u001b[39mopen\u001b[39;49m(\u001b[39m'\u001b[39;49m\u001b[39mEncuesta.pdf\u001b[39;49m\u001b[39m'\u001b[39;49m, \u001b[39m'\u001b[39;49m\u001b[39mrb\u001b[39;49m\u001b[39m'\u001b[39;49m) \u001b[39mas\u001b[39;00m pdf_file:\n\u001b[1;32m      <a href='vscode-notebook-cell:/Users/sarapazopadron/BOOTCAMP/Proyectos/ProyectoETL/Notebooks/main.ipynb#W1sZmlsZQ%3D%3D?line=1'>2</a>\u001b[0m     pdf_reader \u001b[39m=\u001b[39m PyPDF2\u001b[39m.\u001b[39mPdfFileReader(pdf_file)\n\u001b[1;32m      <a href='vscode-notebook-cell:/Users/sarapazopadron/BOOTCAMP/Proyectos/ProyectoETL/Notebooks/main.ipynb#W1sZmlsZQ%3D%3D?line=3'>4</a>\u001b[0m     pagina1 \u001b[39m=\u001b[39m pdf_reader\u001b[39m.\u001b[39mgetPage(\u001b[39m322\u001b[39m)\n",
      "File \u001b[0;32m~/anaconda3/envs/clase/lib/python3.10/site-packages/IPython/core/interactiveshell.py:286\u001b[0m, in \u001b[0;36m_modified_open\u001b[0;34m(file, *args, **kwargs)\u001b[0m\n\u001b[1;32m    279\u001b[0m \u001b[39mif\u001b[39;00m file \u001b[39min\u001b[39;00m {\u001b[39m0\u001b[39m, \u001b[39m1\u001b[39m, \u001b[39m2\u001b[39m}:\n\u001b[1;32m    280\u001b[0m     \u001b[39mraise\u001b[39;00m \u001b[39mValueError\u001b[39;00m(\n\u001b[1;32m    281\u001b[0m         \u001b[39mf\u001b[39m\u001b[39m\"\u001b[39m\u001b[39mIPython won\u001b[39m\u001b[39m'\u001b[39m\u001b[39mt let you open fd=\u001b[39m\u001b[39m{\u001b[39;00mfile\u001b[39m}\u001b[39;00m\u001b[39m by default \u001b[39m\u001b[39m\"\u001b[39m\n\u001b[1;32m    282\u001b[0m         \u001b[39m\"\u001b[39m\u001b[39mas it is likely to crash IPython. If you know what you are doing, \u001b[39m\u001b[39m\"\u001b[39m\n\u001b[1;32m    283\u001b[0m         \u001b[39m\"\u001b[39m\u001b[39myou can use builtins\u001b[39m\u001b[39m'\u001b[39m\u001b[39m open.\u001b[39m\u001b[39m\"\u001b[39m\n\u001b[1;32m    284\u001b[0m     )\n\u001b[0;32m--> 286\u001b[0m \u001b[39mreturn\u001b[39;00m io_open(file, \u001b[39m*\u001b[39;49margs, \u001b[39m*\u001b[39;49m\u001b[39m*\u001b[39;49mkwargs)\n",
      "\u001b[0;31mFileNotFoundError\u001b[0m: [Errno 2] No such file or directory: 'Encuesta.pdf'"
     ]
    }
   ],
   "source": [
    "with open('Encuesta.pdf', 'rb') as pdf_file:\n",
    "    pdf_reader = PyPDF2.PdfFileReader(pdf_file)\n",
    "\n",
    "    pagina1 = pdf_reader.getPage(322)\n",
    "    pagina2 = pdf_reader.getPage(323)\n",
    "    \n",
    "    # Obtén el texto de ambas páginas\n",
    "    texto_pagina1 = pagina1.extractText()\n",
    "    texto_pagina2 = pagina2.extractText()"
   ]
  },
  {
   "cell_type": "code",
   "execution_count": 8,
   "metadata": {},
   "outputs": [
    {
     "name": "stdout",
     "output_type": "stream",
     "text": [
      "Collecting tabula-py\n",
      "  Obtaining dependency information for tabula-py from https://files.pythonhosted.org/packages/b8/03/7417bf7b73ec99bc3675cc25b5f117ee6013f3982951f0a0ea6563cda80f/tabula_py-2.8.2-py3-none-any.whl.metadata\n",
      "  Downloading tabula_py-2.8.2-py3-none-any.whl.metadata (7.3 kB)\n",
      "Requirement already satisfied: pandas>=0.25.3 in /Users/sarapazopadron/anaconda3/envs/clase/lib/python3.10/site-packages (from tabula-py) (2.1.1)\n",
      "Requirement already satisfied: numpy in /Users/sarapazopadron/anaconda3/envs/clase/lib/python3.10/site-packages (from tabula-py) (1.26.0)\n",
      "Collecting distro (from tabula-py)\n",
      "  Downloading distro-1.8.0-py3-none-any.whl (20 kB)\n",
      "Collecting jpype1 (from tabula-py)\n",
      "  Downloading JPype1-1.4.1-cp310-cp310-macosx_10_9_universal2.whl (590 kB)\n",
      "\u001b[2K     \u001b[90m━━━━━━━━━━━━━━━━━━━━━━━━━━━━━━━━━━━━━━━\u001b[0m \u001b[32m590.1/590.1 kB\u001b[0m \u001b[31m6.4 MB/s\u001b[0m eta \u001b[36m0:00:00\u001b[0ma \u001b[36m0:00:01\u001b[0m\n",
      "\u001b[?25hRequirement already satisfied: python-dateutil>=2.8.2 in /Users/sarapazopadron/anaconda3/envs/clase/lib/python3.10/site-packages (from pandas>=0.25.3->tabula-py) (2.8.2)\n",
      "Requirement already satisfied: pytz>=2020.1 in /Users/sarapazopadron/anaconda3/envs/clase/lib/python3.10/site-packages (from pandas>=0.25.3->tabula-py) (2023.3.post1)\n",
      "Requirement already satisfied: tzdata>=2022.1 in /Users/sarapazopadron/anaconda3/envs/clase/lib/python3.10/site-packages (from pandas>=0.25.3->tabula-py) (2023.3)\n",
      "Requirement already satisfied: packaging in /Users/sarapazopadron/anaconda3/envs/clase/lib/python3.10/site-packages (from jpype1->tabula-py) (23.2)\n",
      "Requirement already satisfied: six>=1.5 in /Users/sarapazopadron/anaconda3/envs/clase/lib/python3.10/site-packages (from python-dateutil>=2.8.2->pandas>=0.25.3->tabula-py) (1.16.0)\n",
      "Downloading tabula_py-2.8.2-py3-none-any.whl (12.0 MB)\n",
      "\u001b[2K   \u001b[90m━━━━━━━━━━━━━━━━━━━━━━━━━━━━━━━━━━━━━━━━\u001b[0m \u001b[32m12.0/12.0 MB\u001b[0m \u001b[31m46.9 MB/s\u001b[0m eta \u001b[36m0:00:00\u001b[0m00:01\u001b[0m00:01\u001b[0m\n",
      "\u001b[?25hInstalling collected packages: jpype1, distro, tabula-py\n",
      "Successfully installed distro-1.8.0 jpype1-1.4.1 tabula-py-2.8.2\n",
      "Note: you may need to restart the kernel to use updated packages.\n"
     ]
    }
   ],
   "source": [
    "pip install tabula-py"
   ]
  },
  {
   "cell_type": "code",
   "execution_count": 13,
   "metadata": {},
   "outputs": [
    {
     "ename": "JVMNotFoundException",
     "evalue": "No JVM shared library file (libjli.dylib) found. Try setting up the JAVA_HOME environment variable properly.",
     "output_type": "error",
     "traceback": [
      "\u001b[0;31m---------------------------------------------------------------------------\u001b[0m",
      "\u001b[0;31mJVMNotFoundException\u001b[0m                      Traceback (most recent call last)",
      "\u001b[1;32m/Users/sarapazopadron/BOOTCAMP/Proyectos/ProyectoETL/Notebooks/main.ipynb Celda 5\u001b[0m line \u001b[0;36m4\n\u001b[1;32m      <a href='vscode-notebook-cell:/Users/sarapazopadron/BOOTCAMP/Proyectos/ProyectoETL/Notebooks/main.ipynb#W4sZmlsZQ%3D%3D?line=0'>1</a>\u001b[0m \u001b[39mimport\u001b[39;00m \u001b[39mtabula\u001b[39;00m\n\u001b[1;32m      <a href='vscode-notebook-cell:/Users/sarapazopadron/BOOTCAMP/Proyectos/ProyectoETL/Notebooks/main.ipynb#W4sZmlsZQ%3D%3D?line=2'>3</a>\u001b[0m \u001b[39m# Ruta al archivo PDF que contiene la tabla\u001b[39;00m\n\u001b[0;32m----> <a href='vscode-notebook-cell:/Users/sarapazopadron/BOOTCAMP/Proyectos/ProyectoETL/Notebooks/main.ipynb#W4sZmlsZQ%3D%3D?line=3'>4</a>\u001b[0m archivo_pdf \u001b[39m=\u001b[39m tabula\u001b[39m.\u001b[39;49mread_pdf(\u001b[39m'\u001b[39;49m\u001b[39m../Data/CollectedOnline/Encuesta.pdf\u001b[39;49m\u001b[39m'\u001b[39;49m, pages\u001b[39m=\u001b[39;49m\u001b[39m'\u001b[39;49m\u001b[39mall\u001b[39;49m\u001b[39m'\u001b[39;49m, encoding\u001b[39m=\u001b[39;49m\u001b[39m'\u001b[39;49m\u001b[39mlatin-1\u001b[39;49m\u001b[39m'\u001b[39;49m)\n",
      "File \u001b[0;32m~/anaconda3/envs/clase/lib/python3.10/site-packages/tabula/io.py:407\u001b[0m, in \u001b[0;36mread_pdf\u001b[0;34m(input_path, output_format, encoding, java_options, pandas_options, multiple_tables, user_agent, use_raw_url, pages, guess, area, relative_area, lattice, stream, password, silent, columns, relative_columns, format, batch, output_path, force_subprocess, options)\u001b[0m\n\u001b[1;32m    404\u001b[0m     \u001b[39mraise\u001b[39;00m \u001b[39mValueError\u001b[39;00m(\u001b[39mf\u001b[39m\u001b[39m\"\u001b[39m\u001b[39m{\u001b[39;00mpath\u001b[39m}\u001b[39;00m\u001b[39m is empty. Check the file, or download it manually.\u001b[39m\u001b[39m\"\u001b[39m)\n\u001b[1;32m    406\u001b[0m \u001b[39mtry\u001b[39;00m:\n\u001b[0;32m--> 407\u001b[0m     output \u001b[39m=\u001b[39m _run(\n\u001b[1;32m    408\u001b[0m         java_options,\n\u001b[1;32m    409\u001b[0m         tabula_options,\n\u001b[1;32m    410\u001b[0m         path,\n\u001b[1;32m    411\u001b[0m         encoding\u001b[39m=\u001b[39;49mencoding,\n\u001b[1;32m    412\u001b[0m         force_subprocess\u001b[39m=\u001b[39;49mforce_subprocess,\n\u001b[1;32m    413\u001b[0m     )\n\u001b[1;32m    414\u001b[0m \u001b[39mfinally\u001b[39;00m:\n\u001b[1;32m    415\u001b[0m     \u001b[39mif\u001b[39;00m temporary:\n",
      "File \u001b[0;32m~/anaconda3/envs/clase/lib/python3.10/site-packages/tabula/io.py:72\u001b[0m, in \u001b[0;36m_run\u001b[0;34m(java_options, options, path, encoding, force_subprocess)\u001b[0m\n\u001b[1;32m     67\u001b[0m     _tabula_vm \u001b[39m=\u001b[39m SubprocessTabula(\n\u001b[1;32m     68\u001b[0m         java_options\u001b[39m=\u001b[39mjava_options, silent\u001b[39m=\u001b[39moptions\u001b[39m.\u001b[39msilent, encoding\u001b[39m=\u001b[39mencoding\n\u001b[1;32m     69\u001b[0m     )\n\u001b[1;32m     71\u001b[0m \u001b[39mif\u001b[39;00m \u001b[39mnot\u001b[39;00m _tabula_vm:\n\u001b[0;32m---> 72\u001b[0m     _tabula_vm \u001b[39m=\u001b[39m TabulaVm(java_options\u001b[39m=\u001b[39;49mjava_options, silent\u001b[39m=\u001b[39;49moptions\u001b[39m.\u001b[39;49msilent)\n\u001b[1;32m     73\u001b[0m     \u001b[39mif\u001b[39;00m _tabula_vm \u001b[39mand\u001b[39;00m \u001b[39mnot\u001b[39;00m _tabula_vm\u001b[39m.\u001b[39mtabula:\n\u001b[1;32m     74\u001b[0m         _tabula_vm \u001b[39m=\u001b[39m SubprocessTabula(\n\u001b[1;32m     75\u001b[0m             java_options\u001b[39m=\u001b[39mjava_options, silent\u001b[39m=\u001b[39moptions\u001b[39m.\u001b[39msilent, encoding\u001b[39m=\u001b[39mencoding\n\u001b[1;32m     76\u001b[0m         )\n",
      "File \u001b[0;32m~/anaconda3/envs/clase/lib/python3.10/site-packages/tabula/backend.py:44\u001b[0m, in \u001b[0;36mTabulaVm.__init__\u001b[0;34m(self, java_options, silent)\u001b[0m\n\u001b[1;32m     35\u001b[0m     \u001b[39mif\u001b[39;00m silent:\n\u001b[1;32m     36\u001b[0m         java_options\u001b[39m.\u001b[39mextend(\n\u001b[1;32m     37\u001b[0m             (\n\u001b[1;32m     38\u001b[0m                 \u001b[39m\"\u001b[39m\u001b[39m-Dorg.slf4j.simpleLogger.defaultLogLevel=off\u001b[39m\u001b[39m\"\u001b[39m,\n\u001b[0;32m   (...)\u001b[0m\n\u001b[1;32m     41\u001b[0m             )\n\u001b[1;32m     42\u001b[0m         )\n\u001b[0;32m---> 44\u001b[0m     jpype\u001b[39m.\u001b[39;49mstartJVM(\u001b[39m*\u001b[39;49mjava_options, convertStrings\u001b[39m=\u001b[39;49m\u001b[39mFalse\u001b[39;49;00m)\n\u001b[1;32m     46\u001b[0m \u001b[39mtry\u001b[39;00m:\n\u001b[1;32m     47\u001b[0m     \u001b[39mimport\u001b[39;00m \u001b[39mjava\u001b[39;00m\u001b[39m.\u001b[39;00m\u001b[39mlang\u001b[39;00m \u001b[39mas\u001b[39;00m \u001b[39mlang\u001b[39;00m\n",
      "File \u001b[0;32m~/anaconda3/envs/clase/lib/python3.10/site-packages/jpype/_core.py:184\u001b[0m, in \u001b[0;36mstartJVM\u001b[0;34m(*args, **kwargs)\u001b[0m\n\u001b[1;32m    182\u001b[0m     jvmpath \u001b[39m=\u001b[39m kwargs\u001b[39m.\u001b[39mpop(\u001b[39m'\u001b[39m\u001b[39mjvmpath\u001b[39m\u001b[39m'\u001b[39m)\n\u001b[1;32m    183\u001b[0m \u001b[39mif\u001b[39;00m \u001b[39mnot\u001b[39;00m jvmpath:\n\u001b[0;32m--> 184\u001b[0m     jvmpath \u001b[39m=\u001b[39m getDefaultJVMPath()\n\u001b[1;32m    186\u001b[0m \u001b[39m# Classpath handling\u001b[39;00m\n\u001b[1;32m    187\u001b[0m \u001b[39mif\u001b[39;00m _hasClassPath(args):\n\u001b[1;32m    188\u001b[0m     \u001b[39m# Old style, specified in the arguments\u001b[39;00m\n",
      "File \u001b[0;32m~/anaconda3/envs/clase/lib/python3.10/site-packages/jpype/_jvmfinder.py:74\u001b[0m, in \u001b[0;36mgetDefaultJVMPath\u001b[0;34m()\u001b[0m\n\u001b[1;32m     72\u001b[0m \u001b[39melse\u001b[39;00m:\n\u001b[1;32m     73\u001b[0m     finder \u001b[39m=\u001b[39m LinuxJVMFinder()\n\u001b[0;32m---> 74\u001b[0m \u001b[39mreturn\u001b[39;00m finder\u001b[39m.\u001b[39;49mget_jvm_path()\n",
      "File \u001b[0;32m~/anaconda3/envs/clase/lib/python3.10/site-packages/jpype/_jvmfinder.py:212\u001b[0m, in \u001b[0;36mJVMFinder.get_jvm_path\u001b[0;34m(self)\u001b[0m\n\u001b[1;32m    210\u001b[0m \u001b[39mif\u001b[39;00m jvm_notsupport_ext \u001b[39mis\u001b[39;00m \u001b[39mnot\u001b[39;00m \u001b[39mNone\u001b[39;00m:\n\u001b[1;32m    211\u001b[0m     \u001b[39mraise\u001b[39;00m jvm_notsupport_ext\n\u001b[0;32m--> 212\u001b[0m \u001b[39mraise\u001b[39;00m JVMNotFoundException(\u001b[39m\"\u001b[39m\u001b[39mNo JVM shared library file (\u001b[39m\u001b[39m{0}\u001b[39;00m\u001b[39m) \u001b[39m\u001b[39m\"\u001b[39m\n\u001b[1;32m    213\u001b[0m                            \u001b[39m\"\u001b[39m\u001b[39mfound. Try setting up the JAVA_HOME \u001b[39m\u001b[39m\"\u001b[39m\n\u001b[1;32m    214\u001b[0m                            \u001b[39m\"\u001b[39m\u001b[39menvironment variable properly.\u001b[39m\u001b[39m\"\u001b[39m\n\u001b[1;32m    215\u001b[0m                            \u001b[39m.\u001b[39mformat(\u001b[39mself\u001b[39m\u001b[39m.\u001b[39m_libfile))\n",
      "\u001b[0;31mJVMNotFoundException\u001b[0m: No JVM shared library file (libjli.dylib) found. Try setting up the JAVA_HOME environment variable properly."
     ]
    }
   ],
   "source": [
    "import tabula\n",
    "\n",
    "\n",
    "\n",
    "# Ruta al archivo PDF que contiene la tabla\n",
    "archivo_pdf = tabula.read_pdf('../Data/CollectedOnline/Encuesta.pdf', pages='all', encoding='latin-1')\n"
   ]
  },
  {
   "cell_type": "code",
   "execution_count": 16,
   "metadata": {},
   "outputs": [
    {
     "ename": "JVMNotFoundException",
     "evalue": "No JVM shared library file (libjli.dylib) found. Try setting up the JAVA_HOME environment variable properly.",
     "output_type": "error",
     "traceback": [
      "\u001b[0;31m---------------------------------------------------------------------------\u001b[0m",
      "\u001b[0;31mJVMNotFoundException\u001b[0m                      Traceback (most recent call last)",
      "\u001b[1;32m/Users/sarapazopadron/BOOTCAMP/Proyectos/ProyectoETL/Notebooks/main.ipynb Celda 6\u001b[0m line \u001b[0;36m1\n\u001b[0;32m----> <a href='vscode-notebook-cell:/Users/sarapazopadron/BOOTCAMP/Proyectos/ProyectoETL/Notebooks/main.ipynb#W6sZmlsZQ%3D%3D?line=0'>1</a>\u001b[0m pdf \u001b[39m=\u001b[39m tabula\u001b[39m.\u001b[39;49mread_pdf(\u001b[39m'\u001b[39;49m\u001b[39m../Data/CollectedOnline/Encuesta.pdf\u001b[39;49m\u001b[39m'\u001b[39;49m, encoding\u001b[39m=\u001b[39;49m\u001b[39m'\u001b[39;49m\u001b[39mlatin1\u001b[39;49m\u001b[39m'\u001b[39;49m)\n",
      "File \u001b[0;32m~/anaconda3/envs/clase/lib/python3.10/site-packages/tabula/io.py:407\u001b[0m, in \u001b[0;36mread_pdf\u001b[0;34m(input_path, output_format, encoding, java_options, pandas_options, multiple_tables, user_agent, use_raw_url, pages, guess, area, relative_area, lattice, stream, password, silent, columns, relative_columns, format, batch, output_path, force_subprocess, options)\u001b[0m\n\u001b[1;32m    404\u001b[0m     \u001b[39mraise\u001b[39;00m \u001b[39mValueError\u001b[39;00m(\u001b[39mf\u001b[39m\u001b[39m\"\u001b[39m\u001b[39m{\u001b[39;00mpath\u001b[39m}\u001b[39;00m\u001b[39m is empty. Check the file, or download it manually.\u001b[39m\u001b[39m\"\u001b[39m)\n\u001b[1;32m    406\u001b[0m \u001b[39mtry\u001b[39;00m:\n\u001b[0;32m--> 407\u001b[0m     output \u001b[39m=\u001b[39m _run(\n\u001b[1;32m    408\u001b[0m         java_options,\n\u001b[1;32m    409\u001b[0m         tabula_options,\n\u001b[1;32m    410\u001b[0m         path,\n\u001b[1;32m    411\u001b[0m         encoding\u001b[39m=\u001b[39;49mencoding,\n\u001b[1;32m    412\u001b[0m         force_subprocess\u001b[39m=\u001b[39;49mforce_subprocess,\n\u001b[1;32m    413\u001b[0m     )\n\u001b[1;32m    414\u001b[0m \u001b[39mfinally\u001b[39;00m:\n\u001b[1;32m    415\u001b[0m     \u001b[39mif\u001b[39;00m temporary:\n",
      "File \u001b[0;32m~/anaconda3/envs/clase/lib/python3.10/site-packages/tabula/io.py:72\u001b[0m, in \u001b[0;36m_run\u001b[0;34m(java_options, options, path, encoding, force_subprocess)\u001b[0m\n\u001b[1;32m     67\u001b[0m     _tabula_vm \u001b[39m=\u001b[39m SubprocessTabula(\n\u001b[1;32m     68\u001b[0m         java_options\u001b[39m=\u001b[39mjava_options, silent\u001b[39m=\u001b[39moptions\u001b[39m.\u001b[39msilent, encoding\u001b[39m=\u001b[39mencoding\n\u001b[1;32m     69\u001b[0m     )\n\u001b[1;32m     71\u001b[0m \u001b[39mif\u001b[39;00m \u001b[39mnot\u001b[39;00m _tabula_vm:\n\u001b[0;32m---> 72\u001b[0m     _tabula_vm \u001b[39m=\u001b[39m TabulaVm(java_options\u001b[39m=\u001b[39;49mjava_options, silent\u001b[39m=\u001b[39;49moptions\u001b[39m.\u001b[39;49msilent)\n\u001b[1;32m     73\u001b[0m     \u001b[39mif\u001b[39;00m _tabula_vm \u001b[39mand\u001b[39;00m \u001b[39mnot\u001b[39;00m _tabula_vm\u001b[39m.\u001b[39mtabula:\n\u001b[1;32m     74\u001b[0m         _tabula_vm \u001b[39m=\u001b[39m SubprocessTabula(\n\u001b[1;32m     75\u001b[0m             java_options\u001b[39m=\u001b[39mjava_options, silent\u001b[39m=\u001b[39moptions\u001b[39m.\u001b[39msilent, encoding\u001b[39m=\u001b[39mencoding\n\u001b[1;32m     76\u001b[0m         )\n",
      "File \u001b[0;32m~/anaconda3/envs/clase/lib/python3.10/site-packages/tabula/backend.py:44\u001b[0m, in \u001b[0;36mTabulaVm.__init__\u001b[0;34m(self, java_options, silent)\u001b[0m\n\u001b[1;32m     35\u001b[0m     \u001b[39mif\u001b[39;00m silent:\n\u001b[1;32m     36\u001b[0m         java_options\u001b[39m.\u001b[39mextend(\n\u001b[1;32m     37\u001b[0m             (\n\u001b[1;32m     38\u001b[0m                 \u001b[39m\"\u001b[39m\u001b[39m-Dorg.slf4j.simpleLogger.defaultLogLevel=off\u001b[39m\u001b[39m\"\u001b[39m,\n\u001b[0;32m   (...)\u001b[0m\n\u001b[1;32m     41\u001b[0m             )\n\u001b[1;32m     42\u001b[0m         )\n\u001b[0;32m---> 44\u001b[0m     jpype\u001b[39m.\u001b[39;49mstartJVM(\u001b[39m*\u001b[39;49mjava_options, convertStrings\u001b[39m=\u001b[39;49m\u001b[39mFalse\u001b[39;49;00m)\n\u001b[1;32m     46\u001b[0m \u001b[39mtry\u001b[39;00m:\n\u001b[1;32m     47\u001b[0m     \u001b[39mimport\u001b[39;00m \u001b[39mjava\u001b[39;00m\u001b[39m.\u001b[39;00m\u001b[39mlang\u001b[39;00m \u001b[39mas\u001b[39;00m \u001b[39mlang\u001b[39;00m\n",
      "File \u001b[0;32m~/anaconda3/envs/clase/lib/python3.10/site-packages/jpype/_core.py:184\u001b[0m, in \u001b[0;36mstartJVM\u001b[0;34m(*args, **kwargs)\u001b[0m\n\u001b[1;32m    182\u001b[0m     jvmpath \u001b[39m=\u001b[39m kwargs\u001b[39m.\u001b[39mpop(\u001b[39m'\u001b[39m\u001b[39mjvmpath\u001b[39m\u001b[39m'\u001b[39m)\n\u001b[1;32m    183\u001b[0m \u001b[39mif\u001b[39;00m \u001b[39mnot\u001b[39;00m jvmpath:\n\u001b[0;32m--> 184\u001b[0m     jvmpath \u001b[39m=\u001b[39m getDefaultJVMPath()\n\u001b[1;32m    186\u001b[0m \u001b[39m# Classpath handling\u001b[39;00m\n\u001b[1;32m    187\u001b[0m \u001b[39mif\u001b[39;00m _hasClassPath(args):\n\u001b[1;32m    188\u001b[0m     \u001b[39m# Old style, specified in the arguments\u001b[39;00m\n",
      "File \u001b[0;32m~/anaconda3/envs/clase/lib/python3.10/site-packages/jpype/_jvmfinder.py:74\u001b[0m, in \u001b[0;36mgetDefaultJVMPath\u001b[0;34m()\u001b[0m\n\u001b[1;32m     72\u001b[0m \u001b[39melse\u001b[39;00m:\n\u001b[1;32m     73\u001b[0m     finder \u001b[39m=\u001b[39m LinuxJVMFinder()\n\u001b[0;32m---> 74\u001b[0m \u001b[39mreturn\u001b[39;00m finder\u001b[39m.\u001b[39;49mget_jvm_path()\n",
      "File \u001b[0;32m~/anaconda3/envs/clase/lib/python3.10/site-packages/jpype/_jvmfinder.py:212\u001b[0m, in \u001b[0;36mJVMFinder.get_jvm_path\u001b[0;34m(self)\u001b[0m\n\u001b[1;32m    210\u001b[0m \u001b[39mif\u001b[39;00m jvm_notsupport_ext \u001b[39mis\u001b[39;00m \u001b[39mnot\u001b[39;00m \u001b[39mNone\u001b[39;00m:\n\u001b[1;32m    211\u001b[0m     \u001b[39mraise\u001b[39;00m jvm_notsupport_ext\n\u001b[0;32m--> 212\u001b[0m \u001b[39mraise\u001b[39;00m JVMNotFoundException(\u001b[39m\"\u001b[39m\u001b[39mNo JVM shared library file (\u001b[39m\u001b[39m{0}\u001b[39;00m\u001b[39m) \u001b[39m\u001b[39m\"\u001b[39m\n\u001b[1;32m    213\u001b[0m                            \u001b[39m\"\u001b[39m\u001b[39mfound. Try setting up the JAVA_HOME \u001b[39m\u001b[39m\"\u001b[39m\n\u001b[1;32m    214\u001b[0m                            \u001b[39m\"\u001b[39m\u001b[39menvironment variable properly.\u001b[39m\u001b[39m\"\u001b[39m\n\u001b[1;32m    215\u001b[0m                            \u001b[39m.\u001b[39mformat(\u001b[39mself\u001b[39m\u001b[39m.\u001b[39m_libfile))\n",
      "\u001b[0;31mJVMNotFoundException\u001b[0m: No JVM shared library file (libjli.dylib) found. Try setting up the JAVA_HOME environment variable properly."
     ]
    }
   ],
   "source": [
    "pdf = tabula.read_pdf('../Data/CollectedOnline/Encuesta.pdf', encoding='latin1')"
   ]
  },
  {
   "cell_type": "code",
   "execution_count": null,
   "metadata": {},
   "outputs": [],
   "source": [
    "\n",
    "# Lee la tabla desde el PDF\n",
    "\n",
    "\n",
    "import tabula\n",
    "\n",
    "# Ruta al archivo PDF que contiene la tabla\n",
    "archivo_pdf = \"tu_archivo.pdf\"\n",
    "\n",
    "# Intenta abrir el PDF con un encoding diferente\n",
    "df = tabula.read_pdf(archivo_pdf, pages='all', encoding='latin-1')  # O utiliza 'cp1252' en lugar de 'latin-1' si es necesario\n",
    "\n",
    "# df contendrá las tablas extraídas del PDF en forma de DataFrames\n",
    "\n",
    "df = tabula.read_pdf(archivo_pdf, pages='322')  # Puedes especificar las páginas que deseas procesar\n"
   ]
  }
 ],
 "metadata": {
  "kernelspec": {
   "display_name": "Python 3",
   "language": "python",
   "name": "python3"
  },
  "language_info": {
   "codemirror_mode": {
    "name": "ipython",
    "version": 3
   },
   "file_extension": ".py",
   "mimetype": "text/x-python",
   "name": "python",
   "nbconvert_exporter": "python",
   "pygments_lexer": "ipython3",
   "version": "3.10.13"
  }
 },
 "nbformat": 4,
 "nbformat_minor": 2
}
