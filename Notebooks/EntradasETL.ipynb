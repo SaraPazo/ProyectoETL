{
 "cells": [
  {
   "cell_type": "code",
   "execution_count": 1,
   "id": "98645fb4",
   "metadata": {},
   "outputs": [],
   "source": [
    "import pandas as pd\n",
    "from selenium.webdriver.chrome.options import Options\n",
    "from webdriver_manager.chrome import ChromeDriverManager"
   ]
  },
  {
   "cell_type": "code",
   "execution_count": 2,
   "id": "c20993a2",
   "metadata": {},
   "outputs": [],
   "source": [
    "from selenium import webdriver # driver de selenium\n",
    "\n",
    "import time   # para manejar tiempo\n",
    "\n",
    "import pandas as pd"
   ]
  },
  {
   "cell_type": "code",
   "execution_count": 3,
   "id": "924d68c7",
   "metadata": {},
   "outputs": [],
   "source": [
    "from selenium.webdriver.chrome.options import Options   # opciones del driver\n",
    "\n",
    "from selenium.webdriver.common.by import By   # para buscar segun tag, id, class, etc...\n",
    "\n",
    "from selenium.webdriver.support.ui import WebDriverWait   # es para esperar\n",
    "\n",
    "from selenium.webdriver.support import expected_conditions as EC  # condiciones esperadas...\n",
    "\n",
    "from selenium.webdriver import ActionChains as AC   # acciones encadenadas, rollo doble click\n",
    "\n",
    "from selenium.webdriver.common.keys import Keys  # manejar teclas"
   ]
  },
  {
   "cell_type": "code",
   "execution_count": 4,
   "id": "73ac63fe",
   "metadata": {},
   "outputs": [],
   "source": [
    "#driver configuration\n",
    "opciones=Options()\n",
    "\n",
    "opciones.add_experimental_option('excludeSwitches', ['enable-automation'])\n",
    "opciones.add_experimental_option('useAutomationExtension', False)\n",
    "opciones.headless=False    # si True, no aperece la ventana (headless=no visible)\n",
    "opciones.add_argument('--start-maximized')         # comienza maximizado\n",
    "#opciones.add_argument('user-data-dir=selenium')    # mantiene las cookies\n",
    "#opciones.add_extension('driver_folder/adblock.crx')       # adblocker\n",
    "opciones.add_argument('--incognito')"
   ]
  },
  {
   "cell_type": "code",
   "execution_count": 5,
   "id": "ca545fd1",
   "metadata": {},
   "outputs": [],
   "source": [
    "PATH = 'driver/chromedriver'\n",
    "\n",
    "driver = webdriver.Chrome()   # abre una ventana de chrome \n",
    "                            # una vez que he abierto una ventana, puedo trabajar siempre sobre esta misma."
   ]
  },
  {
   "cell_type": "code",
   "execution_count": 6,
   "id": "e7a1b180",
   "metadata": {},
   "outputs": [],
   "source": [
    "url = 'https://www.entradas.com/city/madrid-370/conciertos-y-festivales-85/'\n",
    "\n",
    "driver.get(url)"
   ]
  },
  {
   "cell_type": "code",
   "execution_count": 36,
   "id": "efcfb844",
   "metadata": {},
   "outputs": [],
   "source": [
    "\n",
    "div_shadow = driver.find_element(By.XPATH, '//div[@class=\"cmpwrapper\"]')"
   ]
  },
  {
   "cell_type": "code",
   "execution_count": 37,
   "metadata": {},
   "outputs": [
    {
     "name": "stdout",
     "output_type": "stream",
     "text": [
      "Element has a Shadow DOM\n"
     ]
    }
   ],
   "source": [
    "# Check if the element has a Shadow DOM using JavaScript\n",
    "has_shadow_dom = driver.execute_script('return arguments[0].shadowRoot !== null', div_shadow)\n",
    "\n",
    "if has_shadow_dom:\n",
    "    print(\"Element has a Shadow DOM\")\n",
    "else:\n",
    "    print(\"Element does not have a Shadow DOM\")"
   ]
  },
  {
   "cell_type": "code",
   "execution_count": 59,
   "metadata": {},
   "outputs": [],
   "source": [
    "shadow_root = driver.execute_script('return arguments[0].shadowRoot', div_shadow)\n"
   ]
  },
  {
   "cell_type": "code",
   "execution_count": 65,
   "metadata": {},
   "outputs": [],
   "source": [
    "shadow_root.find_elements(By.CSS_SELECTOR, '#cmpwelcomebtnyes > a')[0].click()"
   ]
  },
  {
   "cell_type": "markdown",
   "metadata": {},
   "source": [
    "#### Empezamos el scrapeo por eventos en tabla"
   ]
  },
  {
   "cell_type": "code",
   "execution_count": 67,
   "id": "d20d5dee",
   "metadata": {},
   "outputs": [],
   "source": [
    "tabla = '//product-group-item'"
   ]
  },
  {
   "cell_type": "code",
   "execution_count": 68,
   "id": "886e9d6f",
   "metadata": {},
   "outputs": [
    {
     "data": {
      "text/plain": [
       "[<selenium.webdriver.remote.webelement.WebElement (session=\"b81ffa213fae4e693843192992b878ba\", element=\"3D3ADE7654B273531F1375518B9DBCB2_element_12428\")>,\n",
       " <selenium.webdriver.remote.webelement.WebElement (session=\"b81ffa213fae4e693843192992b878ba\", element=\"3D3ADE7654B273531F1375518B9DBCB2_element_12429\")>,\n",
       " <selenium.webdriver.remote.webelement.WebElement (session=\"b81ffa213fae4e693843192992b878ba\", element=\"3D3ADE7654B273531F1375518B9DBCB2_element_12430\")>,\n",
       " <selenium.webdriver.remote.webelement.WebElement (session=\"b81ffa213fae4e693843192992b878ba\", element=\"3D3ADE7654B273531F1375518B9DBCB2_element_12431\")>,\n",
       " <selenium.webdriver.remote.webelement.WebElement (session=\"b81ffa213fae4e693843192992b878ba\", element=\"3D3ADE7654B273531F1375518B9DBCB2_element_12432\")>,\n",
       " <selenium.webdriver.remote.webelement.WebElement (session=\"b81ffa213fae4e693843192992b878ba\", element=\"3D3ADE7654B273531F1375518B9DBCB2_element_12433\")>,\n",
       " <selenium.webdriver.remote.webelement.WebElement (session=\"b81ffa213fae4e693843192992b878ba\", element=\"3D3ADE7654B273531F1375518B9DBCB2_element_12434\")>,\n",
       " <selenium.webdriver.remote.webelement.WebElement (session=\"b81ffa213fae4e693843192992b878ba\", element=\"3D3ADE7654B273531F1375518B9DBCB2_element_12435\")>,\n",
       " <selenium.webdriver.remote.webelement.WebElement (session=\"b81ffa213fae4e693843192992b878ba\", element=\"3D3ADE7654B273531F1375518B9DBCB2_element_12436\")>,\n",
       " <selenium.webdriver.remote.webelement.WebElement (session=\"b81ffa213fae4e693843192992b878ba\", element=\"3D3ADE7654B273531F1375518B9DBCB2_element_12437\")>,\n",
       " <selenium.webdriver.remote.webelement.WebElement (session=\"b81ffa213fae4e693843192992b878ba\", element=\"3D3ADE7654B273531F1375518B9DBCB2_element_12438\")>,\n",
       " <selenium.webdriver.remote.webelement.WebElement (session=\"b81ffa213fae4e693843192992b878ba\", element=\"3D3ADE7654B273531F1375518B9DBCB2_element_12439\")>,\n",
       " <selenium.webdriver.remote.webelement.WebElement (session=\"b81ffa213fae4e693843192992b878ba\", element=\"3D3ADE7654B273531F1375518B9DBCB2_element_12440\")>,\n",
       " <selenium.webdriver.remote.webelement.WebElement (session=\"b81ffa213fae4e693843192992b878ba\", element=\"3D3ADE7654B273531F1375518B9DBCB2_element_12441\")>,\n",
       " <selenium.webdriver.remote.webelement.WebElement (session=\"b81ffa213fae4e693843192992b878ba\", element=\"3D3ADE7654B273531F1375518B9DBCB2_element_12442\")>,\n",
       " <selenium.webdriver.remote.webelement.WebElement (session=\"b81ffa213fae4e693843192992b878ba\", element=\"3D3ADE7654B273531F1375518B9DBCB2_element_12443\")>,\n",
       " <selenium.webdriver.remote.webelement.WebElement (session=\"b81ffa213fae4e693843192992b878ba\", element=\"3D3ADE7654B273531F1375518B9DBCB2_element_12444\")>,\n",
       " <selenium.webdriver.remote.webelement.WebElement (session=\"b81ffa213fae4e693843192992b878ba\", element=\"3D3ADE7654B273531F1375518B9DBCB2_element_12445\")>,\n",
       " <selenium.webdriver.remote.webelement.WebElement (session=\"b81ffa213fae4e693843192992b878ba\", element=\"3D3ADE7654B273531F1375518B9DBCB2_element_12446\")>,\n",
       " <selenium.webdriver.remote.webelement.WebElement (session=\"b81ffa213fae4e693843192992b878ba\", element=\"3D3ADE7654B273531F1375518B9DBCB2_element_12447\")>]"
      ]
     },
     "execution_count": 68,
     "metadata": {},
     "output_type": "execute_result"
    }
   ],
   "source": [
    "table = driver.find_elements(By.XPATH, tabla)\n",
    "table"
   ]
  },
  {
   "cell_type": "code",
   "execution_count": 69,
   "id": "f4bd700d",
   "metadata": {},
   "outputs": [
    {
     "data": {
      "text/plain": [
       "'Cariño\\n13/01/20241 Evento\\nMadrid, sáb. 13/01/2024, 21:00\\nCariño\\nMostrar 1 Evento\\ndesde 19,80 €'"
      ]
     },
     "execution_count": 69,
     "metadata": {},
     "output_type": "execute_result"
    }
   ],
   "source": [
    "table[0].text"
   ]
  },
  {
   "cell_type": "code",
   "execution_count": 74,
   "id": "55f516ac",
   "metadata": {},
   "outputs": [
    {
     "data": {
      "text/plain": [
       "list"
      ]
     },
     "execution_count": 74,
     "metadata": {},
     "output_type": "execute_result"
    }
   ],
   "source": [
    "type(table)"
   ]
  },
  {
   "cell_type": "code",
   "execution_count": 71,
   "id": "84536b3e",
   "metadata": {},
   "outputs": [
    {
     "ename": "AttributeError",
     "evalue": "'list' object has no attribute 'text'",
     "output_type": "error",
     "traceback": [
      "\u001b[0;31m---------------------------------------------------------------------------\u001b[0m",
      "\u001b[0;31mAttributeError\u001b[0m                            Traceback (most recent call last)",
      "\u001b[1;32m/Users/sarapazopadron/BOOTCAMP/Proyectos/ProyectoETL/Notebooks/EntradasETL.ipynb Celda 16\u001b[0m line \u001b[0;36m1\n\u001b[0;32m----> <a href='vscode-notebook-cell:/Users/sarapazopadron/BOOTCAMP/Proyectos/ProyectoETL/Notebooks/EntradasETL.ipynb#X15sZmlsZQ%3D%3D?line=0'>1</a>\u001b[0m evento \u001b[39m=\u001b[39m table\u001b[39m.\u001b[39;49mtext\u001b[39m.\u001b[39msplit(\u001b[39m'\u001b[39m\u001b[39m\\n\u001b[39;00m\u001b[39m'\u001b[39m)\n\u001b[1;32m      <a href='vscode-notebook-cell:/Users/sarapazopadron/BOOTCAMP/Proyectos/ProyectoETL/Notebooks/EntradasETL.ipynb#X15sZmlsZQ%3D%3D?line=1'>2</a>\u001b[0m event\n",
      "\u001b[0;31mAttributeError\u001b[0m: 'list' object has no attribute 'text'"
     ]
    }
   ],
   "source": [
    "evento = table.text.split('\\n')\n",
    "event"
   ]
  },
  {
   "cell_type": "code",
   "execution_count": 75,
   "id": "3f9efd77",
   "metadata": {},
   "outputs": [
    {
     "data": {
      "text/plain": [
       "['Cariño\\n13/01/20241 Evento\\nMadrid, sáb. 13/01/2024, 21:00\\nCariño\\nMostrar 1 Evento\\ndesde 19,80 €',\n",
       " 'Iván Ferreiro\\n13/01/20241 Evento\\nMadrid, sáb. 13/01/2024, 20:30\\nIVÁN FERREIRO\\nMostrar 1 Evento\\ndesde 38,50 €',\n",
       " 'The World Of Hans Zimmer\\n24/04/2024 ─ 29/04/20242 eventos\\nMadrid, lun. 29/04/2024, 20:00\\nThe World Of Hans Zimmer: A New Dimension\\nMostrar los 2 eventos\\ndesde 55,00 €',\n",
       " 'Triángulo de Amor Bizarro\\n29/12/20231 Evento\\nMadrid, vie. 29/12/2023, 21:00\\nTriángulo de Amor Bizarro\\nMostrar 1 Evento\\ndesde 19,80 €',\n",
       " 'Nico B\\n14/01/20241 Evento\\nMadrid, dom. 14/01/2024, 19:30\\nNico B\\nMostrar 1 Evento\\ndesde 13,50 €',\n",
       " 'Cala Vento\\n01/12/20231 Evento\\nMadrid, vie. 01/12/2023, 21:00\\nCala Vento\\nMostrar 1 Evento\\ndesde 19,80 €',\n",
       " 'Sidonie\\n12/01/2024 ─ 14/01/20242 eventos\\nMadrid, dom. 14/01/2024, 20:00\\nSidonie\\nMostrar los 2 eventos\\ndesde 27,50 €',\n",
       " 'Belako - Sigo regando\\n20/01/20241 Evento\\nMadrid, sáb. 20/01/2024, 21:00\\nBelako - Sigo regando\\nMostrar 1 Evento\\ndesde 17,60 €',\n",
       " 'Biznaga\\n26/01/20241 Evento\\nMadrid, vie. 26/01/2024, 21:00\\nBiznaga\\nMostrar 1 Evento\\ndesde 18,70 €',\n",
       " 'Morreo - Alegría Club!\\n18/01/20241 Evento\\nMadrid, jue. 18/01/2024, 21:30\\nMorreo - Alegría Club!\\nMostrar 1 Evento\\ndesde 14,50 €',\n",
       " 'Diego el Cigala - Obras Maestras\\n11/12/2023 ─ 18/12/20232 eventos\\nMadrid, lun. 11/12/2023, 20:30\\nDiego el Cigala - Obras Maestras\\nMadrid, lun. 18/12/2023, 20:30\\nDiego el Cigala - Obras Maestras\\nMostrar los 2 eventos\\ndesde 55,00 €',\n",
       " 'Symphonic Rhapsody of Queen\\n16/01/20241 Evento\\nMadrid, mar. 16/01/2024, 20:30\\nSymphonic Rhapsody of Queen\\nMostrar 1 Evento\\ndesde 35,00 €',\n",
       " 'Biografía - Rafa Sánchez, de la unión\\n11/12/20231 Evento\\nMadrid, lun. 11/12/2023, 20:30\\nBiografía - Rafa Sánchez, de la unión\\nMostrar 1 Evento\\ndesde 35,00 €',\n",
       " 'Sexy Zebras\\n01/02/20241 Evento\\nMadrid, jue. 01/02/2024, 21:00\\nSexy Zebras\\nMostrar 1 Evento\\ndesde 18,00 €',\n",
       " 'OBK\\n13/01/2024 ─ 27/01/20243 eventos\\nMadrid, lun. 15/01/2024, 20:30\\nOBK\\nMostrar los 3 eventos\\ndesde 30,00 €',\n",
       " 'El Consorcio - Toda una vida\\n27/11/2023 ─ 28/11/20232 eventos\\nMadrid, lun. 27/11/2023, 20:30\\nEl Consorcio - Toda Una Vida\\nMadrid, mar. 28/11/2023, 20:30\\nEl Consorcio - Toda Una Vida\\nMostrar los 2 eventos\\ndesde 29,00 €',\n",
       " 'Rock en Familia - Hijos del Rock and Roll\\n05/11/2023 ─ 10/03/20242 eventos\\nPromoción\\nMadrid, dom. 05/11/2023, 12:00\\nRock en Familia - Hijos del Rock and Roll\\nMadrid, dom. 10/03/2024, 12:00\\nRock en Familia - Hijos del Rock and Roll\\nMostrar los 2 eventos\\ndesde 7,50 €',\n",
       " 'Rock en Familia - I Love Rock and Roll\\n03/12/20231 Evento\\nPromoción\\nMadrid, dom. 03/12/2023, 12:00\\nRock en Familia - I Love Rock and Roll\\nMostrar 1 Evento\\ndesde 7,50 €',\n",
       " 'Rock en Familia - I Love Heavy Metal\\n19/11/2023 ─ 24/03/20242 eventos\\nPromoción\\nMadrid, dom. 19/11/2023, 12:00\\nRock en Familia - I Love Heavy Metal\\nMadrid, dom. 24/03/2024, 12:00\\nRock en Familia - I Love Heavy Metal\\nMostrar los 2 eventos\\ndesde 7,50 €',\n",
       " 'Rock en Familia - Queenmanía\\n17/12/2023 ─ 14/04/20242 eventos\\nPromoción\\nMadrid, dom. 17/12/2023, 12:00\\nRock en Familia - Queenmanía\\nMadrid, dom. 14/04/2024, 12:00\\nRock en Familia - Queenmanía\\nMostrar los 2 eventos\\ndesde 7,50 €']"
      ]
     },
     "execution_count": 75,
     "metadata": {},
     "output_type": "execute_result"
    }
   ],
   "source": [
    "evento = [e.text for e in table]\n",
    "evento"
   ]
  },
  {
   "cell_type": "code",
   "execution_count": 76,
   "id": "6bb43411",
   "metadata": {},
   "outputs": [
    {
     "name": "stdout",
     "output_type": "stream",
     "text": [
      "['Cariño', '13/01/20241 Evento', 'Madrid, sáb. 13/01/2024, 21:00', 'Cariño', 'Mostrar 1 Evento', 'desde 19,80 €']\n",
      "['Iván Ferreiro', '13/01/20241 Evento', 'Madrid, sáb. 13/01/2024, 20:30', 'IVÁN FERREIRO', 'Mostrar 1 Evento', 'desde 38,50 €']\n",
      "['The World Of Hans Zimmer', '24/04/2024 ─ 29/04/20242 eventos', 'Madrid, lun. 29/04/2024, 20:00', 'The World Of Hans Zimmer: A New Dimension', 'Mostrar los 2 eventos', 'desde 55,00 €']\n",
      "['Triángulo de Amor Bizarro', '29/12/20231 Evento', 'Madrid, vie. 29/12/2023, 21:00', 'Triángulo de Amor Bizarro', 'Mostrar 1 Evento', 'desde 19,80 €']\n",
      "['Nico B', '14/01/20241 Evento', 'Madrid, dom. 14/01/2024, 19:30', 'Nico B', 'Mostrar 1 Evento', 'desde 13,50 €']\n",
      "['Cala Vento', '01/12/20231 Evento', 'Madrid, vie. 01/12/2023, 21:00', 'Cala Vento', 'Mostrar 1 Evento', 'desde 19,80 €']\n",
      "['Sidonie', '12/01/2024 ─ 14/01/20242 eventos', 'Madrid, dom. 14/01/2024, 20:00', 'Sidonie', 'Mostrar los 2 eventos', 'desde 27,50 €']\n",
      "['Belako - Sigo regando', '20/01/20241 Evento', 'Madrid, sáb. 20/01/2024, 21:00', 'Belako - Sigo regando', 'Mostrar 1 Evento', 'desde 17,60 €']\n",
      "['Biznaga', '26/01/20241 Evento', 'Madrid, vie. 26/01/2024, 21:00', 'Biznaga', 'Mostrar 1 Evento', 'desde 18,70 €']\n",
      "['Morreo - Alegría Club!', '18/01/20241 Evento', 'Madrid, jue. 18/01/2024, 21:30', 'Morreo - Alegría Club!', 'Mostrar 1 Evento', 'desde 14,50 €']\n",
      "['Diego el Cigala - Obras Maestras', '11/12/2023 ─ 18/12/20232 eventos', 'Madrid, lun. 11/12/2023, 20:30', 'Diego el Cigala - Obras Maestras', 'Madrid, lun. 18/12/2023, 20:30', 'Diego el Cigala - Obras Maestras', 'Mostrar los 2 eventos', 'desde 55,00 €']\n",
      "['Symphonic Rhapsody of Queen', '16/01/20241 Evento', 'Madrid, mar. 16/01/2024, 20:30', 'Symphonic Rhapsody of Queen', 'Mostrar 1 Evento', 'desde 35,00 €']\n",
      "['Biografía - Rafa Sánchez, de la unión', '11/12/20231 Evento', 'Madrid, lun. 11/12/2023, 20:30', 'Biografía - Rafa Sánchez, de la unión', 'Mostrar 1 Evento', 'desde 35,00 €']\n",
      "['Sexy Zebras', '01/02/20241 Evento', 'Madrid, jue. 01/02/2024, 21:00', 'Sexy Zebras', 'Mostrar 1 Evento', 'desde 18,00 €']\n",
      "['OBK', '13/01/2024 ─ 27/01/20243 eventos', 'Madrid, lun. 15/01/2024, 20:30', 'OBK', 'Mostrar los 3 eventos', 'desde 30,00 €']\n",
      "['El Consorcio - Toda una vida', '27/11/2023 ─ 28/11/20232 eventos', 'Madrid, lun. 27/11/2023, 20:30', 'El Consorcio - Toda Una Vida', 'Madrid, mar. 28/11/2023, 20:30', 'El Consorcio - Toda Una Vida', 'Mostrar los 2 eventos', 'desde 29,00 €']\n",
      "['Rock en Familia - Hijos del Rock and Roll', '05/11/2023 ─ 10/03/20242 eventos', 'Promoción', 'Madrid, dom. 05/11/2023, 12:00', 'Rock en Familia - Hijos del Rock and Roll', 'Madrid, dom. 10/03/2024, 12:00', 'Rock en Familia - Hijos del Rock and Roll', 'Mostrar los 2 eventos', 'desde 7,50 €']\n",
      "['Rock en Familia - I Love Rock and Roll', '03/12/20231 Evento', 'Promoción', 'Madrid, dom. 03/12/2023, 12:00', 'Rock en Familia - I Love Rock and Roll', 'Mostrar 1 Evento', 'desde 7,50 €']\n",
      "['Rock en Familia - I Love Heavy Metal', '19/11/2023 ─ 24/03/20242 eventos', 'Promoción', 'Madrid, dom. 19/11/2023, 12:00', 'Rock en Familia - I Love Heavy Metal', 'Madrid, dom. 24/03/2024, 12:00', 'Rock en Familia - I Love Heavy Metal', 'Mostrar los 2 eventos', 'desde 7,50 €']\n",
      "['Rock en Familia - Queenmanía', '17/12/2023 ─ 14/04/20242 eventos', 'Promoción', 'Madrid, dom. 17/12/2023, 12:00', 'Rock en Familia - Queenmanía', 'Madrid, dom. 14/04/2024, 12:00', 'Rock en Familia - Queenmanía', 'Mostrar los 2 eventos', 'desde 7,50 €']\n"
     ]
    }
   ],
   "source": [
    "sublistas = [x.split('\\n') for x in evento]\n",
    "\n",
    "sublistas = [sublista for sublista in sublistas if sublista]\n",
    "\n",
    "for sublista in sublistas:\n",
    "    print(sublista)"
   ]
  },
  {
   "cell_type": "code",
   "execution_count": 77,
   "id": "377c94ed",
   "metadata": {},
   "outputs": [
    {
     "data": {
      "text/plain": [
       "['Cariño',\n",
       " '13/01/20241 Evento',\n",
       " 'Madrid, sáb. 13/01/2024, 21:00',\n",
       " 'Cariño',\n",
       " 'Mostrar 1 Evento',\n",
       " 'desde 19,80 €']"
      ]
     },
     "execution_count": 77,
     "metadata": {},
     "output_type": "execute_result"
    }
   ],
   "source": [
    "sublistas[0]"
   ]
  },
  {
   "cell_type": "code",
   "execution_count": null,
   "metadata": {},
   "outputs": [],
   "source": []
  },
  {
   "cell_type": "code",
   "execution_count": null,
   "metadata": {},
   "outputs": [],
   "source": []
  },
  {
   "cell_type": "code",
   "execution_count": null,
   "metadata": {},
   "outputs": [],
   "source": []
  },
  {
   "cell_type": "code",
   "execution_count": 78,
   "id": "40ad80c6",
   "metadata": {},
   "outputs": [
    {
     "data": {
      "text/html": [
       "<div>\n",
       "<style scoped>\n",
       "    .dataframe tbody tr th:only-of-type {\n",
       "        vertical-align: middle;\n",
       "    }\n",
       "\n",
       "    .dataframe tbody tr th {\n",
       "        vertical-align: top;\n",
       "    }\n",
       "\n",
       "    .dataframe thead th {\n",
       "        text-align: right;\n",
       "    }\n",
       "</style>\n",
       "<table border=\"1\" class=\"dataframe\">\n",
       "  <thead>\n",
       "    <tr style=\"text-align: right;\">\n",
       "      <th></th>\n",
       "      <th>0</th>\n",
       "      <th>1</th>\n",
       "      <th>2</th>\n",
       "      <th>3</th>\n",
       "      <th>4</th>\n",
       "      <th>5</th>\n",
       "      <th>6</th>\n",
       "      <th>7</th>\n",
       "      <th>8</th>\n",
       "    </tr>\n",
       "  </thead>\n",
       "  <tbody>\n",
       "    <tr>\n",
       "      <th>0</th>\n",
       "      <td>Cariño</td>\n",
       "      <td>13/01/20241 Evento</td>\n",
       "      <td>Madrid, sáb. 13/01/2024, 21:00</td>\n",
       "      <td>Cariño</td>\n",
       "      <td>Mostrar 1 Evento</td>\n",
       "      <td>desde 19,80 €</td>\n",
       "      <td>None</td>\n",
       "      <td>None</td>\n",
       "      <td>None</td>\n",
       "    </tr>\n",
       "    <tr>\n",
       "      <th>1</th>\n",
       "      <td>Iván Ferreiro</td>\n",
       "      <td>13/01/20241 Evento</td>\n",
       "      <td>Madrid, sáb. 13/01/2024, 20:30</td>\n",
       "      <td>IVÁN FERREIRO</td>\n",
       "      <td>Mostrar 1 Evento</td>\n",
       "      <td>desde 38,50 €</td>\n",
       "      <td>None</td>\n",
       "      <td>None</td>\n",
       "      <td>None</td>\n",
       "    </tr>\n",
       "    <tr>\n",
       "      <th>2</th>\n",
       "      <td>The World Of Hans Zimmer</td>\n",
       "      <td>24/04/2024 ─ 29/04/20242 eventos</td>\n",
       "      <td>Madrid, lun. 29/04/2024, 20:00</td>\n",
       "      <td>The World Of Hans Zimmer: A New Dimension</td>\n",
       "      <td>Mostrar los 2 eventos</td>\n",
       "      <td>desde 55,00 €</td>\n",
       "      <td>None</td>\n",
       "      <td>None</td>\n",
       "      <td>None</td>\n",
       "    </tr>\n",
       "    <tr>\n",
       "      <th>3</th>\n",
       "      <td>Triángulo de Amor Bizarro</td>\n",
       "      <td>29/12/20231 Evento</td>\n",
       "      <td>Madrid, vie. 29/12/2023, 21:00</td>\n",
       "      <td>Triángulo de Amor Bizarro</td>\n",
       "      <td>Mostrar 1 Evento</td>\n",
       "      <td>desde 19,80 €</td>\n",
       "      <td>None</td>\n",
       "      <td>None</td>\n",
       "      <td>None</td>\n",
       "    </tr>\n",
       "    <tr>\n",
       "      <th>4</th>\n",
       "      <td>Nico B</td>\n",
       "      <td>14/01/20241 Evento</td>\n",
       "      <td>Madrid, dom. 14/01/2024, 19:30</td>\n",
       "      <td>Nico B</td>\n",
       "      <td>Mostrar 1 Evento</td>\n",
       "      <td>desde 13,50 €</td>\n",
       "      <td>None</td>\n",
       "      <td>None</td>\n",
       "      <td>None</td>\n",
       "    </tr>\n",
       "    <tr>\n",
       "      <th>5</th>\n",
       "      <td>Cala Vento</td>\n",
       "      <td>01/12/20231 Evento</td>\n",
       "      <td>Madrid, vie. 01/12/2023, 21:00</td>\n",
       "      <td>Cala Vento</td>\n",
       "      <td>Mostrar 1 Evento</td>\n",
       "      <td>desde 19,80 €</td>\n",
       "      <td>None</td>\n",
       "      <td>None</td>\n",
       "      <td>None</td>\n",
       "    </tr>\n",
       "    <tr>\n",
       "      <th>6</th>\n",
       "      <td>Sidonie</td>\n",
       "      <td>12/01/2024 ─ 14/01/20242 eventos</td>\n",
       "      <td>Madrid, dom. 14/01/2024, 20:00</td>\n",
       "      <td>Sidonie</td>\n",
       "      <td>Mostrar los 2 eventos</td>\n",
       "      <td>desde 27,50 €</td>\n",
       "      <td>None</td>\n",
       "      <td>None</td>\n",
       "      <td>None</td>\n",
       "    </tr>\n",
       "    <tr>\n",
       "      <th>7</th>\n",
       "      <td>Belako - Sigo regando</td>\n",
       "      <td>20/01/20241 Evento</td>\n",
       "      <td>Madrid, sáb. 20/01/2024, 21:00</td>\n",
       "      <td>Belako - Sigo regando</td>\n",
       "      <td>Mostrar 1 Evento</td>\n",
       "      <td>desde 17,60 €</td>\n",
       "      <td>None</td>\n",
       "      <td>None</td>\n",
       "      <td>None</td>\n",
       "    </tr>\n",
       "    <tr>\n",
       "      <th>8</th>\n",
       "      <td>Biznaga</td>\n",
       "      <td>26/01/20241 Evento</td>\n",
       "      <td>Madrid, vie. 26/01/2024, 21:00</td>\n",
       "      <td>Biznaga</td>\n",
       "      <td>Mostrar 1 Evento</td>\n",
       "      <td>desde 18,70 €</td>\n",
       "      <td>None</td>\n",
       "      <td>None</td>\n",
       "      <td>None</td>\n",
       "    </tr>\n",
       "    <tr>\n",
       "      <th>9</th>\n",
       "      <td>Morreo - Alegría Club!</td>\n",
       "      <td>18/01/20241 Evento</td>\n",
       "      <td>Madrid, jue. 18/01/2024, 21:30</td>\n",
       "      <td>Morreo - Alegría Club!</td>\n",
       "      <td>Mostrar 1 Evento</td>\n",
       "      <td>desde 14,50 €</td>\n",
       "      <td>None</td>\n",
       "      <td>None</td>\n",
       "      <td>None</td>\n",
       "    </tr>\n",
       "    <tr>\n",
       "      <th>10</th>\n",
       "      <td>Diego el Cigala - Obras Maestras</td>\n",
       "      <td>11/12/2023 ─ 18/12/20232 eventos</td>\n",
       "      <td>Madrid, lun. 11/12/2023, 20:30</td>\n",
       "      <td>Diego el Cigala - Obras Maestras</td>\n",
       "      <td>Madrid, lun. 18/12/2023, 20:30</td>\n",
       "      <td>Diego el Cigala - Obras Maestras</td>\n",
       "      <td>Mostrar los 2 eventos</td>\n",
       "      <td>desde 55,00 €</td>\n",
       "      <td>None</td>\n",
       "    </tr>\n",
       "    <tr>\n",
       "      <th>11</th>\n",
       "      <td>Symphonic Rhapsody of Queen</td>\n",
       "      <td>16/01/20241 Evento</td>\n",
       "      <td>Madrid, mar. 16/01/2024, 20:30</td>\n",
       "      <td>Symphonic Rhapsody of Queen</td>\n",
       "      <td>Mostrar 1 Evento</td>\n",
       "      <td>desde 35,00 €</td>\n",
       "      <td>None</td>\n",
       "      <td>None</td>\n",
       "      <td>None</td>\n",
       "    </tr>\n",
       "    <tr>\n",
       "      <th>12</th>\n",
       "      <td>Biografía - Rafa Sánchez, de la unión</td>\n",
       "      <td>11/12/20231 Evento</td>\n",
       "      <td>Madrid, lun. 11/12/2023, 20:30</td>\n",
       "      <td>Biografía - Rafa Sánchez, de la unión</td>\n",
       "      <td>Mostrar 1 Evento</td>\n",
       "      <td>desde 35,00 €</td>\n",
       "      <td>None</td>\n",
       "      <td>None</td>\n",
       "      <td>None</td>\n",
       "    </tr>\n",
       "    <tr>\n",
       "      <th>13</th>\n",
       "      <td>Sexy Zebras</td>\n",
       "      <td>01/02/20241 Evento</td>\n",
       "      <td>Madrid, jue. 01/02/2024, 21:00</td>\n",
       "      <td>Sexy Zebras</td>\n",
       "      <td>Mostrar 1 Evento</td>\n",
       "      <td>desde 18,00 €</td>\n",
       "      <td>None</td>\n",
       "      <td>None</td>\n",
       "      <td>None</td>\n",
       "    </tr>\n",
       "    <tr>\n",
       "      <th>14</th>\n",
       "      <td>OBK</td>\n",
       "      <td>13/01/2024 ─ 27/01/20243 eventos</td>\n",
       "      <td>Madrid, lun. 15/01/2024, 20:30</td>\n",
       "      <td>OBK</td>\n",
       "      <td>Mostrar los 3 eventos</td>\n",
       "      <td>desde 30,00 €</td>\n",
       "      <td>None</td>\n",
       "      <td>None</td>\n",
       "      <td>None</td>\n",
       "    </tr>\n",
       "    <tr>\n",
       "      <th>15</th>\n",
       "      <td>El Consorcio - Toda una vida</td>\n",
       "      <td>27/11/2023 ─ 28/11/20232 eventos</td>\n",
       "      <td>Madrid, lun. 27/11/2023, 20:30</td>\n",
       "      <td>El Consorcio - Toda Una Vida</td>\n",
       "      <td>Madrid, mar. 28/11/2023, 20:30</td>\n",
       "      <td>El Consorcio - Toda Una Vida</td>\n",
       "      <td>Mostrar los 2 eventos</td>\n",
       "      <td>desde 29,00 €</td>\n",
       "      <td>None</td>\n",
       "    </tr>\n",
       "    <tr>\n",
       "      <th>16</th>\n",
       "      <td>Rock en Familia - Hijos del Rock and Roll</td>\n",
       "      <td>05/11/2023 ─ 10/03/20242 eventos</td>\n",
       "      <td>Promoción</td>\n",
       "      <td>Madrid, dom. 05/11/2023, 12:00</td>\n",
       "      <td>Rock en Familia - Hijos del Rock and Roll</td>\n",
       "      <td>Madrid, dom. 10/03/2024, 12:00</td>\n",
       "      <td>Rock en Familia - Hijos del Rock and Roll</td>\n",
       "      <td>Mostrar los 2 eventos</td>\n",
       "      <td>desde 7,50 €</td>\n",
       "    </tr>\n",
       "    <tr>\n",
       "      <th>17</th>\n",
       "      <td>Rock en Familia - I Love Rock and Roll</td>\n",
       "      <td>03/12/20231 Evento</td>\n",
       "      <td>Promoción</td>\n",
       "      <td>Madrid, dom. 03/12/2023, 12:00</td>\n",
       "      <td>Rock en Familia - I Love Rock and Roll</td>\n",
       "      <td>Mostrar 1 Evento</td>\n",
       "      <td>desde 7,50 €</td>\n",
       "      <td>None</td>\n",
       "      <td>None</td>\n",
       "    </tr>\n",
       "    <tr>\n",
       "      <th>18</th>\n",
       "      <td>Rock en Familia - I Love Heavy Metal</td>\n",
       "      <td>19/11/2023 ─ 24/03/20242 eventos</td>\n",
       "      <td>Promoción</td>\n",
       "      <td>Madrid, dom. 19/11/2023, 12:00</td>\n",
       "      <td>Rock en Familia - I Love Heavy Metal</td>\n",
       "      <td>Madrid, dom. 24/03/2024, 12:00</td>\n",
       "      <td>Rock en Familia - I Love Heavy Metal</td>\n",
       "      <td>Mostrar los 2 eventos</td>\n",
       "      <td>desde 7,50 €</td>\n",
       "    </tr>\n",
       "    <tr>\n",
       "      <th>19</th>\n",
       "      <td>Rock en Familia - Queenmanía</td>\n",
       "      <td>17/12/2023 ─ 14/04/20242 eventos</td>\n",
       "      <td>Promoción</td>\n",
       "      <td>Madrid, dom. 17/12/2023, 12:00</td>\n",
       "      <td>Rock en Familia - Queenmanía</td>\n",
       "      <td>Madrid, dom. 14/04/2024, 12:00</td>\n",
       "      <td>Rock en Familia - Queenmanía</td>\n",
       "      <td>Mostrar los 2 eventos</td>\n",
       "      <td>desde 7,50 €</td>\n",
       "    </tr>\n",
       "  </tbody>\n",
       "</table>\n",
       "</div>"
      ],
      "text/plain": [
       "                                            0  \\\n",
       "0                                      Cariño   \n",
       "1                               Iván Ferreiro   \n",
       "2                    The World Of Hans Zimmer   \n",
       "3                   Triángulo de Amor Bizarro   \n",
       "4                                      Nico B   \n",
       "5                                  Cala Vento   \n",
       "6                                     Sidonie   \n",
       "7                       Belako - Sigo regando   \n",
       "8                                     Biznaga   \n",
       "9                      Morreo - Alegría Club!   \n",
       "10           Diego el Cigala - Obras Maestras   \n",
       "11                Symphonic Rhapsody of Queen   \n",
       "12      Biografía - Rafa Sánchez, de la unión   \n",
       "13                                Sexy Zebras   \n",
       "14                                        OBK   \n",
       "15               El Consorcio - Toda una vida   \n",
       "16  Rock en Familia - Hijos del Rock and Roll   \n",
       "17     Rock en Familia - I Love Rock and Roll   \n",
       "18       Rock en Familia - I Love Heavy Metal   \n",
       "19               Rock en Familia - Queenmanía   \n",
       "\n",
       "                                   1                               2  \\\n",
       "0                 13/01/20241 Evento  Madrid, sáb. 13/01/2024, 21:00   \n",
       "1                 13/01/20241 Evento  Madrid, sáb. 13/01/2024, 20:30   \n",
       "2   24/04/2024 ─ 29/04/20242 eventos  Madrid, lun. 29/04/2024, 20:00   \n",
       "3                 29/12/20231 Evento  Madrid, vie. 29/12/2023, 21:00   \n",
       "4                 14/01/20241 Evento  Madrid, dom. 14/01/2024, 19:30   \n",
       "5                 01/12/20231 Evento  Madrid, vie. 01/12/2023, 21:00   \n",
       "6   12/01/2024 ─ 14/01/20242 eventos  Madrid, dom. 14/01/2024, 20:00   \n",
       "7                 20/01/20241 Evento  Madrid, sáb. 20/01/2024, 21:00   \n",
       "8                 26/01/20241 Evento  Madrid, vie. 26/01/2024, 21:00   \n",
       "9                 18/01/20241 Evento  Madrid, jue. 18/01/2024, 21:30   \n",
       "10  11/12/2023 ─ 18/12/20232 eventos  Madrid, lun. 11/12/2023, 20:30   \n",
       "11                16/01/20241 Evento  Madrid, mar. 16/01/2024, 20:30   \n",
       "12                11/12/20231 Evento  Madrid, lun. 11/12/2023, 20:30   \n",
       "13                01/02/20241 Evento  Madrid, jue. 01/02/2024, 21:00   \n",
       "14  13/01/2024 ─ 27/01/20243 eventos  Madrid, lun. 15/01/2024, 20:30   \n",
       "15  27/11/2023 ─ 28/11/20232 eventos  Madrid, lun. 27/11/2023, 20:30   \n",
       "16  05/11/2023 ─ 10/03/20242 eventos                       Promoción   \n",
       "17                03/12/20231 Evento                       Promoción   \n",
       "18  19/11/2023 ─ 24/03/20242 eventos                       Promoción   \n",
       "19  17/12/2023 ─ 14/04/20242 eventos                       Promoción   \n",
       "\n",
       "                                            3  \\\n",
       "0                                      Cariño   \n",
       "1                               IVÁN FERREIRO   \n",
       "2   The World Of Hans Zimmer: A New Dimension   \n",
       "3                   Triángulo de Amor Bizarro   \n",
       "4                                      Nico B   \n",
       "5                                  Cala Vento   \n",
       "6                                     Sidonie   \n",
       "7                       Belako - Sigo regando   \n",
       "8                                     Biznaga   \n",
       "9                      Morreo - Alegría Club!   \n",
       "10           Diego el Cigala - Obras Maestras   \n",
       "11                Symphonic Rhapsody of Queen   \n",
       "12      Biografía - Rafa Sánchez, de la unión   \n",
       "13                                Sexy Zebras   \n",
       "14                                        OBK   \n",
       "15               El Consorcio - Toda Una Vida   \n",
       "16             Madrid, dom. 05/11/2023, 12:00   \n",
       "17             Madrid, dom. 03/12/2023, 12:00   \n",
       "18             Madrid, dom. 19/11/2023, 12:00   \n",
       "19             Madrid, dom. 17/12/2023, 12:00   \n",
       "\n",
       "                                            4  \\\n",
       "0                            Mostrar 1 Evento   \n",
       "1                            Mostrar 1 Evento   \n",
       "2                       Mostrar los 2 eventos   \n",
       "3                            Mostrar 1 Evento   \n",
       "4                            Mostrar 1 Evento   \n",
       "5                            Mostrar 1 Evento   \n",
       "6                       Mostrar los 2 eventos   \n",
       "7                            Mostrar 1 Evento   \n",
       "8                            Mostrar 1 Evento   \n",
       "9                            Mostrar 1 Evento   \n",
       "10             Madrid, lun. 18/12/2023, 20:30   \n",
       "11                           Mostrar 1 Evento   \n",
       "12                           Mostrar 1 Evento   \n",
       "13                           Mostrar 1 Evento   \n",
       "14                      Mostrar los 3 eventos   \n",
       "15             Madrid, mar. 28/11/2023, 20:30   \n",
       "16  Rock en Familia - Hijos del Rock and Roll   \n",
       "17     Rock en Familia - I Love Rock and Roll   \n",
       "18       Rock en Familia - I Love Heavy Metal   \n",
       "19               Rock en Familia - Queenmanía   \n",
       "\n",
       "                                   5  \\\n",
       "0                      desde 19,80 €   \n",
       "1                      desde 38,50 €   \n",
       "2                      desde 55,00 €   \n",
       "3                      desde 19,80 €   \n",
       "4                      desde 13,50 €   \n",
       "5                      desde 19,80 €   \n",
       "6                      desde 27,50 €   \n",
       "7                      desde 17,60 €   \n",
       "8                      desde 18,70 €   \n",
       "9                      desde 14,50 €   \n",
       "10  Diego el Cigala - Obras Maestras   \n",
       "11                     desde 35,00 €   \n",
       "12                     desde 35,00 €   \n",
       "13                     desde 18,00 €   \n",
       "14                     desde 30,00 €   \n",
       "15      El Consorcio - Toda Una Vida   \n",
       "16    Madrid, dom. 10/03/2024, 12:00   \n",
       "17                  Mostrar 1 Evento   \n",
       "18    Madrid, dom. 24/03/2024, 12:00   \n",
       "19    Madrid, dom. 14/04/2024, 12:00   \n",
       "\n",
       "                                            6                      7  \\\n",
       "0                                        None                   None   \n",
       "1                                        None                   None   \n",
       "2                                        None                   None   \n",
       "3                                        None                   None   \n",
       "4                                        None                   None   \n",
       "5                                        None                   None   \n",
       "6                                        None                   None   \n",
       "7                                        None                   None   \n",
       "8                                        None                   None   \n",
       "9                                        None                   None   \n",
       "10                      Mostrar los 2 eventos          desde 55,00 €   \n",
       "11                                       None                   None   \n",
       "12                                       None                   None   \n",
       "13                                       None                   None   \n",
       "14                                       None                   None   \n",
       "15                      Mostrar los 2 eventos          desde 29,00 €   \n",
       "16  Rock en Familia - Hijos del Rock and Roll  Mostrar los 2 eventos   \n",
       "17                               desde 7,50 €                   None   \n",
       "18       Rock en Familia - I Love Heavy Metal  Mostrar los 2 eventos   \n",
       "19               Rock en Familia - Queenmanía  Mostrar los 2 eventos   \n",
       "\n",
       "               8  \n",
       "0           None  \n",
       "1           None  \n",
       "2           None  \n",
       "3           None  \n",
       "4           None  \n",
       "5           None  \n",
       "6           None  \n",
       "7           None  \n",
       "8           None  \n",
       "9           None  \n",
       "10          None  \n",
       "11          None  \n",
       "12          None  \n",
       "13          None  \n",
       "14          None  \n",
       "15          None  \n",
       "16  desde 7,50 €  \n",
       "17          None  \n",
       "18  desde 7,50 €  \n",
       "19  desde 7,50 €  "
      ]
     },
     "execution_count": 78,
     "metadata": {},
     "output_type": "execute_result"
    }
   ],
   "source": [
    "import pandas as pd\n",
    "\n",
    "pd.DataFrame(sublistas)"
   ]
  },
  {
   "cell_type": "code",
   "execution_count": null,
   "id": "050b7ca3",
   "metadata": {},
   "outputs": [],
   "source": []
  },
  {
   "cell_type": "code",
   "execution_count": null,
   "id": "37cf3139",
   "metadata": {},
   "outputs": [],
   "source": []
  },
  {
   "cell_type": "code",
   "execution_count": null,
   "id": "ad0d40a4",
   "metadata": {},
   "outputs": [],
   "source": []
  },
  {
   "cell_type": "code",
   "execution_count": null,
   "id": "c16901f0",
   "metadata": {},
   "outputs": [],
   "source": []
  },
  {
   "cell_type": "code",
   "execution_count": null,
   "id": "c9ac1136",
   "metadata": {},
   "outputs": [],
   "source": []
  },
  {
   "cell_type": "code",
   "execution_count": null,
   "id": "8327c838",
   "metadata": {},
   "outputs": [],
   "source": []
  },
  {
   "cell_type": "markdown",
   "id": "2bc436e2",
   "metadata": {},
   "source": [
    "event = event[0:6:5]\n",
    "event"
   ]
  },
  {
   "cell_type": "code",
   "execution_count": null,
   "id": "89a7529b",
   "metadata": {},
   "outputs": [],
   "source": []
  },
  {
   "cell_type": "code",
   "execution_count": null,
   "id": "152fd9a5",
   "metadata": {},
   "outputs": [],
   "source": []
  },
  {
   "cell_type": "code",
   "execution_count": null,
   "id": "956571bb",
   "metadata": {},
   "outputs": [],
   "source": []
  },
  {
   "cell_type": "code",
   "execution_count": null,
   "id": "da2894c2",
   "metadata": {},
   "outputs": [],
   "source": [
    "\n",
    "    "
   ]
  },
  {
   "cell_type": "code",
   "execution_count": null,
   "id": "e6829eb9",
   "metadata": {},
   "outputs": [],
   "source": []
  },
  {
   "cell_type": "code",
   "execution_count": null,
   "id": "24f466fe",
   "metadata": {},
   "outputs": [],
   "source": []
  },
  {
   "cell_type": "code",
   "execution_count": null,
   "id": "32a5e5c3",
   "metadata": {},
   "outputs": [],
   "source": []
  },
  {
   "cell_type": "code",
   "execution_count": null,
   "id": "c44c3cf0",
   "metadata": {},
   "outputs": [],
   "source": [
    "matriz"
   ]
  },
  {
   "cell_type": "code",
   "execution_count": null,
   "id": "df725c82",
   "metadata": {},
   "outputs": [],
   "source": []
  },
  {
   "cell_type": "code",
   "execution_count": null,
   "id": "37b7b544",
   "metadata": {},
   "outputs": [],
   "source": []
  },
  {
   "cell_type": "code",
   "execution_count": null,
   "id": "e66fcb89",
   "metadata": {},
   "outputs": [],
   "source": []
  },
  {
   "cell_type": "code",
   "execution_count": null,
   "id": "46376330",
   "metadata": {},
   "outputs": [],
   "source": []
  }
 ],
 "metadata": {
  "kernelspec": {
   "display_name": "Python 3",
   "language": "python",
   "name": "python3"
  },
  "language_info": {
   "codemirror_mode": {
    "name": "ipython",
    "version": 3
   },
   "file_extension": ".py",
   "mimetype": "text/x-python",
   "name": "python",
   "nbconvert_exporter": "python",
   "pygments_lexer": "ipython3",
   "version": "3.10.13"
  }
 },
 "nbformat": 4,
 "nbformat_minor": 5
}
